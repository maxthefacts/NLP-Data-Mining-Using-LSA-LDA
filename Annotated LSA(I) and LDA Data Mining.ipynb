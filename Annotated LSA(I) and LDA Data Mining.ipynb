{
 "cells": [
  {
   "cell_type": "markdown",
   "metadata": {},
   "source": [
    "# Data Mining to Discover Fraud Using LSA and LDA"
   ]
  },
  {
   "cell_type": "code",
   "execution_count": 290,
   "metadata": {
    "collapsed": false
   },
   "outputs": [
    {
     "name": "stdout",
     "output_type": "stream",
     "text": [
      "Populating the interactive namespace from numpy and matplotlib\n"
     ]
    }
   ],
   "source": [
    "import nltk\n",
    "import pandas as pd\n",
    "%pylab inline\n",
    "from nltk.corpus import stopwords\n",
    "import gensim\n",
    "from gensim import corpora, models, similarities\n",
    "import re"
   ]
  },
  {
   "cell_type": "code",
   "execution_count": 1,
   "metadata": {
    "collapsed": true
   },
   "outputs": [],
   "source": [
    "#Load Consumer Financial Protection Bureau public data set.  Found at:\n",
    "#http://www.consumerfinance.gov/data-research/consumer-complaints/"
   ]
  },
  {
   "cell_type": "code",
   "execution_count": 289,
   "metadata": {
    "collapsed": true
   },
   "outputs": [],
   "source": [
    "cfpb = pd.read_csv(\"../data/Consumer_Complaints_with_Consumer_Complaint_Narratives.csv\")"
   ]
  },
  {
   "cell_type": "code",
   "execution_count": 295,
   "metadata": {
    "collapsed": false
   },
   "outputs": [
    {
     "data": {
      "text/plain": [
       "73663"
      ]
     },
     "execution_count": 295,
     "metadata": {},
     "output_type": "execute_result"
    }
   ],
   "source": [
    "#Its 73k documents describing diffrent types of fraud.  \n",
    "len(cfpb)"
   ]
  },
  {
   "cell_type": "code",
   "execution_count": 291,
   "metadata": {
    "collapsed": true
   },
   "outputs": [],
   "source": [
    "#to delate\n",
    "#documents = list(cfpb['Consumer complaint narrative'][:1000])"
   ]
  },
  {
   "cell_type": "code",
   "execution_count": 962,
   "metadata": {
    "collapsed": true
   },
   "outputs": [],
   "source": [
    "documents = list(cfpb['Consumer complaint narrative'])"
   ]
  },
  {
   "cell_type": "code",
   "execution_count": 963,
   "metadata": {
    "collapsed": false
   },
   "outputs": [
    {
     "name": "stderr",
     "output_type": "stream",
     "text": [
      "/Users/Tianqi/anaconda/lib/python2.7/site-packages/ipykernel/__main__.py:3: UnicodeWarning: Unicode equal comparison failed to convert both arguments to Unicode - interpreting them as being unequal\n",
      "  app.launch_new_instance()\n"
     ]
    }
   ],
   "source": [
    "# remove common words and tokenize\n",
    "#Conditions are word is greater than 3 characters, exclude redacted words, \n",
    "#and exclude words beginning with a dollar sign. \n",
    "\n",
    "texts = [[word.lower() for word in re.split('\\.|\\,|\\n| ',document) if word.lower() not in stopwords.words('english') and 'xx' not in word.lower() and len(word)>3 and '$' not in word]\n",
    "        for document in documentsall]"
   ]
  },
  {
   "cell_type": "code",
   "execution_count": 964,
   "metadata": {
    "collapsed": true
   },
   "outputs": [],
   "source": [
    "# remove words that appear only once\n",
    "from collections import defaultdict\n",
    "frequency = defaultdict(int)\n",
    "for text in texts:\n",
    "    for token in text:\n",
    "        frequency[token] += 1"
   ]
  },
  {
   "cell_type": "code",
   "execution_count": 967,
   "metadata": {
    "collapsed": true
   },
   "outputs": [],
   "source": [
    "#breaks each document into a list of strings where each entery in the list is\n",
    "#string.  Only keeps words that appear more than 10 times in the whole corpus\n",
    "#of text\n",
    "\n",
    "texts = [[token for token in text if frequency[token] > 10]\n",
    "        for text in texts]"
   ]
  },
  {
   "cell_type": "code",
   "execution_count": 1083,
   "metadata": {
    "collapsed": false,
    "scrolled": true
   },
   "outputs": [
    {
     "name": "stdout",
     "output_type": "stream",
     "text": [
      "['party', 'involve', 'equifax', 'please', 'update', 'cell', 'phone', 'number', 'fraud', 'dear', 'madam', 'sole', 'purpose', 'letter', 'inform', 'victim', 'identity', 'theft', 'requesting', 'block', 'following', 'fraudulent', 'information', 'credit', 'reports', 'proceed', 'accordingly', 'file', 'want', 'emphasize', 'none', 'information', 'stated', 'relates', 'transaction', 'made', 'items', 'listed', 'clearly', 'fraudulent', 'therefore', 'requesting', 'deleted', '/blocked', 'name', 'source', 'addition', 'must', 'block', 'fraudulent', 'information', 'victim', 'must', 'identified', 'within', 'business', 'days', 'accepting', 'his/her', 'identity', 'theft', 'report', 'accepts', 'identity', 'theft', 'report', 'also', 'must', 'notify', 'furnishers', 'fraudulent', 'information', 'victim', 'filed', 'report', 'report', 'states', 'information', 'furnished', 'resulted', 'identity', 'theft', 'blocking', 'information', 'furnished', 'fcra', '605b', '1681c-2', 'blocking', 'information', 'credit', 'reports', 'sections-605b', 'section', '605b', 'fair', 'credit', 'reporting', 'fcra', 'credit', 'reporting', 'agencies', 'cras', 'creditors', 'debt', 'collectors', 'companies', 'reported', 'identity', 'theft-related', 'information', 'furnishers', 'responsible', 'blocking', 'fraudulent', 'information', 'appearing', 'victims', 'credit', 'reports', 'blocking', 'fraudulent', 'information', 'appearing', 'victims', 'credit', 'reports', 'please', 'know', 'need', 'information', 'block', 'information', 'credit', 'report', 'sincerely']\n"
     ]
    }
   ],
   "source": [
    "print texts[0]"
   ]
  },
  {
   "cell_type": "code",
   "execution_count": 1445,
   "metadata": {
    "collapsed": false
   },
   "outputs": [
    {
     "data": {
      "text/plain": [
       "\"To All party involve Equifax XXXX. XXXX XXXX XXXX XXXX, XXXX XXXX XXXX XXXX. XXXX XXXX XXXX, XXXX XXXX XXXX, XXXX. XXXX XXXX XXXX, XXXX XXXX XXXX. \\n\\nPLEASE UPDATE MY CELL PHONE NUMBER TO MY FRAUD ALLERT XXXX XXXX, XXXX XXXX SOC SEC # XXXX DOBXX/XX/XXXX XXXX XXXX XXXX XXXX, XXXX XXXX Dear Sir or Madam : The sole purpose of this letter is to inform you I have been a victim of identity theft. I am further requesting that you block the following fraudulent information from my credit reports so that I can proceed accordingly with my file. Once more, I want to emphasize none of the information stated below relates to any transaction that I have made. \\n\\nXXXX, XXXX, XXXX, XXXX XXXX XXXX XXXX ACC # XXXX XXXX ACC # XXXX The items listed are clearly fraudulent ; therefore, I am requesting that they are deleted /blocked by name of source. In addition, A CRA must block the fraudulent information and the victim must be identified within XXXX business days after accepting his/her Identity Theft Report. When it accepts the Identity Theft Report, the CRA also must notify the furnishers of the fraudulent information that the victim has filed the Report, that the Report states that the information they furnished Resulted from identity theft, and that it is blocking the information that they furnished. FCRA 605B ( b ), 15 U.S.C. 1681c-2 ( b ) .III. A. Blocking Information in Credit Reports under Sections-605B and 623 ( a ) ( 6 ) Under section 605B of the Fair Credit Reporting Act ( FCRA ), both the credit reporting agencies ( CRAs ) and the creditors, debt collectors, and other companies that reported the identity theft-related information to the CRA ( furnishers ) are responsible for blocking fraudulent information from appearing in victims ' credit reports, blocking fraudulent information from appearing in victims ' credit reports Please let me know if you need any other information from me to block this information on my credit report. \\nSincerely, XXXX, XXXX XXXX SOC SEC # XXXX DOBXX/XX/XXXX XXXX XXXX XXXX XXXX, XXXX XXXX \\n\""
      ]
     },
     "execution_count": 1445,
     "metadata": {},
     "output_type": "execute_result"
    }
   ],
   "source": [
    "cfpb['Consumer complaint narrative'][0]"
   ]
  },
  {
   "cell_type": "markdown",
   "metadata": {},
   "source": [
    "### Create a list of firms mentioned in the Corpus"
   ]
  },
  {
   "cell_type": "code",
   "execution_count": 1291,
   "metadata": {
    "collapsed": true
   },
   "outputs": [],
   "source": [
    "companylist = list(cfpb['Company'].unique())"
   ]
  },
  {
   "cell_type": "code",
   "execution_count": 1292,
   "metadata": {
    "collapsed": false
   },
   "outputs": [],
   "source": [
    "#generate a list of firms from the CFPB labeled dataset\n",
    "#drop common firm name endings (ex llc)\n",
    "\n",
    "companylist = ['_'.join(filter(lambda x: x!='', re.split('\\,|\\n|\\&|Inc|LLC|Co\\.|LLP|L.P.|P.C.|\\.|Company| ', company))).lower() for company in companylist]"
   ]
  },
  {
   "cell_type": "code",
   "execution_count": 1293,
   "metadata": {
    "collapsed": false
   },
   "outputs": [
    {
     "data": {
      "text/plain": [
       "2386"
      ]
     },
     "execution_count": 1293,
     "metadata": {},
     "output_type": "execute_result"
    }
   ],
   "source": [
    "#2386 firms\n",
    "len(companylist)"
   ]
  },
  {
   "cell_type": "markdown",
   "metadata": {},
   "source": [
    "# Phrases Detection"
   ]
  },
  {
   "cell_type": "code",
   "execution_count": 1006,
   "metadata": {
    "collapsed": true
   },
   "outputs": [],
   "source": [
    "#generate bigrams for words used adjacent to each other at least twenty times\n",
    "bigram = gensim.models.Phrases(texts, threshold=20.0)\n",
    "phrases_texts = bigram[texts]"
   ]
  },
  {
   "cell_type": "code",
   "execution_count": 1084,
   "metadata": {
    "collapsed": false
   },
   "outputs": [
    {
     "name": "stdout",
     "output_type": "stream",
     "text": [
      "[u'party_involve', u'equifax', u'please', u'update', u'cell_phone', u'number', u'fraud', u'dear_madam', u'sole_purpose', u'letter', u'inform', u'victim_identity', u'theft', u'requesting', u'block', u'following', u'fraudulent', u'information', u'credit', u'reports', u'proceed_accordingly', u'file', u'want_emphasize', u'none', u'information', u'stated', u'relates_transaction', u'made', u'items', u'listed', u'clearly', u'fraudulent', u'therefore', u'requesting', u'deleted_/blocked', u'name', u'source', u'addition', u'must', u'block', u'fraudulent', u'information', u'victim', u'must', u'identified', u'within', u'business', u'days', u'accepting_his/her', u'identity_theft', u'report', u'accepts_identity', u'theft', u'report', u'also', u'must', u'notify_furnishers', u'fraudulent', u'information', u'victim', u'filed', u'report', u'report', u'states', u'information', u'furnished_resulted', u'identity_theft', u'blocking', u'information', u'furnished_fcra', u'605b_1681c-2', u'blocking', u'information', u'credit', u'reports_sections-605b', u'section_605b', u'fair', u'credit', u'reporting', u'fcra', u'credit', u'reporting_agencies', u'cras_creditors', u'debt_collectors', u'companies', u'reported', u'identity_theft-related', u'information', u'furnishers_responsible', u'blocking_fraudulent', u'information', u'appearing_victims', u'credit', u'reports', u'blocking_fraudulent', u'information', u'appearing_victims', u'credit', u'reports', u'please', u'know', u'need', u'information', u'block', u'information', u'credit', u'report', u'sincerely']\n"
     ]
    }
   ],
   "source": [
    "print phrases_texts[0]"
   ]
  },
  {
   "cell_type": "code",
   "execution_count": 1031,
   "metadata": {
    "collapsed": true
   },
   "outputs": [],
   "source": [
    "#Create dictionary of vocab\n",
    "dictionary = corpora.Dictionary(phrases_texts)"
   ]
  },
  {
   "cell_type": "code",
   "execution_count": 1521,
   "metadata": {
    "collapsed": true
   },
   "outputs": [],
   "source": [
    "# store the dictionary, for future reference\n",
    "dictionary.save('phrases_texts.dict')"
   ]
  },
  {
   "cell_type": "code",
   "execution_count": 1527,
   "metadata": {
    "collapsed": true
   },
   "outputs": [],
   "source": [
    "# load the dictionary\n",
    "# dictionary = corpora.Dictionary.load('phrases_texts.dict')"
   ]
  },
  {
   "cell_type": "code",
   "execution_count": 1522,
   "metadata": {
    "collapsed": false,
    "scrolled": true
   },
   "outputs": [
    {
     "name": "stdout",
     "output_type": "stream",
     "text": [
      "Dictionary(16629 unique tokens: [u'compliant_rules', u'raining', u'honorable_judge', u'00}!!', u'cussed']...)\n"
     ]
    }
   ],
   "source": [
    "print(dictionary)"
   ]
  },
  {
   "cell_type": "code",
   "execution_count": 1302,
   "metadata": {
    "collapsed": false,
    "scrolled": true
   },
   "outputs": [],
   "source": [
    "# dictionary.token2id.viewkeys()"
   ]
  },
  {
   "cell_type": "markdown",
   "metadata": {},
   "source": [
    "# word2vec"
   ]
  },
  {
   "cell_type": "code",
   "execution_count": 510,
   "metadata": {
    "collapsed": true
   },
   "outputs": [],
   "source": [
    "#These are the paramters of the word2vec model used.  They are the defaults.\n",
    "\n",
    "# gensim.models.word2vec.Word2Vec(sentences=None, \n",
    "# size=100, alpha=0.025, window=5, min_count=5, max_vocab_size=None, \n",
    "# sample=0.001, seed=1, workers=3, min_alpha=0.0001, sg=0, hs=0, \n",
    "# negative=5, cbow_mean=1, hashfxn=<built-in function hash>, iter=5, \n",
    "# null_word=0, trim_rule=None, sorted_vocab=1, batch_words=10000)"
   ]
  },
  {
   "cell_type": "code",
   "execution_count": 1056,
   "metadata": {
    "collapsed": false,
    "scrolled": true
   },
   "outputs": [],
   "source": [
    "# train word2vec\n",
    "model = gensim.models.word2vec.Word2Vec(phrases_texts, size=100, sg=1, window=5, workers=2)"
   ]
  },
  {
   "cell_type": "code",
   "execution_count": 1523,
   "metadata": {
    "collapsed": true
   },
   "outputs": [],
   "source": [
    "# save the model\n",
    "model.save('word2vec_model')"
   ]
  },
  {
   "cell_type": "code",
   "execution_count": 1524,
   "metadata": {
    "collapsed": true
   },
   "outputs": [],
   "source": [
    "#load the model\n",
    "# model = gensim.models.Word2Vec.load('word2vec_model')"
   ]
  },
  {
   "cell_type": "code",
   "execution_count": 1298,
   "metadata": {
    "collapsed": false
   },
   "outputs": [],
   "source": [
    "wordlist = list(model.index2word)"
   ]
  },
  {
   "cell_type": "code",
   "execution_count": 1299,
   "metadata": {
    "collapsed": false
   },
   "outputs": [
    {
     "data": {
      "text/plain": [
       "16237"
      ]
     },
     "execution_count": 1299,
     "metadata": {},
     "output_type": "execute_result"
    }
   ],
   "source": [
    "len(wordlist)"
   ]
  },
  {
   "cell_type": "code",
   "execution_count": 1301,
   "metadata": {
    "collapsed": false
   },
   "outputs": [
    {
     "name": "stdout",
     "output_type": "stream",
     "text": [
      "[u'credit', u'account', u'would', u'loan', u'payment', u'told', u'bank', u'debt', u'received', u'report', u'information', u'mortgage', u'called', u'company', u'time', u'card', u'never', u'payments', u'call', u'sent', u'paid', u'letter', u'said', u'back', u'could', u'also', u'number', u'made', u'phone', u'money', u'amount', u'since', u'asked', u'home', u'still', u'years', u'balance', u'days', u'make', u'check', u'months', u'contacted', u'date', u'late', u'month', u'reporting', u'name', u'even', u'2015', u'know', u'modification', u'another', u'contact', u'calls', u'stated', u'request', u'accounts', u'file', u'help', u'collection', u'dispute', u'want', u'like', u'need', u'interest', u'send', u'bill', u'address', u'requested', u'last', u'complaint', u'year', u'first', u'went', u'going', u'work', u'documents', u'charge', u'chase', u'process', u'wells_fargo', u'full', u'provide', u'statement', u'however', u'take', u'removed', u'charges', u'reported', u'able', u'closed', u'stating', u'well', u'charged', u'case', u'business', u'spoke', u'please', u'fees', u'provided', u'trying', u'receive', u'property', u'filed', u'informed', u'email', u'notice', u'house', u'times', u'representative', u'insurance', u'issue', u'paying', u'monthly', u'bank_america', u'funds', u'tried', u'past', u'person', u'give', u'remove', u'equifax', u'without', u'later', u'today', u'several', u'proof', u'fraud', u'experian', u'online', u'mail', u'refused', u'applied', u'took', u'consumer', u'response', u'done', u'service', u'foreclosure', u'nothing', u'regarding', u'copy', u'used', u'current', u'different', u'original', u'anything', u'owed', u'ocwen', u'keep', u'calling', u'loans', u'needed', u'court', u'people', u'immediately', u'already', u'claim', u'believe', u'someone', u'making', u'advised', u'find', u'customer_service', u'correct', u'found', u'services', u'many', u'department', u'matter', u'escrow', u'submitted', u'disputed', u'score', u'attached', u'saying', u'order', u'every', u'bureaus', u'state', u'reports', u'getting', u'given', u'sold', u'collection_agency', u'gave', u'financial', u'checking', u'personal', u'documentation', u'attorney', u'tell', u'problem', u'continue', u'agreement', u'denied', u'office', u'asking', u'signed', u'right', u'showing', u'letters', u'bankruptcy', u'application', u'lender', u'offer', u'fact', u'additional', u'next', u'finally', u'feel', u'statements', u'collections', u'listed', u'close', u'opened', u'fraudulent', u'agency', u'started', u'stop', u'required', u'point', u'reason', u'system', u'open', u'wrong', u'week', u'purchase', u'returned', u'agreed', u'line', u'wanted', u'nationstar', u'transfer', u'transferred', u'explained', u'even_though', u'error', u'bureau', u'paperwork', u'transaction', u'cfpb', u'show', u'income', u'taken', u'contract', u'using', u'refund', u'recently', u'status', u'legal', u'history', u'unable', u'manager', u'ever', u'must', u'much', u'negative', u'customer', u'written', u'servicing', u'situation', u'closing', u'instead', u'wife', u'review', u'following', u'husband', u'prior', u'place', u'longer', u'supervisor', u'return', u'requesting', u'writing', u'something', u'transunion', u'companies', u'agent', u'verify', u'capital', u'receiving', u'weeks', u'hold', u'dated', u'came', u'around', u'sale', u'change', u'access', u'thank', u'mine', u'total', u'approved', u'website', u'speak', u'understand', u'left', u'working', u'form', u'incorrect', u'notified', u'bills', u'note', u'within', u'interest_rate', u'cards', u'issues', u'record', u'either', u'failed', u'part', u'item', u'placed', u'sending', u'numbers', u'items', u'continued', u'changed', u'available', u'investigation', u'states', u'everything', u'purchased', u'happened', u'fair', u'lost', u'good', u'social_security', u'shows', u'answer', u'assistance', u'think', u'refinance', u'settlement', u'previous', u'based', u'complete', u'always', u'come', u'deposit', u'telling', u'refuse', u'records', u'mailed', u'federal', u'offered', u'dollars', u'terms', u'cash', u'collect', u'several_times', u'program', u'creditor', u'hours', u'info', u'least', u'including', u'attempted', u'long', u'says', u'currently', u'citi', u'allowed', u'rate', u'almost', u'verified', u'vehicle', u'document', u'second', u'please_help', u'apply', u'agencies', u'false', u'taxes', u'plan', u'servicer', u'paypal', u'result', u'action', u'according', u'period', u'family', u'three', u'validation', u'upon', u'clear', u'actually', u'sure', u'principal', u'short_sale', u'checks', u'less', u'look', u'allow', u'late_fees', u'illegal', u'repeatedly', u'sign', u'policy', u'thought', u'issued', u'directly', u'customers', u'talk', u'appraisal', u'citibank', u'title', u'added', u'enough', u'verification', u'therefore', u'resolved', u'multiple', u'responded', u'branch', u'live', u'inaccurate', u'billing', u'thing', u'claims', u'supposed', u'accept', u'kept', u'really', u'completed', u'taking', u'behind', u'default', u'resolve', u'anyone', u'transactions', u'aware', u'clearly', u'decided', u'included', u'debt_collector', u'needs', u'start', u'seems', u'copies', u'addition', u'banks', u'confirmed', u'afford', u'along', u'attempt', u'delinquent', u'noticed', u'mistake', u'consumers', u'explain', u'began', u'inquiry', u'numerous', u'discover', u'care', u'final', u'cancelled', u'missed', u'option', u'reporting_agencies', u'checked', u'payoff', u'responsible', u'2014', u'things', u'charging', u'posted', u'plus', u'resolution', u'continues', u'lien', u'respond', u'explanation', u'every_month', u'simply', u'correspondence', u'hung', u'debts', u'looking', u'cost', u'high', u'alleged', u'despite', u'question', u'contacting', u'lower', u'auto', u'medical', u'deleted', u'investigate', u'cancel', u'navient', u'update', u'communication', u'receipt', u'student', u'wait', u'obtain', u'updated', u'free', u'showed', u'submit', u'caused', u'limit', u'knew', u'entire', u'type', u'theft', u'telephone', u'message', u'complaints', u'finance', u'value', u'heard', u'representatives', u'although', u'bought', u'corrected', u'previously', u'hard', u'mother', u'emails', u'claimed', u'possible', u'life', u'problems', u'talked', u'valid', u'minimum', u'completely', u'extra', u'wrote', u'prove', u'questions', u'increase', u'practices', u'acct', u'firm', u'green_tree', u'deal', u'twice', u'notification', u'authorized', u'requests', u'inquiries', u'management', u'approximately', u'stopped', u'turned', u'behalf', u'lived', u'moved', u'faxed', u'debit_card', u'2016', u'list', u'confirmation', u'evidence', u'security', u'within_days', u'giving', u'promised', u'filing', u'claiming', u'rights', u'initial', u'forced', u'indicated', u'recorded', u'practice', u'gone', u'follow', u'decision', u'violation', u'options', u'points', u'amounts', u'assured', u'school', u'daughter', u'waiting', u'disputes', u'best', u'higher', u'dates', u'accurate', u'threatening', u'cover', u'cell_phone', u'true', u'deposited', u'lease', u'processed', u'qualify', u'lawyer', u'declined', u'certified', u'happen', u'judgment', u'recent', u'rude', u'trust', u'overdraft', u'harassing', u'disputing', u'original_creditor', u'purchases', u'away', u'delete', u'appears', u'discovered', u'american_express', u'named', u'borrower', u'approval', u'missing', u'assist', u'store', u'scam', u'signature', u'regards', u'reached', u'pulled', u'accepted', u'conversation', u'actions', u'merchant', u'willing', u'reference', u'police_report', u'savings', u'none', u'identity_theft', u'scheduled', u'soon', u'multiple_times', u'seterus', u'unless', u'dept', u'settled', u'research', u'activity', u'apparently', u'beginning', u'reach', u'judgement', u'read', u'banking', u'providing', u'unfair', u'worked', u'minutes', u'owner', u'sell', u'reviewed', u'settle', u'speaking', u'party', u'better', u'pending', u'county', u'hospital', u'little', u'fixed', u'early', u'release', u'page', u'creditors', u'ended', u'idea', u'move', u'refusing', u'employee', u'details', u'debit', u'proper', u'credited', u'held', u'course', u'means', u'site', u'inform', u'originally', u'refuses', u'increased', u'knowledge', u'kind', u'laws', u'attempts', u'usaa', u'emailed', u'concern', u'cleared', u'confirm', u'lawsuit', u'denial', u'trial', u'short', u'suntrust', u'macy', u'attempting', u'obtained', u'properly', u'rent', u'client', u'correctly', u'looked', u'unauthorized', u'officer', u'loss', u'local', u'papers', u'identity', u'belong', u'processing', u'buyer', u'though', u'employer', u'seem', u'private', u'annual', u'actual', u'support', u'coming', u'fault', u'cause', u'fcra', u'thru', u'specifically', u'validate', u'neither', u'spoken', u'hardship', u'demand', u'trying_collect', u'package', u'bring', u'rather', u'known', u'answered', u'student_loans', u'certain', u'responsibility', u'section', u'threatened', u'whole', u'small', u'california', u'outstanding', u'ignored', u'government', u'include', u'occurred', u'avoid', u'mentioned', u'data', u'refunded', u'discuss', u'direct', u'agree', u'applying', u'hope', u'father', u'real', u'foreclose', u'lack', u'causing', u'paper', u'collecting', u'individual', u'stolen', u'necessary', u'assigned', u'resolve_issue', u'except', u'half', u'living', u'entered', u'errors', u'employees', u'holder', u'ditech', u'became', u'demanding', u'future', u'amex', u'apartment', u'yesterday', u'related', u'stay', u'others', u'unfortunately', u'talking', u'concerning', u'hear', u'involved', u'major', u'passed', u'monday', u'protection', u'morning', u'thus', u'located', u'rating', u'else', u'leave', u'lose', u'understanding', u'texas', u'associated', u'notify', u'harassment', u'make_sure', u'synchrony_bank', u'notices', u'separate', u'victim', u'forbearance', u'third_party', u'numerous_times', u'regular', u'hamp', u'and/or', u'bofa', u'damage', u'considered', u'lied', u'delinquency', u'dealing', u'certified_mail', u'union', u'changes', u'owned', u'large', u'systems', u'starting', u'unpaid', u'automatic', u'balances', u'knowing', u'2013', u'erroneous', u'write', u'indicating', u'couple', u'concerned', u'worth', u'specific', u'gotten', u'initially', u'spent', u'authorization', u'ending', u'friday', u'daily', u'national', u'results', u'forward', u'names', u'incorrectly', u'electronic', u'investigated', u'answers', u'turn', u'especially', u'reduced', u'towards', u'learned', u'instructed', u'additionally', u'felt', u'furthermore', u'realized', u'holding', u'failure', u'brought', u'collection_practices', u'reasons', u'overdraft_fees', u'pull', u'difficult', u'post', u'nearly', u'ability', u'expired', u'collector', u'appear', u'stop_calling', u'reverse', u'reflect', u'basically', u'employment', u'reply', u'earlier', u'followed', u'e-mail', u'whether', u'code', u'might', u'trustee', u'eventually', u'begin', u'waited', u'lady', u'victim_identity', u'woman', u'legal_action', u'requirements', u'referred', u'price', u'mention', u'internet', u'avail', u'informing', u'payday', u'hour', u'created', u'forms', u'opportunity', u'present', u'eligible', u'discharged', u'files', u'thanks', u'seen', u'arrangements', u'concerns', u'leaving', u'consider', u'forwarded', u'honor', u'ally', u'permission', u'impossible', u'sued', u'scores', u'reasonable', u'obviously', u'appeal', u'messages', u'released', u'principle', u'opening', u'night', u'goes', u'offers', u'violated', u'inquire', u'proceeded', u'position', u'billed', u'dealership', u'anymore', u'attorneys', u'center', u'fdcpa', u'extension', u'carrington', u'legally', u'associates', u'police', u'remaining', u'fine', u'subject', u'shown', u'scottrade', u'experience', u'absolutely', u'repeated', u'refinanced', u'resulted', u'rules', u'reversed', u'noted', u'various', u'deed', u'explaining', u'group', u'product', u'hsbc', u'affidavit', u'ordered', u'remain', u'notes', u'makes', u'judge', u'exactly', u'dollar', u'active', u'putting', u'illegally', u'foreclosed', u'attempting_collect', u'refinancing', u'effort', u'sales', u'benefit', u'fully', u'lenders', u'automatically', u'location', u'cant', u'seller', u'computer', u'caller', u'speak_supervisor', u'agents', u'dont', u'someone_else', u'accounting', u'deceptive', u'single', u'keeps', u'wish', u'supposedly', u'presented', u'double', u'difference', u'unknown', u'harassed', u'real_estate', u'midland', u'rejected', u'florida', u'reps', u'advise', u'otherwise', u'totally', u'authorize', u'timely', u'bonus', u'tactics', u'delay', u'canceled', u'takes', u'chapter', u'suit', u'hearing', u'filing_complaint', u'promotion', u'served', u'costs', u'handling', u'homeowner', u'signing', u'upset', u'monies', u'modified', u'area', u'without_knowledge', u'great', u'require', u'arrangement', u'recovery', u'financing', u'children', u'addresses', u'protect', u'equity', u'mortgages', u'reviewing', u'exact', u'initiated', u'figure', u'citimortgage', u'good_faith', u'city', u'damages', u'good_standing', u'property_taxes', u'take_care', u'suppose', u'complain', u'continuing', u'proceed', u'handle', u'interest_rates', u'direct_deposit', u'financial_protection', u'similar', u'modify', u'blocked', u'realtor', u'constantly', u'dropped', u'derogatory', u'qualified', u'poor', u'meet', u'expect', u'identify', u'repayment', u'treated', u'public', u'disclosure', u'parents', u'schedule', u'demanded', u'satisfied', u'criminal', u'handled', u'block', u'maybe', u'subsequently', u'locked', u'appeared', u'covered', u'voicemail', u'purpose', u'trans_union', u'market', u'suggested', u'communicate', u'investor', u'possibly', u'legitimate', u'recording', u'cancellation', u'sincerely', u'extremely', u'cease_desist', u'specialist', u'expenses', u'consent', u'control', u'automated', u'choice', u'rates', u'recieved', u'greentree', u'match', u'solutions', u'ensure', u'ridiculous', u'anyway', u'manner', u'tells', u'visa', u'helping', u'appreciate', u'attorney_general', u'fraudulently', u'allowing', u'member', u'incurred', u'parties', u'simple', u'college', u'comes', u'probably', u'hang', u'sometimes', u'secure', u'indeed', u'become', u'authority', u'story', u'till', u'home_equity', u'beyond', u'guidelines', u'paper_work', u'happening', u'outside', u'selling', u'effect', u'removal', u'moving', u'attachment', u'corporation', u'normal', u'important', u'submitting', u'alone', u'replied', u'seeking', u'assessed', u'trouble', u'stress', u'portfolio_recovery', u'third', u'loss_mitigation', u'hired', u'advance', u'hand', u'residence', u'withdraw', u'withdrawal', u'front', u'obligation', u'filled', u'citizens', u'determined', u'didnt', u'whatever', u'arrived', u'example', u'santander', u'friend', u'benefits', u'attempt_collect', u'positive', u'complained', u'disclosed', u'personally', u'term', u'violations', u'insisted', u'view', u'keeping', u'homeowners', u'force', u'deny', u'adding', u'transfers', u'spend', u'granted', u'requires', u'prevent', u'assumed', u'affected', u'fraud_alert', u'mean', u'solution', u'reduce', u'delivered', u'assignment', u'rental', u'predatory', u'hello', u'coverage', u'everyone', u'sister', u'dealer', u'lending', u'primary', u'heloc', u'alert', u'mailing_address', u'instructions', u'ownership', u'reflected', u'admitted', u'quite', u'addressed', u'partial', u'misleading', u'2012', u'asap', u'divorce', u'together', u'inquired', u'drop', u'miles', u'thinking', u'expected', u'taken_care', u'disconnected', u'risk', u'repairs', u'defaulted', u'hard_inquiry', u'chance', u'main', u'changing', u'american', u'frustrated', u'borrowers', u'wants', u'occasions', u'inspection', u'courts', u'repair', u'deposits', u'receipts', u'worse', u'verifying', u'teller', u'happy', u'overdrawn', u'secured', u'sort', u'packet', u'belongs', u'banker', u'ahead', u'serious', u'pick', u'comply', u'debt_collectors', u'auction', u'detailed', u'level', u'unacceptable', u'attention', u'branch_manager', u'extended', u'timely_manner', u'quickly', u'requirement', u'deferment', u'invoice', u'team', u'without_permission', u'excellent', u'acknowledged', u'docs', u'official', u'provider', u'existing', u'advising', u'affecting', u'somehow', u'directed', u'effective', u'offering', u'resulting', u'removing', u'license', u'appropriate', u'likely', u'side', u'listing', u'documented', u'weeks_later', u'approve', u'raised', u'exist', u'caught', u'profile', u'verbally', u'remember', u'staff', u'losing', u'ready', u'left_message', u'entry', u'totaling', u'word', u'determine', u'ones', u'collected', u'bayview', u'relief', u'seemed', u'professional', u'serviced', u'back_forth', u'relationship', u'organization', u'denying', u'sorry', u'deducted', u'commission', u'continually', u'enclosed', u'portion', u'unethical', u'chose', u'outstanding_balance', u'identified', u'penalty', u'realize', u'deed_lieu', u'listen', u'sufficient', u'united_states', u'remains', u'synchrony', u'helpful', u'huge', u'disclose', u'garnishment', u'possession', u'cases', u'time_frame', u'communications', u'gets', u'lowered', u'university', u'assume', u'corporate', u'place_employment', u'maintain', u'cell', u'rewards', u'2009', u'mailing', u'rest', u'mistakes', u'broker', u'referenced', u'general', u'facts', u'everyday', u'established', u'discharge', u'withdrawn', u'owing', u'behavior', u'financed', u'procedure', u'hoping', u'invalid', u'save', u'anywhere', u'acknowledge', u'purchasing', u'private_student', u'fill', u'cashed', u'conversations', u'rushcard', u'acquired', u'damaged', u'former', u'excessive', u'works', u'vendor', u'unaware', u'ongoing', u'circumstances', u'pages', u'2011', u'cease', u'promptly', u'waive', u'business_practices', u'co-signer', u'penalties', u'veteran', u'affect', u'individuals', u'condition', u'compliance', u'worry', u'country', u'truly', u'tracking', u'wire', u'particular', u'source', u'brother', u'resolve_matter', u'liens', u'credits', u'entity', u'joint', u'offices', u'procedures', u'registered', u'validated', u'door', u'investigating', u'nobody', u'right_away', u'incident', u'continuously', u'threaten', u'finding', u'freeze', u'financial_institution', u'entitled', u'considering', u'underwriting', u'harass', u'touch', u'toward', u'machine', u'clients', u'regardless', u'pennymac', u'summary', u'intentionally', u'exhibit', u'lives', u'reduction', u'military', u'identification', u'basis', u'confused', u'pursue', u'financially', u'social', u'standing', u'returning', u'ruined', u'serve', u'promise', u'membership', u'discussed', u'catch', u'threats', u'validity', u'opinion', u'shut', u'logged', u'track', u'caliber', u'remaining_balance', u'approx', u'lawyers', u'programs', u'knows', u'barclay', u'fund', u'pass', u'chapter_bankruptcy', u'regions', u'standard', u'target', u'debited', u'intent', u'dismissed', u'escalated', u'delivery', u'midland_funding', u'estimate', u'indicate', u'often', u'obtaining', u'financial_hardship', u'supplied', u'temporary', u'worst', u'waived', u'confirming', u'latest', u'includes', u'usually', u'shortly', u'excess', u'horrible', u'significant', u'health', u'steps', u'underwriter', u'employed', u'certainly', u'modifications', u'unwilling', u'running', u'borrowed', u'visit', u'acceptable', u'four', u'supervisors', u'attach', u'terms_conditions', u'cosigner', u'limited', u'efforts', u'truck', u'connected', u'duplicate', u'meantime', u'stuck', u'regard', u'enhanced_recovery', u'helped', u'withdrew', u'sallie', u'accident', u'trial_period', u'electronically', u'meeting', u'drive', u'method', u'2010', u'installment', u'seek', u'buyers', u'without_consent', u'nightmare', u'words', u'seeing', u'fall', u'homes', u'litigation', u'experienced', u'mind', u'onto', u'middle', u'family_members', u'affordable', u'throughout', u'refusal', u'fail', u'liable', u'buying', u'questioned', u'unprofessional', u'nature', u'mobile', u'debtor', u'soon_possible', u'sears', u'appraiser', u'intended', u'replacement', u'happens', u'monitoring', u'america', u'posting', u'step', u'originated', u'attaching', u'institution', u'falsely', u'treatment', u'signed_contract', u'lying', u'tired', u'wont', u'arrears', u'responses', u'2008', u'medical_bills', u'public_record', u'unit', u'issue_resolved', u'special', u'failing', u'increasing', u'recognize', u'estate', u'detail', u'date_birth', u'responding', u'enter', u'repayment_plan', u'believed', u'within_hours', u'applications', u'policies', u'frustrating', u'five', u'unemployed', u'accurately', u'doctor', u'explained_situation', u'share', u'funding', u'ultimately', u'surprise', u'internal', u'housing', u'allows', u'suspicious', u'intention', u'notifying', u'abuse', u'fell_behind', u'associate', u'choose', u'representing', u'consideration', u'calculated', u'picked', u'flagstar', u'mark', u'wells', u'western_union', u'formal', u'promotional', u'interested', u'federal_trade', u'select_portfolio', u'processor', u'statute_limitations', u'decline', u'potential', u'consistently', u'voice_mail', u'inquires', u'several_occasions', u'zero', u'deed_trust', u'shellpoint', u'fake', u'draft', u'occur', u'link', u'immediate', u'rule', u'move_forward', u'unemployment', u'complied', u'finances', u'capitol', u'enrolled', u'perfect', u'easy', u'compromised', u'lines', u'death', u'grace_period', u'division', u'consumer_protection', u'spouse', u'performed', u'proving', u'building', u'bogus', u'hurt', u'deadline', u'recall', u'guess', u'married', u'summons', u'returns', u'regulation', u'researched', u'reflecting', u'repay', u'privacy', u'speak_manager', u'broken', u'saturday', u'event', u'expense', u'plaintiff', u'damaging', u'fraudulent_activity', u'ticket', u'permanent', u'delayed', u'ignore', u'conduct', u'closure', u'liability', u'managers', u'travel', u'fight', u'tuesday', u'moment', u'abusive', u'subsequent', u'suddenly', u'indicates', u'payed', u'regulations', u'obvious', u'condo', u'understood', u'locate', u'fico_score', u'switched', u'excuse', u'navy_federal', u'follows', u'successfully', u'impact', u'seriously', u'prepaid', u'private_loans', u'frozen', u'advice', u'save_home', u'gives', u'destroyed', u'ways', u'apologized', u'food', u'recourse', u'child', u'evening', u'contained', u'activated', u'requiring', u'communicated', u'equipment', u'reading', u'water', u'jobs', u'conditions', u'town', u'fear', u'every_single', u'civil', u'ohio', u'paycheck', u'wanting', u'linked', u'fighting', u'barclays', u'unlawful', u'express', u'supply', u'sick', u'literally', u'essentially', u'penalized', u'local_branch', u'filed_chapter', u'respa', u'flood_insurance', u'remained', u'limitations', u'fraudulent_inquiry', u'conducted', u'improper', u'negotiate', u'printed', u'thursday', u'agreed_upon', u'refi', u'fifth_third', u'balloon', u'pertaining', u'create', u'portfolio', u'meanwhile', u'home_depot', u'whatsoever', u'repossession', u'recover', u'committed', u'suspect', u'corp', u'accepting', u'despite_fact', u'lies', u'notarized', u'mess', u'face', u'shocked', u'certificate', u'whose', u'overdraft_protection', u'correction', u'persons', u'easily', u'afraid', u'favor', u'wednesday', u'purposes', u'properties', u'deletion', u'struggling', u'kids', u'morgan_chase', u'percent', u'usps', u'pays', u'tomorrow', u'disclosures', u'mediation', u'payroll', u'nowhere', u'lock', u'shortage', u'miss', u'extend', u'acceptance', u'shared', u'assets', u'steal', u'incomplete', u'spending', u'dear', u'dealt', u'included_bankruptcy', u'gentleman', u'class_action', u'meant', u'quicken_loans', u'overdue', u'jail', u'activities', u'transferring', u'power', u'terminated', u'provides', u'several_attempts', u'leave_message', u'freedom_mortgage', u'raise', u'pinnacle', u'produce', u'online_banking', u'fell', u'terrible', u'uses', u'connection', u'retirement', u'hopes', u'york', u'confusing', u'delays', u'pursuant', u'perhaps', u'adverse', u'courtesy', u'owns', u'violation_fair', u'products', u'adjusted', u'placing', u'setup', u'allegedly', u'search', u'inside', u'ex-husband', u'described', u'holds', u'obligations', u'quoted', u'profit', u'violating', u'stole', u'fixed_rate', u'sends', u'honest', u'broke', u'manage', u'negatively', u'suffered', u'wire_transfer', u'supporting_documents', u'prepared', u'description', u'contractor', u'class', u'owners', u'permanently', u'forcing', u'quote', u'origination', u'marked', u'placed_hold', u'discharged_bankruptcy', u'incur', u'inability', u'shall', u'represent', u'afni', u'negligence', u'drivers_license', u'caliber_home', u'weekend', u'break', u'definitely', u'represented', u'tenant', u'premium', u'acting', u'emergency', u'uploaded', u'make_sense', u'cash_advance', u'analysis', u'sitting', u'discount', u'escrow_analysis', u'completing', u'trade_line', u'reflects', u'print', u'education', u'updates', u'without_authorization', u'finished', u'submission', u'advertised', u'accrued', u'respect', u'executive', u'arrive', u'reinstate', u'pocket', u'room', u'violation_fcra', u'suspense', u'retired', u'successful', u'revolving', u'moneygram', u'reimburse', u'outrageous', u'guarantee', u'text', u'discrimination', u'students', u'equal', u'honored', u'grant', u'impression', u'managed', u'answer_questions', u'thats', u'president', u'constant', u'setting', u'surprised', u'stayed', u'progress', u'on-line', u'couple_months', u'ignoring', u'roughly', u'degree', u'human', u'language', u'please_advise', u'seven_years', u'promissory_note', u'score_dropped', u'rectify', u'hard_inquiries', u'near', u'husbands', u'matters', u'2007', u'erroneously', u'warning', u'proven', u'vacation', u'significantly', u'members', u'satisfaction', u'agreements', u'busy', u'saving', u'envelope', u'suspended', u'resubmit', u'sometime', u'cashed_check', u'loancare', u'violated_fair', u'protected', u'servicers', u'contacts', u'lead', u'average', u'treat', u'rush_card', u'repo', u'patient', u'nice', u'warranty', u'satisfy', u'ruin', u'learn', u'insufficient', u'harp', u'relevant', u'home_affordable', u'lowering', u'accordingly', u'finish', u'clean', u'hands', u'issuing', u'world', u'figured', u'physical', u'driver_license', u'adjustment', u'this?', u'appointment', u'scammed', u'predatory_lending', u'macys', u'answering', u'sudden', u'hurting', u'departments', u'trade', u'imagine', u'phones', u'activate', u'initiate', u'supporting_documentation', u'residential', u'accordance', u'compliant', u'purposely', u'meaning', u'nation_star', u'truth', u'creating', u'identifying', u'deferred', u'child_support', u'complaining', u'supporting', u'gmac', u'unreasonable', u'gain', u'wellsfargo', u'landlord', u'window', u'anything_else', u'taken_advantage', u'homeowners_insurance', u'closing_costs', u'looks_like', u'dishonest', u'countrywide', u'automated_system', u'adjust', u'deliberately', u'based_upon', u'passed_away', u'phoned', u'communicating', u'inaccuracies', u'hotel', u'keeps_calling', u'enforcement', u'password', u'ebay', u'decide', u'generated', u'georgia', u'harm', u'citizen', u'quick', u'bottom', u'besides', u'verbal', u'foreclosure_proceedings', u'relationship_manager', u'friends', u'basic', u'sunday', u'contracts', u'refer', u'executed', u'discrepancy', u'okay', u'threat', u'checking_savings', u'turns', u'tactic', u'formal_complaint', u'heard_anything', u'admit', u'assumption', u'worked_hard', u'breach', u'entries', u'unnecessary', u'establish', u'estimated', u'five_years', u'insufficient_funds', u'foreclosing', u'saved', u'substantial', u'personnel', u'insist', u'withdrawals', u'defendant', u'adequate', u'expire', u'compensation', u'boss', u'industry', u'investment', u'laid', u'take_advantage', u'incompetent', u'reaching', u'guys', u'cycle', u'autopay', u'screen', u'recurring', u'places', u'investors', u'success', u'highest', u'references', u'voice', u'apartment_complex', u'garnished', u'billing_cycle', u'licensed', u'justice', u'repossessed', u'plans', u'angry', u'reimbursed', u'accuracy', u'dead', u'prevented', u'aggressive', u'afternoon', u'designed', u'alternative', u'cashier_check', u'feeling', u'homeless', u'authorized_user', u'greatly_appreciated', u'maintenance', u'consistent', u'escrow_shortage', u'signatures', u'return_receipt', u'moreover', u'replaced', u'furniture', u'stand', u'mastercard', u'numerous_occasions', u'merchants', u'garnish_wages', u'holders', u'repeat', u'land', u'escalate', u'limits', u'notifications', u'worried', u'apartments', u'entities', u'proved', u'zero_balance', u'reimbursement', u'incompetence', u'motion', u'sense', u'victims', u'becoming', u'promises', u'applicable', u'left_messages', u'public_records', u'lists', u'visited', u'proceeds', u'outcome', u'lower_rate', u'book', u'luck', u'expressed', u'entirely', u'stealing', u'clerk', u'decrease', u'asset', u'beneficiary', u'minute', u'usual', u'sought', u'freedom', u'ex-wife', u'weekly', u'letting_know', u'held_accountable', u'safe', u'marketing', u'deceased', u'disappointed', u'self', u'check_cashed', u'replace', u'types', u'drafted', u'whenever', u'agreeing', u'free_annual', u'owes', u'divorced', u'outdated', u'counsel', u'frustration', u'pictures', u'relative', u'maintained', u'partner', u'straight', u'remedy', u'suing', u'somewhere', u'salary', u'loose', u'right_thing', u'switch', u'unavailable', u'knowingly', u'graduated', u'central', u'merchandise', u'overdrafts', u'roof', u'post_office', u'heard_nothing', u'makes_sense', u'diligence', u'countless', u'penny', u'criteria', u'shipping', u'engaged', u'three_weeks', u'mislead', u'greater', u'rushmore', u'wired', u'single_point', u'overnight', u'payee', u'obligated', u'instance', u'deliver', u'rented', u'reward', u'intend', u'cable', u'guaranteed', u'barely', u'preventing', u'earned', u'void', u'excuses', u'occasion', u'united', u'hanging', u'counselor', u'gift_card', u'count', u'pursuing', u'stubs', u'comments', u'operator', u'arrested', u'first_delinquency', u'larger', u'eviction', u'construction', u'sheriff', u'build', u'scared', u'remainder', u'combined', u'sell_house', u'financial_institutions', u'maximum', u'clue', u'background', u'wages', u'collectors', u'senior', u'attended', u'methods', u'ruining', u'demands', u'forgiven', u'perform', u'researching', u'conventional', u'expecting', u'regularly', u'fast', u'breakdown', u'register', u'hold_minutes', u'stuff', u'discussion', u'processes', u'specified', u'suffer', u'needless', u'bounced', u'hence', u'primary_residence', u'timeline', u'proceedings', u'trip', u'retrieve', u'walmart', u'rescission', u'built', u'lump', u'deficiency', u'audit', u'roundpoint', u'fined', u'faith', u'decreased', u'exception', u'common', u'disregard', u'planned', u'family_member', u'drawn', u'pushed', u'arbitration', u'sensitive', u'principal_reduction', u'shopping', u'selected', u'federal_government', u'recommended', u'reopen', u'community', u'bankruptcy_discharged', u'fargo', u'left_voicemail', u'truth_lending', u'field', u'opted', u'difficulty', u'home_owners', u'existed', u'forgot', u'budget', u'updating', u'inaccurately', u'last_digits', u'wrongfully', u'2006', u'proceeding', u'bait_switch', u'clarification', u'breaking', u'signed_authorization', u'relating', u'pulling', u'expensive', u'hopefully', u'confusion', u'please_help!', u'notary', u'piece', u'unsuccessful', u'household', u'impacted', u'went_ahead', u'database', u'mortage', u'power_attorney', u'bringing', u'acts', u'virginia', u'thousands', u'unfair_deceptive', u'follow-up', u'corporate_office', u'pointed', u'hazard_insurance', u'costing', u'aside', u'deemed', u'investigations', u'normally', u'appearing', u'picture', u'events', u'originator', u'anyone_else', u'quicken', u'chat', u'accessed', u'referring', u'attachments', u'quit', u'monitor', u'exchange', u'debits', u'improperly', u'recieve', u'improve', u'reversal', u'young', u'resources', u'figures', u'tickets', u'earn', u'refunds', u'indication', u'head', u'light', u'news', u'hacked', u'load', u'violation_fdcpa', u'decisions', u'failed_respond', u'respectfully', u'economy', u'renewal', u'tila', u'comment', u'female', u'corrections', u'standards', u'cars', u'resident', u'incentive', u'aforementioned', u'result_identity', u'counter', u'solely', u'unsure', u'utilities', u'orders', u'unsecured', u'executive_office', u'sellers', u'spent_hours', u'four_years', u'potentially', u'administration', u'awarded', u'doubt', u'forgiveness', u'shop', u'somebody', u'range', u'consolidation', u'delinquencies', u'wasted', u'monitoring_service', u'parent', u'messed', u'reinstatement', u'contracted', u'inflated', u'consecutive', u'push', u'male', u'police_department', u'overall', u'smaller', u'calculation', u'funded', u'within_five', u'nfcu', u'ratio', u'relatives', u'desperate', u'identity_stolen', u'transfered', u'clarify', u'commitment', u'forth', u'burden', u'west', u'finalized', u'connect', u'permitted', u'duty', u'suffering', u'resolving', u'assuming', u'shady', u'overpayment', u'assignments', u'quality', u'driving', u'verify_validity', u'produced', u'misrepresented', u'forged', u'furnisher', u'unfairly', u'reinstated', u'recognized', u'asks', u'seven', u'crime', u'honestly', u'unauthorized_fraudulent', u'series', u'everytime', u'lates', u'statute', u'acted', u'dont_know', u'minor', u'died', u'sheriff_sale', u'possibility', u'yearly', u'misinformation', u'retained', u'beneficial', u'nasty', u'urgent', u'handed', u'invoices', u'institutions', u'resubmitted', u'draw', u'formally', u'bottom_line', u'exceeded', u'user', u'raising', u'couple_weeks', u'clearly_states', u'love', u'legally_entitled', u'select', u'filling', u'branches', u'misled', u'valued', u'trustee_sale', u'length', u'highly', u'board', u'physically', u'forclosure', u'advertising', u'anytime', u'fixed_income', u'crazy', u'security_freeze', u'trusted', u'training', u'blame', u'walked', u'payable', u'charge-off', u'southwest', u'completion', u'collateral', u'violates', u'blank', u'taking_advantage', u'restricted', u'ally_financial', u'portal', u'lawsuits', u'puts', u'apology', u'direct_violation', u'cancelling', u'illinois', u'colorado', u'outlined', u'privacy_rights', u'vehicles', u'unverified', u'thank_advance', u'multiple_occasions', u'ends', u'contrary', u'tone', u'alerted', u'capitalone', u'assistant', u'look_forward', u'summer', u'base', u'voicemails', u'wonder', u'lots', u'inquiring', u'assure', u'reapply', u'exists', u'reputation', u'four_months', u'intentional', u'recipient', u'enrollment', u'specialized_loan', u'delaying', u'fines', u'misrepresentation', u'qualifying', u'avoid_foreclosure', u'lastly', u'fdic', u'blocking', u'strange', u'amazon', u'daughters', u'dual_tracking', u'upload', u'qualified_written', u'michigan', u'purchase_price', u'frequently', u'older', u'effectively', u'attitude', u'belief', u'department_education', u'injury', u'complainant', u'argued', u'facing', u'leaves', u'health_insurance', u'begun', u'login', u'thereby', u'calculations', u'tied', u'bi-weekly', u'reviews', u'pre-approved', u'maryland', u'spite', u'overage', u'deserve', u'fico', u'findings', u'apparent', u'vague', u'greatly', u'calculate', u'faxes', u'reopened', u'involving', u'applies', u'retain', u'passing', u'negligent', u'classes', u'remarks', u'answer_question', u'totaled', u'inappropriate', u'carry', u'feature', u'walk', u'conclusion', u'causes', u'tradeline', u'pattern', u'hire', u'letting', u'proceeded_tell', u'elsewhere', u'wasnt', u'untrue', u'next_step', u'plenty', u'situations', u'escalation', u'exhausted', u'split', u'discrepancies', u'slow', u'accumulated', u'discriminated', u'books', u'desk', u'falsified', u'businesses', u'crediting', u'justify', u'santander_consumer', u'reside', u'statue_limitations', u'clear_violation', u'prohibited', u'insured', u'brought_attention', u'arizona', u'reducing', u'entering', u'fire', u'familiar', u'turning', u'gross', u'underwriters', u'tenants', u'huntington', u'auto_finance', u'thereafter', u'purchased_vehicle', u'consolidated', u'why?', u'punished', u'determination', u'intentions', u'leased', u'refuses_remove', u'stop_harassing', u'hunter_warfield', u'material', u'left_voice', u'challenge', u'expiration_date', u'reinserted', u'stressful', u'accused', u'fails', u'transworld_systems', u'utility_bill', u'play', u'e-mails', u'families', u'club', u'kindly', u'starts', u'questioning', u'builder', u'underwater', u'waiver', u'couldnt', u'utility', u'alerts', u'questionable', u'appraised', u'correcting', u'treating', u'looks', u'hidden', u'citing', u'acknowledgement', u'receives', u'actively', u'seneca', u'strong', u'merely', u'association', u'disturbing', u'lien_holder', u'separate_occasions', u'acknowledging', u'closer', u'experiencing', u'pension', u'minus', u'judgments', u'consequences', u'homeowner_insurance', u'wrongful', u'importantly', u'values', u'discussing', u'inconsistent', u'resend', u'thousands_dollars', u'investigator', u'non-payment', u'serving', u'folks', u'paragraph', u'retail', u'without_notifying', u'account?', u're-aged', u'endorsed', u'itemized', u'stupid', u'advantage', u'representation', u'appropriately', u'borrow', u'interests', u'existence', u'extreme', u'complex', u'moving_forward', u'asset_acceptance', u'renew', u'explain_situation', u'belonged', u'levy', u'argue', u'committed_fraud', u'increases', u'early_termination', u'docket', u'reservation', u'serious_breach', u'restore', u'among', u'negotiated', u'termination', u'unlawfully', u'desire', u'co-signed', u'officers', u'overcharged', u'collection_efforts', u'generally', u'right_view', u'extremely_rude', u'goal', u'hired_attorney', u'registration', u'00}!', u'facility', u'clause', u'thank_you!', u'operation', u'became_aware', u'nationwide', u'negotiator', u'operations', u'ford', u'backed', u'furnish', u'purported', u'random', u'deceptive_practices', u'harrassing', u'birth', u'overpaid', u'cashiers_check', u'flagged', u'threw', u'coupon', u'money_gram', u'absurd', u'planning', u'violation_rights', u'shipped', u'breach_contract', u'kohl', u'payday_loans', u'rental_property', u'reality', u'mistakenly', u'bunch', u'froze', u'deduct', u'preferred', u'toyota', u'commercial', u'withheld', u'furnished', u'citicard', u'neighborhood', u'auto-pay', u'authorized_view', u'generic', u'sooner', u'adjustments', u'cents', u'fast_forward', u'altered', u'thier', u'welcome', u'pretty', u'sole', u'vacated', u'wage_garnishment', u'concluded', u'doctors', u'district', u'garnish', u'affiliated', u'hereby', u'wondering', u'regular_monthly', u'stressed', u'numerous_attempts', u'inquiry_view', u'game', u'contain', u'assisting', u'defend', u'playing', u'essence', u'usage', u'carried', u'fairly', u'rescinded', u'proves', u'oversight', u'fired', u'scheme', u'revealed', u'upfront', u'international', u'netspend', u'renting', u'apologize', u'routing_number', u'conference_call', u'resided', u'fixing', u'lowest', u'typically', u'contains', u'retaliation', u'enforce', u'revised', u'employers', u'apart', u'revenue', u'cooperate', u'represents', u'depositing', u'services_rendered', u'elderly', u'operate', u'struggle', u'across', u'factors', u'stopping', u'proposed', u'release_lien', u'direction', u'lengthy', u'doubled', u'unclear', u'misapplied', u'sheet', u'leasing', u'worthiness', u'severely', u'gold', u'dealings', u'arrest', u'software', u'challenged', u'severe', u'secondly', u'conducting', u'arranged', u'assisted', u'salesman', u'street', u'section_1681b', u'flight', u'pertinent', u'continuous', u'percentage', u'reset', u'tuition', u'resume', u'nissan', u'sons', u'pushing', u'women', u'rush', u'evicted', u'towards_principal', u'quit_claim', u'viewed', u'expiration', u'disbursement', u'guidance', u'article', u'houses', u'leading', u'fine_print', u'consent_order', u'negative_impact', u'cardholder', u'approached', u'violate', u'courthouse', u'reminded', u'version', u'confirms', u'taking_care', u'disclosing', u'instrument', u'pressure', u'test', u'realizing', u'overseas', u'extensive', u'direct_deposits', u'operating', u'engaging', u'nevertheless', u'periods', u'fourth', u'director', u'flag', u'identical', u'rectified', u'reinvestigation', u'faxing', u'chrysler_capital', u'dropping', u'goods', u'relation', u'validating', u'searching', u'consequently', u'upon_receipt', u'dear_cfpb', u'terminate', u'closing_cost', u'mostly', u'unresolved', u'converted', u'integrity', u'help!', u'brand', u'barclaycard', u'robo', u'legal?', u'pursuant_fair', u'state_california', u'divorce_decree', u'declared', u'suggest', u'waste_time', u'deceived', u'convinced', u'attend', u'forever', u'acquire', u'formerly', u'leaving_messages', u'timeframe', u'single_mother', u'2005', u'sufficient_funds', u'corresponding', u'anybody', u'occurring', u'enroll', u'illness', u'bother', u'valuation', u'small_claims', u'much_higher', u'ledger', u'career', u'pay-off', u'locations', u'service_provider', u'included_chapter', u'chosen', u'death_certificate', u'scenario', u'honoring', u'jersey', u'girl', u'hardships', u'subscription', u'discovery', u'home_preservation', u'destroy', u'advertisement', u'american_education', u'aunt', u'forwarding', u'diversified_consultants', u'keys', u'unscrupulous', u'fulfilled', u'prompt', u'flat', u'lawful', u'addressing', u'satisfactory', u'that?', u'mandatory', u'size', u'money_orders', u'giving_around', u'lien_release', u'particularly', u'began_receiving', u'kinds', u'refunding', u'drove', u'imposed', u'video', u'district_court', u'expedite', u'listening', u'carefully', u'foreclosures', u'manually', u'frivolous', u'delaware', u'deferred_interest', u'postponed', u'deception', u'oregon', u'authorized_anyone', u'warrant', u'dealer_services', u'transworld', u'sharing', u'equity_line', u'assurance', u'next_morning', u'inaccurate_incomplete', u'majority', u'insisting', u'insure', u'assessment', u'kept_telling', u'awful', u'vendors', u'north_carolina', u'affiliates', u'neglected', u'incurring', u'wrongly', u'effected', u'award', u'reject', u'held_responsible', u'selene_finance', u'legit', u'stores', u'guilty', u'hangs', u'extortion', u'vacant', u'protecting', u'withholding', u'voluntarily', u'grandmother', u'press', u'wfhm', u'opportunities', u'safety', u'inconvenience', u'faithfully', u'arrange', u'blatant', u'containing', u'exceed', u'grantor', u'long_story', u'carrier', u'answering_machine', u'flood', u'consultant', u'canceling', u'latter', u'unbeknownst', u'bbva_compass', u'rendered', u'blue', u'priority', u'declining', u'disconnect', u'brief', u'independent', u'discontinue', u'veterans', u'visits', u'cellphone', u'usbank', u'accidentally', u'treasury', u'daily_basis', u'citifinancial', u'amended', u'holiday', u'harris', u'letterhead', u'firms', u'temporarily', u'compared', u'toll', u'materials', u'transition', u'rate_lock', u'instances', u'depending', u'joke', u'rely', u'stands', u'inactive', u'separately', u'office_president', u'afterwards', u'easier', u'maintaining', u'stalling', u'massive', u'input', u'separated', u'cooperation', u'displayed', u'withdraw_funds', u'convenience', u'utilize', u'warned', u'rudely', u'feet', u'allegations', u'making_difficult', u'marriage', u'alleging', u'detailing', u'worker', u'covering', u'appreciated', u'appraisals', u'lvnv_funding', u'straightened', u'finalize', u'defer', u'postal_service', u'needing', u'enclosed_copy', u'platinum', u'noticed_unauthorized', u'surplus', u'exempt', u'network', u'restored', u'past_statute', u'everything_fine', u'submitting_complaint', u'deceitful', u'federal_laws', u'shock', u'master_card', u'disclosure_statement', u'accts', u'awaiting', u'exorbitant', u'explanations', u'useless', u'click', u'sources', u'wallet', u'published', u'method_verification', u'bothered', u'faced', u'accruing', u'websites', u'entirety', u'vacate', u'appraised_value', u'prompted', u'currency', u'whoever', u'viewing', u'fulfill', u'pursued', u'cited', u'cleaning', u'probate', u'borrow_money', u'faulty', u'body', u'selene', u'thoroughly', u'corrupt', u'penfed', u'keep_mind', u'deals', u'category', u'extent', u'pool', u'outright', u'affidavits', u'chexsystems', u'solve', u'promising', u'toll_free', u'dentist', u'encountered', u'permanent_modification', u'watch', u'annoying', u'explicitly', u'default_judgment', u'threating', u'constitutes', u'abide', u'attending', u'releasing', u'provisional', u'disappeared', u'discontinued', u'parts', u'disagree', u'provisions', u'participate', u'expedited', u'rectify_situation', u'pieces', u'egregious', u'searched', u'green', u'photo', u'cure', u'whereas', u'handles', u'believing', u'repaired', u'accessing', u'pressed', u'destroying', u'multiple_attempts', u'evaluation', u'presently', u'justification', u'clearing', u'screwed', u'third_parties', u'unresponsive', u'instruction', u'issuer', u'genesis', u'project', u'recordings', u'boyfriend', u'technically', u'abused', u'cosigned', u'reads', u'traded', u'affects', u'subsidiary', u'upcoming', u'confident', u'blatantly', u'impacting', u'discriminatory', u'settling', u'decent', u'00}?', u'rebuild', u'withdrawing', u'recommend', u'character', u'yelling', u'responsibilities', u'poor_customer', u'neighbors', u'birthday', u'explaining_situation', u'counseling', u'ring', u'prefer', u'local_police', u'neighbor', u'effecting', u'license_collect', u'market_value', u'yelled', u'technical', u'surely', u'officially', u'packages', u'restitution', u'ineligible', u'make_matters', u'great_deal', u'manual', u'arguing', u'sound', u'disrespectful', u'foreign', u'difficulties', u'proposal', u'consolidate', u'conference', u'depot', u'crisis', u'rescind', u'falls', u'eligibility', u'allege', u'peoples', u'ripped', u'hostage', u'paystubs', u'hassle', u'fabricated', u'ceased', u'station', u'economic', u'factor', u'skip', u'alot', u're-finance', u'installed', u'applicant', u'device', u'negative_mark', u'pain', u'2004', u'maturity_date', u'kicked', u'continue_harass', u'table', u'automobile', u'electric', u'authorizing', u'resent', u'ship', u'jurisdiction', u'insurance_coverage', u'without_warning', u'designated', u'mortgagee', u'convergent_outsourcing', u'earning', u'laughed', u'disbursed', u'embarrassing', u'fallen', u'negatively_impacted', u'false_misleading', u'unjust', u'alliance', u'numerous_complaints', u'defrauded', u'physical_address', u'factual', u'wages_garnished', u'resolutions', u'timing', u'hard_pull', u'monthly_basis', u'drastically', u'encouraged', u'subjected', u'please_refer', u'unapplied_funds', u'ground', u'them?', u'many_others', u'compensate', u'signer', u'ethical', u'secondary', u'mothers', u'shortly_thereafter', u'willfully', u'timely_fashion', u'statebridge', u'federal_reserve', u'distress', u'hamp_program', u'complying', u'defined', u'respectively', u'indiana', u'e-mailed', u'global', u'storage', u'minimal', u'reiterated', u'unhelpful', u'serve_papers', u'staying', u'mandated', u'payoff_quote', u'addendum', u'negotiating', u'endorsement', u'belonging', u'generate', u'unbelievable', u'loyal_customer', u'engage', u'provision', u'format', u'accountability', u'managing', u'bullying', u'card_issuer', u'birthdate', u'accrued_interest', u'grounds', u'substantially', u'emailing', u'pretty_much', u'reaffirmed', u'jeopardy', u'regulatory', u'tonight', u'so-called', u'deductible', u'losses', u'appalled', u'compensated', u'accountant', u'diagnosed', u'social_media', u'eliminate', u'help?', u'debtors', u'harrassed', u'took_advantage', u'wireless', u'cashier', u'reminder', u'pennsylvania', u'impound', u'misinformed', u'installments', u'irresponsible', u'straighten', u'image', u'crooks', u'codes', u'income_ratio', u'harassment_company!', u'denies', u'describe', u'upgrade', u'mine_idea', u'referencing', u'criminals', u'given_opportunity', u'trace', u'circumstance', u'becomes', u'wachovia', u'adjustable_rate', u'malicious', u'tricked', u'served_papers', u'deduction', u'thief', u'bearing', u'versus', u'receiver', u'labeled', u'providers', u'avoiding', u'graduation', u'furious', u'case_dismissed', u'improvements', u'rise', u'despite_repeated', u'approach', u'arbitrarily', u'harmed', u'gross_income', u'last_minute', u'traveling', u'struggled', u'resolving_issue', u'jumped', u'wits', u'renewed', u'financials', u'emotional', u'empty', u'settlements', u'belongings', u'1692g', u'sites', u'stamped', u'liar', u'notation', u'stub', u'biggest', u'computers', u'closely', u'abandoned', u'throughout_process', u'mines', u'incredibly', u're-aging', u'floor', u'unsolicited', u'banking_institution', u'original_debtor', u'assess', u'convenient', u'evidenced', u'hire_attorney', u'forgive', u'smart', u'defective', u'critical', u'pymt', u'jpmorgan_chase', u'modifying', u'definition', u'enormous', u'financial_difficulties', u'rights_violated', u'model', u'repaid', u'survey', u'utilizing', u'garnishing_wages', u'boxes', u'glitch', u'gift_cards', u'statutes', u'nevada', u'shame', u'reputable', u'road', u'lifetime', u'utilized', u'upsetting', u'administrative', u'minnesota', u'arbitrary', u'conversion', u'nights', u'contractors', u'leave_messages', u'within_hour', u'convergent', u'family_friends', u'scams', u'greatly_appreciate', u'born', u'mails', u'invested', u'assign', u'performance', u'consumer_affairs', u'bully', u'download', u'mailbox', u'google', u'recorded_message', u'hundreds', u'newly', u'advanced', u'appealed', u'unauthorized_inquiries', u'levels', u'rolled', u'dental', u'conflicting_information', u'complicated', u'fictitious', u'faster', u'discharged_chapter', u'insists', u'waste', u'springleaf', u'copied', u'loaded', u'unfortunate', u'according_fcra', u'deleting', u'text_message', u'callers', u'supported', u'fashion', u'including_limited', u'lowes', u'legal_counsel', u'inadequate', u'report?', u'levied', u'targeted', u'gladly', u'physician', u'seemingly', u'rarely', u'dedicated', u'avoided', u'carpet', u'living_expenses', u'marks', u'declaration', u'accountable', u'printout', u'counting', u'accrue', u'limitation', u'lack_communication', u'uncle', u'driver', u'ahold', u'typical', u'promo', u'transmission', u'witness', u'allocated', u'choosing', u'deliberate', u'discussions', u'supreme_court', u'bonus_points', u'elected', u'trick', u'desperately', u'allied_interstate', u'cras', u'diligently', u'covers', u'scammers', u'areas', u'noting', u'straight_answer', u'begging', u'felony', u'approving', u'instantly', u'surgery', u'earnest_money', u'reasoning', u'confidence', u'math', u'whereby', u'securing', u'logging', u'mins', u'favorable', u'helps', u'absolutely_nothing', u'commonwealth_financial', u'dating_back', u'wishes', u'dues', u'health_issues', u'promotional_offer', u'inaccuracy', u'reward_points', u'extending', u'dime', u'evident', u'judgements', u'dismiss', u'screen_shot', u'time_barred', u'extensions', u'groceries', u'sleep', u'upside', u'forgery', u'adverse_action', u'atty', u'robbed', u'explains', u'utilization', u'holidays', u'fcra_section', u'disaster', u'implied', u'occurs', u'computer_system', u'blamed', u'gentlemen', u'telephoned', u'fannie', u'structure', u'morgage', u'advocate', u'merged', u'insurer', u'runaround', u'strongly', u'semester', u'information?', u'contractual', u'unilaterally', u'workers', u'passport', u'tree', u'expires', u'timeshare', u'scan', u'tape', u'harrassment', u'disgusted', u'annually', u'options_available', u'mortgagor', u'mistaken', u'utah', u'poorly', u'enough_cover', u'dovenmuehle', u'null_void', u'time-barred', u'forget', u'purchaser', u'comps', u'show_details', u'plain', u'doesnt', u'hide', u'personal_banker', u'alternatives', u'careful', u'spot', u'workout', u'residents', u'slip', u'ordering', u'unfair_practice', u'tries', u'mileage', u'achieve', u'solve_problem', u'score_drop', u'2003', u'breached', u'fought', u'reveal', u'someone_stole', u'unauthorized_transactions', u'slightly', u'loan?', u'defraud', u'lifted', u'subpoena', u'outlining', u'wouldnt', u'washington', u'profits', u'authorities', u'unusual', u'titled', u'appear_court', u'dear_madam', u'havent', u'superior', u'chargeback', u'gift', u'account!', u'disposition', u'ordeal', u'tacked', u'typed', u'honda', u'them!', u'falling', u'failed_properly', u'opposite', u'without_success', u'committing', u'suspected', u'intervention', u'friendly', u'hostile', u'offset', u'commit', u'loosing', u'mixed', u'biweekly', u'forthcoming', u'dear_sir/madam', u'transcript', u'verifiable', u'routinely', u'defense', u'backs', u'dramatically', u'wished', u'digit', u'expiring', u'absolute', u'encourage', u'manger', u'redemption', u'young_lady', u'medicaid', u'involves', u'prohibits', u'department_justice', u'dream', u'inspections', u'button', u'petition', u'somewhat', u'victimized', u'americans', u'pending_transactions', u'unhappy', u'playing_games', u'pre-approval', u'drivetime', u'promotional_period', u'uncooperative', u'occured', u'bearing_signature', u'preparing', u'massachusetts', u'baby', u'decade', u'stellar_recovery', u'again!', u'copy_driver', u'recession', u'survive', u'seconds', u'closing_disclosure', u'reliable', u'followed_instructions', u'streamline', u'cach', u'ombudsman', u'vice_president', u'windows', u'mailings', u'stays', u'routed', u'anyways', u'notice_intent', u'insane', u'payout', u'simultaneously', u'misconduct', u'grateful', u'unexpected', u'stamp', u'misunderstanding', u'adult', u'procollect', u'navy', u'airline', u'seized', u'feels_like', u'bonus_award', u'frankly', u'spread', u'repeated_attempts', u'bigger', u'respectfully_request', u'hole', u'solved', u'believes', u'quarter', u'compass', u'manipulated', u'dynamic_recovery', u'fcra_requires', u'conn', u'organizations', u'learning', u'correspondences', u'sounded', u'best_knowledge', u'route', u'partners', u'ample', u'permit', u'rate_reduction', u'avant', u'switching', u'caused_great', u'misplaced', u'embarrassed', u'inspector', u'sounds_like', u'process_server', u'violated_rights', u'luckily', u'failed_validate', u'relates', u'substantiate', u'profit_loss', u'ruling', u'auctioned', u'defaulting', u'negotiations', u'negatively_affected', u'graduate', u'judicial', u'insulting', u'stage', u'securities', u'duration', u'insurance_premium', u'friends_family', u'cease_communication', u'cent', u'disregarded', u'gather', u'mishandling', u'alabama', u'focus', u'voluntary', u'scra', u'discriminating', u'activation', u'rings', u'occurrence', u'opposed', u'postal', u'counted', u'accusing', u'housing_counselor', u'kitchen', u'bankrupt', u'consulting', u'fall_behind', u'meet_requirements', u'valuable', u'walk_away', u'feels', u'guide', u'hard_earned', u'danger', u'bullied', u'rejection', u'injured', u'suspend', u'relied', u'repeated_requests', u'battle', u'committing_fraud', u'permissible_purpose', u'money!', u'evidently', u'inserted', u'deceiving', u'jefferson_capital', u'dismissal', u'scare', u'receptionist', u'accounted', u'herein', u'hiring', u'demonstrated', u'monetary', u'stories', u'chrysler', u'growing', u'regular_basis', u'deceptive_practice', u'outstanding_debts', u'condominium', u'greentree_servicing', u'wall', u'recollection', u'regional', u'long_term', u'feedback', u'pressured', u'attention_matter', u'buying_house', u'washington_mutual', u'thirty_days', u'attorney_generals', u'bedroom', u'accomplish', u'throw', u'required_promptly', u'filings', u'advisor', u'differently', u'analyst', u'transportation', u'lenderlive', u'badly', u'emergency_room', u'weird', u'miles_away', u'parking', u'booked', u'tech', u'needed_locate', u'voice_mails', u'paychecks', u'bonus_miles', u'misrepresenting', u'on-time', u'trained', u'roommate', u'proper_investigation', u'unrelated', u'awhile', u'chain_title', u'admitting', u'refrigerator', u'complete_package', u'postpone', u'routing', u'keybank', u'withhold', u'unwarranted', u'negatively_affecting', u'challenging', u'sections', u'matched', u'justified', u'thinks', u'begins', u'bounce', u'listened', u'reasonably', u'nephew', u'runs', u'chip', u'prepare', u'harp_program', u'carecredit', u'constitute', u'foreign_transaction', u'desired', u'contents', u'stock', u'interim', u'failed_comply', u'specify', u'cmre', u'googled', u'relocation', u'measures', u'macy_american', u'report!', u'funny', u'kohls', u'role', u'winter', u'specialists', u'resolving_matter', u'returned_equipment', u'amortization_schedule', u'distribution', u'frequent', u'unknowingly', u'co-borrower', u'protect_consumers', u'initiating', u'owning', u'partially', u'towing', u'statue', u'largest', u'full-time', u'english', u'this!', u'master', u'leave_alone', u'bankruptcies', u'worthless', u'interview', u'cheated', u'toward_principal', u'involvement', u'experiences', u'documenting', u'protections', u'implemented', u'false_advertising', u'reapplied', u'workplace', u'itemized_bill', u'fraud_alerts', u'mishandled', u'bankers', u'announced', u'duress', u'western', u'amortization', u'customer_relations', u'renters', u'telecheck', u'residing', u'recovered', u'focus_receivables', u'cell_phones', u'weekends', u'played', u'solicitation', u'suggesting', u'refused_acknowledge', u'proactive', u'acquiring', u'reassured', u'admission', u'considerable', u'rebate', u'section_fcra', u'restrictions', u'conflicting', u'pretending', u'endless', u'specifics', u'chex_systems', u'protocol', u'suggestion', u'lunch', u'certification', u'aged', u'negatively_impacting', u'appearance', u'hurricane', u'rushed', u'conduct_business', u'leads', u'pacific', u'default_judgement', u'choices', u'maiden_name', u'spoc', u'correspond', u'thieves', u'previously_deleted', u'unwanted', u'ratings', u'fiance', u'describing', u'garage', u'contested', u'payment?', u'involve', u'westlake', u'debt!', u'detrimental', u'eyes', u'county_clerk', u'redeem', u'lend', u'trail', u'comfortable', u'instant', u'join', u'fair_market', u'polite', u'medicare', u'automated_message', u'exemption', u'litton', u'unnecessarily', u'effects', u'eastern', u'defendants', u'bankruptcy_discharge', u'photos', u'whole_thing', u'maturity', u'falling_behind', u'escalating', u'premier', u'violated_fdcpa', u'costly', u'jump', u'asset_management', u'exchange_rate', u'paperless', u'inactivity', u'shot', u'hamp_tier', u'citicards', u'server', u'accruing_interest', u'direct_express', u'uncomfortable', u'clinic', u'availability', u'whomever', u'statutory', u'duplicated', u'filed_motion', u'adhere', u'failed_notify', u'miscommunication', u'argument', u'responsive', u'modem', u'transpired', u'compare', u'transparent', u'function', u'cash_central', u'exceeds', u'condescending', u'mold', u'bbva', u'speaker', u'what?', u'deducting', u'calculating', u'penn', u'cheaper', u'quarterly', u'blaming', u'sets', u'stipulated', u'erased', u'responds', u'indymac', u'demonstrate', u'brings', u'senior_citizen', u'annualcreditreport', u'central_financial', u'sender', u'earnings', u'signs', u'tough', u'mers', u'greed', u'intervene', u'different_departments', u'verbiage', u'round', u'conveniently', u'occupied', u'maxed', u'national_collegiate', u'front_door', u'recast', u'hate', u'tool', u'westlake_financial', u'hardly', u'utility_bills', u'feel_comfortable', u'acquisition', u'clicked', u'assignment_deed', u'suspension', u'prime', u'make_ends', u'dark', u'fallen_behind', u'surrounding', u'secretary', u'medication', u'cold', u'space', u'exposed', u'suits', u'tracked', u'premiums', u're-apply', u'lvnv', u'solid', u'civil_suit', u'pre-paid', u'booking', u'theft_affidavit', u'isnt', u'resort', u'conduct_investigation', u'lead_believe', u'commerce', u'prison', u'one-time', u'limbo', u'fully_aware', u'scamming', u'early_warning', u'dragged', u'sight', u'curious', u'suspected_fraud', u'scammer', u'hyundai', u'scary', u'nonetheless', u'yard', u'federal_regulations', u'eliminated', u'sign_papers', u'heavy', u'deactivated', u'billing_cycles', u'trading', u'niece', u'adds', u'opt-out', u'prices', u'applicants', u'revoked', u'speedy_cash', u'overdraw', u'representations', u'irrelevant', u'thrown', u'years!', u'ascertain', u'improved', u'headquarters', u'affairs', u'remind', u'records_indicate', u'turn_around', u'joined', u'purposefully', u'messing', u'pursue_legal', u'woman_named', u'refusing_honor', u'recovery_solutions', u'scanned', u'investigation_results', u'randomly', u'abruptly', u'nonsense', u'widow', u'contest', u'sees', u'deceit', u'stipulation', u'area_code', u'matching', u'genesis_lending', u're-open', u'discovered_unauthorized', u'receivables', u'relayed', u'referral', u'became_delinquent', u'overdrafted', u'informs', u'non-existent', u'matured', u'schools', u'doors', u'principle_reduction', u'boat', u'technology', u'dating', u'primarily', u'placement', u'money?', u'mere', u'safe_deposit', u'unapplied', u'dozens', u'banked', u'external', u'identity_thief', u'pricing', u'background_check', u'estimates', u'ignorant', u'hits', u'intimidate', u'now?', u'combine', u'plaintiffs', u'interesting', u'wage', u'suspicious_activity', u'reissued', u'charged-off', u'patience', u'scheduling', u'unconscionable', u'advertise', u'state_farm', u'vehicle_repossessed', u'registry', u'replies', u'usps_certified', u'disappointing', u'counter_offer', u'execute', u'treated_unfairly', u'direct_deposited', u'foundation', u'hospitalized', u'allocation', u'immediate_action', u'church', u'adequately', u'force_placed', u'rooms', u'naturally', u'fortunately', u'certificates', u'anticipated', u'exceeding', u'harder', u'cavalry', u'investments', u'denials', u'undisclosed', u'educated', u'mile', u'distributed', u'jewelry', u'lapse', u'short_term', u'hardest', u'trade_lines', u'budge', u'allied', u'harmful', u'unlike', u'violating_rights', u'restriction', u'negative_marks', u'inadvertently', u'innocent', u'merrill_lynch', u'cardholders', u'health_care', u'mother_passed', u'shortage_escrow', u'adamant', u'negotiation', u'wrongdoing', u'officials', u'lost_stolen', u'grossly', u'determining', u'rights_fdcpa', u'early_morning', u'confronted', u'unverifiable_information', u'sentence', u'prevents', u'reinvestigate', u'capable', u'wiped', u'wherein', u'leaving_message', u'documentations', u'reaffirm', u'assert', u'exhibits', u'thorough', u'reissue', u'seize', u'accommodate', u'extremely_difficult', u'mainly', u'1024', u'users', u'karma', u'interrupted', u'patients', u'electricity', u'defaults', u'tears', u'threatens', u'coded', u'congress', u'wording', u'motorcycle', u'conclude', u'rules_regulations', u'creates', u'deliquent', u'accordance_fair', u'brothers', u'rebuilding', u'proceedings_stop', u'reluctantly', u'media', u'roll', u'rude_unprofessional', u'used_determine', u'unable_locate', u'resold', u'relocated', u'hiding', u'aurora', u'held_liable', u'adjustable', u'memo', u'insurance_premiums', u'gateway', u'cutting', u'cashcall', u'routine', u'false_representation', u'totals', u'harrasing', u'oklahoma', u'evasive', u'lending_practices', u'competent', u'text_messages', u'reach_anyone', u'lean', u'conveyed', u'postal_mail', u'periodic', u'strict', u'injustice', u'financial_crisis', u'recovering', u'reserve', u'aggressively', u'commissioner', u'lieu', u'eight_years', u'overcharging', u'insult_injury', u'dodd-frank', u'display', u'afforded', u'loud', u'performing', u'champion_mortgage', u'compromise', u'iowa', u'south_carolina', u'gain_access', u'repeating', u'periodically', u'enjoy', u'capacity', u'monitored', u'recorded_conversation', u'seperate', u'guarantor', u'seek_legal', u'shell', u'fidelity', u'enable', u'pulls', u'ethics', u'approaching', u'span', u'assuring', u'rental_income', u'doctor_office', u'appointments', u'duties', u'co-pay', u'mediator', u'voided', u'highlighted', u'confuse', u'convince', u'cancelation', u'retire', u'sorts', u'black', u'wifes', u'utterly', u'extremely_high', u'bluebird', u'alleges', u'issuance', u'defrauding', u'hud-1', u'chances', u'remedies', u'restaurant', u'devastated', u'upwards', u'husband_died', u'toyota_financial', u'past_statue', u'clarified', u'penalize', u'variable', u'homestead', u'square', u'internal_revenue', u'redeemed', u'gathered', u'time_consuming', u'cash_advances', u'packets', u'treated_fairly', u'fathers', u'executives', u'kick', u'seeking_assistance', u'sold_auction', u'results_investigation', u'comerica', u'corporations', u'sounds', u'third-party', u'development', u'examples', u'pleading', u'qualification', u'prosecuted', u'escrows', u'devastating', u'monday_morning', u'overcharge', u'notice_rescission', u'mechanic', u'glad', u'consequence', u'relocate', u'willful', u'embarrassment', u'clarity', u're-fi', u'altogether', u'lift', u'chain', u'online_chat', u'respective', u'preservation', u'politely', u'data_furnisher', u'guideline', u'loan!', u'computer_generated', u'continual', u'rewards_points', u'tellers', u'wfds', u'hitting', u'landline', u'installation', u'immediately!', u'forgotten', u'reaffirmation', u'escrowed', u'implying', u'originating', u'appeals', u'asserted', u'alternate', u'dragging', u'pacific_union', u'in-house', u'itemization', u'title_search', u'salesperson', u'supplying', u'thirty', u'cleaned', u'feed', u'statute_limitation', u'administrator', u'tune', u'branch_located', u'matches', u'incentives', u'evict', u'filing_lawsuit', u'certegy', u'postponement', u'garbage', u'carrying', u'entire_life', u'opened_fraudulently', u'flood_zone', u'mercy', u'within_grace', u'escalation_department', u'professionals', u'disagreed', u'ruled', u'vulnerable', u'evaluate', u'links', u'bankrupcy', u'replacing', u'superior_court', u'midst', u'battling', u'affiliate', u'1692', u'noticing', u'solicited', u'exercise', u'signed_notarized', u'remark', u'billings', u'facilitate', u'sisters', u'stellar', u'miscellaneous', u'sunrise', u'alter', u'nmls', u'regulated', u'lien_released', u'engine', u'portion_thereof', u'ensuring', u'unwillingness', u'accomplished', u'redirected', u'attorney_representing', u'drafts', u'falsifying', u'almost_daily', u'college_student', u'everyone_else', u'fradulent', u'insulted', u'deleted_permanently', u'everybody', u'appointed', u'right?', u'prepaid_debit', u'debt?', u'decides', u'now!', u'assignee', u'pure', u'refers', u'answers_questions', u'assessing', u'airport', u'expert', u'consulted', u'eight', u'everything_power', u'arvest', u'install', u'lesser', u'ears', u'prey', u'expectation', u'common_practice', u'check_cashing', u'district_manager', u'assurances', u'emotional_distress', u'unsigned', u'fema', u'tear', u'tight', u'adversely_affected', u'cushion', u'tier', u'continental_finance', u'viable', u'since_inception', u'short-sale', u'storm', u'hafa', u'punish', u'equally', u'offensive', u'presumably', u'appreciate_assistance', u'recoup', u'rebuttal', u'crimes', u'repaying', u'sadly', u'wasting_time', u'tremendous', u'voice_message', u'posts', u'cfbp', u'moved_apartment', u'watching', u'2000', u'units', u'subprime', u'task', u'sounded_like', u'unsafe', u'rejecting', u'incorporated', u'regret', u'franklin', u'co-workers', u'allowable', u'accelerated', u'whats', u'jewelers', u\"don't\", u'pointing', u'copy_drivers', u'features', u'ignorance', u'mismanagement', u'lacking', u'retention', u'answered_questions', u'girlfriend', u'reluctant', u'upgraded', u'tradelines', u'soft', u'settlement_procedures', u'presence', u'reconsider', u'calendar_days', u'witch', u'agency_shall', u'amend', u'briefly', u'bond', u'evaluated', u'retroactively', u'dismay', u'disputed_accuracy', u'unanswered', u'continuation', u'limit_increase', u'fams', u'verifies', u'begged', u'unexplained', u'exact_thing', u'delivering', u'picking', u'logic', u'amendment', u'garnishing', u'tons', u'closest', u'ride', u'proofs', u'ability_obtain', u'agrees', u'anxiety', u'rent_recovery', u'compounded', u'hard_inquires', u'garnished_wages', u'set-up', u'threshold', u'castle_payday', u'pioneer', u'nervous', u'screen_shots', u'blemish', u'retailer', u'reserves', u'arkansas', u'mysteriously', u'postpone_sale', u'pleased', u'speaks', u'filled_application', u'hack', u'circle', u'collects', u'lets', u'father_passed', u'park', u'foreclosed_upon', u'fill_form', u'intimidating', u'maintains', u'incredible', u'internally', u'hundreds_dollars', u'granting', u'triple', u'ripping', u'ironically', u'clock', u'attaching_copy', u'defamation_character', u'deductions', u'executive_offices', u'kyhc', u'needs_investigated', u'grandson', u'credit!', u'lacks', u'absence', u'loop', u're-opened', u'common_sense', u'good_luck', u'persistent', u'intrest', u'given_chance', u'cousin', u'deeper', u'unlock', u'mortgaged', u'cooperative', u'birth_certificate', u'resurgent', u'home!', u'statue_limitation', u'discretion', u'west_asset', u'reversals', u'financial_harm', u'brokers', u'zombie', u'usury', u'lemon', u'unjustified', u'acted_like', u'carries', u'secret', u'volume', u'endure', u'becuase', u'speed', u'stops', u'leased_vehicle', u'went_bankrupt', u'robocalls', u'code_section', u'drafting', u'bound', u'motor_vehicle', u'louisiana', u'source_income', u'script', u'instructing', u'cashing', u'dropped_ball', u'suite', u'camera', u'overwhelming', u'investment_property', u'warn', u'single_parent', u'digits', u'rang', u'household_income', u'diem', u'identify_theft', u'leads_believe', u'recommendation', u'motions', u'millions', u'renter', u'confidential_information', u'protection_bureau', u'waiving', u'directions', u'accumulate', u'stall', u'solve_issue', u'visible', u'heart', u'redo', u'financial_hardships', u'theses', u'weather', u'financial_burden', u'neglect', u'attended_university', u'thanks_advance', u'vital', u'greedy', u'mini_miranda', u'grown', u'admits', u'appealing', u'incoming', u'robo_calls', u'harris_harris', u'co-worker', u'traveled', u'dragging_feet', u'convert', u'pmts', u'judges', u'grief', u'on-time_payments', u'truthful', u'decreasing', u'trades', u'driven', u'remit', u'cooperating', u'projected', u'surrendered', u'envelopes', u'retrieved', u'checks_cashed', u'unverifiable', u'fdcpa_section', u'bathroom', u'iphone', u'automatic_stay', u'former_employer', u'trash', u'traditional', u'executor', u'inconsistencies', u'triggered', u'willingness', u'waiting_hear', u'brokerage', u'hawaii', u'everywhere', u'maliciously', u'sole_purpose', u'shocking', u'limited_income', u'virtually', u'considerably', u'sides', u'lucky', u'serious_delinquency', u'developed', u'remedy_situation', u'grew', u'acknowledged_receipt', u'perfectly', u'driveway', u'comparable', u'completely_ignored', u'spouses', u'intimidation', u'paper_trail', u'appraisers', u'negative_remarks', u'for?', u'surrender', u'grants', u'alerting', u'moved_forward', u'visiting', u'tcpa', u'hoped', u'trips', u'recieving', u'supplies', u'harming', u'impose', u'properly_investigate', u'ignores', u'diligent', u'inspect', u'missouri', u'grandfather', u'counterfeit', u'acknowledgment', u'accent', u'prosecute', u'junk', u'tires', u'instruct', u'totalling', u'variable_rate', u'comp', u'manageable', u'morgan', u'deeds', u'circuit_court', u'reversing', u'binding', u'spring', u'sits', u'crooked', u'mitigation', u'ambulance', u'payback', u'liabilities', u'pre-foreclosure', u'wasting', u'recalled', u'nonpayment', u'equivalent', u'acting_behalf', u'basement', u'stored', u'crossed', u'wonderful', u'time!', u'operated', u'star', u'urgency', u'discriminate', u'advises', u'facing_foreclosure', u'shift', u'histories', u'recorded_county', u'borrowing', u'operates', u'audited', u'conjunction', u'medical_expenses', u'parcel', u'stood', u'secure_message', u'summary_judgment', u'wedding', u'trident_asset', u'fcra_fdcpa', u'worthy', u'overdrew', u'bloomingdales', u'color', u'notate', u'filled_paperwork', u'snail_mail', u'underhanded', u'pray', u'acount', u'unlimited', u'underwriting_department', u'misrepresentations', u'declared_bankruptcy', u'decades', u'establishing', u'last_resort', u'presenting', u'knowledgeable', u'stalled', u'lasted', u'pre-approval_letter', u'classified', u'logs', u'logo', u'quotes', u'next_steps', u'challenges', u'repossess', u'you?', u'hospitals', u'validate_alleged', u'debiting', u'spent_countless', u'popped', u'investigative', u'counts', u'stonegate', u'insurances', u'abusing', u'checkout', u'deceive', u'getting_nowhere', u'refuses_honor', u'co-signers', u'stepped', u'ludicrous', u'injuries', u'upon_reviewing', u'bear', u'pertains', u'elapsed', u'syncb', u'attack', u'promotions', u'earth', u'deceptively', u'thorough_investigation', u'attn', u'unfamiliar', u'possible?', u'violating_fcra', u'strategy', u'desperately_need', u'high_risk', u'rewards_program', u'monthly_maintenance', u'goods_services', u'verify_accuracy', u'dept_education', u're-age', u'unexpectedly', u'disrespect', u'walking', u'countered', u'non-compliance', u'york_state', u'insurance_carrier', u'oldest', u'diversified', u'shortsale', u'loyal', u'hoops', u'continues_harass', u'unsubstantiated', u'legitimately', u'credit?', u'backup', u'confidential', u'whatever_reason', u'usda', u'punitive', u'publish', u'unethical_practices', u'debt!_want', u'loss_prevention', u'clerical_error', u'financial_advisor', u'skills', u'subordinate', u'scoring', u'forebearance', u'grow', u'ex-spouse', u'listings', u'legal_representation', u'amerisave', u'excited', u'loandepot', u'ambiguous', u'occassions', u'enclosing', u'hipaa', u'games', u'telephone_conversation', u'granddaughter', u'unsatisfactory', u'towed', u'asset_recovery', u'occasionally', u'bestbuy', u'shipment', u'contention', u'withdraws', u'heavily', u'screaming', u'charter', u'victim_predatory', u'unique', u'protested', u'ignoring_requests', u'middle_initial', u'payments?', u'clearance', u'graduating', u'establishment', u'robot', u'terminal', u'prompts', u'flagrant_violation', u'coerced', u'incidents', u'naming', u'failure_respond', u'sick_tired', u'grand', u'drag', u'wave', u'creditworthiness', u'inherited', u'slowly', u'variety', u'lesser_amount', u'please_help!!', u'combination', u'content', u'contribution', u'furnishers', u'approximate', u'inspected', u'piece_paper', u'label', u'legitimacy', u'mark_verify', u'pockets', u'locks', u'fico_scores', u'pregnant', u'tennessee', u'elan', u'leave_voicemail', u'midnight', u'mobile_deposit', u'occupancy', u'trustees', u'wrong!', u'ignored_requests', u'extended_overdraft', u'qualifies', u'sells', u'came_across', u'24-48_hours', u'machines', u'relying', u'active_duty', u'trap', u'feasible', u'closes', u'cashed_checks', u'parties_involved', u'fifth', u'troubles', u'not!', u'lein', u'champion', u'observed', u'regulators', u'first_merit', u'confirm_receipt', u'underlying', u'troubling', u'lately', u'false_pretenses', u'ordinary', u'citigroup', u'circles', u'21st_mortgage', u'rough', u'execution', u'deficit', u'transcripts', u'overlooked', u'manipulate', u'resumed', u'manipulation', u'enforced', u'assistant_manager', u'billpay', u'payment!', u'objected', u'itemized_statement', u'spent_hour', u'throughout_entire', u'gathering', u'coupons', u'talks', u'movement', u'escalations', u'merger', u'forfeited', u'salliemae', u'stearns', u'measure', u'defects', u'uploading', u'month!', u'detective', u'conversation_recorded', u'dissatisfied', u'continued_harass', u'automatic_withdrawal', u'expressly', u'deed-in-lieu', u'realtors', u'nine_months', u'funeral', u'vanderbilt', u'almost_impossible', u'webpage', u'sneaky', u'write_checks', u'rescheduled', u'caring', u'maintenance_fees', u'outsourced', u'macy_store', u'nearest', u'feel_discriminated', u'impacts', u'best_regards', u'fianc', u'crying', u'shape_form', u'practicing', u'house_appraised', u'administered', u'appraise', u'misreporting', u'insult', u'interaction', u'legislation', u'maker', u'hurry', u'spreadsheet', u'trailer', u'stole_identity', u'pleaded', u'assigning', u'anyone_employed', u'chooses', u'reoccurring', u'could_avoided', u'foreclosure_proceeding', u'national_association', u'rightfully', u'wamu', u'loyalty', u'violating_federal', u'premises', u'disgusting', u'calendar', u'wake', u'robbery', u'documentation_proving', u'walls', u'department_treasury', u'punitive_damages', u'contradicts', u'wise', u'encounter', u'plumbing', u'participating', u'30-day', u'differences', u'planet_home', u'apologizing', u'card?', u'white', u'deposit_slip', u'unpaid_principal', u'office_comptroller', u'thankfully', u'appliances', u'dormant', u'commit_fraud', u'cash_rewards', u'up-to-date', u'money_laundering', u'listing_agent', u'consultants', u'failure_comply', u'furnishing', u'dunning_letter', u'lawn', u'pertain', u'detailed_explanation', u'contradicting', u'contractual_agreement', u'tools', u'educational', u'writ', u'parameters', u'deceptive_misleading', u'free_night', u'transparency', u'kept_repeating', u'happily', u'phase', u'accumulating', u'stick', u'repetitive', u'helpless', u'nothing!', u'garnishments', u'violations_fdcpa', u'written_verbal', u'commenced', u'throwing', u'years?', u'reduce_principal', u'conflict', u'cashing_check', u'reloadit', u'inept', u'relentless', u'thanked', u'advertises', u'supplemental', u'violating_fair', u'possess', u'hefty', u'debited_checking', u'deferral', u'consisted', u'auto_draft', u'drained', u'inception', u'upgrades', u'obliged', u'accredited', u'street_address', u'reappeared', u'everhome', u'unaffordable', u'tremendously', u'laptop', u'screenshot', u'loaned', u'stop!', u'getting_ready', u'allonge', u'manner_soon', u'suggests', u'dependent', u'supports', u'bonuses', u'nation', u'notary_public', u'abuses', u'cancel_membership', u'barred', u'whereabouts', u'blocks', u'adjusters', u'accept_responsibility', u'frequency', u'historical', u'restructure', u'zone', u'civil_action', u'lowe', u'witnessed', u'processors', u'security_instrument', u'part-time', u'extremely_upset', u'healthcare', u'else_turn', u'unions', u'shortfall', u'hook', u'punishment', u'tracker', u'amounted', u'deadlines', u'half_hour', u'interior', u'pleasant', u'appeal_denial', u'remembered', u'2002', u'fellow', u'cheque', u'prospective', u'consented', u'advances', u'honda_financial', u'individually', u'served_summons', u'derogatory_remarks', u'commonwealth', u'avenue', u'ding', u'affiliation', u'dealers', u'finds', u'stable', u'run-around', u'beneficiaries', u'dozen', u'meetings', u'home_improvement', u'blew', u'moneys', u'professionally', u'understandable', u'divided', u'custom', u'traffic', u'dirty', u'fairness', u'dinged', u'responding_requests', u'jointly', u'hundred_dollars', u'tower', u'reconcile', u'rehab', u'reassigned', u'behold', u'cameras', u'endorsements', u'indefinitely', u'walked_away', u'contacting_immediately!', u'yeah', u'usurious', u'coworkers', u'rolling', u'lexisnexis', u'producing', u'stunned', u'rented_apartment', u'negatives', u'forclose', u'wich', u'first_tennessee', u'pain_suffering', u'lights', u'govt', u'alarming', u'custody', u'refuses_acknowledge', u'serves', u'humiliated', u'held_hostage', u'rated', u'naca', u'assoc', u'ensured', u'disbursements', u'mandate', u'enhanced', u'annual_percentage', u'exeter', u'company?', u'robbing', u'pretty_sure', u'amounting', u'liars', u'callback', u'cardmember', u'disturbed', u'titlemax', u'strongly_believe', u'preying', u'competitive', u'backing', u'electric_bill', u'cheating', u'overnighted', u'itemized_list', u'displays', u'convicted', u'instruments', u'adjuster', u'omitted', u'accuracy_completeness', u'incarcerated', u'filling_complaint', u'signal', u'abroad', u'congressman', u'alive', u'noone', u'untimely', u'preapproved', u'governing', u'dwelling', u'quit_calling', u'meets', u'digital', u'foreclosure_prevention', u'harsh', u'credentials', u'erase', u'civil_rights', u'really?', u'reminding', u'day!', u'pre-qualification', u'restart', u'represented_attorney', u'nearly_impossible', u'reaches', u'beat', u'exeter_finance', u'rent_apartment', u'banking_industry', u'phony', u'acknowledges', u'upper_management', u'incapable', u'subordination', u'dinner', u'discourage', u'environment', u'dialed', u'warranted', u'postage', u'hopeful', u'policies_procedures', u'banco_popular', u'rude_disrespectful', u'essential', u'distressed', u'equipment_returned', u'proprietary', u'atleast', u'cross', u'data_breach', u'contributed', u'music', u'wind', u'invalidated', u'qualifications', u'udaap', u'cant_afford', u'home_retention', u'suspicion', u'formula', u'buried', u'residency', u'thousand_dollars', u'acquisitions', u'repossessed_vehicle', u'obama', u'texted', u'categories', u'that!', u'hereinafter', u'hindering', u'trusting', u'exchanged', u'therefor', u'pursuit', u'streets', u'robocall', u'professionalism', u'resides', u'questionnaire', u'hell', u'misc', u'continue_ignore', u'silence', u'deducted_checking', u'acres', u'scottrade_brokerage', u'time?', u'somewhere_else', u'study', u'depend', u'images', u'citation', u'energy', u'adjusting', u'appalling', u'implement', u'collusion', u'confirmations', u'afterward', u'selection', u'regional_acceptance', u'he/she', u'hafa_short', u'charge_offs', u'design', u'outraged', u'securitization', u'repayment_options', u'aggravation', u'back!', u'manipulating', u'successfully_completed', u'crash', u'negatively_impact', u'sequence', u'column', u'persisted', u'reschedule', u'menu', u'data_base', u'greentree_ditech', u'thanking', u'medical_condition', u'fraudulent_activities', u'stipulations', u'mandates', u'extract', u'understands', u'advertisements', u'drug', u'emotionally', u'springleaf_financial', u'publicly', u'trans', u'raises', u'recived', u'blind', u'silent', u'hurts', u'bulk', u'within_thirty', u'totally_unacceptable', u'forged_signature', u'warnings', u'electrical', u'cashback', u'actual_damages', u'remittance', u'supplier', u'pursuant_section', u'answering_questions', u'not?', u'wage_earner', u'authentication', u'wrongful_foreclosure', u'number?', u'preliminary', u'theres', u'statues', u'verbal_agreement', u'path', u'company!', u'sound_like', u'friend_mine', u'backdated', u'accordance_fcra', u'voice_messages', u'allocate', u'spirit', u'heat', u'sloppy', u'groups', u'realistic', u'season', u'wide', u'medical_provider', u'prepayment', u'completely_unacceptable', u'grievance', u'pleas', u'outstanding_balances', u'reaffirmation_agreement', u'quicker', u'co-sign', u'similarly', u'expunged', u'appeal_decision', u'object', u'detriment', u'non-stop', u'financial_difficulty', u'gained', u'forclosed', u'race', u'bothering', u'cooperated', u'meaningful', u'mgmt', u'forces', u'balanced', u'idaho', u'ever_dealt', u'television', u'cares', u'housing_market', u'deciding', u'liked', u'guarantees', u'kansas', u'postmarked', u'spelling', u'screamed', u'dodge', u'importance', u'numbers_registered', u'finalizing', u'protest', u'lady_named', u'amazing', u'7-10_business', u'quickly_possible', u'declaring', u'super', u'months!', u'finishing', u'killing', u'dangerous', u'7-10_days', u'purse', u'onset', u'defunct', u'flags', u'carmax', u'train', u'identifies', u'acceleration', u'discounts', u'fcra_guidelines', u'specifically_alleged', u'ohio_attorney', u'self_employed', u'variable_interest', u'all!', u'sustained', u'displaying', u'resurgent_capital', u'dealerships', u'allotted', u'presentation', u'courier', u'panic', u'repairing', u'probation', u'flyer', u'slate', u'belligerent', u'hounded', u'plate', u'orginal', u'resource', u'inappropriately', u'demeaning', u'1681', u'townhouse', u'owen', u'near_future', u'physicians', u'traced', u'determine_whether', u'cashnet', u'discounted', u'targeting', u'relentlessly', u'equals', u'ihave', u'court_orders', u'suffice', u'steady', u'umpqua', u'namely', u'gaining', u'legible', u'show_calculated', u'introduced', u'precisely', u'blatant_disregard', u'remodification', u'bold', u'towards_principle', u'examine', u'drivers', u'appraisal_ordered', u'mental', u'doctors_office', u'inconvenient', u'reciept', u'bail', u'prohibiting', u'warrant_arrest', u'accessible', u'wound', u'texts', u'tire', u'trying_rebuild', u'financed_vehicle', u'prematurely', u'refuse_acknowledge', u'strictly', u'mode', u'mattress', u'optimum_outcomes', u'woke', u'back?', u'examination', u'transmitted', u'goals', u'pursuant_fcra', u'withdrawl', u'temp', u'medications', u'left_voicemails', u'miscalculated', u'retaining', u'badge', u'scope', u'pretend', u'promissory_notes', u'airlines', u'wiring', u'conditional', u'washington_state', u'bias', u'retaliated', u'session', u'fraudulant', u'fiasco', u'surprisingly', u'conserve', u'worst_part', u'1681i', u'changed_locks', u'month?', u'bank?', u'wallet_stolen', u'violates_fcra', u'infact', u'adversely', u'generating', u'state_georgia', u'logical', u'duly', u'subtracted', u'night_free', u'drew', u'cash_keys', u'adversely_affecting', u'preparation', u'impending', u'companys', u'disappointment', u'satisfying', u'expectations', u'perspective', u'largely', u'completed_expired', u'hotline', u'northland_group', u'failures', u'unlikely', u'ability_repay', u'prohibit', u'escalate_issue', u'copay', u'mentioning', u'dofd', u'really_appreciate', u'lapsed', u'varying', u'bucks', u'origin', u'cheap', u'deeply', u'disabled', u'financial_distress', u'notated', u'prejudice', u'movers', u'upheld', u'memory', u'hired_lawyer', u'separation', u'mystery', u'hazard', u'commence', u'warrants', u'chatted', u'specially', u'harassing_threatening', u'products_services', u'leave_voice', u'disqualified', u'remitted', u'compelled', u'freezing', u'unsuccessfully', u'flawed', u'labor', u'reprimanded', u'swipe', u'recognizing', u'picks', u'fresh', u'imply', u'banana_republic', u'mechanism', u'allegation', u'guessing', u'compassion', u'carriers', u'production', u'charge_slips', u'render', u'navigate', u'genuine', u'horrendous', u'supplement', u'explicit', u'american_dream', u'rear', u'witnesses', u'rents', u'sofi', u'regional_manager', u'allotment', u'screenshots', u'negligently', u'examined', u'cruel', u'universal', u'summarize', u'contend', u'frederick_hanna', u'civil_code', u'pretended', u'duplicates', u'pressing', u'shape', u'apple', u'enterprise', u'ashamed', u'rehabilitation', u'longer_liable', u'optional', u'regain', u'swiped', u'relatively', u'reiterate', u'kentucky', u'parked', u'derogatory_mark', u'unfreeze', u'receivables_performance', u're-investigation', u'idea_talking', u'contradicted', u'paralegal', u'passes', u'abiding', u'incomes', u'systematically', u'kept_insisting', u'wait_till', u'cutoff', u'sanctioned', u'president_obama', u'ringing', u'presume', u'objection', u'section_605b', u'deferments', u'fees!', u'printing', u'teacher', u'senators', u'lawfully', u'criminal_activity', u'watched', u'upon_completion', u'skipped', u'atms', u'grace', u'instituted', u'pickup', u'data_international', u'sided', u'fcba', u'worth_less', u'longer_exists', u'authorization_form', u'grocery_store', u'hacking', u'dillard', u'cash_flow', u'drastic', u'allotted_time', u'payer', u'recorder', u'spent_minutes', u'solicit', u'deficient', u'me!!', u'trapped', u'collectible', u'paint', u'cellular', u'qualify_hamp', u'countless_hours', u'mysterious', u'again?', u'technician', u'exceptions', u'marital', u'priority_mail', u'hotels', u'treat_customers', u'mohela', u'careless', u'eventhough', u'reasonable_investigation', u'bags', u'colleges', u'regulatory_agencies', u'rights_fcra', u'arrearage', u'affecting_ability', u'passwords', u'2001', u'thanks!', u'makes_impossible', u'connecticut', u'security_clearance', u'avenues', u'legal_advice', u'beside', u'service_providers', u'card!', u'bloomingdale', u'urge', u'senator', u'wonder_many', u'pump', u'licensed_collect', u'arrives', u'contingency', u'refuses_delete', u'jumbo', u'privileges', u'overtime', u'mailer', u'contradictory', u'google_wallet', u'channels', u'mouth', u'internet_search', u'accelerate', u'sanctions', u'studies', u'wires', u'hire_lawyer', u'mistreated', u'unjustly', u'longer_works', u'submissions', u'duped', u'index', u'soft_pull', u'cure_default', u'cust', u'drawing', u'manufactured_home', u'pack', u'usps_tracking', u'filing_formal', u'ecoa', u'forfeit', u'halt', u'browser', u'different_stories', u'figuring', u'interpretation', u'fraud!', u'primary_borrower', u'prospect_mortgage', u'prorated', u'improving', u'perpetrator', u'whats_going', u'extremely_frustrating', u'1692e', u'grade', u'facta', u'booklet', u'verge', u'newer', u'predicament', u'purportedly', u'necessary_steps', u're-submit', u'dropped_points', u'declare', u'corresponded', u'priced', u'manufactured', u'chief', u'coworker', u'excluding', u'pressler_pressler', u'deficiencies', u'cosign', u'mentions', u'voucher', u'renovation', u'hands_tied', u'admin', u'mismanaged', u'wisconsin', u'downpayment', u'negatively_affect', u'willing_settle', u'issue?', u'disclaimer', u'articles', u'anywhere_else', u'incorrect_incomplete', u'desired_resolution', u'puppy', u'limitations_expired', u'responsibly', u'cardmember_services', u'magically', u'online_portal', u'automatically_deducted', u'robo_signing', u'endured', u'asap!', u'determines', u'unused', u'systematic', u'awaited', u'worksheet', u'prepayment_penalty', u'disbelief', u'take_7-10', u'exercised', u'california_homeowner', u\"ma'am\", u'posing', u'beyond_statute', u'tangible', u'monday_friday', u'shifted', u'good_afternoon', u'frauds', u'punishing', u'cnac', u'securitized', u'bases', u'leases', u'phishing', u'mississippi', u'downright', u'floors', u'institute', u'dial', u'readily', u'needs_addressed', u'intent_foreclose', u'violates_fair', u'boys', u'implies', u'legality', u'shutting', u'bring_attention', u'large_amounts', u'conducted_investigation', u'pride', u'expedite_process', u'upload_documents', u'removes', u'livelihood', u'cyber', u'catching', u'soliciting', u'willingly', u'jeep', u'secretary_state', u'siblings', u'nine_years', u'markets', u'operators', u'dissolved', u'dumb', u'days!', u'food_stamps', u'tack', u'ridiculous!', u'kidding', u'causing_great', u'management_personnel', u'homebridge', u'rich', u'stamps', u'ideal', u'ballooned', u'sorted', u'spam', u'telephone_conversations', u'mass', u'investigators', u'banned', u'evaluating', u'alarm', u'scratch', u'undue', u'anxious', u'volkswagen', u'eleven', u'painful', u'repercussions', u'ball', u'failed_disclose', u'disappear', u'incomplete_inaccurate', u'deutsche_bank', u'perceived', u'scottrade_affiliates', u'credibility', u'soft_inquiry', u'offended', u'notice_furnishers', u'fool', u'terribly', u'registry_deeds', u'retained_attorney', u'corporate_advance', u'clears', u'paypal_smart', u'-the', u'marketed', u'face_face', u'seniors', u'impeccable', u'livid', u'tips', u'undergoing', u'alleged_debtor', u'originate', u'law?', u'penney', u'glitch_system', u'bounced_around', u'airways', u'manufacturer', u'ford_motor', u'bi-monthly', u'solicitations', u'intimidated', u'credco', u'accuse', u'existent', u'habit', u'unspecified', u'laugh', u'yell', u'jcpenney', u'inventory', u'encouraging', u'discovering', u'utter', u'hold_accountable', u'accepts', u'cheat', u'commitments', u'description_procedure', u'declaration_page', u'schedules', u'1026', u'systemic', u'calm', u'oral', u'edit_delete', u'daycare', u'sales_price', u'dent', u'irate', u'franklin_collection', u'eight_months', u'cosigners', u'expressed_concern', u'mutual', u'extort', u'verbal_written', u'piti', u'safeguard', u'burden_proof', u'sums', u'leasing_office', u'courses', u'retainer', u'filing_suit', u'relationship_managers', u'reinsertion', u'non-profit', u'junk_mail', u'writ_garnishment', u'pennies_dollar', u'terminating', u'acting_good', u'return_equipment', u'contribute', u'profiles', u'thank_consideration', u'forensic', u'overdrawing', u'circled', u'techniques', u'evidences', u'went_unanswered', u'downloaded', u'whole_story', u'uncalled', u'retracted', u'customer_advocate', u'dissatisfaction', u'restarted', u'excluded', u'national_city', u'pristine', u'timed', u'discouraged', u'reservations', u'suitable', u'spotloan', u'cavalry_portfolio', u'nerve', u'marking', u'impounds', u'sample', u'participated', u'yield', u'seat', u'approvals', u'aspect', u'authorization_pull', u'recovery_group', u'everbank', u'chart', u'override', u'pymts', u'please_help!!!', u'overly', u'reconciliation', u're-inserted', u'prolong', u'atlantic', u'home?', u'tests', u'insert', u'forwarding_address', u'prove_statute', u'counselors', u'evil', u'https_//www', u'penalizing', u'questions_concerns', u'stonewalled', u'fuel', u'feel_cheated', u'buys', u'arose', u'resolved_favor', u'interest-only', u'proactively', u'exhausting', u'government_code', u'robo-signed', u'experiencing_financial', u'relieved', u'fee?', u'conduct_reasonable', u'became_unemployed', u'admittedly', u'fulfilling', u'visit_website', u'value_ratio', u'among_things', u'elan_financial', u'county_recorder', u'complied_requests', u'trans-union', u'argumentative', u'continental', u'vary', u'customary', u'hour_half', u'fees?', u'authorizations', u'country_wide', u'subordination_agreement', u'allowance', u'contesting', u'noon', u'exit', u'ratios', u'sealed', u'beware', u'accompanying', u'imminent', u'ranging', u'collapse', u'every_penny', u'accompanied', u'partnership', u'paystub', u'layoff', u'digging', u'holdings', u'society', u'perpetrated', u'bike', u'comcast', u'band', u'reasonable_explanation', u'recorders_office', u'dilemma', u'balance?', u'anger', u'autodraft', u'harrass', u'banking_relationship', u'earnest', u'foot', u'trusts', u'sustain', u'promotion_code', u'relocation_assistance', u'financially_responsible', u'department_stores', u'focused', u'assertion', u'overcharges', u'names_addresses', u'main_concern', u'campus', u'north', u'stressing', u'untill', u'bouncing', u'annoyed', u'becu', u'non-refundable', u'quoting', u'violating_fdcpa', u'tile', u'voicemail_message', u'nationwide_biweekly', u'personal_belongings', u'bailed', u'corner', u'cardholder_agreement', u'holder_course', u'clueless', u'trigger', u'inbox', u'deep', u'timely_basis', u'positions', u'updated_reflect', u'giant', u'prevention', u'nonexistent', u'enforceable', u'wholly', u'assessments', u'processing_center', u'reconsideration', u'prescribed', u'verifiable_proof', u'without_prejudice', u'enrolling', u'election', u'promote', u'authenticity', u'records_relating', u'governed', u'shouldnt', u'admitted_mistake', u'achieved', u'degrading', u'lodged', u'profitable', u'robo-signing', u'disregarding', u'last_summer', u'purely', u'reconveyance', u'relay', u'invitation', u'correct?', u'cornerstone', u'principal_forgiveness', u'computer_screen', u'concrete', u'deeded', u'risk_losing', u'executor_estate', u'devices', u'horrible_experience', u'intends', u'cashback_bonus', u'rudeness', u'locking', u'fresh_start', u'heads', u'soon_realized', u'overwhelmed', u'progressive', u'influence', u'postings', u'hamp_guidelines', u'ties', u'varies', u'differ', u'embarrass', u'invited', u'suspicious_correspondence', u'skip_tracing', u'explaination', u'interest?', u'beleive', u'exam', u'conformation', u'https', u'directing', u'reform', u'dodd_frank', u'cared', u'capability', u're-modification', u'handwritten', u'unrealistic', u'earliest', u'statements_invoices', u'jump_hoops', u're-establish', u'cruise', u'citigold', u'maximize', u'across_country', u'county_courthouse', u'noncompliance', u'library', u'demonstrates', u'clothes', u'deadbeat', u'expose', u'arrearages', u'airline_tickets', u'divulge', u'illegitimate', u'voided_check', u'relieve', u'gross_negligence', u'bailout', u'imperative', u'vacating', u'hippa', u'sleeping', u'expressing', u'deem', u'log-in', u'scare_tactics', u'cfpb_portal', u'extremely_frustrated', u'defamation', u'laughing', u'greetings', u'used_activate', u'provide_competent', u'controls', u'domestic', u'automatic_withdrawals', u'falsely_claiming', u'7-year', u'round_trip', u'press_charges', u'core', u'protection_association', u'satisfactorily', u'participation', u'healthy', u'major_delinquency', u'excepted', u'consumer_relations', u'terrified', u'assistance_resolving', u'similar_complaints', u'arise', u'warehouse', u'identity_compromised', u'weight', u'generation', u'compounding', u'stale', u'acknowledging_receipt', u'corruption', u'refute', u'retaliating', u'stalking', u'abusive_language', u'rightful', u'uphold', u'heir', u'accept_partial', u'telling_truth', u'leak', u'horrific', u'preceded', u'distribute', u'disgrace', u'preapproval', u'chair', u'offense', u'unfavorable', u'special_handling', u'arriving', u'scam_artists', u'considers', u'dare', u'misuse', u'consumerfinance', u'defect', u'repayments', u'eager', u'deserves', u'opens', u'mature', u'retaliatory', u'purged', u'somebody_else', u'payor', u'license_plate', u'commission_police', u'payees', u'attest', u'track_record', u'medicine', u'dogs', u'credence_resource', u'attacked', u'much_appreciated', u'fcra_1681', u'float', u'absent', u'delivery_addresses', u'dispersed', u'fields', u'promotional_balances', u'twelve', u'nine', u'bank!', u'sundays', u'track_normal', u'flights', u'custodian', u'headed', u'extort_money', u'apparent_reason', u'fishy', u'complications', u'independently', u'involved_accident', u'allianceone', u'astronomical', u'non-responsive', u'rest_life', u'declines', u'nuisance', u'shoes', u'grab', u'http', u'presents', u'heading', u'landlords', u'venmo', u'decree', u'typing', u'tank', u'violation_privacy', u'privacy_laws', u'custodial', u'resorted', u'surety_bond', u'surprising', u'tarnished', u'manages', u'sheets', u'contractually', u'mortgage?', u'lost/stolen', u'auto-payment', u'lending_institution', u'detected', u'kill', u'snow', u'victim_asks', u'part_subsection', u'sworn', u'annual_membership', u'reckless', u'naive', u'off?', u'ramifications', u'actuality', u'seasonal', u'breaks', u'checking_saving', u'suggestions', u'apologies', u'followup', u'blow', u'changed_mind', u'unvalidated', u'baffled', u'compel', u'repayment_plans', u'wondered', u'headache', u'depleted', u'confiscated', u'green_tree/ditech', u'recording_conversation', u'credible', u'rare', u'mine!', u'remedied', u'unlisted', u'accounts_investigators', u'banking_center', u'year!', u'structured', u'dismissive', u'following:1', u'preference', u'stranger', u'refundable', u'attendance', u'accrue_interest', u'knocked', u'authentic', u'already_wasted', u'designation', u'sounding', u'30-60_days', u'first_bankcard', u'hesaa', u'unable_unwilling', u'degrees', u'borderline', u'interactions', u'spelled', u'explains_responsibilities', u'revise', u'become_delinquent', u'disconnects', u'clothing', u'enrolled_program', u'leaving_voicemail', u'comparison', u'auto_accident', u'describes', u'popular', u'potentially_negative', u'notwithstanding', u'signatures_applications', u'rental_properties', u'lone', u'precious', u'controlled', u'renewing', u'deposition', u'conflict_interest', u'reconciled', u'lobby', u'persist', u'makes_difficult', u'ploy', u'venture', u'conspiracy', u'date?', u'peace', u'specifies', u'blood', u'twenty_years', u'commissions', u'nowhere_near', u'rude_condescending', u'taped', u'homes_affordable', u'homeward_residential', u'show_licensed', u'coding', u'borrowing_money', u'behaviors', u'frustrations', u'currently_unemployed', u'liquid', u'thus_incorrect/fraudulent', u'clerks', u'indebtedness', u'twenty', u'points!', u'accout', u'whichever', u'syndicated_office', u'tablet', u'skeptical', u'toward_principle', u'acknowledge_receipt', u'subsidiaries', u'adversely_affect', u'broker_price', u'great_lakes', u'taxpayers', u'appt', u'cashier_checks', u'activating', u'deplorable', u'chargeoff', u'reset_password', u'prospect', u'merit', u'arrival', u'toyota_motor', u'contingent', u'restated', u'co-signor', u'mort', u'caused_fall', u'enclosed_copies', u'licenses', u'health_problems', u'comprehensive', u'small_print', u'slander', u'phantom', u'federally', u'acceptance_corporation', u'necessities', u'safety_deposit', u'fraudlent', u'ontime', u'bundled', u'1998', u'photocopy', u'despite_efforts', u'overpayments', u'prompt_attention', u'30-day_late', u'liquidated', u'first_niagara', u'opted_overdraft', u'type_behavior', u'contract_instrument', u\"didn't\", u'giving_chance', u'maine', u'mentally', u'escrow_overage', u'state_maryland', u'becasue', u'cellular_phone', u'extended_warranty', u'revoke', u'horror', u'support_specialist', u'anticipate', u'anniversary', u'renegotiate', u'violations_fcra', u'nmac', u'consultation', u'mercedes_benz', u'practically', u'illegible', u'read_notes', u'right_rescind', u'hesitant', u'repoed', u'sarcastic', u'highest_level', u'attend_school', u'aging', u'blatant_violation', u'deck', u'onewest', u'caine_weiner', u'recorder_office', u'guardian', u'downtown', u'pooling_servicing', u'consolidating', u'time_energy', u'fdcpa_fcra', u'abusive_practices', u'condo_association', u'unethical_illegal', u'lexis_nexis', u'paperless_statements', u'strain', u'intercepted', u'recoveries', u'agency?', u'representive', u'radio', u'scale', u'logged_onto', u'contradiction', u'astoria', u'hampshire', u'30days', u'dental_work', u'stationed', u'diminished', u'seats', u'convey', u'causing_harm', u'leaves_message', u'earned_points', u'hearings', u'resubmitting', u'respondent', u'preceding', u'injunction', u'substitute', u'irritated', u'unidentified', u'oath', u'misleading_deceptive', u'amongst', u'increments', u'stemming', u'guest', u'albeit', u'donot', u'gains', u'alias', u'smoothly', u'round_round', u'reinsert', u'firm_representing', u'initials', u'requests_investigate', u'depositor', u'lease_term', u'please!', u'subscribe', u'long-term', u'30-days', u'stearns_lending', u'dunning', u'harp_refinance', u'employ', u'held_suspense', u'ease', u'racked', u'name_spelled', u'seek_damages', u'spotless', u'futile', u'tricks', u'stems', u'ironic', u'jeopardize', u'goverment', u'entitled_free', u'follow_rules', u'mitigate', u'titles', u'mishap', u'bringing_legal', u'assigned_relationship', u'reactivate', u'last_straw', u'mccalla_raymer', u'depends', u'investigated_properly', u'fbcs', u'formerly_known', u'forum', u'flooring', u'notorious', u'upper', u'uniform', u'seek_assistance', u'omission', u'visa_signature', u'grant_weber', u'absolutely_ridiculous', u'lost_wallet', u'bombarded', u'opting', u'committee', u'courteous', u'accidently', u'sham', u'hounding', u'recovery_systems', u'causing_damage', u'immoral', u'fare', u'relations', u'delbert_services', u'troubled', u'dynamic', u'quiet_title', u'plea', u'crucial', u'wronged', u'cpfb', u'blackmail', u'derogatory_remark', u'unpleasant', u'monday_tuesday', u'lawfirm', u'unprofessionalism', u'readily_available', u'former_spouse', u'unfair_abusive', u'enforcing', u'play_games', u'clarifying', u'distraught', u're-reported', u'aspects', u'directly_indirectly', u'bureau!', u'first_foremost', u'automotive', u'apologetic', u'me!!!', u'dictate', u'general_revenue', u'someones', u'thank_cooperation', u'unacceptable!', u'illicit', u'gate', u'come_pick', u'inexcusable', u'amortized', u'characters', u'excerpt', u'human_resources', u'restructuring', u'lowers', u'sessions', u'platform', u'welfare', u'quiet', u'subscribed', u'30-45_days', u'information!', u'given_runaround', u'giving_opportunity', u'upon_returning', u'insufficient_fund', u'beyond_control', u'capitalized', u'declination', u'served_country', u'honorable', u'html_document', u'continues_violate', u'racking', u'deliquency', u'drops', u'arbitration_agreement', u'contracting', u'civil_judgement', u'touched', u'mycredit', u'fiduciary', u'chapter_discharged', u'confidentiality', u'reveals', u'depressed', u'several_hundred', u'closed!', u'unsuccessful_attempts', u'introductory', u'retroactive', u'amerifirst', u'treatments', u'exhibited', u'penalty_perjury', u'coincidence', u'chap', u'prosecution', u'incidentally', u'future_suspicious', u'poverty', u'worst_experience', u'have?', u'co-op', u'cabinet', u'stack', u'sufficiently', u'deprived', u'appearing_victims', u'kept_changing', u'sticker', u'misapplication', u'anonymous', u'lacked', u'disable', u'improvement', u'moves', u'slammed', u'dire', u'on-going', u'mission', u'aargon', u'water_damage', u'rehabilitation_program', u'rebates', u'collapsed', u'reopening', u'vacate_property', u'reflection', u'amazon_store', u'definitive', u'permits', u'shopped', u'preferences', u'schooling', u'right!', u'minority', u'thereof', u'data_furnishers', u'attended_college', u'mortagage', u'discounters', u'cmre_financial', u'literature', u'useful', u'flexibility', u'pressuring', u'killed', u'ethically', u'pile', u'factoring_company', u'equitable', u'postponing', u'working_diligently', u'arrogant', u'working_jobs', u'convoluted', u'thankyou_points', u'ridiculously', u'handbook', u'without_validating', u'false_promises', u'furnace', u'incompetency', u'rent_utilities', u'military_star', u'chases', u'caused_significant', u'multi', u'happen?', u'guard', u'toxic', u'disrespected', u'ceiling', u'substitution_trustee', u'falsify', u're-submitted', u'violated_privacy', u'steadily', u'fortiva', u'portions', u'costumer', u'lack_professionalism', u'imposing', u'hyundai_motor', u'blocking_fraudulent', u'navient_formerly', u'resolved_asap', u'substantiate_claim', u'scottrade_scottrade', u'totally_unfair', u'protects', u'desperation', u'audacity', u'induced', u'relate', u'fail_respond', u'days?', u'checkbook', u'loading', u'press_release', u'deployed', u'even_thou', u'malice', u'in-school_deferment', u'fearful', u'dual', u'security_personnel', u'regardless_whether', u'cashing_checks', u'overages', u'yellow', u'suspicious_requests', u'medically', u'reactivated', u'finacial', u'complaint_involves', u'positively', u'preserve', u'harrasment', u'handing', u'surveillance', u'guise', u'queue', u'ineffective', u'lienholder', u'mariner_finance', u'fewer', u'castle', u'racketeering', u'investor_guidelines', u'writes', u'hbor', u'gotten_nowhere', u'occupy', u'retract', u'algorithm', u'doubling', u'halted', u'steering', u'plaza_home', u'spite_fact', u'american_honda', u'excessively', u'quality_life', u'invest', u'thee', u'false_representations', u'thick', u'harms', u'plates', u'blames', u'religiously', u'unfounded', u'owner_occupied', u'rendering', u'many_americans', u'foregoing', u'shares', u'caliber_homes', u'nonstop', u'stop_harrassing', u'similar_names', u'come_conclusion', u'testimony', u'appliance', u'government_programs', u'investing', u'good_news', u'promoted', u'land_records', u'teach', u'derived', u'taxpayer', u'effort_safeguard', u'moms', u'counseling_agency', u'giving_runaround', u'minorities', u'changed_hands', u'stance', u'historically', u'zions', u'recipients', u'redress', u'mobile_banking', u'fraud_initiating', u'nycb', u'tapes', u'good_standings', u'misused', u'consumer_ombudsman', u'boarding', u'cite', u'liberty', u'currently_serviced', u'pace', u'correspondence_purporting', u'sake', u'disburse', u'efficient', u'channel', u'sixty_days', u'sophisticated', u'powerless', u'medical_treatment', u'wal-mart', u'mortgage!', u'civil_procedure', u'sterling', u'reasons_denial', u'accounts_receivable', u'county_treasurer', u'difficult_deal', u'complains', u'harasses', u'stripped', u'respectful', u'officials_regulatory', u'frca', u'shelter', u'functional', u'regularly_enforcement', u'criminally', u'saturday_morning', u'accusations', u'contractual_obligation', u'living_room', u'heck', u'average_daily', u'bait', u'coupon_book', u'breaching', u'suspicions', u'civil_judgment', u'restraining_order', u'late!', u'unemployment_benefits', u'coupled', u'penal_code', u'speak_english', u'impounded', u'convincing', u'functioning', u'greeted', u'coerce', u'informations', u'lured', u'amerihome', u'originate_consumers', u'plead', u'freezes', u'plainly', u'unfair_unethical', u'fishing', u'mother-in-law', u'housing_urban', u'-they', u'glass', u'baggage', u'horribly', u'area_codes', u'heating', u'privilege', u'disagreement', u'supporting_position', u'wood', u'siding', u'settings', u'formed', u'newspaper', u'contrast', u'graduated_university', u'purchasing_vehicle', u'rapidly', u'colleague', u'handwriting', u'summit', u'scam!', u'holes', u'wrongfully_denied', u'loans_consolidated', u'charity', u'land_line', u'packed', u'infiniti', u'america_wholesale', u'tues', u'pre-qualified', u'establishes', u'spend_endless', u'shameful', u'bankruptcy_petition', u'qualify_harp', u'grave', u'sharks', u'implication', u'cont', u'emergencies', u'balance!', u'inclusive', u'artificially', u'department_handles', u'topic', u'started_yelling', u'cannot', u'classic', u'assist_resolving', u'struck', u'circuit', u'nearing', u'7-year_rule', u'qualify_programs', u'permissible', u'testify', u'conditional_approval', u'hackers', u'battery', u'preventing_obtaining', u'resign', u'amount?', u'reaged', u'humiliating', u'drowning', u'journey', u'reasonable_procedures', u'plumber', u'encrypted', u'caused_undue', u'keeps_changing', u'federal_statutes', u'competitor', u'within_7-10', u'repossess_vehicle', u'circumvent', u'typo', u'strung_along', u'thankyou', u'hood', u'silly', u'lazy', u'rebilled', u'licensing', u'stricken', u'inputs', u'outline', u'notices_suspicious', u'stonewalling', u'comprehend', u'heirs', u'contract_authentic', u'past-due', u'pipes', u'despicable', u'schemes', u'misrepresent', u'evade', u'amazed', u'ineptitude', u'tolerate', u'payoffs', u'acting_faith', u'especially_considering', u'bind', u'ssan', u'south', u'anything!', u'treated_poorly', u'combative', u'offs', u'above-referenced', u'insecure', u'redcard', u'chapter_discharge', u'regulate', u'pays_agreed', u'black_white', u'pops', u'situation?', u'exterior', u'hunt', u'alarmed', u'versions', u'bargain', u'postpone_foreclosure', u'negative_amortization', u'clicking', u'weekly_basis', u'crashed', u'in-store', u'prevent_happening', u'bless', u'license_social', u'unclaimed_property', u'tend', u'refrain', u'dozen_times', u'prompting', u'extinguished', u'lift_freeze', u'bout', u'done_wasting', u'risks', u'risky', u'scott', u'stall_tactics', u'collections_outsourcing', u'exclusively', u'violation_tcpa', u'computer_glitch', u'homestead_exemption', u'suffers', u'agencys', u'explore', u'anyhow', u'disheartening', u'north_american', u'firstly', u'growth', u'capital_retail', u'organized', u'tried_unsuccessfully', u'normal_wear', u'parking_ticket', u'pentagon_federal', u'grandparents', u'council', u'investigation_conducted', u'exhusband', u'10-15', u'school_university', u'worries', u'deceptive_trade', u'engages', u'change_locks', u'interrupt', u'serving_papers', u'recalculate', u'problem_solved', u'consult', u'beforehand', u'nope', u'rejection_letter', u'fifteen', u'flooded', u'school_deferment', u'reverted', u'amicably', u'sprint', u'behave', u'unfair_treatment', u'inconsistency', u'tarp', u'rack', u'passed_statue', u'thin', u'await', u'element', u'colleagues', u'possibly_suspicious', u'summon', u'selecting', u'cops', u'letter?', u'relationships', u'validates', u'conversations_recorded', u'profession', u'pay?', u'purchasers', u'burdensome', u'moving_expenses', u'enacted', u'taxed', u'discount_points', u'spending_hours', u'inexplicably', u'predator', u'greeting', u'heated', u'manipulative', u'statuses', u'front_desk', u'roommates', u'unauthorized_inquires', u'ecmc', u'recalculated', u'reestablish', u'call_centers', u'1681s-2', u'fair_equitable', u'derogatory_marks', u'recorded_conversations', u'help_free!', u'urging', u'diagnosis', u'untruthful', u'violates_fdcpa', u'follow_guidelines', u'uninsured', u'messaged', u'substantiating', u'report!_filing', u'removal_trade', u'substitute_trustee', u'caused_severe', u'massage', u\"i'am\", u'worrying', u'seal', u'sincere', u'purchase_tickets', u'repossed', u'legally_obligated', u'sewer', u'transit', u'emptied', u'abandon', u'reportings', u'mountain', u'courts_ruled', u'headaches', u'openly', u'prevail', u'report?!_well', u'deliberately_disregarding', u'reissue_check', u'chasing', u'prepared_nice', u'cycles', u'scusa', u'jeopardizing', u'sister-in-law', u'someone_elses', u'venue', u'senior_citizens', u'reserve_right', u'wire_transfers', u'fairway', u'inaccurate_questionable', u'limiting', u'costumer_service', u'his/her', u'younger', u'supporting_evidence', u'graduates', u'williams_fudge', u'proud', u'flagship', u'sychrony', u'oxford', u'state_arizona', u'presumed', u'international_wire', u'powers', u\"i've\", u'writting', u'obstacles', u'memorandum', u'live_paycheck', u'experian_com/validate', u'amsher_collection', u'warranties', u'notarized_affidavit', u'raised_voice', u'verizon', u'stuff_disputed', u'coincidentally', u'lack_transparency', u'overdraft_coverage', u'boarded', u'academic', u'costs_associated', u'defensive', u'strongly_feel', u'correcting_error', u'congressional', u'bureas', u'awards', u'mounting', u'santandar', u'dubious', u're-applied', u'freely', u'unusual_activity', u'deferred_principal', u'northern_trust', u'stand_behind', u'produce_documentation', u'liquid_assets', u'chose_ignore', u'payments!', u'laws_regulations', u'gifts', u'warranty_deed', u'centers', u'demonstrating', u'directs', u'whopping', u'footage', u'electronics', u'zero_percent', u'pasted', u'failed_deliver', u'flexible', u'co-owner', u'breached_contract', u'vermont', u'constitution', u'singed', u'disqualify', u'truthfully', u'remotely', u'uninformed', u'thay', u'underwritten', u'objective', u'much_larger', u'business_model', u'banking_institutions', u'specialist_assigned', u'hired_firm', u'petty', u'fines_penalties', u'assessor', u'housing_counseling', u'cost_thousands', u'attending_school', u'fraud?', u'opt-in', u'procedural', u'wherever', u'elect', u'fiancee', u'creation', u'urged', u'excessive_overdraft', u'with?', u'farm', u'mods', u'undo', u'responsibility_individual', u'screw', u'tryed', u'expects', u'properly_investigated', u'loyal_customers', u'severely_damaged', u'buisness', u'astra', u'dialogue', u'teaching', u'wreck', u'campaign', u'false_advertisement', u'goodbye', u'enabled', u'residual', u'system_glitch', u'ugly', u'thoughts', u'canceled_checks', u'fraction', u'jacked', u'anticipation', u'hide_behind', u'escalation_team', u'relinquish', u'elevate', u'eliminating', u'grantors', u'substantive', u'photocopies', u'leaving_voice', u'forbidden', u'restocking', u'signature_begun', u'maintain_reasonable', u'aafes', u'burned', u'premise', u'carelessness', u'century', u'dishonesty', u'verifications', u'unsatisfied', u'stone', u'representatives_supervisors', u'excess_minimum', u'consolidate_loans', u'security_measures', u'castlepayday', u'life_involve', u'technical_difficulties', u'notifies', u'combining', u'feed_family', u'isolated', u'intentionally_responding', u'reductions', u'standing_foreclose', u'phoning', u'miraculously', u'speech', u'peaks', u'automated_rejection', u'foreclosure_mill', u'obscene', u'threated', u'stopped!', u'obsolete', u'abusive_practice', u'releases', u'late?', u'sub-prime', u'robo-calls', u'definite', u'reaction', u'way?', u'unifund', u'cursed', u'young_children', u'tags', u'know?', u'mellon', u'departure', u'rentals', u'ex-husbands', u'debacle', u'longest', u'context', u'judge_ruled', u'edge', u'immediatly', u'acceptance_corp', u'stopped_answering', u'lodging', u're-investigate', u'long_periods', u'hundreds_thousands', u'swear', u'takeover', u'reported_invalidated', u'scrutiny', u'continues_ignore', u'loses', u'streamline_refinance', u'demeanor', u'roofing', u'shredded', u'elaborate', u'accommodation', u'exposing', u'matter?', u'specific_details', u'conditioner', u'congratulations', u'monthly_installments', u'assessed_value', u'notations', u'educate', u'tasks', u'police_station', u'decreases', u'automatic_deduction', u'dunning_notice', u'buyer_seller', u'verbatim', u'bonded', u'feel_helpless', u'waved', u'incessantly', u'installer', u'detect', u'out!', u'negotiate_settlement', u'forgave', u'graduate_school', u'frame', u'newest', u'liquidation', u'guaranty', u'clerks_office', u'exposure', u'consisting', u'attorneys_general', u'practice?', u'guild', u'luxury', u'forster_garbus', u'authenticate', u'accord', u'jeopardized', u'expedite_resolution', u'reception', u'adamantly', u'professional_manner', u'altering', u'predatory_nature', u'significantly_higher', u'rationale', u'reap', u'unlocked', u'economic_hardship', u'california_civil', u'tendered', u're-financed', u'nebraska', u'general_contractor', u'relocating', u'consumer_notifies', u'sierra_pacific', u'concerns!', u'payers', u'here!', u'sale_postponed', u'rectifying', u'inflate', u'reneged', u'unchanged', u'automated_voice', u'aqua', u'extorted', u'double_jeopardy', u'pursuant_named', u'todays', u'sponsored', u'nissan_motor', u'interruption', u'toll-free_number', u'prior_placing', u'girls', u'construed', u'desist', u'testing', u'onemain_financial', u'overstated', u'short-term', u'fore', u'string', u'reis', u'cashiers_checks', u'realty', u'messaging', u'aloud', u'accusation', u'certify', u'coordinator', u'motion_relief', u'drain', u'mortgager', u'purchased_furniture', u'amendments', u'completely_unaware', u'alright', u'straightforward', u'dollar_amounts', u'diamond', u'number!', u'forthright', u'innocent_people', u'couch', u'awaiting_response', u'stove', u'plain_simple', u'experain', u'unenforceable', u'reposted', u'residual_interest', u'became_upset', u'burdened', u'backwards', u'asst', u'procurement', u'sofa', u'submits', u'state_washington', u'subdivision', u'hrrg', u'clerk_office', u'interest-free', u'grocery', u'help!!!', u'abided', u'seeks', u'fitness', u'clearinghouse', u'treats', u'grandfathered', u'verbally_abusive', u'wear', u'washer_dryer', u'reserve_line', u'greentree/ditech', u'faithful', u'databases', u'rising', u'uncovered', u'coop', u'problematic', u'modification?', u'hacker', u'drawer', u'relies', u'operations_manager', u'deceased_husband', u'beyond_frustrated', u'prolonged', u'operational', u'linking', u'many_levels', u'acted_good', u'outfit', u'represent_hesitate', u'patriot', u'consist', u'remic', u'resistance', u'contributions', u'infomation', u'perjury', u'flex', u'sometime_around', u'know_in-fact', u'possibilities', u'obey', u'initiation', u'ruthless', u'change_circumstance', u'americollect', u'silver', u'interfering', u'assures', u'cause_lose', u'scream', u'nicely', u'unethical_behavior', u'illegal_acts', u'passenger', u'implications', u'smell', u'membership_rewards', u'jury', u'higher_education', u'chevy', u'coincide', u'affirmed', u'misappropriated', u\"can't\", u'pushy', u'inaccurate_unverifiable', u'total_disregard', u'hundred', u'percentage_rate', u'section_respectfully', u'clearspring', u'leverage', u'reliance', u'found_guilty', u'gone_unanswered', u'shorted', u'equfax', u'sales_associate', u'might_constitute', u'concealment', u'modifcation', u'welcome_packet', u'immediate_attention', u'changing_dates', u'pair', u'develop', u'occurrences', u'dept_justice', u'painting', u'insight', u'backdating', u'entitle', u'register_deeds', u'iwas', u'smooth', u'consumed', u'refinances', u'coffee', u'thet', u'chase_slate', u'varied', u'screening', u'going_circles', u'concept', u'undeliverable', u'productive', u'saxon', u'interstate', u'right_direction', u'postcard', u'you!', u'voicemail_messages', u'consumer?', u'subsection', u'trees', u'incident_occurred', u'disruptive', u'chairman', u'trade-in', u'material_fact', u'causing_undue', u'reprehensible', u'water_heater', u'destruction', u'wage_garnishments', u'crew', u'extensively', u'ruled_favor', u'reimbursing', u'grass', u'fooled', u'judged', u'reload', u'veterans_affairs', u'county_courts', u'initiative', u'removed?', u'tiny', u'candidate', u'co-pays', u'deceptive_advertising', u'welcome_package', u'for!', u'world_finance', u'vandalized', u'county_clerks', u'college_education', u'paycheck_stubs', u'cracks', u'standard_procedure', u'sending_generic', u'sketchy', u'intermediary', u'vehicle_financed', u'purse_stolen', u'excess_wear', u'bull_city', u'prudent', u'margin', u'profiting', u'garnishment_wages', u'national_origin', u'owcen', u'5-10', u'connecting', u'time-barred_alleged', u'within_24-48', u'factoring', u'breaches', u'medical_emergency', u'cert', u'winning', u'cured', u'finger', u'twelve_months', u'state_nevada', u'empathy', u'perplexed', u'tampered', u'displaced', u'host', u'unaccounted', u'variation', u'capio_partners', u'illegal_activities', u'ultimate', u'worded', u'brushed', u'weak', u'irregular', u'merging', u'variance', u'fear_losing', u'dads', u'contradict', u'escape', u'coastal', u'mother_died', u'liquidate', u'voluntarily_dismissed', u'wrongs', u'attain', u'dear_sirs', u'sign-up', u'charge-back', u'multiply', u'walking_away', u'belittled', u'double_tracking', u'became_irate', u'ladies', u'rewarded', u'multitude', u'horrified', u'extremely_poor', u'pertained', u'font', u'terminate_lease', u'abilities', u'judgement_entered', u'neglecting', u'bulletin', u'prepay', u'cardmember_agreement', u'motor', u'foreclosure_alternatives', u'franchise_board', u'compliance_fcra', u'without_merit', u'frustrate', u'piling', u'strike', u'interrupting', u'administer', u'foreign_currency', u'face_value', u'lexus_financial', u'in-laws', u'electronic_fund', u'modest', u'taking_pictures', u'gentleman_named', u'follows:1', u'unforeseen', u'stretch', u'memories', u'ocwens', u'antiquated', u'constantly_harassed', u'reinserting', u'archived', u'unreturned', u'violation_respa', u'risen', u'slipped', u'amcol', u'minimize', u'tila_rescission', u'regulator', u'interface', u'provident_funding', u'experian_thinks', u'bookkeeping', u'reserved', u'procured', u'fits', u'blown', u'rescinding', u'scene', u'elite', u'malpractice', u'equaling', u'front_judge', u'***********', u'unauthorized_withdrawals', u'generous', u'vain', u'stocks', u'overpaying', u'etrade', u'cancelled_membership', u'independent_foreclosure', u'flawless', u'absolutely_unacceptable', u'draw_period', u'capone', u'launched', u'sunday_morning', u'expiration_dates', u'meet_requirement', u'precedent', u'leading_believe', u'retrieving', u'rebuilt', u're-financing', u'appealed_decision', u'lady_answered', u'overpay', u'tired_dealing', u'steered', u'computerized', u'fence', u'remediation', u'solving', u'consistency', u'saturdays', u'routing_numbers', u'declare_bankruptcy', u'depts', u'happend', u'atrocious', u'distressing', u'agreeable', u'introductory_rate', u\"dyck_o'neal\", u'harrased', u'astra_recovery', u'white_house', u'intending', u'cuts', u'revert', u'motive', u'harassed_threatened', u'meet_criteria', u'moral', u'unethical_practice', u'failure_disclose', u'amsher', u'folder', u'endorse', u'horror_stories', u'vehicle_totaled', u'sever', u'paperless_billing', u'managment', u'law!', u'calendar_year', u'notorized', u'frightened', u'renton_collections', u'specifically_pertaining', u'exercise_right', u'fearing', u'subtract', u'swore', u'accounts?', u'south_dakota', u'rebill', u'registering', u'invite', u'spark', u'out?', u'remote', u'possessions', u'derogatory_public', u'materially', u'unearned', u'subsidized', u'state_michigan', u'barriers', u'ipad', u'loved', u'unreliable', u'done?', u'done!', u'basing', u'operate_state', u'volunteer', u'401k', u'hair', u'identities', u'undisputed', u'shell_point', u'stipulates', u'acted_faith', u'hopeless', u'restrict', u'countries', u'maternity_leave', u'salvage', u'inquiries_factual', u'affordability', u'mini-miranda', u'trident', u'funds?', u'mother_sister', u'theory', u'surviving', u'screwing', u'secu', u'consumer_advocate', u'region', u'patenaude_felix', u'protocols', u'intact', u'account-', u'delivery_confirmation', u'induce', u'self-employed', u'boilerplate', u'branded', u'succeed', u'opposition', u'regulates', u'attractive', u'vaguely', u'belk', u'comparables', u'attended_school', u'brochure', u'tech_support', u'quite_frankly', u'successor', u'came_conclusion', u'checking/savings', u'debate', u'smallest', u'underneath', u'oracle_financial', u'orally', u'svcs', u'apologize_inconvenience', u'shady_practices', u'structural', u'whim', u'uncollected', u'reposed', u'resigned', u'bothers', u'deferring', u'automated_dialer', u'waits', u'struggling_financially', u'1692d', u'scratches', u'technical_support', u'natural', u'constituted', u'surrender_vehicle', u'residences', u'timelines', u'conns', u'quickenloans', u'bright', u'father_died', u'ebay_paypal', u'assigns', u'accrual', u'hardest_fund', u'racial', u'substance', u'pfcu', u'restoring', u'leadership', u'state_alabama', u'nurse', u'committed_crime', u'mall', u'relinquished', u'conditioning', u'bottom_page', u'ceasing', u'weltman_weinberg', u'located_florida', u'canned', u'today!', u'crook', u'inoperable', u'panicked', u'assumes', u'chargebacks', u'streamlined', u'unsuspecting', u'adopted', u'team_lead', u'reducing_principal', u'moments', u'duvera', u'ther', u'1681i_contents', u'persistently', u'yielded', u'team_member', u'refile', u'enrolled_school', u'posed', u'closings', u'constructive', u'guessed', u'stake', u'immediate_removal', u'substituted', u'unprofessionally', u'workers_comp', u'long_distance', u'occupant', u'sheer', u'within_30-day', u'judgment_applicable', u'republic', u'evidencing', u'root', u'cabinets', u'stranded', u'court_ruling', u'unsuspecting_consumers', u'lack_diligence', u'blindly', u'1692g_claim', u'substantiated', u'eating', u'closing_table', u'creditreport', u'transacted', u'setup_automatic', u'redone', u'examining', u'rewards_earned', u'gesture', u'trucks', u'rapid_rewards', u'minds', u'intelligent', u'functions', u'consists', u'bank_omaha', u'deceptive_abusive', u'greensky', u'principles', u'taught', u'sincerely_hope', u'hadnt', u'disconnecting', u'reinstatement_quote', u'incessant', u'removed!', u'caused_harm', u'cbna', u'exact_words', u'think_smart', u'lie!', u'promotional_bonus', u'stages', u'teeth', u'innacurate', u'targets', u'syncrony', u'deceased_father', u'plethora', u'it!!', u'senior_vice', u'staff_member', u'8-10', u'fcra_605b', u'check?', u'spare', u'corporate_offices', u'stations', u're-instate', u'sanction', u'rollover', u'bullies', u'nearest_branch', u'voice_recording', u'various_departments', u'arnold_scott', u'nutshell', u'originals', u'query', u'animal', u'name!', u'ruining_life', u'tracked_online', u'full-time_student', u'exceptional', u'uncollectable', u'invasive', u\"it's\", u'slight', u'accidents', u'firmly_believe', u'30-year', u'rash_curtis', u'revisions', u'small_children', u'shared_appreciation', u'father_death', u'experts', u'made?', u'greatest', u'attacks', u'based_race', u'dentist_office', u'corporate_headquarters', u'mercedes', u'shark', u'dialer', u'loophole', u'flow', u'recourse?', u'mount', u'state_louisiana', u'discouraging', u'dish', u'book_page', u'forcefully', u'filled_forms', u'flaw', u'consent_and/or', u'height', u'belittle', u'in-house_modification', u'from?', u'discriminatory_practices', u'prestige', u'bars', u'unethically', u'chain_command', u'anguish', u'sams_club', u'people!', u'file?', u'purporting', u'problem?', u'hinder', u'journal', u'uncollectible', u'competent_evidence', u'locating', u'voluntary_repossession', u'lateness', u'clearly_indicates', u'negative_remark', u'veterans_administration', u'stopped_accepting', u're-send', u're-sent', u'disrupting', u'charge-offs', u'appx', u'uneducated', u'lodge_complaint', u'gotten_worse', u'fdca', u'elderly_mother', u'coercion', u'merge', u'caution', u'hindering_ability', u'racket', u'component', u'standard_practice', u'cease_communications', u'transmittal', u'conduct_independent', u'system_upgrade', u'equator', u'allowed_re-write', u'municipal', u'thankful', u'morgan_stanley', u'privy', u'com/', u'accurately_reflect', u'conveyance', u'summary_judgement', u'everything_okay', u'midwest', u'puzzled', u'odometer', u'science', u'spending_limit', u'licence', u'publishing', u'negligence_part', u'thati', u'uncertain', u'calculator', u'meager', u'shorter', u'displeased', u'necessity', u'wrongfully_foreclosed', u'unable_retrieve', u'amicable', u'likewise', u'monterey', u'within_thirty-day', u'mental_anguish', u'spoofed', u'interest!', u'declaratory_relief', u'studying', u'ripoff', u'exchanges', u'notion', u'1641', u'concealed', u'audio', u'affected_ability', u'doubts', u'remarried', u'imagine_surprise', u'1996', u'usually_takes', u'acceptable_them?', u'thanking_advance', u'predecessor', u'listen_recording', u'abrupt', u'decedent', u'redeem_points', u'indicating_intention', u'astonished', u'stall_tactic', u'insistence', u'fullest_extent', u'purge', u'bonds', u'waited_till', u'proportion', u'disagrees', u'unknown_reasons', u'responce', u'jpmorgan', u'legally_enforceable', u'pulte', u'abusive_acts', u'conduct_proper', u'attending_college', u'phrase', u'concealing', u'puerto_rico', u'potential_creditors', u'claim_exemption', u'illegal?', u'urgently', u'aggravating', u'descriptions', u'rope', u'mortgage_pass-through', u'promptly_delete', u'dual-tracking', u'foreclosure!', u'in-person', u'reportedly', u'hesitate', u'converting', u'points_earned', u'technicality', u'dragged_feet', u'ahmsi', u'conspired', u'extremely_unprofessional', u'prescription', u'appearances', u'prestige_financial', u'alternatively', u'narrative', u'forums', u'govern', u'inquiry_adversely', u'receivable', u'1692f', u're-report', u'state_oregon', u'potential_buyers', u'smoke', u'ago!', u'dreams', u'continuance', u'mtcn', u'personally_identifiable', u'was/is', u'delta', u'conditionally_approved', u'honesty', u'conferenced', u'arguments', u'generates', u'cardmembers', u'application_authorizing', u'collision', u'orchard', u'compound', u'tacking', u'ages', u'goodwill', u'needs_shut', u'waited_waited', u'attached_screenshot', u'typed_response', u'scandal', u'belittling', u'contempt', u'buildings', u'clearing_house', u'procure', u'furnisher_reasonably', u'loanme', u'retribution', u'harvard', u'corrective_action', u'victims_identity', u'spell', u'undated', u'square_footage', u'mediate', u'time_frames', u'motel', u'publication', u'postmark', u'insulation', u'efta', u'confirming_receipt', u'several_thousand', u'chex-systems', u'goldman_sachs', u'transunionaccording', u'living_paycheck', u'indy', u'summit_receivables', u'promoting', u'entertain', u'inheritance', u'closed_inactivity', u'infuriated', u'lapse_coverage', u'florida_hardest', u'cities', u'rose', u'onerous', u'hasnt', u'idiot', u'reinstating', u'force-placed_insurance', u'clauses', u'extraordinary', u'screens', u'flip', u'specifying', u'retaliate', u'signor', u'attendant', u'capitalized_interest', u'contempt_court', u'cashnetusa', u'auto-debit', u'serial', u'rcvd', u'hiring_attorney', u'language_barrier', u'trying_extort', u'trespassing', u'profanity', u'arstrat', u'draining', u'relied_upon', u'reposession', u'recvd', u'prime_rate', u'reporter', u'classification', u'township', u'settlement_agreements', u'substantiation', u'unreachable', u'american_citizen', u'violators', u'receivables_management', u'opinions', u'****************', u'disputing_validity', u'summoned', u'medical_facility', u'wrap', u'ensure_validity', u'webster_bank', u'toll-free', u'definitions', u'bordering', u'unfortunate_situation', u'bounced_checks', u'printer', u'enclose', u'username_password', u'locally', u'blackhawk', u'disingenuous', u'scholarship', u'overview', u'unemployment_forbearance', u'relented', u'internship', u'personal_confidential', u'photo_copy', u'mechanical', u'did!', u'negativity', u'verbal_confirmation', u'wipe', u'disorganized', u'phishing_scam', u'equipped', u'appreciation', u'swiftly', u'collectively', u'deactivate', u'threatened_garnish', u'religion', u'return_sender', u'dictates', u'satisfactory_resolution', u'defines', u'allows_damages', u'continued_insist', u'airline_ticket', u'directive', u'insistent', u'dispose', u'glasses', u'disposed', u'fcra_allows', u'simm_associates', u'obviously_neglected', u'given_run-around', u'60-day', u'preferred_lender', u'searches', u'summited', u'1999', u'absolve', u'grandchildren', u'contain_reasons', u'resell', u'irregularities', u'york_community', u'federal_crime', u'clicked_link', u'pose', u'revived', u'middle_night', u'inflicted', u'thoroughly_demanding', u'bait-and-switch', u'attached_hereto', u'feel_strongly', u'merely_parrot', u'concert', u'nearby', u'progressive_management', u'captial', u'shower', u'montly', u'preservation_specialist', u'soldier', u'escalation_dept', u'holiday_season', u'firmly', u'differed', u'fair?', u'completely_disregarded', u'guaranteeing', u'treasurer', u'grand_total', u'debt_honesty/integrity', u'impersonating', u'recevied', u'intent_accelerate', u'wealth', u'manufacture', u'inquiry_presence', u'transport', u'click_link', u'noise', u'refaxed', u'agenda', u'shaking', u'malfeasance', u'magistrate', u'amazon_visa', u'assistance_saving', u'county_sheriff', u'adjudicated', u'sheriffs', u'probate_court', u'times!', u'1692c', u'auto-dialer', u'affiant', u'sears_mastercard', u'throught', u'trough', u'defending', u'mexico', u'bottles', u'prepaid_visa', u'practiced', u'franklin_american', u'confront', u'refax', u'00}!!!', u'precise', u'dishonored', u'recorder_deeds', u'wishing', u'stability', u'no-one', u'declarations', u'deletions', u'carried_reasonable', u'dramatic', u'claiming_represent', u'revenue_group', u'consulted_attorney', u'fruitless', u'resale', u'wrecked', u'admissions', u'cause_harm', u'predatory_lenders', u'congressman_office', u'wells-fargo', u'rerouted', u'leaking', u'joining', u'tender', u'devious', u'uamc', u'forty', u'shoddy', u'escrow_cushion', u'party_vendor', u'vindictive', u'support_team', u'regularly_scheduled', u'section_fcra-', u'harassment!', u'restoration', u'inconvenienced', u'bkpt', u'unreal', u'status_charge-off', u'imposition', u're-fax', u'arising', u'deceptive_marketing', u'judgment_vacated', u'deployment', u'tranunion', u'virtual', u'hard_pulls', u'off!', u'powerful', u'hanged', u'winterized', u'recall_authorizing', u'correspondance', u'perfected', u'withdrawls', u'fail_comply', u'depriving', u'inside_branch', u'sabotage', u'subscriber', u'trans_world', u'dismayed', u'hard_hits', u'state_illinois', u'husband_laid', u'style', u'sales_pitch', u'save_dream', u'pennies', u'court_appointed', u'speed_process', u'hang-up', u'didnot', u'dillards', u'performant_recovery', u'batch', u'governmental', u'mart', u'locks_changed', u'2923', u'flew', u'succeeded', u'unbearable', u'outdated_negative', u'packaging', u'depending_point', u'rapid', u'oversee', u'affect_ability', u'retailers', u'shouting', u'morally', u'vehemently', u'common_wealth', u'disconnection', u'absorbed', u'affirmation', u'specific_instructions', u'retrospect', u'stealing_identity', u'cumulative', u'unequivocally', u'evading', u'performant', u'academy_mortgage', u'attending_university', u'eventual', u'models', u'suspending', u'within_timeframe', u'scamming_people', u'programming', u'thirdly', u'outrage', u'chapter_bankruptcies', u\"couldn't\", u'biased', u'wear_tear', u'postponement_sale', u'monopoly', u'revealing', u'relationship_banker', u'agitated', u'rampant', u'rights?', u'highly_unlikely', u'thank_kindly', u'weeks!', u'arises', u'dividend', u'buyout', u'equities', u'elements', u'valuables', u'mixing', u'affadavit', u'middle_class', u'reminders', u'widely', u'matrix', u'malfunction', u'staff_members', u'infractions', u'undergraduate', u'hateful', u'refiled', u'plastic', u'mobiloans', u'target_redcard', u'renovations', u'tolerated', u'flood_coverage', u'patently', u'became_frustrated', u'trade-line', u'eligible_bonus', u'financial_bind', u'court_docket', u'county_recorders', u'boyfriends', u'discretionary', u'united_wholesale', u'draws', u'seizure', u'trickery', u'release_liability', u'honor_promotion', u'every_aspect', u'beating', u'invasion_privacy', u'score?', u'delbert', u'desktop', u'forging', u'unorganized', u'running_scam', u'property_inspections', u'prequalified', u'successor_interest', u'ombudsman_office', u'located_ohio', u'southern', u'lifting', u'nefarious', u'introduce', u'getting_runaround', u'judicial_foreclosure', u'secure_messaging', u'coordinate', u'tracks', u'respected', u'across_street', u'motivated', u'floating', u'dirt', u'acts_practices', u'elder', u'decency', u'cumbersome', u'outbound', u'fully_intend', u'proper_identification', u'urgent_care', u'likes', u'brakes', u'voluntary_surrender', u'unreasonably', u're-issued', u'florida_statute', u'unclaimed', u'county_superior', u'uncaring', u'general_counsel', u'harassment_abuse', u'ripping_people', u'moths', u'shake', u'efficiency', u'informational', u'civil_relief', u'capture', u'ought', u'causing_stress', u'there?', u'pending_litigation', u'management_group', u'gasoline', u'automatically_withdrawn', u'northeast', u'fraudsters', u'insinuated', u'hade', u'successor_trustee', u'involuntary', u'interestingly', u'microwave', u'judgment_granted', u'unknowing', u'here?', u'threatened_arrested', u'theft_deception', u'promotional_purchases', u'months?', u'undoubtedly', u'cover_sheet', u'deed-in-lieu_foreclosure', u'reading_script', u'higher_level', u'check!', u'tour', u'threatening_garnish', u'breath', u'waterstone', u\"wasn't\", u'leaked', u'concord_resolution', u'controlling', u'expeditiously', u'upon_graduation', u'act?', u'illustrate', u'quality_assurance', u'unfairly_treated', u'sector', u'idiots', u'years_ago!', u\"''not\", u'earns', u'upon_arrival', u'feared', u'conflicts', u'intrusive', u'escrowing', u'registered_agent', u'rude_nasty', u'how?', u'copying', u'funny_thing', u'looming', u'lesson', u'well-known', u'kiosk', u'name?', u'whole_ordeal', u'lame', u'justifiable', u'meter', u'ashley_furniture', u'black_mark', u'inferior', u'interpreted', u'homebuyer', u'please_hesitate', u'complete_disregard', u'bill?', u'raising_voice', u'breech', u'work!', u'panel', u'pursuant_fdcpa', u'enticed', u'aggravated', u'replying', u'granite', u'cancellations', u'advocacy', u'shred', u'practices_fdcpa', u'fraud_detection', u'inspectors', u'too!', u'enforce_rights', u'farther', u'standings', u'holiday_weekend', u'wasted_hours', u'robo-call', u'bids', u'permitting', u'coach', u'national_enterprise', u'emphasized', u'exclude', u'prescriptions', u'information?_authorization', u'necessarily', u'former_employee', u'day?', u'court_appearance', u'myaccount', u'squatters', u'travelling', u'expressed_concerns', u'admitted_fault', u'sticking', u'tagged', u'shore', u'forgiving', u'dint', u'remodel', u'move-out', u'grievances', u'riddled', u'credence', u'left_blank', u'associations', u'highly_illegal', u'danger_losing', u'fold', u'youngest', u'compound_interest', u'scam_artist', u'calvary_portfolio', u'suspecting', u'cried', u'financial_stability', u'knowingly_intentionally', u'significantly_lower', u'master_policy', u'legally_binding', u'00}!!', u'rational', u'signature_forged', u'fraudster', u'interested_helping', u'tmsi', u'ledgers', u'dummy', u'wyoming', u'refund_overpayment', u'downgrade', u'resending', u'flooding', u'udap', u'double_dipping', u'security_number', u'reasonable_initiate', u'shifting', u'furnishers_furnish', u'commonly', u'on-line_banking', u'falsely_claimed', u'torn', u'stupidity', u'commencing', u'surgeries', u'sited', u'endlessly', u'excused', u'clarified_confused', u'assertions', u'ensuing', u'mix-up', u'emotional_stress', u'expenses_incurred', u'various_reasons', u'archives', u'quick_search', u'beautiful', u'labeling', u'fraudulently_obtained', u'highway', u'bumper', u'tarnish', u'chase_manhattan', u'hyundai_finance', u'please_synopsis', u'reachable', u'honestly_thought', u'projects', u'proper_procedure', u'atty_general', u'notaries', u'signers', u'7-10', u'redundant', u'civil_liability', u'steep', u'hung_face', u'google_search', u'fixing_problem', u'storage_unit', u'robotic', u'ballon', u'blowing', u'obligations_so-called', u'credit-related_information', u'unblock', u'repeats', u'1681c-2', u'stopping_getting', u'upon_learning', u'nominal', u'downgraded', u'protection_laws', u'insensitive', u'legal_landscape', u'increasingly', u'author', u'belive', u'protective', u'straight_forward', u'auto_dialer', u'retiree', u'marker', u'coll', u'benefited', u'experion', u'shortly_afterwards', u'thought_strange', u'refresh', u'house!', u'include_limited', u'e-bill', u'citations', u'technique', u'lasting', u'monterey_financial', u'extention', u'tila_respa', u'extenuating_circumstances', u'eaten', u'pocketed', u'well!', u'adhering', u'judge_ordered', u'000}', u'high-cost', u'dialing', u'hardworking', u'menards', u'port', u'praying', u'exercising', u'hearing_judge', u'enterprise_recovery', u'furniture_store', u'cybersecurity', u'commited', u'year_anniversary', u'tens_thousands', u'fathom', u'lexis-nexis', u'escrow_shortfall', u'friday_afternoon', u'estimation', u'coaching', u'immense', u'costumers', u'views', u'therein', u'stat', u'card_issuers', u'bidding', u'welcome_bonus', u'depublished_changed', u'warm', u'1692a', u'state_jersey', u'enraged', u'immensely', u'annotated', u'mandated_federal', u'pets', u'moratorium', u'ago?', u'became_angry', u'local_enforcement', u'adviser', u'governments', u'1997', u'involuntarily', u'stmt', u'asserting', u're-sign', u'rock', u'visited_local', u'inefficient', u'awareness', u'delay_tactics', u'canned_response', u'blessed', u'liable_damages', u'strikes', u'voluntarily_surrender', u'videos', u'gainfully_employed', u'alphera', u'exemptions', u'texting', u'landed', u'fails_comply', u'results_reinvestigation', u'fist', u'soft_inquiries', u'fifteen_years', u'casino', u'technical_issues', u'rears', u'sink', u'diversified_consultant', u'debits_credits', u'foreclosure?', u'rude_aggressive', u'attributed', u'define', u'honest_mistake', u'floored', u'debt-to-income_ratio', u'chatting', u'cardinal_financial', u'hospitalization', u'forgetting', u'ever!', u'facilities', u'jack', u'leaders', u'recommend_anyone', u're-payment', u'blue_cash', u'wright', u'teachers', u'local_courthouse', u'bath', u'slowed', u'scripted', u'andi', u'cardinal', u'gained_access', u'upto', u'hand_delivered', u'conducting_investigation', u'payliance', u'crippling', u'mater', u'eligible_promotion', u'sought_assistance', u'anew', u'misapplying', u'tittle', u'shifts', u'model_notices', u'variations_name', u'bill_payer', u'racist', u'homeowners_association', u'providian', u'directory', u'executing', u'falling_apart', u'carpet_cleaning', u'trail_period', u'precaution', u'closer_look', u'windham_professionals', u'slapped', u'nominee', u'political', u'repair_shop', u'gradually', u'rediculous', u'dept_treasury', u'violate_rights', u'lottery', u'struggles', u'tact', u'overdrafting', u'high_pressure', u'notarize', u'enough!', u'millions_dollars', u'combat', u'collectable', u'must_contain', u'humiliation', u'premiere', u'anniversary_date', u'boot', u'decisions_ordered', u'kinda', u'excellent_standing', u'stipulate', u'republic_finance', u'debts_1692g', u'squared_away', u'tying', u'drop_points', u'returned_undeliverable', u'severely_affected', u'caused_tremendous', u'speedy', u'resetting', u'wash', u'necessary_repairs', u'taxation', u'participate_hamp', u'anticipating', u'severity', u'earned_rewards', u'contributing', u'manufacturing', u'financial_aide', u'blanket', u'accurately_reflects', u'overturned', u're-affirmation', u'aprox', u'unnamed', u'pmab', u'rained', u'endorse_check', u'transact', u'cursing', u'become_homeless', u'vision', u'timeline_events', u'adjudication', u'reflective', u'then?', u'tribal', u'peace_mind', u'vacuum', u'subpart', u'brain', u'discontinuing', u'disgraceful', u'wilmington_trust', u'vacations', u'objections', u'transposed', u'participant', u'mattered', u'ethos', u'accounting_errors', u'taxi', u'indicator', u'adhered', u'banner', u'obscure', u'elevated', u'flying', u'contributor', u'residential_real', u'garden', u'real-estate', u'immediate_deletion', u'shipping_label', u'revenue_recovery', u'credit/debit_card', u'worldwide', u'pause', u'catastrophic', u'county_district', u'main_source', u'is/was', u'ruins', u'laws_broken', u'recognition', u'wakefield_associates', u'homecomings', u'alleged_debt?', u'summarized', u'ditech/greentree', u'heartless', u'd/b/a', u'count_towards', u'accordance_section', u'severely_damaging', u'initialed', u'east', u'adress', u'usable', u'tricking', u'theyre', u'strangely', u'dying', u'fully_executed', u'conceal', u'within_allotted', u'exhaust', u'duplication', u're-insert', u'recharged', u'seldom', u'describe_happened', u'embrace', u'excel', u'away_this?', u'graduated_college', u'builders', u'unheard', u're-added', u'cbcs', u\"gov't\", u'chexsystem', u'culture', u'tolls', u\"wouldn't\", u'packs', u'injurious', u'stepson', u'divorce_proceedings', u'specialty', u'breach_privacy', u'depth', u'unilateral', u'oversees', u'stalling_tactics', u'advocates', u'facilitated', u'magnitude', u'blair_sampson', u'umbrella', u'recommendations', u'swindled', u'bare', u'dental_office', u'montana', u'demise', u'differs', u'computed', u'durable_power', u'factored', u'cosigner_release', u'bundle', u'overlook', u'ghost', u'blunders', u'non-existing', u'advisors', u'counties', u'grand_theft', u'leaks', u'based_solely', u'subtracting', u'mini', u'fnbo', u'ability_secure', u'constant_harassment', u'honda_finance', u'amout', u'frank', u'ratio_high', u'regarded', u'feelings', u'thank-you', u'telephone_ring', u'pensions', u'certificates_series', u'hoepa', u'military_veteran', u'inaction', u'voices', u'upgrading', u'assault', u'impunity', u'huntington_national', u'nose', u'semesters', u'thursday_friday', u'alert_placed', u'strip', u'hound', u'paypower', u'retiring', u'outgoing', u'destination', u'comparing', u'fdcpa_tcpa', u'obnoxious', u'assume_responsibility', u'attacking', u'password_reset', u'juncture', u'potential_buyer', u'categorized', u'service_reps', u'endeavor', u'threatening_voicemails', u'router', u'matter!', u'whos', u'license_plates', u'staffing', u'good-faith', u'municipal_services', u'incoming_calls', u'visited_branch', u'popping', u'understandably', u'bankunited', u'csrs', u'implementing', u'futher', u'conventional_fixed', u'deposits_withdrawals', u'bizarre', u'1635', u'luggage', u'court_appeals', u'underwrite', u'forceful', u'bridge', u'rider', u'ditech_formerly', u'pursing', u'help!!', u'straight_answers', u'trashed', u'transfast', u'caused_extreme', u'harm_caused', u'wrong?', u'exercising_right', u'motion_summary', u'unfriendly', u'vacate_judgment', u'sovereign', u\"n't!\", u'exploring', u'cryptic', u'converted_chapter', u're-dispute', u'way!', u'purposeful', u'conform', u'guided', u'produce_evidence', u'oddly', u'redeeming', u'ported', u'market_crashed', u\"'the\", u'stop?', u'starter', u'household_finance', u'household_expenses', u'congressional_findings', u'west_lake', u'explore_options', u'calling_emailing', u'sympathy', u'holding_hostage', u'buck', u'lease_agreements', u'modification!', u'entice', u'mbfs', u'motors', u'unjustifiable', u'issue!', u'living_acquired', u'hourly', u'stream', u'porch', u'measly', u'proposing', u'misunderstood', u'paid?', u'stupidly', u'voiding', u'one!', u'one?', u'true?', u'dell', u'align', u'wealthy', u'googling', u'represenative', u'cooperation_sincerely', u'hospital_visit', u'potential_employer', u'stern', u'intake', u'bankruptsy', u'conned', u'aprs', u'episode', u'supply_accurate', u'foolishly', u'notes_registered', u'loans?', u'mortified', u'thus_allowing', u'unprofessional_unethical', u'military_members', u'deragatory', u'hindered', u'arrest_warrant', u'easiest', u'helping_homeowners', u'opposing_counsel', u'senator_office', u'significance', u'onemain', u'housing_crisis', u'motor_vehicles', u'diffrent', u'overcome', u'lobel_financial', u'discarded', u'first_deliquency', u'arrogance', u'survived', u'forecloser', u'convenience_checks', u'documents?', u'verbally_abused', u'installing', u'great!', u'contractual_obligations', u'full_reconveyance', u'accommodations', u'indifference', u'2013_2013', u'remember_agreeing', u'originators', u'alaska', u'expediting', u'missed_deadline', u'dictated', u'mutually', u'doubtful', u'meridian_financial', u'non-judicial_foreclosure', u'exacerbated', u'conducts_business', u'steer', u'persistence', u'manor', u'mobile_device', u'repetitively', u'cooper_hoffman', u'nationally', u'underwent', u'linebarger_goggan', u'recalculation', u'virtual_wallet', u'escrow_shortages', u'struggling_homeowners', u'messenger', u'play_game', u'continue_accrue', u'authority_power', u'firstmark', u'phone!', u'throw_away', u'1990', u'office_chairman', u'first_place?', u'farce', u'bana', u'outside_statute', u'amazement', u'hike', u'charges?', u'health_condition', u'projections', u'poorly_trained', u'conviction', u'brake', u'rain', u'humbly', u'monthy', u'clean_title', u'moore', u'intrest_rate', u'write-off', u'creative', u'disapproved', u'unprofessional_manner', u'ruin_life', u'violate_fdcpa', u'defenses', u'cushion_escrow', u'appreciated_thank', u'street_reform', u'rightfully_mine', u'flatly', u'developer', u'over-draft', u'fulfilled_requirements', u'deceitful_practices', u'reciepts', u'constitutional', u'assembly', u'are?', u'rogue', u'disclosing_personal', u'internal_policies', u'burnt', u'predators', u'keeping_track', u'serve_summons', u'pymnt', u'null', u'fee!', u'worked_diligently', u'ahead_schedule', u'among_others', u'affirmative', u'drag_feet', u'dodd-frank_wall', u'disallowed', u'governs', u'corrective', u'verdict', u'price_opinion', u'hotel_stay', u'plays', u'insta_loan', u'bureaucracy', u'invoke', u'bears', u'relief_stay', u'tossed', u'kicks', u'examiner', u'flagrantly', u'dose', u'abusively', u'persuaded', u'mail?', u'pursuant_limited', u'today?', u'reinvestigate_consumer', u'small_businesses', u'remains_unresolved', u'second_round', u'orignal', u'deceased_mother', u'johnson_mark', u'consumer_meets', u'frequent_flyer', u'requisite', u'modern', u'people?', u'death_certificates', u'submittal', u'exemplary', u'thatthey', u'personalized', u'dignity', u'terrible_experience', u'magazine', u'gulf_coast', u'highly_upset', u'congratulating', u'scrambling', u'dual_track', u'voiced', u'workout_options', u'affiliates_requesting', u'minimum_wage', u'bottle', u'final_stages', u'deputy', u'willing_negotiate', u'distributing', u'founded', u'economically', u'perception', u'state_tennessee', u'shareholders', u'paid/closed', u'distinct', u'achieving', u'furnisher_obligation', u'signup_bonus', u'depended', u'feds', u'tried_convince', u\"dyck-o'neal\", u'accidental', u'vicious', u'implementation', u'readable', u'doubt_aware', u'invoiced', u'falsely_representing', u'foreign_country', u'north_shore', u'acre', u'consumers?', u'differing', u'audits', u'coldwell_banker', u'promotes', u'begining', u'605b', u'condemned', u'auto-draft', u'case?', u'contravention', u'zales', u'process_servers', u'costed', u'jumping', u'attend_college', u'disreputable', u'firstbank', u'grossly_negligent', u'streamlined_modification', u'deserve_treated', u'satellite', u'signature_forgery', u'highly_doubt', u'trustworthy', u'undocumented', u'bankcard', u'workout_package', u'pipe', u'complicit', u'text_alert', u'automatic_termination', u'werent', u'jpmcb', u'queries', u'hiding_behind', u'60-90_days', u'kickbacks', u'score!', u'indirect', u'premature', u'life!', u'inordinate', u'veracity', u'within_twenty', u'moot', u'equates', u'grasp', u'toilet', u'inbound', u'medical_revenue', u'non-borrower', u'telemarketing', u'profited', u'bancorp', u'adjacent', u'nhba', u'interviews', u'kept_hanging', u'apologized_inconvenience', u'divide', u'remod', u'terminated_lease', u'sweet', u'seem_interested', u'pre-existing', u'ticking', u'prof', u'lending_institutions', u'entitlement', u'entrance', u'auto_drafted', u'survivor', u'assumptions', u'takes_advantage', u'automatic_debits', u'leaving_voicemails', u'f/k/a', u'closet', u'punishable', u'swift', u'safely', u'offending', u'capabilities', u'loser', u'leader', u'allot', u'duplicative', u'insurance_adjuster', u'fiduciary_responsibility', u'prize', u'extremely_disappointed', u'creditors/ca_question', u'incurring_additional', u'welcomed', u'hamp_harp', u'transuion', u'classic_bait', u'misfortune', u'excepting', u'fabrication', u'interbank', u'forged_document', u'best_describes', u'surprises', u'otherwise_perfect', u'constructive_fraud', u'recovery_associates', u'upped', u'binder', u'due?', u'reorganization', u'depositors', u'studied', u'deserved', u'originally_borrowed', u'idenity_theft', u'adversely_impacted', u'harass_threaten', u'anymore!', u'litigate', u'klein', u'homeownership', u'job!', u'cramming', u'went_smoothly', u'penncredit', u'debiting_checking', u'sand', u'facsimile', u'discriminates', u'harassment_threats', u'oversight_part', u'dress', u'plane', u'backyard', u'retired_fixed', u'legal_remedies', u'uncashed', u'uscfpb', u'loan-to-value_ratio', u'mistreatment', u'stringing_along', u'advisement', u'treated_rudely', u'closures', u'finish_school', u'grieving', u'joint_owner', u'pressing_charges', u'federally_protected', u'shorten', u'alledged', u'complainants', u'statement?', u'inches', u'revision', u'fully_disclosed', u'exact_opposite', u'crack', u'automatically_debited', u'burial', u'unoccupied', u'demolished', u'asserts', u'mean?', u'trivial', u'redirect', u'embedded', u'tripled', u'contract_callers', u'sorry_inconvenience', u'salaries', u'identifier', u'police_authorities', u'letter!', u'delayed_processing', u'unjust_enrichment', u'bankrutcy', u'1681b', u'monitored_recorded', u'1992', u'worn', u'unreadable', u'nuts', u'misleads', u'became_hostile', u'miscalculation', u'rate!', u'enjoyed', u'holding_onto', u'nullified', u'uploading_documents', u'handful', u'dumped', u'gregg', u'disadvantage', u'expertise', u'lessor', u'bury', u'totalled', u'selves', u'funds_availability', u'recap', u'respectable', u'inputted', u'entrusted', u'tragic', u'prefers', u'shortages', u'quit_claimed', u'interst', u'compromising', u'njclass', u'parking_tickets', u'sixty', u'wold', u'web-site', u'reportplease_send', u'post-dated', u'divisions', u'unfair_unjust', u'abatement', u'turmoil', u'principal_reductions', u'stain', u'negatively_impacts', u'invoked', u'offer_table', u'lift_hold', u'rudest', u'became_apparent', u'comptroller', u'referrals', u'redacted', u'phonecalls', u'solved_problem', u'changed?', u'carpets', u'do??', u'corelogic', u'forge', u'amount!', u'aquired', u'fedex', u'persuade', u'gender', u'michael', u'facilitating', u'handy', u'cascade', u'business_ethics', u'laws_governing', u'evictions', u'humans', u'timeliness', u'habitual', u'backdate', u'friends_relatives', u'insinuating', u'distant', u'coordination', u'selling_auction', u'impac', u'highway_robbery', u'violate_fcra', u'recognizes', u'divulging', u'lack_thereof', u'mechanics', u'twist', u'direct_contradiction', u'pharmacy', u'network_capital', u'governor', u'receivable_management', u'private_investigator', u'clearly_marked', u'dietech', u'cursory', u'advancing', u'thus_violating', u'quick_resolution', u'enlisted', u'curtailment', u'profusely', u'slanderous', u'leave_voicemails', u'cfpd', u'unfair_unreasonable', u'paragraphs', u'unfit', u'records_requestthank', u'devastation', u'resets', u'annuity', u'possible?_laws', u'parcels', u'similar_situations', u'unblocked', u'sympathetic', u'lien_holders', u'plaza', u'cites', u'grocery_stores', u'repositories', u'refiance', u'section_respa', u'profiling', u'complaint?', u'honor_promise', u'barrage', u'serve_prepaid', u'badgered', u'disconcerting', u'constantly_changing', u'rehabilitated', u'rent_food', u'falsification', u'assure_maximum', u'arent', u'prime_lending', u'reports?', u'notably', u'quality_control', u'strangers', u'delta_management', u'preposterous', u'really_hurting', u'amenities', u'specializes', u'hafa_program', u'number-', u'service!', u'cadillac', u'presentment', u'more!', u'cahoots', u'myriad', u'start_finish', u'cedar_financial', u'concord_resolutions', u'culprit', u'intial', u'contractually_obligated', u'qwrs', u'scripts', u'planet', u'continued_accrue', u'deprive', u'functionality', u'lent', u'hundreds_complaints', u'hud1', u'packing', u'reports!', u'harvest', u'intended_recipient', u'unforeseen_circumstances', u'about?', u'itemize', u'paycheck_deposited', u'deliberate_attempt', u'likelihood', u'overlimit', u'fluctuation', u'binding_contract', u'undue_stress', u'comapny', u'clarity_services', u'lake', u'near_impossible', u'supportive', u'metro', u'baseless', u'variations', u'separating', u'revocation', u'supervisory', u'cracked', u'makes_wonder', u'todays_date', u'paided', u'widespread', u'kicking', u'assistants', u'upholding', u'around_circles', u'6-month', u'messaging_system', u'swiss_colony', u'cashiers', u'documentation_supports', u'atlas', u'thereto', u'honor_commitment', u'explanatory', u'stress_anxiety', u'descriptions_procedures', u'rounds', u'vanished', u'bureaus!', u'trend', u'senex', u'slightest', u'unbelievably', u'exclusive', u'vericrest', u'reluctantly_agreed', u'maneuver', u'lieu_foreclosure', u'ends_meet', u'pleasure', u'components', u'upstairs', u'limit_decreased', u'valley', u'authorized_signer', u'eastern_standard', u'intent_defraud', u\"'credit\", u'mshl', u'resolves', u'owe!', u'forbearances', u'unusable', u'diploma', u'regional_finance', u'integrated_services', u'exec', u'mths', u'there!', u'meltdown', u'writ_possession', u'severely_impacted', u'investigation_concluded', u'fluctuate', u'encourages', u'teams', u'break_lease', u'cover-up', u'restructured', u'accrues', u'expenditures', u'whilst', u'impaired', u'edit', u'lasted_minutes', u'respects', u'gets_worse', u're-affirmed', u'painted', u'automation', u'prints', u'proof_residency', u'inquries', u'monetary_compensation', u'outset', u'cake', u'sense_urgency', u'sustaining', u'hardest_program', u'housing_authority', u'engineer', u'shipper', u'commented', u'hearsay', u'engaged_illegal', u'consumers_presumably', u'well?', u'population', u'unto', u'interpret', u'spit', u'plight', u'exercise_rights', u'shaken', u'foolish', u'infraction', u'aadvantage', u'miranda', u'initiate_investigation', u'derogatory_comments', u'homebridge_financial', u'scratched', u'visual', u'securities_exchange', u'clerk_courts', u'septic', u'adverse_actions', u'suck', u'annual_premium', u'grandma', u'livable', u'constant_communication', u'constable', u'imagined', u'slot', u'reconciling', u'ammount', u'loudly', u'referred_subparagraph', u'thomas_agency', u'promptly_notify', u'perpetuate', u'visa_gift', u\"'late\", u'hard_ship', u'exploit', u'nations_recovery', u'want_emphasize', u'citizenship', u'hunting', u'reader', u'industry_standard', u'threatened_arrest', u'90-days', u'concluded_investigation', u'overnight_delivery', u'fundamental', u'recission', u'series_questions', u'forced_hire', u'magical', u'writer', u'propose', u'reports_sections-605b', u'pre-payment_penalty', u'conclusions', u'shuffled_around', u'seek_relief', u'great_recession', u'susquehanna', u'advisory', u'klein_associates', u'2605', u'less_favorable', u'pawn', u'mumbled', u'abrasive', u'efficiently', u'college_university', u'distinguish', u'travelled', u'assistance_intervene', u'havebeen', u'details_pays', u'acces', u'fraud_deceit', u'dire_need', u'glaring', u'command', u'meet_obligations', u'estranged', u'furnished_fcra', u'security_freezes', u'lifestyle', u'creditkarma', u'outlines', u'great_difficulty', u'fallen_victim', u'aliases', u'angrily', u'fiscal', u'10-year', u'doable', u'aargon_agency', u'claimant', u'accordance_fdcpa', u'protector', u'barrier', u'vets', u'townhome', u'sources_income', u'guilt', u'miserable', u'property?', u'deleted_/blocked', u'admin_recovery', u'accepts_identity', u'shoulder', u'aimed', u'assignees', u'read_reviews', u'garage_door', u'back-up', u'pro-rated', u'concurrent', u'pretense', u'plummet', u'pink_slip', u'attempting_extort', u'lucky_enough', u\"'debt\", u'five_business', u'inputting', u'knowingly_willingly', u'comprised', u'successive', u'underemployed', u'erred', u'authorization_1692', u'discloses', u'additionally_demanded', u'limited_liability', u'inclusion', u'peoples_lives', u'best_interests', u'scanner', u'evenings', u'icons', u'jcpenny', u'lending_club', u'labels', u'furnishers_responsible', u'persists', u'unexpected_expenses', u'financial_strain', u'botched', u'affecting_health', u'reordered', u'struggled_keep', u'horse', u'numbered', u'actively_seeking', u'with!', u'bankruptcy?', u'gentleman_answered', u'pmnt', u'motivation', u'000+', u'simms_associates', u'fluctuating', u'driving_license', u'fully_amortized', u'proper_authorities', u'entailed', u'perk', u'abruptly_closed', u'adults', u'mystery_shopper', u'defamatory', u'store_clerk', u'certainty', u'engineering', u'plane_tickets', u'automatically_enrolled', u'surprised_hear', u'notify_furnishers', u'dive', u'gray', u'indebted', u'interfere', u'stuck_middle', u'upon_discovering', u'imposes', u'extends', u'before?', u'anywhere_near', u'serveral', u'cras_creditors', u'vast', u'madam_victim', u'concise', u'lucrative', u'video_footage', u'exited', u'blacklisted', u'calmly', u'distance', u'extorting', u'reliant', u'jailed', u'furnished_resulted', u'lexus', u'tantamount', u'distinction', u'interrogatories', u'sole_owner', u'honestly_think', u'extracted', u'glance', u'levying', u'competent_reliable', u'incredibly_rude', u'resolve_partners', u'violations_committed', u'county_georgia', u'skin', u'blitt_gaines', u'promissory', u'genuinely', u'motion_vacate', u'legal_council', u'pitch', u'maid', u'housing_expense', u'playing_game', u'discharges', u'unduly', u'cellular_telephone', u'similar_experiences', u'rounded', u'address?', u'british_airways', u'mental_health', u'industry_standards', u'http_//www', u'borders', u'characteristics', u'automatically_terminate', u'surviving_spouse', u'amortizing', u'approves', u'quietly', u'tedious', u'economic_downturn', u'them!!', u'ranged', u'bully_tactics', u'myscore', u'finalization', u'counterclaim', u'specialized', u'lousy', u'more?', u'preventing_buying', u'token', u'paid-in-full', u'mornings', u'jared', u'satisfactory_answer', u'meal', u'final_straw', u'slips', u'southwest_airlines', u'meet_eligibility', u'downhill', u'willfully_intentionally', u'seeking_relief', u'specifications', u'certifying', u'continuity', u'intend_pursue', u'read_article', u'contingent_upon', u'30-day_period', u'completes', u'business!', u'tone_voice', u'floating_around', u'revised_result', u'busy_signal', u'exceedingly', u'oops', u'feel_wronged', u'parent_plus', u'maze', u'inspite', u'00}???', u'specification', u'change?', u'sears_store', u'enquire', u'imaginable', u'history?', u'rude_unhelpful', u'crushed', u'reponse', u'capitalization', u'hostility', u'swept', u'identity_theft-related', u'federally_insured', u'removed/deleted', u'affixed', u'enterprises', u'nslij', u'grant_deed', u'surcharge', u'gatestone', u'pocket_expenses', u're-entry_team', u'low-income', u'responsiblity', u'authorized_retailer', u'humiliate', u'appropriate_steps', u'contemplating', u'sighed', u'earn_bonus', u'paramount', u'paid!', u'embezzlement', u'duplex', u'patiently', u'check-in', u'jacking', u\"'account\", u'investigative_results', u'53rd', u'freaking', u'mother_maiden', u'something_fishy', u'husband_separated', u'paid-off', u'movie', u'distributions', u'commercially_reasonable', u'burdens', u'scanned_copy', u'documentary_evidence', u'amca', u'first_hawaiian', u'wifi', u'practice_upsetting', u'indemnity', u'retail_installment', u'tragedy', u'illegally_foreclosed', u'reinvestigation_completed', u'605b_1681c-2', u'inch', u'on-site', u'checklist', u'aimloan', u'react', u'midwest_recovery', u'intelligence', u'vigilant', u'15-year', u'followed_steps', u'human_beings', u'state_hawaii', u'redeposited', u'barring', u'truth-in-lending', u'impatient', u'broad', u'escallate', u'reappearing', u'universities', u'slated', u'annoy', u'summons_appear', u'racial_discrimination', u'purports', u'dismissing', u'raise_voice', u'fdcp', u'calvary', u'debit/credit_card', u're-do', u'gouging', u'please?', u'avoidable', u'post_petition', u'unlicensed', u'section_1681s-2', u'accurate_verifiable', u'escalation_specialist', u'wilshire_consumer', u'matter_absent', u'roadloans', u'bosses', u'paste', u'mine?', u'rock_hard', u'special_financing', u'extinguishment', u'gaps', u'contends', u'foul', u'blank_endorsement', u'bill!', u'status_2013correct', u'projection', u'hung-up', u'traumatic', u'realtime_resolutions', u'misdemeanor', u'closed?', u'arbitration_clause', u'whit', u'strong_armed', u'renovated', u'memberships', u'tempted', u'floor_supervisor', u'county_assessor', u'consummation', u'seriously?', u'recouping', u'rude_uncooperative', u'enrolled_automatic', u'options?', u'bullying_tactics', u'principals', u'disparity', u'elevation', u'indicative', u'lock-in', u'adjustor', u'limits_high', u'authorizes', u'due!', u'exist_anymore', u'thank_much!', u'indigent', u'uniform_residential', u'prolonging', u'attic', u'fraudelent', u'mistaken_identity', u'year?', u'servers', u'superiors', u'marriage_certificate', u'nots', u'shall_cease', u'undermine', u'speedpay', u'starters', u'retains', u'standpoint', u'alpha_recovery', u'assistant_vice', u'technologies', u'deserve_better', u'jerked_around', u'allowed_operate', u'accommodating', u'concluding', u'lunch_break', u'consulting_services', u'college_degree', u'quitclaim_deed', u'and/_social', u'severly', u'plat', u'incase', u'surrendering', u'unsettling', u'prospects', u'corresponds', u'ross', u'undue_hardship', u'liaison', u'satisfaction_judgment', u'yet!', u'relevance', u'strict_guidelines', u'underway', u'felonious', u'dismissed_chapter', u'inserting', u'exaggerated', u'conceded', u'mbna', u'mileageplus', u'torture', u'turnaround', u'careful_documentation', u'uneasy', u'defeat', u'bent', u'confiscate', u'absolutely_absurd', u'license_suspended', u'half_dozen', u'constraints', u'outage', u'events_occurred', u'adherence', u'constant_harassing', u'unsubscribe', u'steady_income', u'mis-applied', u'assistant_secretary', u'negative_impacts', u'virtually_impossible', u'customers?', u'copied_pasted', u'inexperienced', u'repaying_student', u'herein_referred', u'compete', u'irrevocable', u'1681c', u'fluctuated', u'plot', u'zeroed', u'ladder', u'customs', u'fiduciary_duty', u'remorse', u'outsourcing', u'rewrite', u'control_corporation', u'possessed', u't-mobile', u'notice_subparagraph', u'me!!!!', u'skipping', u'comparative', u'aided', u'mocked', u'capped', u'business?', u'hotel_room', u'layers', u'flagrant', u'perusing', u'money!!!', u'non-compliance_within', u'sequence_events', u'arrangments', u'asset_backed', u'returned_sender', u'cart', u'final_cure', u'quarters', u'breakfast', u'15usc_1692g', u'setting_automatic', u'tooth', u'compiled', u'next?', u'outrageous!', u'sheriffs_sale', u'investigates', u'aunts', u'miracle', u'knock', u'chronology', u'world_mastercard', u'facially_complete', u'illnesses', u'house?', u'carpet_apartment', u'mirror', u'cookies', u'21st', u'hold_mins', u'shuffle', u'factual_record', u'hireright', u'servisolutions', u'underpaid', u'toyota_finance', u'repossessing', u'interest_accrues', u'recd', u'forgeries', u'restart_process', u'escrow_deficit', u'suffered_significant', u'scanning', u'unique_situation', u'complies', u'work?', u'false!', u'auditor', u'myloan', u'weiner', u'mustang', u'absurd!', u'ever_encountered', u'deposit_slips', u'acknowledgement_receipt', u'fixed-rate', u'creditor_willfully', u'lamont_hanley', u'drop_dead', u'indisputable', u'rotten', u'hold_harmless', u'currently_reside', u'circular', u'cease_decist', u'exclusion', u'rhode_island', u'crossing', u'secretly', u'proportion_balances', u're-write', u'lightly', u'brother-in-law', u'snapshot', u'investment_properties', u'stay_afloat', u'forgo', u'remitting', u're-instated', u'falsely_accused', u'sibling', u'absorb', u'steals', u'accused_lying', u'historic', u'beach', u'compatible', u'gurstel_chargo', u'commencement', u'envelop', u'reps_supervisors', u'began_yelling', u'disruption', u'ward', u'harvard_collections', u'moving_truck', u'billed_difference', u'mislead_consumers', u'identifiers', u'atlantic_pacific', u'protect_privacy', u'perceive', u'alterations', u'americredit', u'issuers', u'jeweler', u'plane_ticket', u'byrider', u'pants', u'shed_light', u'sporadic', u'soul', u'inundated', u'non-response', u'contracts_copies', u'blackhawk_network', u'willful_noncompliance', u'junior', u'refreshed', u'indicted', u'sensible', u'attend_university', u'24-48', u'extremely_stressful', u'voice-mail', u'imprisonment', u'greetree', u'verbal_communication', u'thefts', u'burea', u're-evaluation', u'chats', u'creditcard', u'head_household', u'file!', u'unfair_unconscionable', u'washer', u'stipend', u'recite', u'infant', u'additonal', u'orginally', u'simple_math', u'chat_session', u'instrument_bearing', u'aqua_finance', u'breaking_lease', u'newborn', u'ensures', u'delay_tactic', u'auditing', u'errant', u'flag_damaging', u'auto-payments', u'saga', u'sewage', u'necessary_corrections', u'took_liberty', u'marriott', u'recordation', u'programmed', u'hurdles', u'repeatly', u'barley', u'concerning_willful', u'e-trade', u'shuffled', u'prequalification', u'automatic_draft', u'arisen', u'written_oral', u'financially_emotionally', u'electronic_registration', u'arbitrary_capricious', u'exercising_rights', u'even_remotely', u'escalations_department', u'lure', u'misstating', u'accessories', u'enquiry', u'soon_thereafter', u'wildly', u'americas_servicing', u'ignore_requests', u'workers_compensation', u'diminish', u'above-mentioned', u'mazda', u'over-drafted', u'possesses', u'wels_fargo', u'accreditation', u'special_promotion', u'discharging', u\"'verified\", u'unsuspecting_customers', u'solar', u'displeasure', u'bureaus?', u'fell_apart', u'crippled', u'king', u'reduce_principle', u'co-signing', u'plug', u'continually_harassed', u'forged_signatures', u'corrupted', u'situation_improved', u'price_range', u'dollars!', u'populated', u'cancels', u'valarity', u'dead_beat', u'prosperity', u'annum', u'regulation_1024', u'representation_means', u'engaging_illegal', u'trid', u'snaac', u'halfway', u'photographs', u'evergreen', u'promo_code', u'pacer', u'causing_extreme', u'unneeded', u'employing', u'hesitation', u'eminent', u'identifiable', u'card-', u'monetary_damages', u'pretext', u'chance_save', u'numberous', u'litigated', u'intervened', u'exhausted_options', u'dump', u'lengths', u'badgering', u'restraint', u'precedence', u'travel_expenses', u'bedrooms', u'jury_trial', u'refinace', u'redispute', u'undue_burden', u'occupation', u'fallen_deaf', u'reporters', u'happened?', u'fled', u'chaos', u'aes/nct', u'provisions_fair', u'greenlight', u'merits', u'hereinafter_referred', u'preauthorized', u'itemization_costs', u'thur', u'cellphones', u'perpetrate', u'using_scare', u'severance', u'agonizing', u'subchapter', u'defamed', u'cussed', u'repurchase', u'occupying', u'problem!', u'nonsensical', u'emphasize', u'succession', u'obstructing', u'misplace', u'nations', u'me???', u'recoverable', u'reposes', u'afraid_losing', u'flood_hazard', u'remodify', u'remembering', u'stewart_title', u'annoy_abuse', u'autotrakk', u'nixon', u'statement!', u'love_beal', u'fraudently', u'transported', u'loads', u'given_ample', u'holding_accountable', u'awesome', u'rehabilitate', u'explored', u'without_limiting', u'deferment_forbearance', u'suffer_consequences', u'verbal_authorization', u'bills!', u'moneytree', u'pass_buck', u'freecreditreport', u'outlet', u'supermarket', u'anyway?', u'shocked_learn', u'friday_saturday', u'vandalism', u'sickness', u'caused_irreparable', u'occasional', u'nasty_attitude', u'expunge', u'ration', u'agencies?', u'dependents', u'brief_summary', u'ideally', u'incomprehensible', u'tricky', u'chain_events', u'destitute', u'remained_unchanged', u'apprised', u'duplicating', u'loan-to-value', u'bypass', u'bankruptcy_filings', u'infor', u'unqualified', u'introduction', u'completeness_accuracy', u'inspector_general', u'directives', u'showing_collection/charge', u'virus', u'tanked', u'avoidance', u'correcting_mistake', u'accured', u'averaging', u'owe?', u'plagued', u'glitches', u'sorting', u'reduces', u'separation_agreement', u'grossly_inaccurate', u'provisional_credits', u'supervise', u'impacting_ability', u'robots', u'arranging', u'retirement_benefits', u'detail_rather', u'ofthe', u'suppliers', u'soldiers_sailors', u'unwittingly', u'noticed_credit/loan', u'stars', u'argon', u'sourcing', u'buyer_walked', u'clear_concise', u'customer_advocacy', u'wholesale', u'young_woman', u'staring', u'medallion', u'checks_pertinent', u'condescending_tone', u'followed_directions', u'hardware', u'poor_quality', u'disservice', u'feel_trapped', u'evergreen_professional', u'outlets', u'desirable', u'dollars_cents', u'deeply_concerned', u'military_member', u'custodial_parent', u'1681g', u'pooling', u'medium', u'coins', u'procedures_assure', u'repot', u'satisfies', u'workable', u'dings', u'summarily', u'appreciative', u'subjects', u'cancel_subscription', u'establishments', u'continued_yell', u'warn_others', u'kept_pushing', u'material_facts', u'vsac', u'diversified_adjustment', u'tainted', u'saturday_sunday', u'repost', u'progressed', u'caps', u'great_detail', u'cool', u'incorrectly_calculated', u'seventh', u'afforded_rights', u'captured', u'retention_options', u'amortize', u'disputable', u'scored', u'unacceptable_behavior', u'black_mold', u'western_delbert', u'magazines', u'monitors', u'inevitable', u'understaffed', u'slap', u'jeopardy_losing', u'chances_getting', u'general_office', u'ncep', u'congressmen', u'quickpay', u'delete_tradeline', u'meeting_requirements', u'appealing_decision', u'sixth', u'malicious_intent', u'origional', u'constitute_fraud', u'fulfill_obligation', u'reappear', u'messy', u'costco', u'attributable', u'state_bridge', u'iras', u'transitioned', u'trainer', u'invalidate', u'add-on', u'menus', u'over-payment', u'knocking', u'imprisoned', u'manners', u'back-dated', u'statments', u'americas', u'stay_hotel', u'evasion', u'hires', u'quota', u'voluntarily_surrendered', u'former_landlord', u'kept_interrupting', u'utmost', u'beyond_statue', u'flagging', u'lasts', u'trucking', u'behaving', u'spousal', u'clark', u'announcing', u'imaging', u'discard', u'continue_harrass', u'police_officers', u'libor', u'telephonic', u'enclosures', u'wrapped', u'neck', u'robo-signers', u'comptroller_currency', u'corporation_punishment', u'argues', u'exchange_rates', u'unopened', u'robo_signer', u'accomplishing', u'robo-signer', u'encore_capital', u'northwest', u'mistake?', u'shed', u'pointless', u'marketplace', u'remodeled', u'compliance_officer', u'blue_book', u'large_sums', u'vhda', u'forms_fill', u'1692_alleged', u'army', u'arms', u'sold/transferred', u'curiosity', u'windshield', u'therapy', u'passcode', u'highly_embarrassing', u'featured', u'it!!!', u'customer?', u'kicker', u'read_mini', u'allen', u'courthouse_steps', u'receivable_performance', u'wheel', u'waterfall', u'intern', u'single-family', u'annoyance', u'amazingly', u'calculates', u'smartphone', u'impacted_ability', u'dishonestly', u'bank-servicer', u'authentic_signature', u'fell_deaf', u'downturn', u'obtains_verification', u'andthey', u'award_nights', u'again!!!', u'securitized_trust', u'points_spending', u'warner', u'affected_health', u'affordable_housing', u'investigation?', u'reassurance', u'anybody_else', u'unsecure', u'non-promotional', u'permanent_resident', u'respa_tila', u'compiling', u'section_fcra-they', u'twisted', u'license_utility', u'practical', u'corrected?', u'us!!', u'adult_life', u'browsers', u'tribute', u'bills_groceries', u'temporarily_lift', u'mtge', u'maps', u'lender/creditor', u\"that's\", u'perpetually', u'non-compliant', u'deteriorated', u'litigations', u'too?', u'laughable', u'interest_rate?', u'revive', u'mentality', u'response!', u'shutdown', u'supersede', u'hassling', u'square_foot', u'deductibles', u'hudson_city', u'application_foregoing', u'hint', u'embezzled', u'commute', u'messerli_kramer', u'earn_points', u'unfair!', u'sine', u'fill_forms', u'printouts', u'pre-modification', u'score_plummeted', u'chevrolet', u'lined', u'preclude', u'hour_grace', u'issues:1', u'whistleblower', u'demographic', u'inconsiderate', u'time-consuming', u'submited', u'disposable_income', u'described_subsection', u'reprocess', u'revoking', u'originally_quoted', u'e-loan', u'loaning', u'signatory', u'failed_adequately', u'accont', u'hanging_head', u'coin', u'illogical', u'metal', u'overpriced', u'condo_unit', u'promotional_financing', u'disgust', u'announce', u'synchony', u'lessen', u'fridays', u'careful_review', u'outside_source', u'niagara', u'benefit_doubt', u'maturing', u'sure_spelling', u'disperse', u'must_requisition', u'escrowed_taxes', u'proceed_accordingly', u'substitution', u'innumerable', u'upon_realizing', u'hurtful', u'hungry', u'uncertain_terms', u'trespass', u'pay!', u'portfolio_servicing', u'executrix', u'connections', u'obligor', u'termed', u'action?', u'inviting', u'pick-up', u'landlines', u'remain_effect', u'unprofessional_behavior', u'fabricate', u'travel_rewards', u'malfunctioning', u'barely_afford', u'reasoning_behind', u'incorporate', u'non-working', u'serious_allegations', u'common_pleas', u'advantageous', u'attitudes', u'pendant', u'food_table', u'negotiated_settlement', u'acknowledges_receipt', u'supervision', u'shots', u'intolerable', u'loops', u'accumulation', u'drive_thru', u'seventh_avenue', u'violate_fair', u'wilson', u'intimidating_harassing', u'sence', u'enduring', u'preservationist', u'remember_exact', u'coincided', u'gaining_access', u'schwab', u'developments', u'concurrently', u'bounces', u'working_americans', u'sheriffs_office', u'statment', u'misinforming', u'analyze', u'persue', u'empire', u'understatement', u'disposal', u'engineered', u'skyrocketed', u'summation', u'inclined', u'slamming', u'scenarios', u'retuned', u'layout', u'badger', u'complicate', u'frightening', u'slightly_lower', u'refiling', u'periodic_statements', u'section_1681', u'infiniti_financial', u'smart_connect', u'ensued', u'much_bigger', u'exploited', u'adjustment_bureau', u'swindle', u'arbitrator', u'layer', u'redeem_rewards', u'tuesday_morning', u'small_town', u'skip_trace', u'lendkey', u'verification/validation', u'negate', u'apps', u'interest_accrual', u'protesting', u'long-time', u'experiencing_hardship', u'treated_badly', u'down-payment', u'towns', u'became_argumentative', u'error!', u'numerical', u'right_validate/dispute', u'preferably', u'revisit', u'methodology', u'account-holders', u'gaming', u'significant_damage', u'stateing', u'corrects', u'what?!', u're-issue', u'potential_lenders', u'nelnet', u'losing_homes', u'shipments', u'long?', u'simplify', u'former_addresses', u'contributes', u'brown', u'irresponsibly', u'guide_lines', u'diverted', u'franchise', u'naviant', u'unnecessary_stress', u'expressly_authorized', u'find_interesting', u'????', u'rushing', u'enters', u'lengthy_conversation', u'fall_category', u'beings', u'willful_negligence', u'reclaim', u'divulged', u'introducing', u'virtue', u'detached', u'restaurants', u'explorer', u'emails_faxes', u'omitting', u'leather', u'million', u'padding', u'decided_terminate', u'cavalier', u'regret_inform', u'name_misspelled', u'foreseeable_future', u'detailslast_reported', u'3-day', u'anything?', u'southern_management', u'sub-servicer', u'false_accusations', u'pursue_litigation', u'process?', u'cust_serv', u'knowingly_willfully', u'fraud_perpetrated', u'meals', u'upon_arriving', u'rust', u'accents', u'spent_considerable', u'hurting_ability', u'pics', u'rights!', u'inflammatory', u'documents!', u'scramble', u'dual_tracked', u'employment_opportunities', u'charge!', u'jewlers', u'persevered_reporting', u'offline', u'this??', u'tight_budget', u'interviewed', u'receipts_canceled', u'headquartered', u'railroaded', u'automatic_dialer', u'failing_disclose', u'anther', u'occuring', u'slightly_higher', u'became_aggressive', u'safer', u'invented', u'regard_confidentiality', u'personal_bankers', u'quest', u'garnisheed', u'affirmatively', u'small_pension', u'lack_cooperation', u'graciously', u'extend_term', u'inhumane', u'hail', u'thugs', u'copys', u'magic', u'post_marked', u'extras', u'optima', u'outcomes', u'national_budget', u'chronological_order', u'something_wrong?', u'prosper', u'deteriorate', u'beyond_comprehension', u'providing_correction', u'behaved', u'accompany', u'steel', u'inquirys', u'stronger', u'vacancy', u'tolerance', u'systems_fams', u'universal_american', u'waivers', u'completeness', u'renew_lease', u'elderly_parents', u'compute', u'paydays', u'extreme_hardship', u'rural', u'affirm', u'allowed?', u'robosigning', u'benefits_letter?', u'inflating', u'vice_versa', u'hindsight', u'120+_days', u'correlate', u'vice-president', u'highlights', u'rules_favor', u'taxes_escrowed', u'fha/hud', u'rescore', u'board_directors', u'atm/debit_card', u'rejects', u'like_dirt', u'sarcastically', u'north_dakota', u'white_collar', u'treats_customers', u'constitutional_rights', u'discounted_rate', u'estoppel', u'edited', u'intimidation_tactics', u'selip', u'juniper', u'occupants', u'point?', u'bankrupted', u'situated', u'garages', u'matters_worse', u'mail!', u'scoring_system', u'telephonically', u'pre-payment', u'stairs', u\"'cease\", u'lack_integrity', u'cfpb!', u'sacrifice', u'navigating', u'roadblocks', u'municipality', u'additions', u'oppressive', u'proper_utilization', u'central_finl', u'asleep', u'gift_certificates', u'staffed', u'code_1681i', u'waited_patiently', u'financial_recoveries', u'dispatch', u'full?', u'autodialer', u'12-month', u'alleviate', u'nationstars', u'*please', u'night_benefit', u'leftover', u'superviser', u'underwriting_team', u'transitioning', u'citi_aadvantage', u'e-statements', u'intents', u'motion_dismiss', u'local_news', u'doubted', u'splitting', u'conscience', u'cosmetic', u'vacated_premises', u'terminally', u'consummated', u'pastdue', u'offender', u'minor_children', u'slap_face', u'in-full', u'progressing', u'full!', u'2yrs', u'restating', u'earn_extra', u'dishwasher', u'forensic_audit', u'copyright', u'specializing', u'collecter', u'footnote', u'reading_reviews', u'judiciary', u'test_drive', u'first-time', u'assists', u'urge_cfpb', u'sheet_paper', u'factually', u'checksmart', u'realization', u'waking', u'dropped_significantly', u'bookkeeper', u'foresee', u'blog', u'trade_commission', u'assessors_office', u'competing', u'auth', u'clean_slate', u'challenge_rescission', u'granddaughters', u'negotiable', u'fncb', u'logically', u'justifying', u'bull', u'sherriff', u'daughter-in-law', u'reminds', u're-evaluate', u'reapplying', u'topay', u'followed_advice', u'undetermined', u'safe_harbor', u'orig', u'deaths', u'surface', u'homeward/ocwen', u'illegally_foreclosing', u'statutory_damages', u'agentat_time', u'premium_asset', u'winn_group', u'30-90_days', u'hosting', u'astounding', u'obstruction', u'truck_driver', u'income?', u'digitally', u'mother_children', u'class_members', u'down?', u'pre-legal', u'down!', u'denied!', u'enclosure', u'definitive_answer', u'savvy', u'wearing', u'1681e', u'whole_mess', u'systems_international', u'negative_effects', u'interruptions', u'motto', u'false_pretense', u'lendgreen', u'particulars', u'guardianship', u'engaging_deceptive', u'entitles', u'grows', u'intervals', u'reportable', u'incidence', u'wiring_instructions', u'chargers', u'wrong_doings', u'allegedly_accrued', u'resurfaced', u'become_overdrawn', u'lied_deceived', u'incredulous', u'maximum_possible', u'agony', u'downsized', u'declared_chapter', u'shield', u'rattled', u'felt_comfortable', u'bankrupcty', u'drastically_reduced', u'publish_insist', u'regulatory_laws', u'proffered', u'incorrect!', u'altisource', u'travesty', u'stretched', u'precautions', u'laptops', u'companion', u'contractual_agreements', u'cornered', u'beyond_frustrating', u'incomm', u'relates_transaction', u'moderate', u'plead_case', u'liens_released', u'wiping', u'premier_recovery', u'film', u'invoking', u'floor_leader', u'formation', u'specialize', u'collection_actives', u'skip_question', u'aspire', u'offenses', u'to-date', u'hillcrest_davidson', u'paragraph_section', u'authorize_user', u'waive_deficiency', u'dust', u'roles', u'doubles', u'inaccurate_invalidated', u'benefiting', u'recycling', u'pamphlet', u'one-year', u'voluntary_dismissal', u'csden', u'3-way', u'audience', u'correctly?', u'taxing', u'restrictive', u'serval', u'worth_noting', u'frequent_repeated', u'negating', u'enrichment', u'hereto', u'goodwill_adjustment', u'comparable_properties', u'1681_fcra', u'armed_forces', u'grades', u'branch_manger', u'move-in', u'considerate', u'maximum_delinquency', u'telemarketer', u'redemption_period', u'expiration_5-day', u'sporadically', u'verification_purported', u'recommends', u'reciting', u'rearrange', u'final_decree', u'concurred', u'downstairs', u'rage', u'madam', u'greatly_affecting', u'5-year', u'aldous_associates', u'prevented_obtaining', u'concerns_addressed', u'payoff_figures', u'creditor_openopened', u'mathematically', u'entire_ordeal', u'accuracy_relevancy', u'reading_fine', u'packet_fill', u'supervisor/manager', u'it???', u'notifed', u'mask', u'misstated', u'like_clockwork', u'tacked_onto', u'incurs', u'dispense', u'nail', u'eligibility_requirements', u'pick_choose', u'befor', u'allegedly_related', u'maury_cobb', u'uninhabitable', u'became_belligerent', u'earn_miles', u'lodge', u'vacate_premises', u'situation!', u'faces', u'bureaucratic', u'*******************', u'transfering', u'brutal', u'york_mellon', u'securitization_audit', u'doorstep', u'armed', u'squeeze', u'assumption_packet', u'instructs', u'supv', u'unbiased', u'tested', u'traded_vehicle', u'least_dozen', u'aggressive_tactics', u'consult_attorney', u'morals', u'sharp', u'hassled', u'skirt', u'constitutes_harassment', u'coordinated', u'fully_insured', u'loans_colleges', u'financed_santander', u'1000', u'validation/verification', u'serv', u'please_help!!!!', u'fulfilled_obligation', u'e-sign', u'clowns', u'adverse_effect', u'step_step', u'reinvestigation_paragraph', u'adverse_factors', u'forecloses', u'irrespective', u'resolved?', u'constructed', u'drives', u'refuses_cooperate', u'sinkhole', u'risking', u'disrupt', u'financial_institute', u'loaner', u'reach_human', u'rearranging', u'lakeview', u'deteriorating', u'fish', u'award_night', u'reduction_program', u'weltman', u'pathetic', u'hippa_violation', u'federal_regulators', u'unfairness', u'cable_internet', u'remodeling', u'responsibility_clean', u'threaten_arrest', u'tri-state', u'date!', u'illegal!', u'dispensed', u'sueing', u'conforming', u'nationality', u'walking_around', u'sustainable', u'return_label', u'brick', u'grand_larceny', u'reason!', u'homework', u'authenticated', u'college_students', u'appropriate_authorities', u'taxing_authority', u'withing_days', u'prorate', u'interference', u'dodging', u'baited', u'perks', u'unnoticed', u'impressed', u'gouge', u'misrepresents', u'perfect_example', u'place?', u'corrective_actions', u'hangup', u'attached_screenshots', u'green_light', u'attached_sample', u'inaccessible', u'tomorrow_morning', u'comparable_sales', u'happened!', u'automatically_generated', u'inevitably', u'frontier', u'impartial', u'provident', u'homelessness', u'tacking_late', u'hud/fha', u'factors_adversely', u'judgement_vacated', u'amazon_rewards', u'relevancy', u'notice_acceleration', u'trademark', u'wild', u'incl', u'great_lengths', u'only!', u'hall', u'perpetual', u'side_story', u'meaningless', u'irony', u'writing?', u'1681n', u'inducement', u'rulings', u'outlawed', u'ensure_accuracy', u'leave_absence', u'fico_version', u'idle', u'equal_actual', u'aiding_abetting', u'protect_interests', u'late_fee!', u'series_events', u'respa_violations', u'diff', u'spin', u'contemplated', u'joint_tenancy', u'scra_benefits', u'tornado', u'despair', u'regional_adjustment', u'ecsi', u'adopt', u'quickens', u'endless_loop', u'competition', u'hose', u'downloading', u'joke!', u'breathing', u'isolated_incident', u'logon', u'hard_inquries', u'laundry', u'around!', u'tore', u'thumb', u'subscribers', u'sponsor', u'routes', u'servicemember', u'desired_outcome', u'foward', u'roof_replaced', u'comm', u'treated_respect', u'thousand', u'debilitating', u'ringer', u'restricting', u'string_along', u'supplementary', u'myloancare', u'apartment_rented', u'issued_provisional', u'javitch_block', u'aide', u'marketing_materials', u'younger_brother', u'walks', u'subtle', u'norm', u'highly_unethical', u'revenge', u're-faxed', u'skyrocket', u'implore', u'fargo_dealer', u'breaking_laws', u'exclusions', u'coding_error', u'degree_university', u'conditionally', u'hiday', u'purport', u'dumbfounded', u'alliedinterstate', u'balanced_owed', u'insertion', u'bathrooms', u'continously', u'seperated', u'quitclaim', u'scam?', u'netcredit', u'nobody_wants', u'empty_promises', u'upstart', u'pound', u'spite_repeated', u'yields', u'valley_national', u'residual_value', u'threatening_tone', u'mortgagees', u'biller', u'illustrated', u'yelled_hung', u'longstanding', u'planners', u'extended_periods', u'staggering', u'properly_evaluate', u'90-day', u'stem', u'reappraisal', u'lock-in_agreement', u'fifteen_minutes', u'vehicle_registration', u'young_adult', u'habitually', u'usdoj', u'legislative', u'later!', u'extraordinarily', u'later?', u'what-so-ever', u'vultures', u'curiously', u'uniform_commercial', u'brink', u'prohibition', u'intervening', u'taunting', u'significantly_reduced', u'credt', u'funding_source', u'2018', u'valuations', u'up-front', u'if/when', u'experien', u'sleep_night', u'expand', u'strive', u'netspend_prepaid', u'nerves', u'indications', u'springs', u'intentionally_misleading', u'tracer', u'forfeiture', u'father-in-law', u'agreed-upon', u'lookup', u'suppress', u'loans_disb', u'basic_inaccuracies', u'negatively_effecting', u'onus', u'non-interest_bearing', u'exempted', u'1991', u'1-year', u'indirectly', u'fudge', u'midlands', u'guess_what?', u'citi_thankyou', u'documentation?', u'innovative', u'understated', u'rights_reserved', u'tampering', u'consent_publish', u'oppose', u'abuse_power', u'john', u'identity_thieves', u'concent', u'preventing_moving', u'painfully', u'skymiles', u'optimum', u'afloat', u'exhausted_efforts', u're-review', u'upkeep', u'disappears', u'disclaimers', u'accept_letter?', u'emphasis', u'realm', u'refused!', u'lapses', u'know!', u'newspapers', u'illegal_usage', u'crown', u'negotiators', u'across_board', u'tiered', u'immediate_effect', u'childhood', u'dish_network', u'ethic', u'inefficiency', u'james', u'outrageously', u'flipping', u'-paid', u'excessive_obligations', u'callous', u'surname', u'citbank', u'distorted', u'successful_completion', u'layoffs', u'worrisome', u'cram', u're-modify', u'resorting', u'charge?', u'enhance_recovery', u'transmitting', u'chip_enabled', u'either!', u'outsource', u'collective', u'conducts', u'falsehood', u'hacks', u'meade_associates', u'conservative', u'supervised', u'ashro', u'in-store_purchases', u'balancing', u'binds', u'exceptionally', u'barred_statute', u'caught_guard', u'chip_cards', u'intervene_behalf', u'airfare', u'fair!', u'presiding_judge', u'columbia', u'engaging_unfair', u'phoenix_financial', u'threatened_wage', u'third_fourth', u'myfico', u'taxable', u'beyond_belief', u'sentences', u'pre-trial', u'verbal_abuse', u'stalked', u'compounded_daily', u'boils', u'withe', u'highly_suspect', u'plummeted', u'dialing_system', u'firstmerit', u'different_versions', u'getting_run-around', u'(???', u'haunting', u'herewith', u'terminology', u'bureau?', u'connects', u'infuriating', u'global_client', u'serveral_times', u'spending_requirement', u'violations_tila', u'mandatory_steps', u'unirush', u'pocket_expense', u'attorney-in-fact', u'excludes', u'print_screen', u'leaves_messages', u'transmit', u'expressed_frustration', u'testified', u'blindsided', u'lendingtree', u'stemmed', u'imortgage', u'misdirected', u'acccount', u'retry', u'autopayment', u'passing_buck', u'thinking_maybe', u'1995', u'hassles', u'processer', u'prevailing', u'stable_income', u'betrayed', u'certificate_holders', u'arduous', u'tdus', u'knocking_door', u'insurmountable', u'questioned_validity', u'impersonated', u'court!', u'joint_tenants', u'-this', u'class-action', u'suspiciously', u'dissolution', u'fronts', u'rescue', u'who?', u'enhance', u'andthat', u'movies', u'frantic', u'shirt', u'destructive', u'oweing', u'twitter', u'surcharges', u'highly_suspicious', u'bony', u'resolve_issue?', u'transact_business', u'competitors', u'visitor', u'folded', u'coast', u'excellent_condition', u'debt-', u'non-federal', u'mismanaging', u'late_feetotals', u'uncertainty', u'interested_purchasing', u'fredrick_hanna', u'cann', u'reposessed', u'hud-1_settlement', u'almost_doubled', u'automatically_removes', u'year-old', u'designate', u'inflicting', u'perpetuated', u'discomfort', u'amcol_systems', u'soft_pulls', u'asc/wells_fargo', u'campus_partners', u'causing_severe', u'stripping', u'misread', u'taxable_income', u'forensics', u'earthquake', u'undersigned', u'summons_served', u'lieing', u'afforded_opportunity', u'mitigate_damages', u'specificity', u'temporary_credits', u'report/score', u'turned_keys', u'jumping_hoops', u'caseworker', u'viewable', u'shocked_hear', u'mortgae', u'accounts!', u'non-receipt', u'college_tuition', u'mindful', u'encryption', u'vechile', u'failure_discharge', u'incarceration', u'alimony', u'clue_talking', u'injured_party', u'co-applicant', u'spreading', u'welles_fargo', u'different_cities', u'feed_kids', u'resembles', u'facing_eviction', u'enjoying', u'universal_acceptance', u'presumption', u'owed?', u'tracking_clause', u'prepayments', u'sucks', u'post-petition', u'stacking', u'perform_proper', u'checks_bounce', u'coaf', u'egregiously', u'paycheck_stub', u'setback', u'scheduled_appointment', u'premier_rewards', u'pre-recorded', u'matters_hands', u'nonrefundable', u'dysfunctional', u'sill', u'transferee', u'renews', u'reconsidered', u'prosecuting', u'vent', u'astonishment', u'homes_area', u'engaged_deceptive', u'address_indentification', u'charges!', u'automatic_renewal', u'unannounced', u'cramming_charges', u'ineptness', u'truely', u'executive_team', u'diners_club', u'mailers', u'bogman', u'credits_debits', u'co-payment', u'bedroom_apartment', u'scrape', u'overlooking', u'laws?', u'rescission_effective', u'rescheduling', u'converter', u'seamless', u'favorite', u'fulfillment', u'recklessly', u'qualify_conventional', u'enclose_copies', u'reinserted_previously', u'reconvey', u'meridian', u'duplicate_posting', u'hail_damage', u'adding_insult', u'fluctuates', u'pllc', u'chased', u'realistically', u'adjusts', u'fcra_1681i', u'morgan/chase', u'annual_salary', u'statutes_limitations', u'oracle', u'description_happened?', u'local_authorities', u'unwilling_listen', u'reputations', u'busted', u'introductory_period', u'certificate_satisfaction', u'proxy', u'orange', u'welcoming', u'result_vulnerabilities', u'deceptive_acts', u'recommending', u'financial_adviser', u'validations', u'decease', u'mini_cooper', u'boards', u'chronic', u'lender?', u'older_brother', u'unintelligible', u'ruin_peoples', u'period!', u'period?', u'affidavit_notarized', u'reiterating', u're-pay', u'automobile_accident', u'interested_buying', u'absolute_nightmare', u'used?', u'shoot', u'untold', u'park_view', u'tired_harassed', u'relisted', u'carecredit/synchrony', u'filter', u'write_myself?', u'10th', u'continuously_intent', u'tila_regulation', u'urge_remove', u'encore', u'crime_committed', u'patronizing', u'released_liens', u'resolution_issue?', u'made!', u'teenager', u'informative', u'gifted', u'reevaluate', u'million_dollars', u'behind_scenes', u'attornies', u'vigorously', u'wasted_much', u'california_franchise', u'threatning', u'tenancy', u'brick_wall', u'shopped_around', u'maxing', u'client_relations', u'reage', u\"''credit\", u'preditory', u'terrifying', u'co-branded', u'donation', u'heinous', u'limit?', u'abusive_behavior', u'solomon_solomon', u'multiplied', u'disrespectfully', u'exposed_personal', u'preditory_lending', u'pilot', u'lumped', u'vantage', u'violent', u'substandard', u'closing_coordinator', u'severed', u'complied_requirements', u'lack_accountability', u'intro', u'call!', u'directors', u'completion_re-investigation', u'manage_finances', u'district_florida', u'company!!', u'themself', u'section_titled', u'unblemished', u'sentry', u'lingering', u'biggest_concern', u'copper', u'unusually', u'type-deposit', u'hill', u'probated', u're-file', u'reguarding', u'cross_reference', u'thread', u'seeming', u'unsubsidized', u'interact', u'information-', u'thebank', u'suspect_internet', u'civil_litigation', u'interfered', u'havoc', u'flatly_refused', u'reasons_frivolous', u'30day', u'youth', u'reassessed', u'conception', u'fundamentally', u'cement', u'promissed', u'retro', u'deadbeats', u'absolute_worst', u'recited', u'internet_connection', u'illegally_re-aged', u'gainful_employment', u'experians', u'scrutinized', u'rains', u'towers', u'mock', u'caller_identified', u'fortunate', u'moments_later', u'surrendered_vehicle', u'arrogantly', u'inspecting', u'2924', u'theif', u'spread_sheet', u'reissuing', u'knock_door', u'feel_uncomfortable', u'seeks_collect', u'confrontational', u'party_contractually', u'felt_discriminated', u'depreciation', u'copious', u'undertaken', u'debating', u'notarized_affidavits', u'assigned_negotiator', u'insults', u'underage', u'acknowledge_account/debt', u'considered_frivolous', u'obligations_furnishers', u'attained', u'strong_tactics', u'transacting', u'boom', u'raining', u'sinking', u'cooking', u'negates', u'have!', u'requires_immediate', u'fruad', u'presiding', u'homebuyers', u'auditors', u'zoning', u'causing_unnecessary', u're-enroll', u'ultimate_goal', u'divorcing', u'transaction?', u'untrained', u'line-of-credit', u'brother_sister', u'haste', u'eagerly', u'abreast', u'century_link', u'rico', u'fein', u'patch', u'them-', u'warrant_issued', u'adjusted_reflect', u'engine_light', u'caught_middle', u'loans!', u'golden', u'standards_attaching', u'boiler', u'sleepy', u'ideas', u'stock_market', u'caregiver', u'casually', u're-payment_plan', u'overhead', u'underestimated', u'fdcpa_169g', u'disorganization', u'veterinary', u'participates', u'default?', u'depository', u'injunctive_relief', u'marriott_rewards', u'hides', u'shockingly', u'faults', u'correcting_errors', u'flustered', u'inquiry_shoul', u'bills?', u'bumped', u'williams', u'burst', u'drywall', u'dutifully', u'congratulations!', u'withing', u'job?', u'satisfactory_explanation', u'seriously_considering', u'mileage_plus', u'expended', u'concede', u'anti-deficiency', u'significant_risk', u'else!', u'seturus', u'mail-in', u'upromise', u'destroys', u'widowed', u'do???', u'lost_misplaced', u'blessing', u'seriousness', u'populate', u'waives', u'laying', u'sunwest', u'authenticating', u'authorized_users', u'non-sufficient_funds', u'cousins', u'traumatized', u'patio', u'negotiating_settlement', u'reassure', u'hereafter', u'hosp', u'condos', u'non-judicial', u'arbor', u\"'payment\", u'expanded', u'mercedes-benz', u'inhouse', u'text_alerts', u'instructors', u'hometown', u'outside_federally', u'world_wide', u'inthe', u'worsened', u'herd', u'walk-through', u'blatantly_lied', u'bomb', u'dislike', u'animals', u'brumbaugh_quandahl', u'exhausted_avenues', u'competence', u'saturdays_sundays', u'realizes', u'mute', u'2017', u'yous', u'citigold_checking', u'accountis', u'bird', u'three-way', u'several_rounds', u'end!', u'once!', u'investment_group', u'misspelled', u'fcba_fcra', u'relate_transaction', u'tangible_benefit', u'disput', u'much?', u'cash-out_refinance', u'infinity', u'patterns', u'rosen', u'documention', u'appraising', u'accelerating', u'carbon_copy', u'reimbursements', u'over-the-limit', u'imaginary', u'assest', u'double_wide', u'restricts', u'agian', u'bilateral', u'slowing', u'agains', u'preparer', u'hungup', u'unemployable', u'chex', u'impeding', u'1993', u'1994', u'data_breaches', u'offshore', u'infested', u'w/my', u\"'original\", u'causing_emotional', u'perfectly_clear', u'inter', u'expressed_desire', u'internally_externally', u'similarly_situated', u're-investigated', u'unsophisticated', u'unfrozen', u'dent_principal', u'emergency_surgery', u'rmma', u'supervisor?', u'highly_inappropriate', u'same-day', u'renders', u'colored', u'avoids', u'devalued', u'primary_resident', u'stringent', u'corporate_advances', u'swears', u'misinterpreted', u'help!!!!', u'intermittently', u'fhhf', u'entails', u'past_due!', u'legs', u'them!!!', u'automobiles', u'mortgaging', u'curse', u'camera_footage', u'payoff_quotes', u'workman_compensation', u'mobil', u'buttons', u'obsolescence', u'falsely_accusing', u'minor_child', u'rules_regulation', u'enlisted_help', u'speeding', u'failing_comply', u'diagnostic', u'creditability', u'drink', u'alarm_system', u'00}??', u'mycash', u'regaining', u'again!!', u'meet_deadline', u'in-school', u'urban', u'horrifying', u'scholarships', u'as-is', u'angered', u'impairing', u'demographics', u'lack_respect', u'thereby_increasing', u'night_exclusively', u'charger', u'disbursing', u'senseless', u'peak', u'wrong!!', u'laundering', u'fortune', u'innocence', u'motors_finance', u'nobody_knows', u'healthcare_provider', u'tones', u'gold_points', u'accordance_applicable', u'reneging', u'reaffirming', u'apologizes', u'successors', u'flaws', u'green_planet', u'trust?', u'launch', u'team_leader', u'choosing_accept', u'discriminating_based', u'sneak', u'inconceivable', u'scaring', u'clicked_submit', u'discloser', u'accepting_his/her', u'lord', u'retired_military', u'backed_securities', u'translation', u'velocity', u'assaulted', u'bankruptcy!', u'boost', u'servicer/lender', u'number_geographical', u'divorce_finalized', u'rudely_hung', u'ridiculously_high', u'helloi', u'pleadings', u'synopsis', u'technicians', u'bounce_checks', u'irresponsibility', u'appealed_denial', u'letter_inappropriate?', u'caretaker', u'fraud_inducement', u\"'free\", u're-inserting', u'defendant_plaintiff', u'closeout', u'strong-arm', u'addressee', u'completely_untrue', u'recall_wire', u'famous', u'tome', u'unaddressed', u'simon_agency', u'chunk', u'refund?', u'fafsa', u'bona_fide', u'unfinished', u'accuses', u'illegally_commenced', u'honda_accord', u'income_ratios', u'username', u'shoulders', u'doesnt_belong', u'payment-', u'ineligibility', u'proof!', u'occupy_property', u'magistrate_court', u'articulate', u'recruiter', u'reason?', u'adjusted_accordingly', u'deter', u'15-20', u'make_headway', u'brock_scott', u're-rented', u'adverse_impact', u'vicious_circle', u'aligned', u'ethnicity', u'roof_head', u'tothe', u'cred', u'confidently', u'unregistered', u'week!', u'collecton', u'runarounds', u'defeats_purpose', u'deems', u'hoop', u'account!!!', u'including_weekends', u'fourteen_days', u'kondaur_capital', u'newly_created', u'20-30', u'favors', u'reviewer', u'suited', u'perfect_condition', u'deferrment', u'aske', u'complete_fabrication', u'play_rules', u'depleted_savings', u'unrated', u'resuming', u'alluded', u\"service'r\", u'locator', u'noticeable', u'bounds', u'investor_participate', u'cheapest', u'else?', u'retirement_fund', u'costing_thousands', u'intense', u'2years', u'takes_7-10', u'markings', u'primary_residential', u'medial', u'east_coast', u'standby', u'sdor', u'girlfriends', u'fortunate_enough', u'agancy', u'boundaries', u'infrastructure', u'trolling', u'workshop', u'doing?', u'thethe', u'reentry', u'careers', u'enquired', u'dates?', u'title_dodd-frank', u'flyers', u'automatic_recurring', u'violence', u'coverages', u'hybrid', u'-and', u'verifiable_accurate', u'walmart/synchrony', u're-insertion', u'unreported', u'diferent', u'formality', u'mortg', u'sections_fair', u'addressing_concerns', u'fictional', u'changed_minds', u'supplement_income', u'habits', u'criminal_prosecution', u'longtime', u'straighten_mess', u'slandered', u'skrill', u'favorably', u'sizable', u'tired_fighting', u'discriminatory_lending', u'service?', u'escalations_team', u'extensive_research', u'signup', u'refusals', u'pre-pay', u'11th', u'clerical', u'hasbeen', u'breech_contract', u'elimination', u'2015-', u'played_games', u'following_reasons:1', u'repossesed', u'verification?', u'genworth', u'piled', u'spring_leaf', u'bracket', u'score_tremendously', u'itemizing', u'minors', u'stephens', u'simple_search', u'sing', u'minutes_apart', u'weekday', u'circumstances_beyond', u'direct_conflict', u'employs', u'antedate', u'promotional_expiration', u'10-day', u'industries', u'me??', u'pop-up', u'expressing_concern', u'correct_spelling', u'purchased_mattress', u'keep_renewing', u'nice_lady', u'senior_specialist', u'solving_issue', u'598c', u'redlining', u'analytics', u'puget_sound', u'home!!!', u'violated_provisions', u'pointing_fingers', u'modification_application?', u'fixes', u\"won't\", u'ruse', u'reprimand', u'seasoned', u'us!!!', u'60days_late', u'allocating', u'shuts', u'airline_miles', u'workforce', u'blocked_accessing', u'attny', u'teamworks', u'happen!', u'await_reply', u'detailing_specific', u'preyed', u'simply_re-aging', u'preyed_upon', u'negotiator_assigned', u'vastly', u'calif', u'severe_damage', u'stared', u'contentions', u'fulltime', u'tila_1641', u'financial_struggles', u'ernest', u'culpability', u'pre-recorded_message', u'rental/leasing', u'thatthe', u'exhibit_attachment', u'doctrine', u'exwife', u'seminar', u'unencrypted', u'phone?', u'termite_inspection', u'companies?', u'inconvience', u'discovers', u'imposter', u'victimizing', u'probe', u'drugs', u'grateful_step', u'depo', u'unrecognized', u'centre', u'unfortunate_circumstances', u'auto_dial', u'located_arizona', u'unbeknown', u'attesting', u'recive', u'verve', u'prejudicial', u'blemishes', u'aldridge_pite', u'funds!', u'case!', u'award_miles', u'wrecking', u'obtained_duress', u'graduating_college', u'representitive', u'nonprofit', u'transunions', u'inasmuch', u'1005', u'merrill', u'petitions', u'represenatives', u'cover_tuition', u'dining', u'precluded', u'intent_commit', u'30-year_fixed', u'untrustworthy', u'car-mart', u'care_credit/synchrony', u'two-year', u'discrepency', u'bussiness', u'individual_accountaccount', u'machol_johannes', u'charge_off/', u'savings_depleted', u'announcement', u'nelson_kennard', u'address-', u'phoenix', u'all?', u'supervising', u'extremely_dissatisfied', u'obtains', u'spends', u'call?', u'english_language', u'dist', u'experiencing_technical', u'****', u'suddenly_appeared', u'voids', u'lining', u'hereby_ordered', u'unlawful_detainer', u'commits', u'invoicing', u'abhorrent', u'bcfp', u'conspiring', u'flowers', u'repossessions', u'citimortage', u'education_services', u'regained', u'phoenix_recovery', u'obvious_reasons', u'swearing', u'referee', u'modfication', u'mistake!', u'approval_participate', u'damage_reputation', u'cheques', u'meds', u'improperly_handled', u'cautious', u'mountains', u'department?', u'unjustifiably', u'astoria_federal', u'and/', u'within_30days', u'spoof', u'verfied', u'networks', u'large_lump', u'expansion', u'fcra_legislation', u'monthsmonthly', u'swbc', u'condo_questionnaire', u'nissan_altima', u'cut-off', u'timeframes', u'duel', u'violator', u'rolls_around', u'independent_contractor', u'fcpb', u'moth', u'disarray', u'certifications', u'tdbank', u'robo_signers', u'policeman', u'kickback', u'contour', u'definite_answer', u'florida_statue', u'true!', u'goes_straight', u'furnishes', u'politicians', u'complaint/dispute', u'principal_dwelling', u'auctions', u'kohn_firm', u'charts', u'nickel', u'60-days', u'located_nevada', u'layed', u'state_mississippi', u'presently_future', u'start_fresh', u'wffb', u'indefinite', u'rip-off', u'refusing_cooperate', u'frauded', u'cordial', u'goodness', u'lies_deception', u'tossed_around', u'auto_drafts', u'economy_crashed', u'pointing_finger', u'report-', u'negated', u'permanently_timeline', u'contents_locker', u'visiting_branch', u'carefully_reviewing', u'conspicuously', u'stallings_financial', u'accountability_responsibility', u'lustig_glaser', u'gross_incompetence', u'explicit_instructions', u'prime_plus', u'difficult_manage', u'background_identification', u'chosen_ignore', u'addressing_concern', u'middle_buying', u'retain_lawyer', u'unrecognized_private', u'purposely_delaying', u'west_virginia', u'senators_speaker', u'whichever_greater', u'retail_escalation', u'granted_motion', u'continues_rise', u'unnecessary_delays', u'natural_disaster', u'suffered_severe', u'stop_bothering', u'traffic_violations', u'sunday_night', u'distressed_included', u'wild_goose', u'enforcing_rights', u'bear_mind', u'follow_methodology', u'trinity_financial', u'damage_infliction', u'sticker_price', u'advocate_behalf', u'huge_inconvenience', u'undue_influence', u'photo_copies', u'area_prefer', u'easy_deals', u'clock_starts', u'veteran_affairs', u'product_protector', u'allianceone_receivables', u'guidelines_re-aging', u'timelines_items', u'left_stranded', u'historical_data', u'wage_assignment', u'dial_tone', u'identification_purposes', u'credit-reporting_agencies', u'email_inordinately', u'turn_keys', u'utilizes', u'expeditious', u'extremely_slow', u'drivers_licence', u'major_inconvenience', u'contend_inquiries', u'zwicker_associates', u'becoming_homeless', u'itemized_breakdown', u'hard-earned_money', u'7-day_trial', u'college_attended', u'pre-paid_cards', u'prosecute_fullest', u'humble_request', u'recorded_quality', u'sirs', u'income-based_repayment', u'sign_subordination', u'lift_stay', u'fiscal_year', u'billions_dollars', u'condor_capital', u'wilshire', u'timeline_maintain', u'booked_hotel', u'clerical_errors', u'referred_paragraph', u'allegations_potential', u'responsibilities_fairness', u'compensation_damages', u'declaratory_action', u'forced_retire', u'littered_requests', u'life_upside', u'return_router', u'reflecting_negatively', u'notary_stamp', u'10-year_rule', u'assets_liabilities', u'oddly_enough', u'evidence_noncompliance', u'remedying_situation', u'servicemembers_civil', u'royal_united', u'pure_harassment', u'right_survivorship', u'stand_lose', u'usps_priority', u'willing_testify', u'vulgar', u'intentions_re-aging', u'least_heretofore', u'whole_bunch', u'treble_damages', u'offerings_normal', u'overly_aggressive', u'upper_level', u'certain_percentage', u'termite', u'charity_care', u'make_amends', u'aforementioned_violations', u'deemed_necessary', u'30-60', u'1681s-2_1681s-2', u'removed_mandatory!!!', u'period_ends', u'credit/debit', u'election_waiver', u'attitude_towards', u'platinum_mastercard', u'atlantic_recovery', u'unexpected_medical', u'aiding', u'ratified', u're-aged_extending', u'code_2923', u'disputing_acknowledging', u'exclude_gift', u'unlawfully_accessed', u'timeline_carries', u'commission_levied', u'hacked_scottrade', u'party_involve', u'treated_horribly', u'detailed_description', u'brand-new_collection', u'intent_failing', u'greatly_appreciated!', u'timeline_extensions', u'investigation_accounts?', u'misrepresenting_character', u'house_burned', u'detailed_breakdown', u'unemployment_compensation', u'invasion', u'swimming_pool', u'means_stalling', u'circumstances_surrounding', u'lies_deceit', u'song_dance', u'debt-collection', u'mothers_maiden', u'feet_financially', u'removal_deadline', u'physical_therapy', u'clear_conspicuous', u'pre-paid_debit', u'replacement_identification', u'related_aforementioned', u'adopt_implement', u'rolls', u'libor_rate', u'regard_hereby', u'copy_paste', u'effecting_ability', u'patiently_waited', u'litigate_courts', u'judge_ruling', u'homes_neighborhood', u're-investigation_determine', u'town_hall', u'determine_eligibility', u'inquires_effect', u'technical_glitch', u'proper_protocol', u'sleepless_nights', u'square_feet', u'soldiers', u'keeps_rising', u'premier_portfolio', u'rear_ended', u'sole_provider', u'college_graduate', u'everyone_knows', u'forced-placed_insurance', u'reward_miles', u'zenco', u'earliest_convenience', u'neutral', u'force_placing', u'assessor_office', u'simply_cutting', u'comfortable_giving', u'reconsider_decision', u'trade_lime', u'prepaid_gift', u'collected_maintained', u'negatively_effected', u'corporation_rule', u'financial_advisors', u'facts_contained', u'upon_deaf', u'appreciate_prompt', u'prerecorded', u'hotel_reservation', u'talking_brick', u'citi_dividend', u'state_maine', u'tiles', u'thrown_away', u'timeline_running', u'conditional_acceptance', u'school_registrar', u'strongly_suggest', u'playing_field', u'designed_manipulation', u'super_points', u'mitigation_application', u'slander_title', u'prop', u'proof_detention', u'false_certification', u'constitutes_grounds', u'motion_cancel', u'attesting_fact', u'circled_items', u'willing_cooperate', u'withdrawal_slip', u'registrar', u'defaming', u'hassle_free', u'trying_squeeze', u'sir/madam', u'award_stay', u'cmre_finance', u'self-enforcing', u'kohn', u'stable_employment', u'commencement_delinquency', u'mixer', u'night_award', u'abusive_integrity', u'believed_identification', u'rude_obnoxious', u'reads_follows', u'platinum_select', u'american_educational', u'bankamericard', u'retrieval', u'paycheck_garnished', u'without_awareness', u'validate_allege', u'protected_jurisdictions', u'sets_forth', u'speak_manager/supervisor', u'bench_warrant', u'head_water', u'workout_relief', u'remains_unchanged', u'flagrantly_violating', u'definitely_produce', u'safeguards', u'jointly_owned', u'chapter_subchapter', u'providing_venue', u'dropping_points', u'outcome_letter?', u'order_maximize', u'asset-backed_certificates', u'restraining', u'bold_letters', u'disciplinary_action', u'plaintiff_defendant', u'highly_unusual', u'irrefutable_proof', u'proceeded_yell', u'upon_graduating', u'theft!', u'fourteen', u'verifying_accuracy', u'administrative_judge', u'greenlight_loans', u'flat_lied', u'complying_fdcpa', u'above-referenced_state', u'dryer', u'discrimination_homeowners', u'service_re-issuing', u'proper_reinvestigation', u'public_stat', u'obscene_language', u'relief_scra', u'agreement_bears', u'publicly_available', u'controls_place', u'specifically_dual', u'join_class', u'including_sundays', u'considerably_less', u'state_wisconsin', u'cloud_title', u'sixth_anniversary', u'trailing_interest', u'detained', u'weekends_holidays', u'reinvestigation_summary', u'blah', u'preservation_team', u'rude_arrogant', u'around_corner', u'unusually_high', u'considered_detrimental', u'comprehension', u'trustee_beneficiary', u'defined_section', u'highest_bidder', u'upload_supporting', u'emphasis_added', u'brings_total', u'field_study', u'checkings', u'exercise_grave', u'grad', u'violated_1692e', u'submit_button', u'request_admissions', u'dispensed_manner', u'enacted_express', u'governor_office', u'understanding_relevant', u'extend_worthiness', u'class-action_lawsuit', u'source_unreliable', u'treated_differently', u'spam_folder', u'electric_water', u'declaratory', u'thanks_listening', u'specific_notary', u'control_technology', u'dance', u'straight_voicemail', u'addresses_associated', u'non-profit_organization', u'concrete_answers', u'helm_associates', u'continues_grow', u'impartiality_respect', u'lenderlive_network', u'fining', u'timeline_seven/ten', u'damaging_effects', u'condo_assoc', u'accurate_commercial', u'signature_performance', u'enrolled_paperless', u'funeral_expenses', u'consult_legal', u'reservation_hotel', u'government_bailout', u'1681_originally', u'provider_account?', u'seem_unusual', u'experienced_significant', u'pass_inspection', u'ambulance_ride', u'integrated', u'permanently_modified', u'liens_fining', u'highest_lowest', u'banks_bailed', u'45-60_days', u'evidence_supports', u'teller_window', u'meaningful_employment', u'vision_financial', u'harley_davidson', u'shall_furnish', u'compliant_rules', u'honorable_judge', u'udaap_violation', u'fingers', u'attn_cfpb', u'permanently_limited', u'clearly_identifies', u'mentally_physically', u'unpaid_invoices', u'meet_qualifications', u'california_compromising', u'misrepresentation_facts', u'prepayment_penalties', u'stayed_hotel', u'start_repaying', u'financial_setback', u'idenity', u'finish_degree', u'serious_illness', u'fulfilled_obligations', u'foreign_accent', u'peoples_united', u'bonneville_collections', u'failing_perform', u'drivers_utility', u'code_1785', u'roof_replacement', u'improperly_unfairly', u'substantiate_representations', u'rude_hostile', u'engage_conduct', u'med-1_solutions', u'intentionally_delayed', u'licensed_appraiser', u'assignment_executed', u'authenticated_evidence', u'assessors', u'toyota_prius', u'90days_worst', u'talking_wall', u'activation_code', u'elaborate_scheme', u'mentioned_herein', u'makes_distinction', u'basic_math', u'cease_decease', u'roof_leaking', u'acres_land', u'completely_unresponsive', u'switching_banks', u'doctor_visit', u'supreme_lending', u'free_movies', u'execution_certificate', u'federal_regulator', u'stomach', u'chief_compliance', u'offering_discount', u'elder_abuse', u'impeding_ability', u'user_password', u'thank_you!!', u'morning_noon', u'blah_blah', u'northstar_location', u'report-_unauthorized', u'human_constitutional', u'section_1681i', u'includes_engaging', u'disclose_nature', u'serious_delinquencies', u'barclay_arrival', u'negatively_affects', u'passport_driver', u'snap', u'purchased_laptop', u'beyond_7-year', u'rushcard_prepaid', u'prescreened_offer', u'respa_regulations', u'draw_schedule', u'stolen_co-op', u'obscene_profane', u'fica_score', u'trinity', u'actively_collecting', u'violation_1785', u'monday_holiday', u'severely_affecting', u'seven/ten_year', u'positive_outcome', u'seemed_strange', u'ponzi_scheme', u'documentary', u'failing_abide', u'taken_aback', u'vacation_rental', u'*transunion_*transunion', u'nations_star', u'discriminatory_nature', u'unearned_income', u'inaccuracies_follows', u'taped_door', u'engagement', u'discriminatory_acts', u'fcra_fcdpa', u'rate?', u'bought_wachovia', u'flat_refusal', u'grandmother_passed', u'savings_bonds', u'lodge_formal', u'designed_protect', u'resolution_sight', u'hanna', u'horizon', u'subjected_similar', u'breaking_denying', u'pursuant_tila', u'commonly_known', u'wakefield', u'postpone_trustee', u'paycheck_paycheck', u'appointed_executor', u'domain', u'marital_status', u'security_flaws', u'absolute_requirement', u'downward_spiral', u'campus_student', u'medical_facilities', u'subscriptions', u'representations_1692e', u'boot_list', u'driver_passenger', u'married_divorced', u'bunch_crooks', u'structural_damage', u'capital_venture', u'female_voice', u'percent_percent', u'logical_explanation', u'transmitted_data', u'creditor_classification', u'probability', u'quantum', u'available_authentic', u'operator_oracle', u'declarations_page', u'viable_solution', u'exists_civil', u'fast_food', u'parents_cosigners', u'garnished_paycheck', u'bonded_collect', u'accelerated_receivables', u'housing_counselors', u'doctor_appointments', u'reinstatement_figures', u'physical_possession', u'american_eagle', u'profane_language', u'concert_tickets', u'phishing_attempt', u'failing_adhere', u'intimidating_threatening', u'action_suit', u'180-day', u'stolen_idenity', u'well-being', u'maintain_accuracy', u'beyond_doubt', u'adversely_affects', u'protecting_consumers', u'national_commercial', u'intercede', u'vulgar_language', u'association_dues', u'shopper', u'secondary_market', u'vicious_cycle', u'voice_recordings', u'east_west', u'pick_equipment', u'governing_body', u'aadvantage_miles', u'unreasonable_demands', u'use?', u'preferred_method', u'recored', u'warner_asset', u'print_outs', u'stepped_foot', u'data_breech', u'rental_cars', u'receivable_recovery', u'statute_frauds', u'rectified_hoping', u'identifiable_event', u'breach_fiduciary', u'prepaid_redcard', u'loaded_onto', u'deaf', u'phillips_cohen', u'passwords_encrypted', u'believe_posses', u'yielded_results', u'factually_inaccurate', u'congress_passed', u'foster_garbus', u'expired_tradeline', u'vehicle_towed', u'sustained_overdraft', u'reseller', u'standard_operating', u'rule_favor', u'claim_patently', u'requirement_imposed', u'bold_face', u'2009_2009', u'abusing_power', u'local_grocery', u'individualbalance_balance', u'clear_spring', u'family_endured', u'revolving_revolving', u'loved_ones', u'suffered_tremendously', u'career_field', u'inability_secure', u'condominium_unit', u'counterfeit_foreign', u'wyndham', u'application?', u'special_treatment', u'special_endorsement', u'personally_identifying', u'door_knob', u'lied_cheated', u'ruin_chances', u'suttell_hammer', u'smart_enough', u'poverty_level', u'debt?_please', u'double_triple', u'field_agents', u'vulnerabilities', u'licensed_conduct', u'perform_diligence', u'life_miserable', u'dominion_associates', u'played_role', u'first_horizon', u'retaliatory_action', u'inconsistent_across', u'hope_hotline', u'unethical_perhaps', u'awarded_bonus', u'asking_handout', u'knocked_door', u'conducting_research', u'quite_sometime', u'credit-reporting', u'reporting_repository', u'largest_smallest', u'hurting_chances', u'straw', u'website_http', u'condo_building', u'fall_deaf', u'convert_chapter', u'personal_vendetta', u'bare_minimum', u'errors_omissions', u'capricious', u'treat_fairly', u\"''not_done\", u'legal_tender', u'doubt_inclusion', u'equity_accelerator', u'//www', u'halsted_financial', u'1785_failure', u'lied_mislead', u'attempting_defraud', u'chain_assignment', u'automatic_deductions', u'confusing_misleading', u'7-day', u'protects_consumers', u'incredibly_frustrating', u'delta_skymiles', u'compromised_2012', u'significantly_lowered', u'interestingly_enough', u'seams', u'governmental_agencies', u'irrefutable', u'financial_well-being', u'emotionally_financially', u'fcdpa', u'despite_assurances', u'sense!', u'continues_harrass', u'master_participation', u'storm_damage', u'technician_came', u'damage_sustained', u'5000_applying', u'traffic_ticket', u'discount_tire', u'illegal_immoral', u'extending_term', u'surprised_learn', u'constitute_unauthorized', u'collection/charge', u'logical_reason', u'clouded_title', u'vastly_different', u'90-day_period', u'began_yell', u'rental/leasing_named', u'less_fortunate', u'huge_burden', u'viking', u'underhanded_tactics', u'deleted_reinserted', u'lose_earnest', u'falsely_represented', u'land_board', u'automatically_drafted', u'responsibilities_furnishers', u'vice', u'in-school_forbearance', u'remedying', u'shell_game', u'section8214', u'replace_roof', u'granite_tiles', u'repository', u'administrator_estate', u'economic_loss', u'ford_focus', u'body_attachment', u'four_digits', u'counterfeit_checks', u'cents_dollar', u'brooks_brothers', u'selling_products', u'travelers', u'irreparable_harm', u'marketing_material', u'retroactive_deferment', u'head_quarters', u'washing_machine', u'redeem_miles', u'single_dwelling', u'wonderful_thing', u'septic_tank', u'intended_intimidate', u'factual_basis', u'great_harm', u'concord', u'informational_purposes', u'mental_emotional', u'glasser_glasser', u'1681s-2_knowingly', u'basic_underwriting', u'vouchers', u'willful_negligent', u'motion_aside', u'phillips', u'felt_uncomfortable', u'assuming_posses', u'emails_texts', u'including_confidentiality', u'fdcpa_1692', u'roofing_contractor', u'patently_false', u'proven_unsuccessful', u'justifiable_reason', u'evidenced_attachment', u'enrolled_auto-pay', u'outs', u'live_rural', u'waived_defenses', u'physically_present', u'screen_print', u'harassment_intimidation', u'much!', u'magazine_subscriptions', u'immigration', u'foreclosure_avoidance', u'endless_cycle', u'irreparable_damage', u'proper_channels', u'90days', u'living_space', u'recoup_monies', u'became_increasingly', u'free_consultation', u'happens_frequently', u'1692_1692', u'passive', u'disproportionately_utilizes', u'word_mouth', u'duties_notary', u'served_writ', u'defective_product', u'financial_crises', u'aspire_visa', u'creditor_reportedindividualresponsibilityplaced', u'orally_writing', u'springer_collections', u'bound_regulations', u'thank_bless', u'garnishing_paycheck', u'begged_pleaded', u'retrieval_masters', u'robo-signed_affidavit', u'felt_confident', u'encrypted_rest', u'efficient_possible', u'foul_language', u'ready_walk', u'impacts_ability', u'twenty_minutes', u'deem_disputes', u'fraudulently_altered', u'graduated_degree', u'negotiable_instrument', u'servicemember_civil', u'first_place!', u'passive_aggressive', u'equator_system', u'scare_tactic', u'criminal_offense', u'domestic_partner', u'rapid_cash', u'opposing', u'roof_repair', u'automatically_negated', u'passing_seven/ten', u'damaging_reputation', u\"model_''we\", u'thank_goodness', u'personal_first-hand', u'resubmitting_paperwork', u'impeded_ability', u'assignment_assigns', u'kramer', u'customer_service?', u'reloadit_safe', u'conduct_reinvestigation', u'banco', u'intentionally_delaying', u'incriminating', u'acres_less', u'period_expires', u'percent_verifiable', u'defective_merchandise', u'criminal_enterprise', u'ongoing_battle', u'litigation_codes', u'friendly_reminder', u'citi_prestige', u'convergence_outsourcing', u'transcripts_master', u'protected_scra', u'sitting_unapplied', u'fully_amortizing', u'blatant_misrepresentation', u'automatically_renew', u'determination_whether', u'govern_accordingly', u'complete_stranger', u'activities_described', u'desperately_seeking', u'lack_empathy', u'authorizing_organization', u'pre-set', u'certificate_occupancy', u'millions_americans', u'reneged_agreement', u'homeward', u'price_gouging', u'illegally_displayed', u'implementing_regulation', u'workout_solution', u'eligibility_criteria', u'strong_accent', u'health_club', u'worker_compensation', u'debt-to-income', u'30-45', u'express_implied', u'routine_routed', u'wyndham_rewards', u'slipped_mind', u'serving_country', u'repossessing_vehicle', u'higher_aprs', u'cement_mixer', u'kramer_associates', u'heavy_heart', u'authority_enforce', u'owned_operated', u'learning_turned', u'hsbc_premier', u'monetary_instruments', u'duplicate_entries', u'harmless', u'bordering_harassment', u'60days', u'receivable_solutions', u'respa_regulation', u'chain_custody', u'farther_behind', u'scramble_find', u'executive_relations', u'laws_govern', u'totaled_accident', u'vacant_abandoned', u'calling_texting', u'plain_white', u'extremely_unhappy', u'plain_text', u'computer_printout', u'accordance_paragraph', u'constitute_defamation', u'strapped', u'corporation_subsidiary', u'gateway_lending', u'grace_periods', u'fined_heavily', u'hippa_laws', u'search_engine', u'housing_bubble', u'plaintiff_counsel', u'voiced_concern', u'violation_udaap', u'assisted_living', u'scared_death', u'safe_neighborhood', u'affidavits_county', u'causing_grave', u'nation_largest', u'diligently_addressing', u'partially_whole', u'artists', u'drastic_change', u\"'paid\", u'unreturned_equipment', u'lean_holder', u'porfolio', u'total_fulfillment', u'landscape', u'homeowner_feels', u'sworn_affidavit', u'serviced_loancare', u'sherriff_sale', u'handout', u'somehow_managed', u'morally_wrong', u'processing_evaluating', u'bidder', u'fraud_alters', u'obligations_furnisher', u'finding_ways', u'chronological', u'successors_assigns', u'working_part-time', u'reinvestigation_determine', u'harbor', u'semester_school', u'side_road', u'intentionally_misrepresenting', u'suffered_financially', u'despite_preponderance', u'highly_questionable', u'believe_authorizes', u'clark_county', u'nominee_lender', u'prohibits_unfair', u'initiated_reinvestigation', u'adversely_effecting', u'scra_unverifiable', u'lobel', u'undo_stress', u'minority_borrowers', u'columbia_recovery', u'differing_amounts', u'strongly_disagree', u'hoops_jump', u'divorce_awarded', u'terminate_relationship', u'borderline_harassment', u'incarceration_delinquent', u'alliance_receivables', u'pulling_teeth', u'honestly_remember', u'options_mishandled', u'obama_administration', u'sole_discretion', u'park_west', u'illegal_usury', u'pre-set_limit', u'trustees_deed', u'vague_answers', u'prohibited_activities', u'appreciate_patience', u'mechanical_problems', u'doesnt_seem', u'court_appearances', u'full-time_employment', u'backed_corner', u'blatantly_ignored', u'transit_use?', u'criminal_penal', u'revoked_authorization', u'crystal_clear', u'followed_prompts', u'flagrant_violations', u'stafford_loans', u\"'good_faith\", u'treating_fairly', u'administrative_enforcement', u'natural_consequence', u'membership_dues', u'meets_fcra', u'felt_pressured', u'fdcpa_1692g', u'impeded', u'code_2605', u'poor_performance', u'tenants_common', u'eagle_finance', u'bleeding', u'irreparable', u'fdic_insured', u'travel_plans', u'resource_center', u'referred_paragraphs', u'whichever_earlier', u'forgot_mention', u'defined_fdcpa', u'score_plummet', u'outside_scope', u'affidavit_forgery', u'makes_affirmative', u'commiting_fraud', u'temporary_lift', u'interfering_ability', u'graduate_university', u'basis_race', u'willful_non-compliance', u'global_receivables', u'affidavits_supporting', u'wrongful_eviction', u'divorced_divorce', u'failure_abide', u'fulfill_obligations', u'laws_protecting', u'robo-signed_affidavits', u'story_short', u'director_operations', u'front_porch', u'executive_resolutions', u'foreign_exchange', u'vested_interest', u'eligibility_quiz', u'traded_financed', u'offered_offending', u'fulfilling_requirements', u'medium_communication', u'disbursements_invoice', u'hard_build', u'minority_consumers', u'office_controller', u'deaf_ears', u'compromised_sometime', u'enroll_automatic', u'strongly_suspect', u'wholly_owned', u'reported_openaccount', u'lock_extension', u'recorded_perfected', u'reasonable_reinvestigation', u'lure_customers', u'imagine_shock', u'rings_hangs', u'hoping_closure', u'affair', u'difficulty_finding', u'vinyl_siding', u'accused_owing', u'generals_office', u'book_hotel', u'young_kids', u'incoming_wire', u'highpoint_asset', u'corporation_fdic', u'northland', u'easily_accessible', u'northern', u'fines_imposed', u'evidence_substantiate', u'freeze_lifted', u'harass_annoy', u'subsection_section', u'competent_jurisdiction', u'expeditious_manner', u'deed_leiu', u'courtesy_reversal', u'ratified_contract', u'assumptions_department', u'judicial_district', u'debit/credit', u'furniture_delivered', u'rightful_owner', u'discrimination_race', u'documents_recored', u'system_outage', u'attempting_re-age', u'actions_whomever', u'limited_utilized', u'rubber', u'decisions_lenders', u'responsibility_individualbalance', u'reordering', u'train_employees', u'fully_faithfully', u'negligence_incompetence', u'promissary_note', u'accident_totaled', u'seriously_impacted', u'exfiltrated_breach?', u'jefferson', u'automobile_acceptance', u'base_model', u'oregon_resident', u'sebonic_financial', u'contract_adhesion', u'mortgage-backed', u'flight_attendant', u'drained_savings', u'hundreds_hundreds', u'resource_management', u'mutually_beneficial', u'salary_wages', u'incidental', u'fully_loaded', u'accessible_anybody', u'3-month_trial', u'trustee_pendency', u'effect_irrespective', u'toyota_financials', u'ltcv', u'jurisdiction_united', u'santander_chrysler', u'quantum_collections', u'attend_hearing', u'located_illinois', u'detained_right', u'mariner', u'totally_disregarded', u'utter_lack', u'cancelled/forgiven_already', u'anger_frustration', u'chain_ownership', u'doctors_appointments', u'porfolio_recovery', u'light_tunnel', u'cursory_investigation', u'special_assessment', u'30yr_fixed', u'thus_rendering', u'proper_venue', u'training_purposes', u'intentional_infliction', u'rights_hbor', u'years_old!', u'prime_minus', u'worthiness_negatively', u'forging_signatures', u'bureau_hudson', u'unfortunate_experience', u'scoring_models', u'happy_holidays', u'interior_exterior', u'unsubsidized_federal', u'mercantile_adjustment', u'pay-off_quote', u'cable_equipment', u'lengthy_discussion', u'commonwealth_virginia', u'knowledge_consent', u'menace_fraud', u'collateral_conversion', u'broken_handbag', u'records_compiled', u'struggling_survive', u'laying_around', u'tough_luck', u'windham', u'performance_incentive', u'drug_store', u'extenuating', u'practicing_unfair', u'carpet_replacement', u'second_lienholder', u'nissan_versa', u'unanimous', u'obscure_questions', u'material_misrepresentation', u'declaration_purpose', u'minute_apart', u'participate_programs', u'lein_holder', u'come_from?', u'stop_bleeding', u'administrative_proceeding', u'signed_vouchers', u'relocation_allowance', u'returned_unopened', u'individual_capacity', u'parcel_land', u'gather_retrieve', u'omissions', u'prove_innocence', u'prominently', u'cared_less', u'wilson_associates', u'opting_overdraft', u'recover_monetary', u'delaware_solutions', u'challenged_validity', u'non-mortgage', u'externally', u'treat_loyal', u'loose_ends', u'identy_theft', u'larceny', u'corporations_procedure', u'performance_select', u'rude_inconsiderate', u'feed_children', u'save_home?', u're-entry', u'race_ethnicity', u'purpose_establishing', u'notwithstanding_existence', u'weinberg', u'structural_improvements', u'whoever_stole', u'uniform_borrower', u'aunt_uncle', u'walter_assoc', u'investigation_allegations', u'belongings_storage', u'supervisory_personnel', u'hail_storm', u'signature_absent', u'long_waits', u'debts_furnishing', u'clause_facta', u'neglect_prevent', u'dismissal_prejudice', u'chapter_bankrupcy', u'segment', u'brief_description', u'manager/supervisor', u'emphatically_stated', u'deed_reconveyance', u'lunch_hour', u'elected_officials', u'courts_disposition', u'excuse_excuse', u'monarch_recovery', u'subparagraph', u'investigation?_please', u'completing_degree', u'normal_life', u'automotive_automotive', u'method_calculating', u'affidavit_swearing', u'intentional_harrassment', u'emergency_treatment', u'becoming_increasingly', u'root_cause', u'became_irritated', u'unnecessary_burden', u'insurance_lapsed', u'magnetic', u'florida_licensing', u'citibank_citigold', u'overwhelming_evidence', u'obligation_securities', u'representatives_uncovered', u'collectively_referred', u'prohibits_discrimination', u'payroll_deductions', u'rebate_promotion', u'license_revoked', u'physical_mental', u'individually_identifiable', u'driving_crazy', u'lied_tricked', u'thereby_violating', u'united_guaranty', u'rented_room', u'legally_reported?', u'terminating_relationship', u'packaged', u'royal', u'finance_corp', u'tremendous_stress', u'investor_participating', u'attached_herewith', u'masters', u'reordering_transactions', u'humble', u'replace_carpet', u'coast_coast', u'lack_urgency', u'retired_senior', u'amongst_create', u'reviewed_conclude', u'intention_honoring', u'sworn_testimony', u'last_ditch', u'prospective_buyers', u'appealing_denial', u'tricked_signing', u'reasonably_expected', u'held_contempt', u'prominently_displayed', u'binding_arbitration', u'learned_lesson', u'consumer_reseller', u'timely_procurement', u'rebate_processing', u'auto_dialing', u'frustrated_angry', u'large_corporations', u'ball_rolling', u'ball_dropped', u'race_national', u'sick_stomach', u'advocacy_group', u'pass_certificates', u'samples', u'strictly_prohibited', u'basic_necessities', u'mitchell_associates', u'switch_bait', u'lose_home!', u'totally_uncooperative', u'foster', u'fighting_battle', u'liens_judgments', u'transposed_numbers', u'canned_responses', u'mentally_emotionally', u'roof_repaired', u'wind_coverage', u'broken_english', u'words_mouth', u'void_operation', u'consecutive_nights', u'grad_school', u'harass_oppress', u'accuracy_reporting?', u'misappropriation_funds', u'outgoing_wire', u'article_sections', u'chip_technology', u'breach?', u'rural_area', u'windows_doors', u'dining_room', u'simplified_transaction', u'servicemembers', u'suspended_secretary', u'frivolous_irrelevant', u'ruining_peoples', u'petition_divorce', u'common_courtesy', u'invitation_apply', u'stafford', u'e-oscar_system', u'discrimination_delaying', u'privately_held', u'life_liberty', u'tuesday_wednesday', u'early_mornings', u'gainful', u'automatic_drafts', u'voluntary_repo', u'tens', u'incriminating_evidence', u'intent_deceive', u'best_abilities', u'onto_streets', u'cloud', u'usury_laws', u'weekend_holiday', u'trinity_hope', u'excessively_high', u'blue_cross', u'accounting_principles', u'estranged_wife', u'functioning_properly', u'master_promissory', u'innacurate_incomplete', u'returning_equipment', u'substantially_injure', u'contracts_agreements', u'constant_battle', u'fams_engaging', u'cfpa', u'financially_stable', u'opposing_party', u'permissible_purposes', u'posses', u'amortization_schedules', u'initial_oral', u'-citi_cards', u'prospective_buyer', u'prerecorded_message', u'hotel_nights', u'considered_null', u'patiently_waiting', u'past_30/60/90', u'entitled_enforce', u'district_columbia', u'foreclosing_entity', u'foreclose_kick', u'answering_phones', u'horrific_experience', u'describes_issue', u'compensation_lawfully', u'deemed_invalid', u'rented_vacated', u'threaten_jail', u'loop_hole', u'courts_equitable', u'universal_data', u'committing_crime', u'profile_notwithstanding', u'drive_window', u'conferences', u'water_sewer', u'water_leak', u'stop_harassment?', u'retail_stores', u'interstate_commerce', u'client_grants', u'determining_eligibility', u'hour_window', u'costly_repairs', u'fund_transfers', u'pest_control', u'miss_leading', u'tcpa_fdcpa', u'attend_classes', u'deeming', u'suit_grounded', u'conditional_eligibility', u'traveling_abroad', u'felt_disrespected', u'suspend_license', u'exact_scenario', u'cased_closed', u'common_bond', u'fiduciary_duties', u'forfeited_word', u'involving_dishonesty', u'sworn_affidavits', u'selected_entity', u'mothers_death', u'builders_agreement', u'buyers_walk', u'farther_farther', u'jeopardizing_ability', u'right_away!', u'grant_mercantile', u'cost_tens', u'suffer_irreparable', u'intercede_behalf', u'disparate_treatment', u'transunion_interactive', u'cash-out', u'spousal_support', u'immigration_status', u'border_line', u'presidents', u'expert_witness', u'reduce_ltcv', u'cohen_associates', u'arrest_warrants', u'pursuant_1692g', u'internal_audit', u'hurting_financially', u'flood_plain', u'audio_recording', u'pursuant_1024', u'domestic_wire', u'section_2605', u'offenses_officers', u'simple_google', u'complete_investigation?', u'harder_harder', u'word_pertains', u'implore_office', u'news_media', u'f/k/a_option', u'vast_majority', u'food_stamp', u'billions', u'scheme_defraud', u'supreme', u'currency_conversion', u'internally_referral', u'primary_secondary', u'publish_description', u'failed_miserably', u'results_unlimited', u'discounted_price', u'book_value', u'frank_dodd', u'bullet_points', u'mutually_agreeable', u'exempt_levy', u'wage_deduction', u'bullied_harassed', u'begging_pleading', u'workman_comp', u'strung', u'expressing_frustration', u'violated_hbor', u'gesture_goodwill', u'housing_development', u'casualty_insurance', u'allegation_single', u'imminent_default', u'northstar', u'distinct_impression', u'decreased_significantly', u'outgoing_message', u'reliant_capital', u'section_1681c', u\"'paid_full\", u'disagreement_amex', u'wealth_management', u'marketing_scheme', u'undisclosed_merchant', u'federally_backed', u'hope_pray', u'earner', u'changing_locks', u'cased', u'consumer_affair', u'mutual_fund', u'presidents_office', u'peak_acceptance', u'gram', u'read_script', u'paypal_extras', u'counterfeit_cashier', u'thereby_damaging', u'accused_stealing', u'enacting_regulations', u'loan-modification_agreements', u'broken_promises', u'civil_constitutional', u'merged_ditech', u'bear_grave', u'unique_national', u'putting_jeopardy', u'staff_trained', u'html', u'remained_notwithstanding', u'united_mileage', u'practices_faircredit', u'laundry_room', u'severe_emotional', u'local_sheriffs', u'promised_amenities', u'artist', u'preliminary_approval', u'forced-placed', u'relocation_incentive', u'southeast_toyota', u'verbal_assurance', u'unit_owner', u'border', u'hunter', u'treated_disrespect', u'landlord_tenant', u'level_incompetence', u'non-negotiable_notice', u'starter_checks', u'insight_capital', u'jumped_hoops', u'estranged_husband', u'cover_tracks', u'veiled_threat', u'away!', u'grossly_inflated', u'deceased_husbands', u'calls_creditbureaus', u'commentary', u'court_oder', u'liability_directors', u'listen_tape', u'rude_belligerent', u'using_e-oscar', u'morning_woke', u'altima', u'calling_incessantly', u'underwriting_guidelines', u'un-applied_funds', u'serious_jeopardy', u'proven_innocent', u'synchrony_penney', u'meet_definition', u'successfully_completing', u'game_playing', u'accuracy_fairness', u'woke_morning', u'obligations_securities', u'perfectly_fine', u'termination_lease', u'mitigation_department', u'manufactured_homes', u'lasted_hour', u'torn_apart', u'sign-up_bonus', u'mortgage-backed_securities', u'credit-reporting_companies', u'simple_task', u'alters', u'washed_hands', u'consecutive_award', u'meets_requirements', u'sole_heir', u'leaf', u'non-existent_hopes', u'trustee_securitized', u'mold_remediation', u'chief_executive', u'nonprofit_groups', u'bait-and-switch_tactic', u'club_membership', u'revenue_enterprises', u'operations_assure', u'rude_argumentative', u'immediate_occupancy', u'30-day_timeline', u'percentage_rates', u'deeply_appreciated', u'emphatically', u'nervous_breakdown', u'housing_crash', u'605b_fair', u'engaged_pattern', u'transmitted_puts', u'cell_phone?', u'dodd-frank_certification', u'irresponsible_behavior', u'financing_contingency', u'companion_ticket', u'accept_condolences', u'reached_destination', u'dismissed_prejudice', u'suffering_severe', u'unintended_acceleration', u'snap_shot', u'section_1692e', u'dramatically_decreased', u'rubber_stamped', u'staying_hotel', u'vacancy_liscense', u'intermediary_banks', u'section8214_failure', u'2924_2924', u'clarification_arbitration', u'involuntary_repossession', u'asset_holdings', u'serves_formal', u'goodwill_removal', u'typically_combine', u'expiration_180-day', u'hurt_chances', u'defaming_character', u'leaking_roof', u'room_mate', u'goodwill_intervention', u'friends_neighbors', u'college_graduated', u'notary_seal', u'sections_cfpa', u'tradeline_notations', u'control_syndicated', u'chain_reaction', u'revoking_authorization', u'deposits_withdraws', u'knowingly_unknowingly', u'pursuant_subparagraph', u'fiduciary_contractual', u'experiencing_extreme', u'bubble', u'neutral_party', u'notoriously_insecure', u'seemed_fishy', u'launch_investigation', u'ford_explorer', u'become_increasingly', u'affiliates_adversely', u'resurgent_lvnv', u'driving_licence', u'lumped_together', u'belief_defendant', u'subsection_shall', u'enacted_amendment', u'engaged_dual', u'preservation_disbursements', u'emergency_clinic', u'forced_finger', u'dyck', u'collision_damage', u'focus_mgmt', u'sebonic', u'members_enjoy', u'hackings_scottrade', u'built-in_benefits', u'clean_mess', u'administrative_offset', u'nominee_beneficiary', u'snail', u'bold_faced', u'career_path', u'utterly_ridiculous', u'checkings_savings', u'thank_advance!', u'income-based', u'memory_serves', u'roberts_associates', u'hanna_associates', u'nationwide_bi-weekly', u'felt_betrayed', u'bubble_burst', u'misappropriation', u'quite_awhile', u'relatively_small', u'survive_financially', u'baby_girl', u'roberts', u'viii', u'grave_responsibility', u'personnel_apartments', u'magazine_subscription', u'writing_samples', u'fast_approaching', u'lawfully_entitled', u'easy_task', u'video_surveillance', u'collection/chargeoff', u'sign_notarize', u'placing_blame', u'1681s-2_responsibilities', u'makes_sense!', u'internet_searches', u'substitute_trustees', u'efficient_manner', u'normal_safeguards', u'travelers_checks', u'temporary_restraining', u'undergoing_treatment', u'refusal_adhere', u'eagle_recovery', u'miserably', u'supervisors_managers', u'main_menu', u'building_permit', u'retirement_pension', u'becoming_unbearable', u'sitting_desk', u'breach_peace', u'protective_advance', u'strain_finances', u'replies_forthcoming', u'traffic_tickets', u'compensatory_damages', u'counter_productive', u'extreme_dragging', u'certify_signature', u'living_poverty', u'clark_associates', u'veiled', u'wiped_clean', u'terror', u'safe_guard', u'5-day', u'gross_misconduct', u'nonprofit_organization', u'seams_carpet', u'wall_street', u'payroll_deduction', u'defeats', u'threatened_intimidated', u'protections_afforded', u'opts', u'high_probability', u'sierra', u'young_adults', u'staff_commentary', u'problematic_section', u'parking_space', u'rewards_visa', u'versa', u'downward', u'cause_hackings', u'companion_tickets', u'properly_communicate', u'lying_thieves', u'career_criminals', u'systematically_violating', u'borrowing_friends', u'severed_relationship', u'authority_capacity', u'sole_beneficiary', u'code_sections', u'pacific_mediation', u'intentionally_reinserting', u'travel_relocation', u'clicked_button', u'cedar', u'honda_civic', u'fiduciary_obligation', u'junior_lien', u'alliant_capital', u'conflicting_stories', u'missed_payments!', u'extention_private', u'parking_garage', u'macy_bloomingdale', u'trespassing_breaking', u'successor_merger', u'google_play', u'search_revealed', u'doctrine_estoppel', u'distressed_homeowners', u'unanimous_decision', u'dignity_respect', u'spread_sheets', u'fight_battle', u'federally_regulated', u'backup_funding', u'protection_hoepa', u'elements_exist', u'government_bailed', u'kirkland_management', u'loan-modification', u'engagement_rings', u'alliance_receivable', u'illegal_debt-collection', u'generate_revenue', u'recoup_losses', u'bedroom_bath', u'reset_clock', u'accountable_actions', u'fast_bucks', u'felt_compelled', u'tiny_print', u'blatantly_obvious', u'health_safety', u'federal_stafford', u'servic_servic', u'settlement_conferences', u'revolving_accountloan', u'guarantees_success', u'realtime', u'adhesion', u'sounds_fishy', u'viking_client', u'highly_recommend', u'madam_writing', u'dial_extension', u'illegal_seizure', u're-entry_dept', u'roof_heads', u'subordination_heloc', u'stop_communicating', u'criminal_liabilities', u'buyer_beware', u'hindered_ability', u'trust_executed', u'allied_international', u'servic', u'bright_water', u'engagement_ring', u'emotional_physical', u'tuition_reimbursement', u'latter_accounted', u'ripped_seams', u'accountloan_type', u'audio_tape', u'magnetic_strip', u'feeling_helpless', u'intentionally_deceiving', u'defendants_motion', u'meets_criteria', u'mill', u'intentional_deception', u'kirkland_asset', u'proprietary_unavailable', u'guidance_kinds', u'carolina', u'housing_meaningful', u'pink', u'currency_exchange', u'harass_intimidate', u'grantor_subscriber', u'small_fortune', u'brooks', u'files_tainted', u'thankyou_rewards', u'swift_code', u'treat_differently', u'doings', u'unprofessional_attitude', u'redeem_gold', u'small_font', u'thus_limiting', u'ignored_warnings', u'market_crash', u'clearly_conspicuously', u'discretion_alter', u'comfortable_sending', u'congress_enacted', u'zenco_collects', u'reports_collection/chargeoff', u'complete_oder', u'drastic_drop', u'turn_deeming', u'intentional_misrepresentation', u'permanent_lifetime', u'warrants_arrest', u'food_clothing', u'reporting?', u'short_sale?', u'operator_operator', u'potential_conflicts', u'orig_note', u'media_outlets', u'lien_waivers', u'amicable_resolution', u'1692e_false', u'mortgagee_clause', u'test_drove', u'arising_operation', u'pest', u'pattern_deception', u'higher_prices', u'born_raised', u'exists_prevents', u'ex-wife_divorced', u'banking_relationships', u'kondaur', u'thru_cracks', u'expressed_dissatisfaction', u'vice_presidents', u'mate', u'estranged_brother', u'black_marks', u'nation_wide', u'privately_owned', u'willful_disregard', u'risk_loosing', u'public_domain', u'basement_flooded', u'defendants_maintains', u'smooth_transition', u'casualty', u'vendetta', u'user_friendly', u'breaking_law!', u'adopted_children', u'crimes_committed', u'prop_taxes', u'nearing_retirement', u'yell_threaten', u'crises', u'attended_classes', u'planet_lending', u'profits_individuals', u'incarcerated_detained', u'packaged_sold', u'receiver_country', u'forgiveness_programs', u'companion_certificates', u'counting_machine', u'compensatory', u'front_bumper', u'rained_landlines', u'voluntarily_canceling', u'intent_repossess', u'located_jersey', u'empty_handed', u'road_blocks', u'non-mortgage_installment', u'advance!', u'occupancy_certification', u'pertained_demand', u'collections_segment', u'costing_hundreds', u'quality_purposes', u'rose_associates', u'heater', u'conspiring_affiliates', u'difficult_navigate', u'laughing_background', u'throughout_duration', u'drug_feet', u'retroactive_forbearance', u'fcra_fdca', u'postal_inspector', u'changes_deletions', u'deliberate_switch', u'profitable_returns', u'hedge', u'features_thereby', u'for-profit_college', u'substantive_provisions', u'exceedingly_difficult', u'barclaycard_arrival', u'taxpayer_identification', u'appointment_substitute', u'checklist_items', u'judicial_remedy', u'tech_visit', u'exercise_diligence', u'treating_unfairly', u'21st_century', u'economic_recession', u'leased_cars', u'dropping_ball', u'devastating_impact', u'real_kicker', u'agents_duly', u'silence_presume', u'govern_entities', u'condolences', u'refer_maker', u'representation_omission', u'financially_strapped', u'clouded', u'merge_files', u'carbon', u'confusion_terror', u'civil_codes', u'supplemental_directive', u'postal_inspectors', u'extreme_difficulty', u'click_button', u'pass-through_certificates', u'revised_statutes', u'published_widely', u'hedge_fund', u'bankamericard_cash', u'human_resource', u'title_viii', u'repairs_upgrades', u'spiral', u'frustrating_disappointing', u'loop_holes', u'move-out_sheet', u'chips', u'barely_covers', u'witness_notary', u'blamed_mistakes', u'difficulty_accessing', u'kitchen_cabinets', u'background_screening', u'opts_overdraft', u'expense_incidental', u'leased_nissan', u'became_defensive', u'constitutes_willful', u'dept_taxation', u'evade_reviewing', u'corporate_culture', u'mountain_land', u'shred_evidence', u'reordered_transactions', u'speeding_ticket', u'damage_waiver', u'reported?', u'for-profit', u'1026_1026', u'discharge_injunction', u'reform_consumer', u'tila_violations', u'deutsche', u'pass-through', u'motor_finance', u'rewards_forfeited', u'detention', u'leiu', u'prius', u'great_distress', u'increasingly_difficult', u'thou', u'privately', u'thief_used', u'controller_currency', u'enacting', u'menace', u'locks_doors', u'press_press', u'1681_reinvestigation', u'uttering_counterfeit', u'simm', u'identity_theft!', u'student_loans!', u'sale?', u'hotel_rooms', u'openopened_date', u'writ_execution', u'disciplinary', u'pressler', u'30yr', u'increasingly_frustrated', u'judgment_pleadings', u'disparate', u'participating_hamp', u'arrival_plus', u'spelled_wrong', u'license_passport', u'requesting_affiliates', u'enjoy_benefits', u'injure', u'notoriously', u'elses', u'stay_lifted', u'springer', u'forward_hearing', u'rates_risen', u'rule_applies', u'alpha', u'talking_about?', u'collar', u'place!', u'award_stays', u'collegiate_trust', u'vinyl', u'happened?_consent', u'bonus_thankyou', u'med-1', u'e-oscar', u'sleepless', u'identy', u'unintended', u'utilities_food', u'omaha', u'marketing_tactic', u'severe_hardship', u'alliant', u'lock_expired', u'trust_cut-off', u'sams', u'relocation_expenses', u'interactive', u'garbus', u'federally_mandated', u'shut_down!', u'promissary', u'liscense', u'handbag', u'creditbureaus', u'result_reinvestigation', u'biweekly_administration', u'cards_chips', u'yelling_screaming', u'off/', u'washed', u'durable', u'formerly_greentree', u'pymt_pymt', u'clerk_recorder', u'renew_membership', u'bullet', u'damages_sustained', u'audit_revealed', u'civic', u'diners', u'penal', u'cooper', u'vested', u'article_magazine', u'commercially', u'built-in', u'straw_broke', u'certificate_notary', u'survivorship', u'digits_social', u'academy', u'cohen', u'misleading_representations', u'simms', u'geographical', u'trailing']\n"
     ]
    }
   ],
   "source": [
    "print wordlist"
   ]
  },
  {
   "cell_type": "code",
   "execution_count": 1526,
   "metadata": {
    "collapsed": false,
    "scrolled": false
   },
   "outputs": [
    {
     "data": {
      "text/plain": [
       "[(u'robbed', 0.32332438230514526),\n",
       " (u'think', 0.2907092571258545),\n",
       " (u'perpetrator', 0.28019481897354126),\n",
       " (u'stupid', 0.27235156297683716),\n",
       " (u'stole_identity', 0.26380473375320435),\n",
       " (u'anybody', 0.25578364729881287),\n",
       " (u'whats', 0.2487524300813675),\n",
       " (u'wallet_stolen', 0.24859535694122314),\n",
       " (u'maybe', 0.24779406189918518),\n",
       " (u'idiot', 0.24674516916275024),\n",
       " (u'fool', 0.24637192487716675),\n",
       " (u'guys', 0.2452416568994522),\n",
       " (u'society', 0.2395319640636444),\n",
       " (u'liar', 0.23681335151195526),\n",
       " (u'somebody', 0.23668518662452698),\n",
       " (u'everyone_else', 0.2365233302116394),\n",
       " (u'discriminated', 0.23590087890625),\n",
       " (u'that?', 0.2349446415901184),\n",
       " (u'people', 0.23451286554336548),\n",
       " (u'acted_like', 0.2335684597492218),\n",
       " (u'thieves', 0.23102834820747375),\n",
       " (u'shame', 0.22961339354515076),\n",
       " (u'ripped', 0.22944104671478271),\n",
       " (u'cars', 0.2292969524860382),\n",
       " (u'educated', 0.22895029187202454),\n",
       " (u'purse_stolen', 0.2256564348936081),\n",
       " (u'criminals', 0.224974125623703),\n",
       " (u'hurts', 0.224455788731575),\n",
       " (u'friendly', 0.22242137789726257),\n",
       " (u'born', 0.22166162729263306)]"
      ]
     },
     "execution_count": 1526,
     "metadata": {},
     "output_type": "execute_result"
    }
   ],
   "source": [
    "# apply\n",
    "\n",
    "#The result is the 'most similar' word as measured by the cosine similarity\n",
    "#Here we have crimes that are not fraud as an example\n",
    "model.most_similar(positive=['federal_crime'], negative=['fruad'], topn=30)"
   ]
  },
  {
   "cell_type": "code",
   "execution_count": 1328,
   "metadata": {
    "collapsed": false,
    "scrolled": true
   },
   "outputs": [
    {
     "data": {
      "text/plain": [
       "0.33668147313828539"
      ]
     },
     "execution_count": 1328,
     "metadata": {},
     "output_type": "execute_result"
    }
   ],
   "source": [
    "#compare two words to see how similar they are\n",
    "model.similarity('fraud', 'chase')"
   ]
  },
  {
   "cell_type": "code",
   "execution_count": 515,
   "metadata": {
    "collapsed": true
   },
   "outputs": [],
   "source": [
    "# model.doesnt_match(\"breakfast cereal dinner lunch\".split())\n",
    "# model.similarity('woman', 'man')\n",
    "# model['credit']"
   ]
  },
  {
   "cell_type": "markdown",
   "metadata": {},
   "source": [
    "#### Search by fraud type to identify firms"
   ]
  },
  {
   "cell_type": "code",
   "execution_count": 1317,
   "metadata": {
    "collapsed": false
   },
   "outputs": [
    {
     "data": {
      "text/plain": [
       "100"
      ]
     },
     "execution_count": 1317,
     "metadata": {},
     "output_type": "execute_result"
    }
   ],
   "source": [
    "amount = 0 \n",
    "words = [str(j) for j in wordlist]\n",
    "newcompanylist = []\n",
    "for i in companylist:\n",
    "    if i in words:\n",
    "        newcompanylist.append(i)\n",
    "        amount += 1\n",
    "amount"
   ]
  },
  {
   "cell_type": "code",
   "execution_count": 1318,
   "metadata": {
    "collapsed": false,
    "scrolled": false
   },
   "outputs": [
    {
     "name": "stdout",
     "output_type": "stream",
     "text": [
      "['equifax', 'wells_fargo', 'jpmorgan_chase', 'ally_financial', 'ocwen', 'moneygram', 'experian', 'citibank', 'amex', 'diversified_consultants', 'discover', 'freedom_mortgage', 'aargon_agency', 'bbva_compass', 'genesis_lending', 'aqua_finance', 'delbert_services', 'allied_interstate', 'aldridge_pite', 'afni', 'pressler_pressler', 'statebridge', 'everbank', 'clarity_services', 'grant_weber', 'conserve', 'quicken_loans', 'lexisnexis', 'drivetime', 'americollect', 'seterus', 'transworld_systems', 'mariner_finance', 'comerica', 'hunter_warfield', 'morgan_stanley', 'zwicker_associates', 'cashcall', 'windham_professionals', 'amerisave', 'stellar_recovery', 'nelnet', 'carmax', 'continental_finance', 'williams_fudge', 'mohela', 'selene_finance', 'optimum_outcomes', 'forster_garbus', 'google', 'loandepot', 'provident_funding', 'vhda', 'admin_recovery', 'caine_weiner', 'resolve_partners', 'capio_partners', 'supreme_lending', 'procollect', 'harvard_collections', 'springer_collections', 'great_lakes', 'amcol_systems', 'webster_bank', 'machol_johannes', 'lendingtree', 'contract_callers', 'pmab', 'asset_recovery', 'escallate', 'renton_collections', 'receivable_solutions', 'corelogic', 'earnest', 'bankunited', 'brumbaugh_quandahl', 'med-1_solutions', 'simm_associates', 'cohen_associates', 'meade_associates', 'mobiloans', 'northland_group', 'results_unlimited', 'mccalla_raymer', \"dyck-o'neal\", 'prospect_mortgage', 'united_guaranty', 'deutsche_bank', 'firstbank', 'academy_mortgage', 'johnson_mark', 'valarity', 'rose_associates', 'revenue_enterprises', 'bogman', 'peak_acceptance', 'moneytree', 'helm_associates', 'collections', 'special_financing']\n"
     ]
    }
   ],
   "source": [
    "print newcompanylist"
   ]
  },
  {
   "cell_type": "code",
   "execution_count": 1335,
   "metadata": {
    "collapsed": false
   },
   "outputs": [],
   "source": [
    "imputword = 'identity_theft'\n",
    "pairlist = []\n",
    "for company in newcompanylist:\n",
    "    similarity = model.similarity(imputword, company)\n",
    "    pair = (company, similarity)\n",
    "    pairlist.append(pair)"
   ]
  },
  {
   "cell_type": "code",
   "execution_count": 1336,
   "metadata": {
    "collapsed": false
   },
   "outputs": [
    {
     "data": {
      "text/plain": [
       "[(\"dyck-o'neal\", 0.49189310485012372),\n",
       " ('grant_weber', 0.45773354159455104),\n",
       " ('revenue_enterprises', 0.44480454123296759),\n",
       " ('equifax', 0.43743888942261383),\n",
       " ('corelogic', 0.42801920600316212),\n",
       " ('lexisnexis', 0.42576461702210244),\n",
       " ('capio_partners', 0.42105730512293515),\n",
       " ('escallate', 0.42003888169946757),\n",
       " ('experian', 0.41923781524454951),\n",
       " ('clarity_services', 0.41372059073797085),\n",
       " ('continental_finance', 0.41167337372544321),\n",
       " ('cohen_associates', 0.40383541825620223),\n",
       " ('lendingtree', 0.40257318143829762),\n",
       " ('aargon_agency', 0.39311890575407221),\n",
       " ('afni', 0.39243623558195778),\n",
       " ('pmab', 0.3903938801463902),\n",
       " ('pressler_pressler', 0.37324602943188923),\n",
       " ('helm_associates', 0.37199554227925707),\n",
       " ('contract_callers', 0.36228903554512232),\n",
       " ('renton_collections', 0.36008808090753347),\n",
       " ('receivable_solutions', 0.35956274009995237),\n",
       " ('diversified_consultants', 0.35932921283959385),\n",
       " ('peak_acceptance', 0.35690361766699885),\n",
       " ('resolve_partners', 0.35593583816470742),\n",
       " ('rose_associates', 0.35486541023758955),\n",
       " ('amcol_systems', 0.35419846618991802),\n",
       " ('johnson_mark', 0.35152717413940154),\n",
       " ('valarity', 0.35095056361101995),\n",
       " ('procollect', 0.34766460452036718),\n",
       " ('webster_bank', 0.34670789996865448),\n",
       " ('springer_collections', 0.34180011349210793),\n",
       " ('optimum_outcomes', 0.32972401614736901),\n",
       " ('results_unlimited', 0.32862335032991746),\n",
       " ('caine_weiner', 0.32825366246095344),\n",
       " ('mariner_finance', 0.32555682629929428),\n",
       " ('med-1_solutions', 0.32519597850205972),\n",
       " ('bogman', 0.31843448574228533),\n",
       " ('aldridge_pite', 0.31836276620719228),\n",
       " ('admin_recovery', 0.3126478751681534),\n",
       " ('meade_associates', 0.30541998043866014),\n",
       " ('northland_group', 0.30257677827840851),\n",
       " ('americollect', 0.30205961092354439),\n",
       " ('morgan_stanley', 0.30074476615366719),\n",
       " ('machol_johannes', 0.29961558494948759),\n",
       " ('google', 0.2988545173514664),\n",
       " ('mobiloans', 0.2958018840952068),\n",
       " ('brumbaugh_quandahl', 0.29534823466880611),\n",
       " ('amex', 0.29327013645250821),\n",
       " ('comerica', 0.28763386665965363),\n",
       " ('zwicker_associates', 0.28689740348052334),\n",
       " ('transworld_systems', 0.27592223333157084),\n",
       " ('stellar_recovery', 0.27087384165045747),\n",
       " ('asset_recovery', 0.26848157318755417),\n",
       " ('williams_fudge', 0.2660095743689036),\n",
       " ('collections', 0.26580383835877752),\n",
       " ('aqua_finance', 0.2606228178615459),\n",
       " ('forster_garbus', 0.25953948880398148),\n",
       " ('harvard_collections', 0.25493645434410495),\n",
       " ('united_guaranty', 0.25224744298511448),\n",
       " ('allied_interstate', 0.25133679462366404),\n",
       " ('simm_associates', 0.25087547143862282),\n",
       " ('hunter_warfield', 0.22451890334491989),\n",
       " ('conserve', 0.22232303892762606),\n",
       " ('academy_mortgage', 0.21550129353725761),\n",
       " ('vhda', 0.21532497498567049),\n",
       " ('mccalla_raymer', 0.21468841785723569),\n",
       " ('citibank', 0.21029869558994108),\n",
       " ('supreme_lending', 0.2085287423669567),\n",
       " ('moneytree', 0.20760927410523822),\n",
       " ('windham_professionals', 0.19866064308836318),\n",
       " ('mohela', 0.1907036733958806),\n",
       " ('moneygram', 0.18870696533259712),\n",
       " ('quicken_loans', 0.1859059104157974),\n",
       " ('nelnet', 0.18231092174821384),\n",
       " ('provident_funding', 0.17231730549121876),\n",
       " ('freedom_mortgage', 0.16949157191309647),\n",
       " ('discover', 0.16798674695793084),\n",
       " ('delbert_services', 0.16561191989403684),\n",
       " ('ally_financial', 0.16398279099009075),\n",
       " ('everbank', 0.16157423228176354),\n",
       " ('prospect_mortgage', 0.15821456982105475),\n",
       " ('wells_fargo', 0.1517245276557051),\n",
       " ('bbva_compass', 0.15050676073730035),\n",
       " ('selene_finance', 0.14557168625773015),\n",
       " ('jpmorgan_chase', 0.14471646161198978),\n",
       " ('special_financing', 0.14223273259816954),\n",
       " ('deutsche_bank', 0.13538986310681306),\n",
       " ('amerisave', 0.12929847675309333),\n",
       " ('statebridge', 0.12402138579955163),\n",
       " ('ocwen', 0.12169255017197086),\n",
       " ('drivetime', 0.11548179749139781),\n",
       " ('cashcall', 0.1096386494348761),\n",
       " ('firstbank', 0.10946239364913724),\n",
       " ('earnest', 0.0872186067004663),\n",
       " ('seterus', 0.086481478111262805),\n",
       " ('genesis_lending', 0.083394615116751808),\n",
       " ('carmax', 0.082238439588931012),\n",
       " ('bankunited', 0.074047422865210946),\n",
       " ('loandepot', 0.048997554687128644),\n",
       " ('great_lakes', 0.0036208581579808136)]"
      ]
     },
     "execution_count": 1336,
     "metadata": {},
     "output_type": "execute_result"
    }
   ],
   "source": [
    "sorted(pairlist, key=lambda item: -item[1])"
   ]
  },
  {
   "cell_type": "markdown",
   "metadata": {},
   "source": [
    "# Vector Transformations to compare documents"
   ]
  },
  {
   "cell_type": "code",
   "execution_count": 1067,
   "metadata": {
    "collapsed": true
   },
   "outputs": [],
   "source": [
    "# add unique integer id for words in text\n",
    "dictionary = corpora.Dictionary(phrases_texts)"
   ]
  },
  {
   "cell_type": "code",
   "execution_count": 1068,
   "metadata": {
    "collapsed": true
   },
   "outputs": [],
   "source": [
    "# The function doc2bow() simply counts the number of occurences of each distinct word,\n",
    "#converts the word to its integer word id \n",
    "#and returns the result as a sparse vector.\n",
    "corpus = [dictionary.doc2bow(text) for text in phrases_texts]"
   ]
  },
  {
   "cell_type": "code",
   "execution_count": 1528,
   "metadata": {
    "collapsed": true
   },
   "outputs": [],
   "source": [
    "# store to disk, for later use\n",
    "corpora.MmCorpus.serialize('original_corpus.mm', corpus)  "
   ]
  },
  {
   "cell_type": "code",
   "execution_count": 1529,
   "metadata": {
    "collapsed": true
   },
   "outputs": [],
   "source": [
    "# load the corpus\n",
    "# corpus = corpora.MmCorpus('original_corpus.mm')"
   ]
  },
  {
   "cell_type": "code",
   "execution_count": 1451,
   "metadata": {
    "collapsed": false,
    "scrolled": true
   },
   "outputs": [
    {
     "name": "stdout",
     "output_type": "stream",
     "text": [
      "[(0, 2), (1, 2), (2, 1), (3, 1), (4, 2), (5, 1), (6, 1), (7, 1), (8, 1), (9, 1), (10, 1), (11, 1), (12, 1), (13, 1), (14, 1), (15, 1), (16, 1), (17, 12), (18, 1), (19, 1), (20, 1), (21, 2), (22, 2), (23, 1), (24, 1), (25, 1), (26, 1), (27, 2), (28, 1), (29, 1), (30, 1), (31, 1), (32, 1), (33, 1), (34, 1), (35, 1), (36, 7), (37, 2), (38, 1), (39, 1), (40, 1), (41, 1), (42, 1), (43, 1), (44, 1), (45, 1), (46, 5), (47, 1), (48, 1), (49, 2), (50, 3), (51, 1), (52, 1), (53, 1), (54, 1), (55, 1), (56, 1), (57, 1), (58, 1), (59, 1), (60, 1), (61, 1), (62, 3), (63, 1), (64, 1), (65, 4), (66, 1), (67, 1), (68, 3), (69, 1)]\n"
     ]
    }
   ],
   "source": [
    "print corpus[0]"
   ]
  },
  {
   "cell_type": "code",
   "execution_count": 1452,
   "metadata": {
    "collapsed": false,
    "scrolled": true
   },
   "outputs": [
    {
     "data": {
      "text/plain": [
       "u'credit'"
      ]
     },
     "execution_count": 1452,
     "metadata": {},
     "output_type": "execute_result"
    }
   ],
   "source": [
    "dictionary.get(36)"
   ]
  },
  {
   "cell_type": "code",
   "execution_count": 1071,
   "metadata": {
    "collapsed": true
   },
   "outputs": [],
   "source": [
    "# step 1 -- initialize a model\n",
    "# normalizes the vector occuranice by taking into account its freqency in\n",
    "#both the document as well as the corpus.\n",
    "\n",
    "tfidf = models.TfidfModel(corpus)"
   ]
  },
  {
   "cell_type": "code",
   "execution_count": 1072,
   "metadata": {
    "collapsed": true
   },
   "outputs": [],
   "source": [
    "# step 2 -- use the model to transform vectors\n",
    "corpus_tfidf = tfidf[corpus]"
   ]
  },
  {
   "cell_type": "code",
   "execution_count": 1530,
   "metadata": {
    "collapsed": true
   },
   "outputs": [],
   "source": [
    "# store to disk, for later use\n",
    "corpora.MmCorpus.serialize('corpus_tfidf.mm', corpus)  "
   ]
  },
  {
   "cell_type": "code",
   "execution_count": 1531,
   "metadata": {
    "collapsed": true
   },
   "outputs": [],
   "source": [
    "# load the corpus\n",
    "# corpus_tfidf = corpora.MmCorpus('corpus_tfidf.mm')"
   ]
  },
  {
   "cell_type": "code",
   "execution_count": 1073,
   "metadata": {
    "collapsed": false,
    "scrolled": false
   },
   "outputs": [
    {
     "name": "stdout",
     "output_type": "stream",
     "text": [
      "[(0, 0.14929067223107642), (1, 0.14158864040774302), (2, 0.038425330138476294), (3, 0.14224590187423578), (4, 0.28449180374847155), (5, 0.05376890089063228), (6, 0.029784639543662776), (7, 0.08471186504757271), (8, 0.05522923501796895), (9, 0.14224590187423578), (10, 0.07610403504357215), (11, 0.03777214884591696), (12, 0.14224590187423578), (13, 0.03558537986699427), (14, 0.048242637710893044), (15, 0.06047689071350299), (16, 0.148564895429346), (17, 0.27696265391529457), (18, 0.056117859902628894), (19, 0.0881308710009035), (20, 0.060320623183916795), (21, 0.1040096555394597), (22, 0.08220679452870829), (23, 0.14224590187423578), (24, 0.14224590187423578), (25, 0.14449783344831896), (26, 0.14574762257358861), (27, 0.13190830811162801), (28, 0.037054494551263376), (29, 0.050724709805395035), (30, 0.14224590187423578), (31, 0.05378556261003734), (32, 0.14224590187423578), (33, 0.059006050453735505), (34, 0.0425665090958153), (35, 0.11168115701846636), (36, 0.08598740681155351), (37, 0.28449180374847155), (38, 0.06463508963546968), (39, 0.14224590187423578), (40, 0.11995523560630687), (41, 0.04106415024729408), (42, 0.1501722478205281), (43, 0.03371399627391533), (44, 0.02841088764254792), (45, 0.041322230657122), (46, 0.1146710390894401), (47, 0.08426578072274925), (48, 0.0638601706706113), (49, 0.20725247575595654), (50, 0.15834737538179036), (51, 0.02522645137999829), (52, 0.06690666880446702), (53, 0.027588362903946114), (54, 0.14224590187423578), (55, 0.035645920872084826), (56, 0.07300495198586768), (57, 0.07854788260761951), (58, 0.0592194307053995), (59, 0.14224590187423578), (60, 0.053986797905369206), (61, 0.033359435381027744), (62, 0.14542876307836045), (63, 0.12597035723540964), (64, 0.06930789023284521), (65, 0.2085010107810501), (66, 0.05183568451969438), (67, 0.06795479643160071), (68, 0.2514935772803946), (69, 0.14224590187423578)]\n"
     ]
    }
   ],
   "source": [
    "print corpus_tfidf[0]"
   ]
  },
  {
   "cell_type": "markdown",
   "metadata": {},
   "source": [
    "# Latent Semantic Indexing, LSI (or LSA)"
   ]
  },
  {
   "cell_type": "code",
   "execution_count": 1075,
   "metadata": {
    "collapsed": true
   },
   "outputs": [],
   "source": [
    "# initialize an LSI transformation\n",
    "lsi = models.lsimodel.LsiModel(corpus_tfidf, id2word=dictionary, num_topics=500) "
   ]
  },
  {
   "cell_type": "code",
   "execution_count": 1532,
   "metadata": {
    "collapsed": true
   },
   "outputs": [],
   "source": [
    "# save the lsi model\n",
    "lsi.save('lsi_model.lsi') "
   ]
  },
  {
   "cell_type": "code",
   "execution_count": 1533,
   "metadata": {
    "collapsed": true
   },
   "outputs": [],
   "source": [
    "# load the model\n",
    "# lsi = models.LsiModel.load('lsi_model.lsi')"
   ]
  },
  {
   "cell_type": "code",
   "execution_count": 1250,
   "metadata": {
    "collapsed": false,
    "scrolled": true
   },
   "outputs": [
    {
     "data": {
      "text/plain": [
       "[(0,\n",
       "  u'0.185*\"account\" + 0.178*\"credit\" + 0.154*\"payment\" + 0.150*\"debt\" + 0.149*\"loan\"'),\n",
       " (1,\n",
       "  u'0.327*\"report\" + 0.266*\"credit\" + 0.238*\"debt\" + -0.236*\"loan\" + -0.208*\"mortgage\"'),\n",
       " (2,\n",
       "  u'-0.441*\"debt\" + -0.232*\"call\" + -0.194*\"number\" + -0.187*\"calls\" + -0.176*\"phone\"'),\n",
       " (3,\n",
       "  u'0.396*\"card\" + -0.281*\"loan\" + 0.262*\"account\" + -0.250*\"mortgage\" + -0.210*\"modification\"'),\n",
       " (4,\n",
       "  u'-0.416*\"debt\" + -0.241*\"paid\" + -0.239*\"payment\" + 0.195*\"experian\" + 0.189*\"number\"')]"
      ]
     },
     "execution_count": 1250,
     "metadata": {},
     "output_type": "execute_result"
    }
   ],
   "source": [
    "#Top 5 Weighted LSI Topics\n",
    "lsi.print_topics(5,  num_words=5)"
   ]
  },
  {
   "cell_type": "code",
   "execution_count": 1077,
   "metadata": {
    "collapsed": true
   },
   "outputs": [],
   "source": [
    "# create a double wrapper over the original corpus: bow->tfidf->fold-in-lsi\n",
    "corpus_lsi = lsi[corpus_tfidf]"
   ]
  },
  {
   "cell_type": "code",
   "execution_count": 1081,
   "metadata": {
    "collapsed": false,
    "scrolled": true
   },
   "outputs": [
    {
     "data": {
      "text/plain": [
       "[(1, 0.17866985139890593),\n",
       " (36, 0.15349369821976436),\n",
       " (0, 0.1478655446760373),\n",
       " (45, 0.11335023122819589),\n",
       " (33, 0.10841507612070858)]"
      ]
     },
     "execution_count": 1081,
     "metadata": {},
     "output_type": "execute_result"
    }
   ],
   "source": [
    "#topic one is the most similar for the first document.\n",
    "sorted(corpus_lsi[0], key=lambda item: -item[1])[:5]"
   ]
  },
  {
   "cell_type": "code",
   "execution_count": 1082,
   "metadata": {
    "collapsed": false
   },
   "outputs": [
    {
     "data": {
      "text/plain": [
       "[(u'report', 0.32741963949960445),\n",
       " (u'credit', 0.26554459008704512),\n",
       " (u'debt', 0.23849268977815119),\n",
       " (u'loan', -0.23598558784129159),\n",
       " (u'mortgage', -0.20836277962838556)]"
      ]
     },
     "execution_count": 1082,
     "metadata": {},
     "output_type": "execute_result"
    }
   ],
   "source": [
    "#the words that make up topic 1\n",
    "lsi.show_topic(1, topn=5)"
   ]
  },
  {
   "cell_type": "markdown",
   "metadata": {},
   "source": [
    "# Similarity Queries"
   ]
  },
  {
   "cell_type": "code",
   "execution_count": 1087,
   "metadata": {
    "collapsed": false
   },
   "outputs": [],
   "source": [
    "# transform corpus to LSI space and index it\n",
    "# selection of 500 feature space was arbitrary \n",
    "index_lsi = similarities.docsim.MatrixSimilarity(corpus_lsi, num_features=500)"
   ]
  },
  {
   "cell_type": "code",
   "execution_count": 1465,
   "metadata": {
    "collapsed": true
   },
   "outputs": [],
   "source": [
    "# input the doc to be compared\n",
    "# here a 'fake tweet' was made up\n",
    "#doc = cfpb['Consumer complaint narrative'][120]\n",
    "\n",
    "doc = \"my bank is a real bummer.  They call me all the time.  My credit card is maxed out.  I just don't know what to do with my life.  Ugg\""
   ]
  },
  {
   "cell_type": "code",
   "execution_count": 1466,
   "metadata": {
    "collapsed": false
   },
   "outputs": [],
   "source": [
    "# transform the input doc to match its format with the corpus\n",
    "doc = [word.lower() for word in re.split('\\.|\\,|\\n| ',doc) if word.lower() not in stopwords.words('english') and 'xx' not in word.lower() and len(word)>3 and '$' not in word]   \n",
    "doc = [token for token in doc if frequency[token] > 10]\n",
    "vec_bow = dictionary.doc2bow(bigram[doc])\n",
    "vec_lsi = lsi[tfidf[vec_bow]] # convert the query to LSI space"
   ]
  },
  {
   "cell_type": "code",
   "execution_count": 1467,
   "metadata": {
    "collapsed": true
   },
   "outputs": [],
   "source": [
    "# perform a similarity query against the corpus\n",
    "sims_lsi = index_lsi[vec_lsi] "
   ]
  },
  {
   "cell_type": "code",
   "execution_count": 1469,
   "metadata": {
    "collapsed": true
   },
   "outputs": [],
   "source": [
    "sims_lsi_sorted = sorted(enumerate(sims_lsi), key=lambda item: -item[1])"
   ]
  },
  {
   "cell_type": "code",
   "execution_count": 1470,
   "metadata": {
    "collapsed": false,
    "scrolled": false
   },
   "outputs": [
    {
     "data": {
      "text/plain": [
       "[(4671, 0.55112529),\n",
       " (51536, 0.51052439),\n",
       " (15084, 0.47676924),\n",
       " (17314, 0.47676924),\n",
       " (40536, 0.46828932),\n",
       " (16364, 0.46624014),\n",
       " (50001, 0.46215898),\n",
       " (45879, 0.46073705),\n",
       " (39065, 0.45395714),\n",
       " (19251, 0.45042437),\n",
       " (24705, 0.44922185),\n",
       " (14182, 0.44806379),\n",
       " (69644, 0.44606543),\n",
       " (17601, 0.44385242),\n",
       " (40075, 0.44311649),\n",
       " (69141, 0.43823844),\n",
       " (30877, 0.43340981),\n",
       " (62572, 0.43104094),\n",
       " (28823, 0.42903489),\n",
       " (73457, 0.42867807),\n",
       " (38766, 0.42135194),\n",
       " (25782, 0.41855085),\n",
       " (2793, 0.41850418),\n",
       " (10803, 0.41758773),\n",
       " (17702, 0.41703987),\n",
       " (4021, 0.41680861),\n",
       " (54751, 0.41619033),\n",
       " (27269, 0.41316092),\n",
       " (41001, 0.41065508),\n",
       " (27137, 0.40960854),\n",
       " (28399, 0.40466022),\n",
       " (988, 0.40380347),\n",
       " (37647, 0.40177476),\n",
       " (1603, 0.40085268),\n",
       " (10559, 0.40055239),\n",
       " (73211, 0.40012681),\n",
       " (61353, 0.39847565),\n",
       " (23642, 0.39819118),\n",
       " (65376, 0.39748532),\n",
       " (59781, 0.39708734),\n",
       " (67918, 0.39611313),\n",
       " (36303, 0.39536905),\n",
       " (56280, 0.39525348),\n",
       " (53703, 0.39352307),\n",
       " (64803, 0.39352307),\n",
       " (22631, 0.3932994),\n",
       " (20093, 0.39239138),\n",
       " (20258, 0.39220402),\n",
       " (11536, 0.39130908),\n",
       " (35494, 0.39130574)]"
      ]
     },
     "execution_count": 1470,
     "metadata": {},
     "output_type": "execute_result"
    }
   ],
   "source": [
    "#document 4671 has the highest cosine similarity\n",
    "sims_lsi_sorted[:50]"
   ]
  },
  {
   "cell_type": "code",
   "execution_count": 1472,
   "metadata": {
    "collapsed": false
   },
   "outputs": [
    {
     "data": {
      "text/plain": [
       "\"I call the credit card company and they was not going to help me. I do know what they are taking about I did n't got a credit card from know one please help me with this and thank you \\n\""
      ]
     },
     "execution_count": 1472,
     "metadata": {},
     "output_type": "execute_result"
    }
   ],
   "source": [
    "cfpb['Consumer complaint narrative'][4671]"
   ]
  },
  {
   "cell_type": "code",
   "execution_count": 1535,
   "metadata": {
    "collapsed": false
   },
   "outputs": [
    {
     "data": {
      "text/plain": [
       "\"My credit card from PNC Bank Credit Card was compromised when XXXX had a security breach ... I was notified from PNC Bank that they would be sending me a new credit card in XX/XX/XXXX, to replace the old credit card that may have been compromised from the target breach at the end of XXXX XXXX ... I also spoke to them at this time about making a payment and they told me to hold off until I received the new credit card ... .I was supposed to receive the new card in XX/XX/XXXX, however, I did n't receive the new card until XX/XX/XXXX, almost a month and a half later ... .Once I received the new card I immediately called PNC Bank to activate the new card to replace the older one ... I ask the representative at the time if the account was open and activated and he stated that it was, however, at the time I talked to this representative, it had already been closed by PNC Bank ... The rep told me to set up a payment in the next week or so since the account was running behind due to PNC Bank mailing out the new card a month and a half late ... I called back in a few day later and agreed to set up a payment until the rep told me PNC Bank Closed the account XX/XX/XXXX and PNC never notified me they were closing the account ... I was outraged, since I had been a customer all my life at PNC ... .PNC also charged late fees and over the limit fees, how convenient, while I was waiting for the new card to arrive ... At that point I called PNC, and they said the person I needed to speak with about this problem was in a different department, and a person would call me to speak about this in 72 business hrs ... .I never received a phone call from PNC, after I called in several times about the credit card ... .At this time, I have XXXX credit cards, XXXX showing up on my credit reports, XXXX, XXXX, and XXXX, and this is in direct violation of the fair credit reporting act, since PNC failed to call me back to discuss my credit card being compromised, and that they would be using negative information in my credit reports ... They also state in credit reports that we came up with a resolution, then I disputed this, simply not true .... \\n\""
      ]
     },
     "execution_count": 1535,
     "metadata": {},
     "output_type": "execute_result"
    }
   ],
   "source": [
    "cfpb['Consumer complaint narrative'][51536]"
   ]
  },
  {
   "cell_type": "markdown",
   "metadata": {},
   "source": [
    "Both complaints were dealing with what the tweet was roughly about.  Maxed out credit cards and too many calls"
   ]
  },
  {
   "cell_type": "markdown",
   "metadata": {},
   "source": [
    "# Latent Dirichlet Allocation, LDA"
   ]
  },
  {
   "cell_type": "markdown",
   "metadata": {},
   "source": [
    "LDA assumes documents are produced from a mixture of topics. Those topics then generate words based on their probability distribution, like the ones in our walkthrough model. In other words, LDA assumes a document is made from the following steps:\n",
    "\n",
    "    Determine the number of words in a document. Let’s say our document has 6 words.\n",
    "\n",
    "    Determine the mixture of topics in that document. For example, the document might contain 1/2 the topic “health” and 1/2 the topic “vegetables.”\n",
    "\n",
    "    Using each topic’s multinomial distribution, output words to fill the document’s word slots. In our example, the “health” topic is 1/2 our document, or 3 words. The “health” topic might have the word “diet” at 20% probability or “exercise” at 15%, so it will fill the document word slots based on those probabilities.\n",
    "\n",
    "Given this assumption of how documents are created, LDA backtracks and tries to figure out what topics would create those documents in the first place."
   ]
  },
  {
   "cell_type": "markdown",
   "metadata": {},
   "source": [
    "num_topics: required. An LDA model requires the user to determine how many topics should be generated. Our document set is small, so we’re only asking for three topics.\n",
    "\n",
    "id2word: required. The LdaModel class requires our previous dictionary to map ids to strings.\n",
    "\n",
    "passes: optional. The number of laps the model will take through corpus. The greater the number of passes, the more accurate the model will be. A lot of passes can be slow on a very large corpus.\n"
   ]
  },
  {
   "cell_type": "code",
   "execution_count": 1096,
   "metadata": {
    "collapsed": false,
    "scrolled": true
   },
   "outputs": [],
   "source": [
    "lda = gensim.models.ldamodel.LdaModel(corpus_tfidf, id2word=dictionary, num_topics=500, passes=5)"
   ]
  },
  {
   "cell_type": "code",
   "execution_count": 1542,
   "metadata": {
    "collapsed": true
   },
   "outputs": [],
   "source": [
    "# save the lda model\n",
    "lda.save('lda_model.lda') "
   ]
  },
  {
   "cell_type": "code",
   "execution_count": 1536,
   "metadata": {
    "collapsed": true
   },
   "outputs": [],
   "source": [
    "# load the model\n",
    "# lda = models.LdaModel.load('lda_model.lda')"
   ]
  },
  {
   "cell_type": "code",
   "execution_count": 1097,
   "metadata": {
    "collapsed": false,
    "scrolled": false
   },
   "outputs": [
    {
     "data": {
      "text/plain": [
       "[(323,\n",
       "  u'0.492*wells_fargo + 0.088*every_month + 0.027*mortgage + 0.020*earn + 0.019*routing_number + 0.014*bank + 0.012*charged + 0.011*interest + 0.011*payment + 0.010*month'),\n",
       " (185,\n",
       "  u'0.136*outstanding_balance + 0.133*greentree + 0.099*affected + 0.084*changing + 0.071*occur + 0.066*terms_conditions + 0.059*language + 0.012*free_night + 0.010*agreement + 0.009*statement'),\n",
       " (417,\n",
       "  u'0.156*limitations + 0.121*although + 0.104*otherwise + 0.094*attempted + 0.077*past_statute + 0.059*advertising + 0.048*deferred_interest + 0.047*fdic + 0.019*balance! + 0.019*collect'),\n",
       " (216,\n",
       "  u'0.129*apartment + 0.059*ended + 0.055*class_action + 0.042*satisfy + 0.029*calculate + 0.026*recast + 0.020*lease + 0.019*navy + 0.017*suit + 0.014*in-house'),\n",
       " (358,\n",
       "  u'0.023*self + 0.012*birth + 0.011*valued + 0.010*bank + 0.010*classes + 0.010*weekends + 0.008*scenario + 0.008*bbva_compass + 0.008*waste + 0.008*would')]"
      ]
     },
     "execution_count": 1097,
     "metadata": {},
     "output_type": "execute_result"
    }
   ],
   "source": [
    "#lda weighted topics\n",
    "lda.show_topics(num_topics=5, num_words=10, log=False, formatted=True)"
   ]
  },
  {
   "cell_type": "code",
   "execution_count": 1098,
   "metadata": {
    "collapsed": false
   },
   "outputs": [],
   "source": [
    "result = lda.do_estep(corpus_tfidf, state=None)"
   ]
  },
  {
   "cell_type": "code",
   "execution_count": 1540,
   "metadata": {
    "collapsed": false
   },
   "outputs": [],
   "source": [
    "# result[0]"
   ]
  },
  {
   "cell_type": "code",
   "execution_count": 1104,
   "metadata": {
    "collapsed": false
   },
   "outputs": [
    {
     "data": {
      "text/plain": [
       "[(67, 0.84665391707723259), (347, 0.011119764244878939)]"
      ]
     },
     "execution_count": 1104,
     "metadata": {},
     "output_type": "execute_result"
    }
   ],
   "source": [
    "# get topic from a document\n",
    "lda.get_document_topics(corpus_tfidf[0], minimum_probability=None)"
   ]
  },
  {
   "cell_type": "code",
   "execution_count": 1102,
   "metadata": {
    "collapsed": true
   },
   "outputs": [],
   "source": [
    "corpus_lda = lda[corpus_tfidf]"
   ]
  },
  {
   "cell_type": "markdown",
   "metadata": {},
   "source": [
    "#### find topic"
   ]
  },
  {
   "cell_type": "code",
   "execution_count": 1457,
   "metadata": {
    "collapsed": false
   },
   "outputs": [
    {
     "data": {
      "text/plain": [
       "[(70, 0.60316808428124757),\n",
       " (196, 0.024317451034799365),\n",
       " (228, 0.037564679327827102),\n",
       " (279, 0.0306313631290961),\n",
       " (311, 0.010035686876650801),\n",
       " (376, 0.051048644739457659),\n",
       " (483, 0.010813579719624086),\n",
       " (487, 0.029608528246048788)]"
      ]
     },
     "execution_count": 1457,
     "metadata": {},
     "output_type": "execute_result"
    }
   ],
   "source": [
    "#the topics of document 120.  In this case its strongly topic 70 based\n",
    "#on cosine similarity\n",
    "corpus_lda[120]"
   ]
  },
  {
   "cell_type": "code",
   "execution_count": 1458,
   "metadata": {
    "collapsed": false
   },
   "outputs": [
    {
     "data": {
      "text/plain": [
       "\"Macy 's has charge me 8 month interest on a closed account that i request to be closed on XXXX XXXX 2011 because high interest rate it does n't state after you closed an account that Macy 's is still able to charger you interest it only state that Macy 's can collect the remain balance which i owe. The agreement that i sign was terminated upon my request if it is closed you are only to collect the the remain balance Macy 's agreement was terminated so were the late fee Macy 's has not sent me any type of information that state after account is closed Macy 's is able to charger you late fee. so i decide to file a complaint against Macy 's so please investigate this case Thank you Sincerely XXXX XXXX XXXX \\n\""
      ]
     },
     "execution_count": 1458,
     "metadata": {},
     "output_type": "execute_result"
    }
   ],
   "source": [
    "#document 120\n",
    "cfpb['Consumer complaint narrative'][120]"
   ]
  },
  {
   "cell_type": "code",
   "execution_count": 1460,
   "metadata": {
    "collapsed": false
   },
   "outputs": [
    {
     "data": {
      "text/plain": [
       "[(u'macy', 0.24287284558174288),\n",
       " (u'section', 0.098466706640208582),\n",
       " (u'compliance', 0.063725650457652203),\n",
       " (u'terminated', 0.058676242281686525),\n",
       " (u'statement', 0.025162460329541454),\n",
       " (u'card', 0.024593688750382425),\n",
       " (u'fraud', 0.02319532474420127),\n",
       " (u'charges', 0.020496763554601807),\n",
       " (u'install', 0.015645977436904917),\n",
       " (u'late', 0.01523082880758332),\n",
       " (u'ride', 0.014387913918256475),\n",
       " (u'account', 0.012608135489035027),\n",
       " (u'white', 0.011291042611309384),\n",
       " (u'credit', 0.0094080941082986275),\n",
       " (u'closed', 0.0092118595143336948),\n",
       " (u'consumer', 0.0086652717518981934),\n",
       " (u'statements', 0.0082121679305062721),\n",
       " (u'balance', 0.0079269195388321657),\n",
       " (u'interest', 0.0074107438382308407),\n",
       " (u'copy', 0.0069275414683960422)]"
      ]
     },
     "execution_count": 1460,
     "metadata": {},
     "output_type": "execute_result"
    }
   ],
   "source": [
    "# show the topic of topic 70\n",
    "lda.show_topic(70, topn=20)"
   ]
  },
  {
   "cell_type": "markdown",
   "metadata": {},
   "source": [
    "### LDA Similarities"
   ]
  },
  {
   "cell_type": "code",
   "execution_count": 1107,
   "metadata": {
    "collapsed": false
   },
   "outputs": [],
   "source": [
    "#create lda index\n",
    "index_lda = similarities.MatrixSimilarity(corpus_lda, num_features=500)"
   ]
  },
  {
   "cell_type": "code",
   "execution_count": 1146,
   "metadata": {
    "collapsed": true
   },
   "outputs": [],
   "source": [
    "doc = cfpb['Consumer complaint narrative'][120]\n",
    "# transform the input doc to match format of corpus\n",
    "doc = [word.lower() for word in re.split('\\.|\\,|\\n| ',doc) if word.lower() not in stopwords.words('english') and 'xx' not in word.lower() and len(word)>3 and '$' not in word]   \n",
    "doc = [token for token in doc if frequency[token] > 10]\n",
    "vec_bow = dictionary.doc2bow(bigram[doc])\n",
    "vec_lda = lda[tfidf[vec_bow]] # convert the query to LSI space"
   ]
  },
  {
   "cell_type": "code",
   "execution_count": 1147,
   "metadata": {
    "collapsed": true
   },
   "outputs": [],
   "source": [
    "sims_lda = index_lda[vec_lda] "
   ]
  },
  {
   "cell_type": "code",
   "execution_count": 1148,
   "metadata": {
    "collapsed": false
   },
   "outputs": [],
   "source": [
    "sims_lda_sorted = sorted(enumerate(sims_lda), key=lambda item: -item[1])"
   ]
  },
  {
   "cell_type": "code",
   "execution_count": 1149,
   "metadata": {
    "collapsed": false,
    "scrolled": true
   },
   "outputs": [
    {
     "data": {
      "text/plain": [
       "[(120, 0.99968714),\n",
       " (121, 0.97623652),\n",
       " (464, 0.95726317),\n",
       " (45045, 0.88136822),\n",
       " (58122, 0.85405421),\n",
       " (11545, 0.81315798),\n",
       " (36130, 0.80075783),\n",
       " (54293, 0.78365052),\n",
       " (37713, 0.76949638),\n",
       " (16421, 0.76732326),\n",
       " (15094, 0.75462371),\n",
       " (69443, 0.7489934),\n",
       " (15778, 0.74737781),\n",
       " (35800, 0.74461526),\n",
       " (24138, 0.74208772),\n",
       " (56326, 0.73926359),\n",
       " (16567, 0.7377578),\n",
       " (14150, 0.73404068),\n",
       " (26351, 0.73151904),\n",
       " (53976, 0.72465324),\n",
       " (30135, 0.72377181),\n",
       " (39292, 0.72368532),\n",
       " (61705, 0.72174042),\n",
       " (34957, 0.7186166),\n",
       " (16677, 0.71693724),\n",
       " (13747, 0.71445197),\n",
       " (45527, 0.71005762),\n",
       " (9198, 0.70990914),\n",
       " (7506, 0.70902747),\n",
       " (54251, 0.70898944),\n",
       " (8057, 0.7005468),\n",
       " (33558, 0.69586003),\n",
       " (27266, 0.69248652),\n",
       " (42092, 0.69086099),\n",
       " (55418, 0.69066769),\n",
       " (23160, 0.69003928),\n",
       " (5159, 0.68668437),\n",
       " (69799, 0.68633997),\n",
       " (13116, 0.6854614),\n",
       " (27914, 0.68541598),\n",
       " (18340, 0.68307656),\n",
       " (42422, 0.68204719),\n",
       " (13872, 0.67977673),\n",
       " (27708, 0.67634875),\n",
       " (64260, 0.67627621),\n",
       " (66774, 0.66595614),\n",
       " (16378, 0.66080701),\n",
       " (18128, 0.65957063),\n",
       " (22447, 0.65894163),\n",
       " (38904, 0.65842718)]"
      ]
     },
     "execution_count": 1149,
     "metadata": {},
     "output_type": "execute_result"
    }
   ],
   "source": [
    "#documents with the their similarity consines\n",
    "#NOTE these results show overfitting.\n",
    "sims_lda_sorted[:50]"
   ]
  },
  {
   "cell_type": "code",
   "execution_count": 1462,
   "metadata": {
    "collapsed": false
   },
   "outputs": [
    {
     "data": {
      "text/plain": [
       "\"Macy 's has charge me 8 month interest on a closed account that i request to be closed on XXXX XXXX 2011 because high interest rate it does n't state after you closed an account that Macy 's is still able to charger you interest it only state that Macy 's can collect the remain balance which i owe. The agreement that i sign was terminated upon my request if it is closed you are only to collect the the remain balance Macy 's agreement was terminated so were the late fee Macy 's has not sent me any type of information that state after account is closed Macy 's is able to charger you late fee. so i decide to file a complaint against Macy 's so please investigate this case Thank you Sincerely XXXX XXXX XXXX \\n\""
      ]
     },
     "execution_count": 1462,
     "metadata": {},
     "output_type": "execute_result"
    }
   ],
   "source": [
    "cfpb['Consumer complaint narrative'][120]"
   ]
  },
  {
   "cell_type": "code",
   "execution_count": 1546,
   "metadata": {
    "collapsed": false
   },
   "outputs": [
    {
     "data": {
      "text/plain": [
       "\"In XX/XX/2014 I purchased an Solar Air Cond. system. I have found out that the system installed is NOT an Solar Air Cond. system and that the outside condensing unit and inside air handler should have NEVER been connected to an Solar panel per the manufacture. \\nI have placed criminal charges against the company's owner. The company XXXX that sold me the system arranged for financing thru Aqua Finance Inc. I have explained several times over the past several months that XXXX DID NOT install a Solar system they installed a plane old A/C and air handler system that is connected to a Solar panel that should have never been done. Now Aqua is coming after me for non payment and has placed past due notices on my credit record. I'm NOT going to pay for something that is a FRAUD. Please help me with getting ride of this debit that Ive tried my very best to let EVERYONE know that I didn't get what I paid for.\""
      ]
     },
     "execution_count": 1546,
     "metadata": {},
     "output_type": "execute_result"
    }
   ],
   "source": [
    "cfpb['Consumer complaint narrative'][121]"
   ]
  },
  {
   "cell_type": "markdown",
   "metadata": {},
   "source": [
    "The results do not pass the human test.  This indicates the LDA model was overfit."
   ]
  },
  {
   "cell_type": "markdown",
   "metadata": {},
   "source": [
    "# Compare LSA with LDA"
   ]
  },
  {
   "cell_type": "code",
   "execution_count": 1340,
   "metadata": {
    "collapsed": true
   },
   "outputs": [],
   "source": [
    "def test(docnumber):\n",
    "    # select an input\n",
    "    doc = cfpb['Consumer complaint narrative'][docnumber]\n",
    "    # transform the input doc\n",
    "    doc = [word.lower() for word in re.split('\\.|\\,|\\n| ',doc) if word.lower() not in stopwords.words('english') and 'xx' not in word.lower() and len(word)>3 and '$' not in word]   \n",
    "    doc = [token for token in doc if frequency[token] > 10]\n",
    "    vec_bow = dictionary.doc2bow(bigram[doc])\n",
    "    \n",
    "    vec_lsi = lsi[tfidf[vec_bow]]\n",
    "    vec_lda = lda[tfidf[vec_bow]] \n",
    "    \n",
    "    sims_lsi = index_lsi[vec_lsi] \n",
    "    sims_lda = index_lda[vec_lda] \n",
    "    \n",
    "    sims_lsi_sorted = sorted(enumerate(sims_lsi), key=lambda item: -item[1])\n",
    "    sims_lda_sorted = sorted(enumerate(sims_lda), key=lambda item: -item[1])\n",
    "    \n",
    "    a = 0\n",
    "    b = 20\n",
    "    for i in sims_lsi_sorted[:b]:\n",
    "        for j in sims_lda_sorted[:b]:\n",
    "            if i[0]==j[0]:\n",
    "                a+=1\n",
    "    print docnumber, '| In top similiarty', b , \"| identical amount =\", a"
   ]
  },
  {
   "cell_type": "code",
   "execution_count": 1341,
   "metadata": {
    "collapsed": false
   },
   "outputs": [
    {
     "name": "stdout",
     "output_type": "stream",
     "text": [
      "0 | In top similiarty 20 | identical amount = 14\n",
      "1 | In top similiarty 20 | identical amount = 1\n",
      "2 | In top similiarty 20 | identical amount = 2\n",
      "3 | In top similiarty 20 | identical amount = 1\n",
      "4 | In top similiarty 20 | identical amount = 1\n",
      "5 | In top similiarty 20 | identical amount = 5\n",
      "6 | In top similiarty 20 | identical amount = 1\n",
      "7 | In top similiarty 20 | identical amount = 1\n",
      "8 | In top similiarty 20 | identical amount = 1\n",
      "9 | In top similiarty 20 | identical amount = 1\n",
      "10 | In top similiarty 20 | identical amount = 1\n",
      "11 | In top similiarty 20 | identical amount = 3\n",
      "12 | In top similiarty 20 | identical amount = 1\n",
      "13 | In top similiarty 20 | identical amount = 1\n",
      "14 | In top similiarty 20 | identical amount = 1\n",
      "15 | In top similiarty 20 | identical amount = 1\n",
      "16 | In top similiarty 20 | identical amount = 5\n",
      "17 | In top similiarty 20 | identical amount = 1\n",
      "18 | In top similiarty 20 | identical amount = 1\n",
      "19 | In top similiarty 20 | identical amount = 1\n",
      "20 | In top similiarty 20 | identical amount = 1\n",
      "21 | In top similiarty 20 | identical amount = 5\n",
      "22 | In top similiarty 20 | identical amount = 1\n",
      "23 | In top similiarty 20 | identical amount = 1\n",
      "24 | In top similiarty 20 | identical amount = 3\n",
      "25 | In top similiarty 20 | identical amount = 3\n",
      "26 | In top similiarty 20 | identical amount = 2\n",
      "27 | In top similiarty 20 | identical amount = 1\n",
      "28 | In top similiarty 20 | identical amount = 1\n",
      "29 | In top similiarty 20 | identical amount = 1\n",
      "30 | In top similiarty 20 | identical amount = 4\n",
      "31 | In top similiarty 20 | identical amount = 2\n",
      "32 | In top similiarty 20 | identical amount = 4\n",
      "33 | In top similiarty 20 | identical amount = 1\n",
      "34 | In top similiarty 20 | identical amount = 2\n",
      "35 | In top similiarty 20 | identical amount = 1\n",
      "36 | In top similiarty 20 | identical amount = 2\n",
      "37 | In top similiarty 20 | identical amount = 1\n",
      "38 | In top similiarty 20 | identical amount = 1\n",
      "39 | In top similiarty 20 | identical amount = 1\n",
      "40 | In top similiarty 20 | identical amount = 1\n",
      "41 | In top similiarty 20 | identical amount = 2\n",
      "42 | In top similiarty 20 | identical amount = 2\n",
      "43 | In top similiarty 20 | identical amount = 6\n",
      "44 | In top similiarty 20 | identical amount = 1\n",
      "45 | In top similiarty 20 | identical amount = 1\n",
      "46 | In top similiarty 20 | identical amount = 2\n",
      "47 | In top similiarty 20 | identical amount = 1\n",
      "48 | In top similiarty 20 | identical amount = 1\n",
      "49 | In top similiarty 20 | identical amount = 3\n",
      "50 | In top similiarty 20 | identical amount = 1\n",
      "51 | In top similiarty 20 | identical amount = 1\n",
      "52 | In top similiarty 20 | identical amount = 1\n",
      "53 | In top similiarty 20 | identical amount = 5\n",
      "54 | In top similiarty 20 | identical amount = 1\n",
      "55 | In top similiarty 20 | identical amount = 1\n",
      "56 | In top similiarty 20 | identical amount = 2\n",
      "57 | In top similiarty 20 | identical amount = 1\n",
      "58 | In top similiarty 20 | identical amount = 1\n",
      "59 | In top similiarty 20 | identical amount = 1\n",
      "60 | In top similiarty 20 | identical amount = 1\n",
      "61 | In top similiarty 20 | identical amount = 1\n",
      "62 | In top similiarty 20 | identical amount = 1\n",
      "63 | In top similiarty 20 | identical amount = 1\n",
      "64 | In top similiarty 20 | identical amount = 2\n",
      "65 | In top similiarty 20 | identical amount = 1\n",
      "66 | In top similiarty 20 | identical amount = 2\n",
      "67 | In top similiarty 20 | identical amount = 19\n",
      "68 | In top similiarty 20 | identical amount = 8\n",
      "69 | In top similiarty 20 | identical amount = 1\n",
      "70 | In top similiarty 20 | identical amount = 19\n",
      "71 | In top similiarty 20 | identical amount = 2\n",
      "72 | In top similiarty 20 | identical amount = 1\n",
      "73 | In top similiarty 20 | identical amount = 1\n",
      "74 | In top similiarty 20 | identical amount = 18\n",
      "75 | In top similiarty 20 | identical amount = 2\n",
      "76 | In top similiarty 20 | identical amount = 18\n",
      "77 | In top similiarty 20 | identical amount = 1\n",
      "78 | In top similiarty 20 | identical amount = 16\n",
      "79 | In top similiarty 20 | identical amount = 1\n",
      "80 | In top similiarty 20 | identical amount = 4\n",
      "81 | In top similiarty 20 | identical amount = 1\n",
      "82 | In top similiarty 20 | identical amount = 1\n",
      "83 | In top similiarty 20 | identical amount = 1\n",
      "84 | In top similiarty 20 | identical amount = 2\n",
      "85 | In top similiarty 20 | identical amount = 1\n",
      "86 | In top similiarty 20 | identical amount = 5\n",
      "87 | In top similiarty 20 | identical amount = 1\n",
      "88 | In top similiarty 20 | identical amount = 1\n",
      "89 | In top similiarty 20 | identical amount = 1\n",
      "90 | In top similiarty 20 | identical amount = 1\n",
      "91 | In top similiarty 20 | identical amount = 1\n",
      "92 | In top similiarty 20 | identical amount = 3\n",
      "93 | In top similiarty 20 | identical amount = 1\n",
      "94 | In top similiarty 20 | identical amount = 1\n",
      "95 | In top similiarty 20 | identical amount = 1\n",
      "96 | In top similiarty 20 | identical amount = 1\n",
      "97 | In top similiarty 20 | identical amount = 1\n",
      "98 | In top similiarty 20 | identical amount = 1\n",
      "99 | In top similiarty 20 | identical amount = 1\n"
     ]
    }
   ],
   "source": [
    "for i in range(100):\n",
    "    test(i)"
   ]
  },
  {
   "cell_type": "markdown",
   "metadata": {},
   "source": [
    "# Test with Tweets\n",
    "\n",
    "### These tweets were unrelated to the topic of the project and are therefore not that informative but they do prove the methodology will work with a stream of all tweets from New Yorkers\n"
   ]
  },
  {
   "cell_type": "code",
   "execution_count": 1371,
   "metadata": {
    "collapsed": false
   },
   "outputs": [],
   "source": [
    "twitterdata = pd.read_csv(\"../data/csv_tweets_v1.csv\", header=None)"
   ]
  },
  {
   "cell_type": "code",
   "execution_count": 1372,
   "metadata": {
    "collapsed": false,
    "scrolled": false
   },
   "outputs": [],
   "source": [
    "tweets = list(twitterdata.iloc[:,0])"
   ]
  },
  {
   "cell_type": "code",
   "execution_count": 1374,
   "metadata": {
    "collapsed": false,
    "scrolled": true
   },
   "outputs": [
    {
     "data": {
      "text/plain": [
       "1000"
      ]
     },
     "execution_count": 1374,
     "metadata": {},
     "output_type": "execute_result"
    }
   ],
   "source": [
    "len(tweets)"
   ]
  },
  {
   "cell_type": "code",
   "execution_count": 1398,
   "metadata": {
    "collapsed": false
   },
   "outputs": [],
   "source": [
    "length = []\n",
    "for i in tweets:\n",
    "    if type(i) == str:\n",
    "        length.append(len(i.split()))"
   ]
  },
  {
   "cell_type": "code",
   "execution_count": 1404,
   "metadata": {
    "collapsed": false
   },
   "outputs": [
    {
     "data": {
      "text/plain": [
       "10.382765531062125"
      ]
     },
     "execution_count": 1404,
     "metadata": {},
     "output_type": "execute_result"
    }
   ],
   "source": [
    "average(length)"
   ]
  },
  {
   "cell_type": "code",
   "execution_count": 1425,
   "metadata": {
    "collapsed": false,
    "scrolled": false
   },
   "outputs": [
    {
     "name": "stdout",
     "output_type": "stream",
     "text": [
      "2\n",
      "When I took the uber to Jersey during rush hour instead of the train &lt;&lt;. Top 5 worst decisions my bill was dirt \n",
      "\n",
      "16\n",
      "Meu pai esqueceu a chave e o que eu fiz? Chamei uber e ele entregou kkkkkkk \n",
      "\n",
      "89\n",
      "RT @TheGabbieShow: this uber driver just told me a 7 minute story of one time she tried to park in a tight spot. she should start a youtube \n",
      "\n",
      "101\n",
      "uber for fuse \n",
      "\n",
      "125\n",
      "Like nah I'll get a uber to bring me back to my car tomorrow \n",
      "\n",
      "159\n",
      "When your uber driver is also a delivery driver for pizzeria 260 &amp; knows who you are ... \n",
      "\n",
      "183\n",
      "@JoeyRossi67 prolly hopefully if i uber \n",
      "\n",
      "192\n",
      "@HossanLeong Judging by the way uber is heading, we wont even need them drivers even. Hohoho \n",
      "\n",
      "197\n",
      "My uber driver looks like @tomhanks \n",
      "\n",
      "227\n",
      "RT @robertmoreactor: uno va a robar gallinas tranquilo y aparece el uber de los locutores.\n",
      "pero don @RodrigoRomano76 ya pago las cuotas. ht \n",
      "\n",
      "249\n",
      "uber everywhere.. in the back of that bih with a ruger \n",
      "\n",
      "255\n",
      "RT @AndreaRussett: one time I was leaving a party and thought I saw my uber so I opened the door to get in but instead it was @TTLYTEALA's \n",
      "\n",
      "287\n",
      "I can't fuck with op, never stop, pull up in that juice box, uber fuckin everywhere \n",
      "\n",
      "292\n",
      "RT @thateuss: agora eh serio se deus nao me leva eu vo de uber \n",
      "\n",
      "333\n",
      "@Usering_ @TheInnoRBLX @RBX_Crazyman32 lol doing that is a bad idea\n",
      "better pray ur uber driver is amazing at driving\n",
      "bc CA traffic is awful \n",
      "\n",
      "348\n",
      "RT @vickto_willy: 5. If he never sleep over, he don't care about you. U aint even cum yet but he got uber on speed dial. I'll be damn https \n",
      "\n",
      "379\n",
      "RT @iconickkk: why can't uber pick me up from school early \n",
      "\n",
      "382\n",
      "my uber drivers name is semin \n",
      "\n",
      "383\n",
      "RT @AndreaRussett: do u ever try to split the fare of ur uber with people ur not even with \n",
      "\n",
      "394\n",
      "RT @AndreaRussett: one time I was leaving a party and thought I saw my uber so I opened the door to get in but instead it was @TTLYTEALA's \n",
      "\n",
      "415\n",
      "RT @erica_lord1: Our uber gave us a free trip  last night because we bought him a wawa pretzel... Ralph is the goat. https://t.co/8cz873iZi9 \n",
      "\n",
      "435\n",
      "how are so many uber drivers so bad at driving \n",
      "\n",
      "450\n",
      "RT @rebeckyrabajas: im uber sad n i want a hug and food lol \n",
      "\n",
      "499\n",
      "@jakitkat7 HAHA they probably have like lambos and ferraris as uber VIP  \n",
      "\n",
      "507\n",
      "when you want to sit and wallow in sadness in peace but ur uber driver is super talkative  \n",
      "\n",
      "516\n",
      "young ethnically ambigous uber told us his name was Moe, tho app said Mohammed, long pause right before is why i'm tweeting it 3 days later \n",
      "\n",
      "540\n",
      "what is the new quarterback's stance on uber vs lyft?? \n",
      "\n",
      "562\n",
      "@Sr_Lazarus @RebeccaForBART @StreetsblogSF set it on fire. After my ride now, uber can go screw themselves \n",
      "\n",
      "588\n",
      "RT @thateuss: agora eh serio se deus nao me leva eu vo de uber \n",
      "\n",
      "606\n",
      "RT @ninjasexparty: app idea: uber for #buttsex \n",
      "\n",
      "613\n",
      "RT @iconickkk: why can't uber pick me up from school early \n",
      "\n",
      "620\n",
      "RT @josemgonzalez99: @jakitkat7 HAHA they probably have like lambos and ferraris as uber VIP  \n",
      "\n",
      "643\n",
      "RT @TheGabbieShow: this uber driver just told me a 7 minute story of one time she tried to park in a tight spot. she should start a youtube \n",
      "\n",
      "706\n",
      "@abyssiniahaile HAHAHAHAHAHAHAHAHAHAHAHAHAHAHA I hope uber isnt surging tomorrow morning. \n",
      "\n",
      "725\n",
      "Hehehehhe adoro, uber grande sucesso. Quanto mais tentam atac-lo mais produtos e formas novas de uber aparecem! https://t.co/vY9uq6Cg46 \n",
      "\n",
      "737\n",
      "@rcnradio bien por uber fuera las ratas taxistas \n",
      "\n",
      "763\n",
      "RT @duhmilo: when you want to sit and wallow in sadness in peace but ur uber driver is super talkative  \n",
      "\n",
      "765\n",
      "RT @DennisTodisco: When the uber driver turns the volume UP on your AUX &gt; \n",
      "\n",
      "767\n",
      "RT @PanteraMexicat: Ya pueden pedir su uber pa q los lleven a la fiesta #ubersecret show. *entrada gratis usuarios https://t.co/xrrlm1B63Z \n",
      "\n",
      "795\n",
      "Hasta mi uber se estres del drama que se avent mi novia, as mi vida, compas. #MerezcoUnPremio \n",
      "\n",
      "806\n",
      "uber \n",
      "\n",
      "827\n",
      "@JoeyRossi67 uber everywhere nigga \n",
      "\n",
      "838\n",
      "Will forever be grateful to the uber driver that gave me 10 bucks for school  \n",
      "\n",
      "881\n",
      "I'm to the roof excited about these passion fruits I got today. I'm uber crazy about them. #fave #fruityblast \n",
      "\n",
      "956\n",
      "If anyone ever needs an uber discount let me know so I can refer you with my coupon and you get 20$ off~ \n",
      "\n",
      "999\n",
      "@julioagrado hmmmm...\n",
      " uber \n",
      "\n"
     ]
    }
   ],
   "source": [
    "amount = 0\n",
    "for j,i in enumerate(tweets):\n",
    "    if type(i) == str:\n",
    "        if 'uber' in i.split():\n",
    "            amount += 1\n",
    "            print j\n",
    "            print i, '\\n'"
   ]
  },
  {
   "cell_type": "code",
   "execution_count": 1426,
   "metadata": {
    "collapsed": false
   },
   "outputs": [
    {
     "data": {
      "text/plain": [
       "46"
      ]
     },
     "execution_count": 1426,
     "metadata": {},
     "output_type": "execute_result"
    }
   ],
   "source": [
    "amount"
   ]
  },
  {
   "cell_type": "code",
   "execution_count": 1428,
   "metadata": {
    "collapsed": false
   },
   "outputs": [
    {
     "data": {
      "text/plain": [
       "'how are so many uber drivers so bad at driving'"
      ]
     },
     "execution_count": 1428,
     "metadata": {},
     "output_type": "execute_result"
    }
   ],
   "source": [
    "tweets[435]"
   ]
  },
  {
   "cell_type": "code",
   "execution_count": 1429,
   "metadata": {
    "collapsed": false
   },
   "outputs": [
    {
     "data": {
      "text/plain": [
       "'Will forever be grateful to the uber driver that gave me 10 bucks for school '"
      ]
     },
     "execution_count": 1429,
     "metadata": {},
     "output_type": "execute_result"
    }
   ],
   "source": [
    "tweets[838]"
   ]
  },
  {
   "cell_type": "code",
   "execution_count": 1483,
   "metadata": {
    "collapsed": true
   },
   "outputs": [],
   "source": [
    "def findtopic(text):\n",
    "    # select an input\n",
    "    doc = text\n",
    "    # transform the input doc\n",
    "    doc = [word.lower() for word in re.split('\\.|\\,|\\n| ',doc) if word.lower() not in stopwords.words('english') and 'xx' not in word.lower() and len(word)>3 and '$' not in word]   \n",
    "    doc = [token for token in doc if frequency[token] > 10]\n",
    "    vec_bow = dictionary.doc2bow(bigram[doc])\n",
    "    \n",
    "    lsi_result = sorted(lsi[tfidf[vec_bow]], key=lambda item: -item[1])[:5]\n",
    "    \n",
    "    lda_result = sorted(lda[tfidf[vec_bow]], key=lambda item: -item[1])[:5]\n",
    "     \n",
    "    return lsi_result, lda_result"
   ]
  },
  {
   "cell_type": "code",
   "execution_count": 1442,
   "metadata": {
    "collapsed": true
   },
   "outputs": [],
   "source": [
    "lsi_result, lda_result = findtopic(tweets[435])"
   ]
  },
  {
   "cell_type": "code",
   "execution_count": 1443,
   "metadata": {
    "collapsed": false
   },
   "outputs": [
    {
     "data": {
      "text/plain": [
       "[(334, 0.055437073112975126),\n",
       " (362, 0.049644111856967064),\n",
       " (369, 0.039906952711141037),\n",
       " (339, 0.034718401299053604),\n",
       " (375, 0.031585259193952837)]"
      ]
     },
     "execution_count": 1443,
     "metadata": {},
     "output_type": "execute_result"
    }
   ],
   "source": [
    "lsi_result"
   ]
  },
  {
   "cell_type": "code",
   "execution_count": 1444,
   "metadata": {
    "collapsed": false
   },
   "outputs": [
    {
     "data": {
      "text/plain": [
       "[(181, 0.3340790005668855), (473, 0.28662742544664166)]"
      ]
     },
     "execution_count": 1444,
     "metadata": {},
     "output_type": "execute_result"
    }
   ],
   "source": [
    "lda_result"
   ]
  },
  {
   "cell_type": "code",
   "execution_count": 1437,
   "metadata": {
    "collapsed": false
   },
   "outputs": [
    {
     "data": {
      "text/plain": [
       "'how are so many uber drivers so bad at driving'"
      ]
     },
     "execution_count": 1437,
     "metadata": {},
     "output_type": "execute_result"
    }
   ],
   "source": [
    "tweets[435]"
   ]
  },
  {
   "cell_type": "code",
   "execution_count": 1436,
   "metadata": {
    "collapsed": false
   },
   "outputs": [
    {
     "data": {
      "text/plain": [
       "[(u'many', 0.22123507861249536),\n",
       " (u'late_fees', 0.17409796859497922),\n",
       " (u'program', -0.1600144866663579),\n",
       " (u'hold', -0.13854550632451509),\n",
       " (u'week', 0.12874516018375781),\n",
       " (u'pulled', 0.12703567176990702),\n",
       " (u'using', -0.11521778459940649),\n",
       " (u'finance', -0.11358310623751222),\n",
       " (u'well', -0.11255244921557819),\n",
       " (u'father', 0.11156755397144251)]"
      ]
     },
     "execution_count": 1436,
     "metadata": {},
     "output_type": "execute_result"
    }
   ],
   "source": [
    "lsi.show_topic(334, topn=10)"
   ]
  },
  {
   "cell_type": "code",
   "execution_count": 1440,
   "metadata": {
    "collapsed": false
   },
   "outputs": [
    {
     "data": {
      "text/plain": [
       "[(u'auto', 0.24282737870550253),\n",
       " (u'financing', 0.11003234742644261),\n",
       " (u'figure', 0.070307551732642068),\n",
       " (u'cycle', 0.053156312757885994),\n",
       " (u'actually', 0.044240836117131872),\n",
       " (u'driving', 0.043318378979432158),\n",
       " (u'loan', 0.028899422801468243),\n",
       " (u'driver', 0.017079374471690906),\n",
       " (u'finance', 0.01625920604986154),\n",
       " (u'vehicle', 0.015448435000089649)]"
      ]
     },
     "execution_count": 1440,
     "metadata": {},
     "output_type": "execute_result"
    }
   ],
   "source": [
    "lda.show_topic(181, topn=10)"
   ]
  },
  {
   "cell_type": "markdown",
   "metadata": {},
   "source": [
    "### Test the thredthod"
   ]
  },
  {
   "cell_type": "code",
   "execution_count": 1508,
   "metadata": {
    "collapsed": true
   },
   "outputs": [],
   "source": [
    "def thr_findtopic(text):\n",
    "    # select an input\n",
    "    doc = text\n",
    "    # transform the input doc\n",
    "    doc = [word.lower() for word in re.split('\\.|\\,|\\n| ',doc) if word.lower() not in stopwords.words('english') and 'xx' not in word.lower() and len(word)>3 and '$' not in word]   \n",
    "    doc = [token for token in doc if frequency[token] > 10]\n",
    "    vec_bow = dictionary.doc2bow(bigram[doc])\n",
    "    \n",
    "    lsi_result = sorted(lsi[tfidf[vec_bow]], key=lambda item: -item[1])\n",
    "    \n",
    "    lda_result = sorted(lda[tfidf[vec_bow]], key=lambda item: -item[1])\n",
    "     \n",
    "    return lsi_result, lda_result"
   ]
  },
  {
   "cell_type": "code",
   "execution_count": 1509,
   "metadata": {
    "collapsed": false
   },
   "outputs": [],
   "source": [
    "lsi_list = []\n",
    "lda_list = []\n",
    "number_of_empty = 0\n",
    "for j, i in enumerate(tweets):\n",
    "    try:\n",
    "        lsi_result, lda_result = thr_findtopic(i)\n",
    "        if lsi_result == [] or lda_result == []:\n",
    "            number_of_empty += 1\n",
    "        else:\n",
    "            lsi_list.append((j,lsi_result[0][1]))\n",
    "            lda_list.append((j,lda_result[0][1]))\n",
    "    except:\n",
    "        pass"
   ]
  },
  {
   "cell_type": "code",
   "execution_count": 1518,
   "metadata": {
    "collapsed": false,
    "scrolled": false
   },
   "outputs": [],
   "source": [
    "lsi_list_sorted = sorted(lsi_list, key=lambda item: -item[1])"
   ]
  },
  {
   "cell_type": "code",
   "execution_count": 1547,
   "metadata": {
    "collapsed": false
   },
   "outputs": [
    {
     "name": "stdout",
     "output_type": "stream",
     "text": [
      "0.325653831556 | @josenation1. Work \n",
      "0.325653831556 | -when I'm bored at work ... https://t.co/OObnKO9GIZ\n",
      "0.264847548972 | @ImDontai Today was just the tip of the iceberg :/\n",
      "0.264097933407 | Bucs PLEASE call Jax\n",
      "0.25511424998 | Told you @NYPost_Loftis  https://t.co/pu1JNK6kse\n",
      "0.25511424998 | Told you it was elliott\n",
      "0.244504470473 | @A_HumbleMan I want a bouquet \n",
      "0.244504470473 | I want cheesecake\n",
      "0.244504470473 | I want to puke https://t.co/v1PpDGWaIB\n",
      "0.244504470473 | I want to be @carrieffisher\n",
      "0.244504470473 | God I want Jerry Jones to die.\n",
      "0.233904503451 | One lane closed in #NewYork on 5th Ave SB between 57th St and 56th St #traffic https://t.co/cLJ9IKJQWV\n",
      "0.23124049763 | dallas gonna be a problem smh\n",
      "0.228077517616 | RT @PanteraMexicat: Ya pueden pedir su uber pa q los lleven a la fiesta #ubersecret show. *entrada gratis usuarios https://t.co/xrrlm1B63Z\n",
      "0.224898258154 | @wsvn @Uber that all these company do is just want money.\n",
      "0.220387941235 | @karanewman columns/opinion...you know. Are you  or  on my assessment?\n",
      "0.220387941235 | \"You know what I was thinking?\" \"Me and ms. Lain have the same haircut\" - @taayloor_arnold\n",
      "0.214625594302 | WE ARE GOING TO AMY SCHUMER  @cjburgess1  YAYAYAYAY\n",
      "0.202736305684 | I'm at Home Sweet Home in Bronx, NY https://t.co/jwDefew86s\n",
      "0.201621323826 | Ezekiel 25:17? More like Ezekiel 2016, amirite? #NFLDraft2016\n",
      "0.195364007104 | @DaniCim anything by dr jean \n",
      "0.192529273727 | @josenation1 i would rather be at home tbh . lol\n",
      "0.191516489612 | Yo uso @Uber para generar ingresos con mi auto y t tambin lo puedes hacer. Utiliza este enlace para registrarte: https://t.co/3zzPQRoLhX\n",
      "0.188529029849 | NYC pizzeria introduces a pizza box made out of pizza https://t.co/a72Q3CT9AF\n",
      "0.182878297954 | @DJMissMilan @SGUV_ need me one of them joints\n",
      "0.182878297954 | In need of wings and a margarita.\n",
      "0.182878297954 | Gonna need wine after this one \n",
      "0.182878297954 | @xForever_Nae Yasssss get it Naeeee we need it \n",
      "0.180570502591 | This header i am working on for this designer is gonna be lit af :)\n",
      "0.173140633873 | Goat cheese wrapped in garlic and pepper? Yes please. #veganfoodporn @ Albany; Capital Of New York https://t.co/kp5lp5xkBp\n",
      "0.171962357245 | Pagi yang cerah dan mengejutkan, abis liat billing #cc dan tagihan #uber bikin kepala cenat cenut maksimal\n",
      "0.171449112796 | RT @GTAVCommentary: Uber Gone Wrong Pt. 2\n",
      "https://t.co/8lH8XTbsLb\n",
      "0.171449112796 | RT @GTAVCommentary: Uber Gone Wrong Pt. 2\n",
      "https://t.co/8lH8XTbsLb\n",
      "0.171449112796 | RT @GTAVCommentary: Uber Gone Wrong Pt. 2\n",
      "https://t.co/8lH8XTbsLb\n",
      "0.171449112796 | RT @GTAVCommentary: Uber Gone Wrong Pt. 2\n",
      "https://t.co/8lH8XTbsLb\n",
      "0.171449112796 | RT @GTAVCommentary: Uber Gone Wrong Pt. 2\n",
      "https://t.co/8lH8XTbsLb\n",
      "0.171449112796 | RT @GTAVCommentary: Uber Gone Wrong Pt. 2\n",
      "https://t.co/8lH8XTbsLb\n",
      "0.171449112796 | RT @GTAVCommentary: Uber Gone Wrong Pt. 2\n",
      "https://t.co/8lH8XTbsLb\n",
      "0.171449112796 | RT @GTAVCommentary: Uber Gone Wrong Pt. 2\n",
      "https://t.co/8lH8XTbsLb\n",
      "0.171449112796 | RT @GTAVCommentary: Uber Gone Wrong Pt. 2\n",
      "https://t.co/8lH8XTbsLb\n",
      "0.171449112796 | RT @GTAVCommentary: Uber Gone Wrong Pt. 2\n",
      "https://t.co/8lH8XTbsLb\n",
      "0.171449112796 | RT @GTAVCommentary: Uber Gone Wrong Pt. 2\n",
      "https://t.co/8lH8XTbsLb\n",
      "0.171449112796 | RT @GTAVCommentary: Uber Gone Wrong Pt. 2\n",
      "https://t.co/8lH8XTbsLb\n",
      "0.171449112796 | RT @GTAVCommentary: Uber Gone Wrong Pt. 2\n",
      "https://t.co/8lH8XTbsLb\n",
      "0.171449112796 | RT @GTAVCommentary: Uber Gone Wrong Pt. 2\n",
      "https://t.co/8lH8XTbsLb\n",
      "0.171449112796 | RT @GTAVCommentary: Uber Gone Wrong Pt. 2\n",
      "https://t.co/8lH8XTbsLb\n",
      "0.171449112796 | RT @GTAVCommentary: Uber Gone Wrong Pt. 2\n",
      "https://t.co/8lH8XTbsLb\n",
      "0.171449112796 | RT @GTAVCommentary: Uber Gone Wrong Pt. 2\n",
      "https://t.co/8lH8XTbsLb\n",
      "0.167823910662 | @Espngreeny You would.   You are a JETS fan.\n",
      "0.167823910662 | 500% WOULD DO THAT IN A HEARTBEAT @hawkqirls @xxMOONLITsky @tarialdarion @SteffStan https://t.co/XpHBpcP9Uo\n",
      "0.165126885162 | Lemme Find Out They Pick'd Zeke...\n",
      "0.160523832221 | today was shit and just kept getting shittier\n",
      "0.15642163457 | @DeanlsReal change that avi fam\n",
      "0.156275060973 | called it\n",
      "0.156275060973 | lmaoooo called it.\n",
      "0.156275060973 | Called that one #NFLDraft2016\n",
      "0.15407386503 | @petersonn_21 come cuddle w me\n",
      "0.15407386503 | Come on Jalen Ramsey 6 more spots!\n",
      "0.150007753011 | but I gotta work on this website right now \n",
      "0.147018933333 | Every time someone shows me something I'm like LYDIGGGG LMFAOO\n",
      "0.145843606767 | @vrod730 @FriendlyAssh0le I think we found our calling \n",
      "0.1444172112 | @mcwm fair\n",
      "0.143363475928 | When the Cowboys take zeke https://t.co/j4jVZ7wjbU\n",
      "0.138166154611 | Lol I been telling ya this https://t.co/qFgYxOprXM\n",
      "0.136519923019 | @TAXSTONE millennials not gonna understand how to say them woo's beloved https://t.co/nFNcOT8j0F\n",
      "0.134832240264 | Oh I think she like me\n",
      "0.132685426448 | Bae nut is free.. What I'm buying???? https://t.co/ImA1qjSgE4\n",
      "0.131232610928 | Please not Elliot. Please Jerry. Find a RB later.\n",
      "0.12841848118 | All I do is eat or think about the next time I'm going to eat \n",
      "0.126990382116 | I'm only waiting to hear \"u with me ?\" Because it was produced by my father \n",
      "0.125111023412 | Thank you @CRIchaSON\n",
      "0.123922667371 | STOP SUPPORTING THECW\n",
      "\n",
      "Stop this queerbaiting network. https://t.co/awpy6CYfEz\n",
      "0.121631466663 | @freecumdress I'll take that with a lemonade please\n",
      "0.117183105251 | when u chillin bc u already did ur paper \n",
      "0.116334794859 | @briannagiordano dont let nobody hit that j\n",
      "0.115258190281 | lol @SierraDallas what are the odds you check your dms and see what I sent you? please\n",
      "0.113293274757 | RT @FortuneMagazine: Uber wants to charge you for jerking around your driver https://t.co/u1t3jAlPWY\n",
      "0.113293274757 | RT @FortuneMagazine: Uber wants to charge you for jerking around your driver https://t.co/u1t3jAlPWY\n",
      "0.113265696925 | I should rlly stop looking through ppls twitters bc I find stuff and it kills me for days \n",
      "0.11302388882 | @MinibarDelivery been two hours mon, wagwan?!?\n",
      "0.112886634337 | God dammnit.  Now the Giants has to face him twice a year  #NFLDraft2016\n",
      "0.110875069637 | .@EzekielElliott has already established his own clothing/apparel line, EZE (https://t.co/e9Qs7K8JOS). Also is @Nike athlete. #NFLDraft2016\n",
      "0.110808679147 | ombr your heart out \n",
      "\n",
      "#50thanniversary #houseofvans @ House of Vans https://t.co/MEcW0wScjm\n",
      "0.110401417577 | @literallyhawke THAT IS SERIOUSLY THE CUTEST THING EVER OHMY\n",
      "0.1093889933 | Tonight's acoustic show was great. Good vibes\n",
      "0.108155884123 | Lmfaooo stay in school  https://t.co/gPmiftf5he\n",
      "0.104348599146 | @HossanLeong Judging by the way uber is heading, we wont even need them drivers even. Hohoho\n",
      "0.10405868581 | Then in the next tweet YOU BASHING A GIRLS MAKE UP APPLICATION. Like man. Stfu please.\n",
      "0.103810866649 | Stop Supporting TheCW.  https://t.co/cuW0czFknP\n",
      "0.103810866649 | WE ARE CLEXA\n",
      "\n",
      "STOP SUPPORTING THECW\n",
      "0.103810866649 | WE ARE CLEXA\n",
      "\n",
      "STOP SUPPORTING THECW https://t.co/69DF3pqlSY\n",
      "0.103810866649 | WE ARE CLEXA\n",
      "\n",
      "STOP SUPPORTING THECW https://t.co/0JJRvBv1UM\n",
      "0.103206352487 | I wanted Ezekiel Elliot @dallascowboys @nyjets\n",
      "0.101593716363 | We should just send the @ChargersRHenne a gift basket and thank you cards. #CowboysNation #CowboysDraft RamseyORElliot, win win either way.\n",
      "0.098343731832 | Can the first guy that Steph has allowed herself to fall for in a while NOT die, please... Please Shonda!  #TGIT #GreysAnatomy\n",
      "0.0982661880278 | \"I like the fact that sculpture is an act of memory\" #anishkapoor #92ytalks #art #newyork\n",
      "0.0968362328249 | @portraitgrip I majored in nuclear medicine technology but couldn't find work in my field, I ended up doing lab work up there\n",
      "0.096270582974 | @thehill TRUMP IS TH EKNOWN AMERICAN HERO , WHAT CRUZ DO IS RECEIVE A CHECK  TRUMP WRITES THE CHECKS  AND HE RECEIVES MONEY MONTHLY\n",
      "0.095707264818 | We Are Clexa @Lexus and we no longer support @TheCW https://t.co/6jqe0sSvl2\n",
      "0.0954522780729 | @SarahCamm94 only if we can sit next to each other haha\n",
      "0.0954522780729 | Ramsey gotta be next\n",
      "0.0954522780729 | @perpetua what should I say next\n",
      "0.0954522780729 | Will Ezekiel Elliott be the next Emmit Smith?\n",
      "0.09510027484 | She was doing soooo good for a while  https://t.co/t16edewvI5\n",
      "0.0948532472622 | LMFAOO 'see you around '\n",
      "0.0939187222677 | Cos @benburrows_ is never off duty, even at 1.30am on his week off...  #lifesaver https://t.co/nmut8kcKlN\n",
      "0.093348607433 | Uggghhhhhh alright......we can work with this.....\n",
      "0.0911072227082 | my sister will be 21 in june which leads me and my other sister fighting over her ID\n",
      "0.0902587194353 | gotta live like you survive off the art\n",
      "0.0895744616661 | I added a video to a @YouTube playlist https://t.co/Lf7hbW54DF who FARTED in the uber!?\n",
      "0.0895484424185 | Can we pick a new commissioner? Asking for a league. #NFLDraft2016\n",
      "0.0894478161246 | RT @Uber_MEX: Cuernavaca! No te pierdas hoy en punto de las 7pm el Secret Show con @JennyandMexicat.\n",
      "\n",
      " https://t.co/MfPjvG3tCd https://t.\n",
      "0.0888981692068 | this a bit to od, but it be something like that\n",
      "0.0883527651993 | Entering Uber's Deathstar @ San Francisco, California https://t.co/6gXSRWYjAQ\n",
      "0.0882915385095 | Feel better  @littlestho\n",
      "0.0875844202919 | Every time I try to do the right thing in life = failure ..I really should stop giving a shit\n",
      "0.0871448515305 | Want to work in #NewYork, NY? View our latest opening: https://t.co/dQAfOOlqSm #Retail #Job #Jobs #Hiring\n",
      "0.0862574347729 | RT @rebeckyrabajas: im uber sad n i want a hug and food lol\n",
      "0.0861882566831 | LIVE on #Periscope: Uber downtown #St.Augustine #uber #draft\n",
      " https://t.co/CRcJioMPCE\n",
      "0.0845705422861 | i forgot how it felt to hug chris motionless this is a problem\n",
      "0.0842502561756 | @EddieRiv87 I'm sure. I was just teasing...\n",
      "0.0842502561756 | @donovanbrooks Sure am\n",
      "0.0841231394114 | People just need to understand.. I'm just that person that if I gave you a title it's cause I meant it.\n",
      "0.0836932539617 | Let Twitter record my vote, but I think the @cj_wentz is the right gamble for the #Eagles welcome man, I think you are going to love us\n",
      "0.0834768797023 | #MSNBC OBOMB AND HRC MAKES ME WANT ANOTHER PARTY\n",
      "0.0830865851442 | I been hustling since the age of 12 and I don't plan on giving up until I'm satisfied.\n",
      "0.0828003087849 | Hope Drunk Me won't be able to tell the difference. https://t.co/yjjMyUYbPR\n",
      "0.0826726179147 | RT @justinnorwood: I am intrigued by @turo as an app primed for breakthrough growth in 2016. I describe Turo as \"if Uber and Airbnb had a b\n",
      "0.0820562360222 | And here we thought back to the future was all wrong for having flying cars by 2015. Little did we know they foreshadowed 2016.\n",
      "0.0820038261433 | Always handling shit shouts to the bro @itsbizkit #levelup \n",
      "#itsbizkit #weeverywhere https://t.co/5zvKG401L1\n",
      "0.0818967120315 | @937WSTW's #WilmingtonFlowerMarket in one week, opening for @agreatbigworld! #Delaware #getpumped https://t.co/e9xQGRvVzD\n",
      "0.0817580928334 | Someone give ezekiel elliots barber an award\n",
      "0.081480981985 | my uber drivers name is semin\n",
      "0.0808690632488 | @tedvaland @ChrisBiv keanu or whatever its been hyped since around new years . its about a kitten kidnapped by a gang and held for ransom. \n",
      "0.0802151026066 | throwbackthursday to New Years in good old NYC @ W New York - Times https://t.co/vBXTdaSEyF\n",
      "0.0788788839804 | THE ONLY THING I DIDNT WANT  https://t.co/KEcvWpE7oF\n",
      "0.078497412227 | RT @AndreaRussett: one time I was leaving a party and thought I saw my uber so I opened the door to get in but instead it was @TTLYTEALA's\n",
      "0.078497412227 | RT @AndreaRussett: one time I was leaving a party and thought I saw my uber so I opened the door to get in but instead it was @TTLYTEALA's\n",
      "0.0782704449477 | @AkilahObviously @EricThurm seems like there were two audiences: one was like this is funny, it's mocking, other was like I want to do that.\n",
      "0.0782106488178 | I'm about to kick @VeronniLizette out of my damn house. She just said that Sofia isn't Arizona's she's just the step mom \n",
      "0.0765883839886 | @trulytalia I live in Brooklyn honey don't worry\n",
      "0.0756147681511 | Learn how companies like #Google #Twitter &amp; #Uber changed our lives from @BillSimmons chat with @sacca https://t.co/hQxgj4b10L\n",
      "0.0756046324846 | Ezekiel Elliot is the worst running back in the NFL already\n",
      "0.0750245392286 | @zackdecarlo21 @Baji_Tates_5 how did the last game go for the jets last season... And how did the Broncos last game go? Enough said :)\n",
      "0.0749018055517 | Come back this month and this guy got three jawns in rotation yo and none of them know about each other at least I don't think so\n",
      "0.0743612505895 | @OGSchill surprised SD took Bosa.  Who ya got for Boys?\n",
      "0.0736489507792 | Girl she's late. #lostme lol\n",
      "0.0735907829027 | My life  https://t.co/vJSdcNQlQC\n",
      "0.0735907829027 | @buddy_dek @leftnotright @thinkprogress @coryherro14 Pro life my arse.\n",
      "0.0733427557825 | We had 2 put 1 of my dogs down this morning &amp; my other dog is still crying by the door waiting for him 2 come home. This is heart breaking\n",
      "0.0731918420807 | Drinking a Mermaid Pilsner by @ConeyIslandBeer @ Homewood Suites by Hilton Times Square  https://t.co/CEjHE3hOL6 #photo\n",
      "0.0729479843528 | a driver who had passed Ubers background checks was found to have 24 aliases, 5 birth dates, and 10 social security numbers on record\n",
      "0.0727450515257 | @SensitIvcbieber i know guess who i'm seeing in 8 days\n",
      "0.0720749992863 | @AllSuperInfo Gee, I thought he was trying to win. I guess not.\n",
      "0.0717515654873 | RT @lizeb: Anyone else find this a bit chilling? #prop1atx https://t.co/iUEGO02LQG\n",
      "0.0715249938125 | The only player i didnt want the cowboys to draft......\n",
      "0.0714190835362 | @BiancaEnRogue Is it like 7:30 in the morning there?!\n",
      "0.071354632161 | #RT Here's something #Readers should be paying attention to! My friend S.J. @Writing_Novel Check this out, Please! https://t.co/g4mEnG74V5\n",
      "0.071277202514 | Fantastic #RadcliffeBailey show opened @Jackshainman Gallery in #Chelsea tonight @ Jack Shainman https://t.co/Z2q8HKp9X9\n",
      "0.0710474071403 | Dallas would be stupid to pass up on jalen Ramsey right now  as good as zeke may be\n",
      "0.0709976181843 | Zeke 1400 yards rushing 2016 haha BOOM #NFLDraft2016\n",
      "0.0706391775697 | How you get on a public bus smelling like hot shit yo \n",
      "0.0703592327212 | STOP SUPPORTING THECW\n",
      "\n",
      "Ridiculous amount of hope they poured into an already fragile community's https://t.co/awpy6CYfEz\n",
      "0.0702728566644 | We're #hiring! Click to apply: Federal Tax Senior Manager - https://t.co/XZPRH5VcI4 #Accounting #NewYork, NY #Job https://t.co/UVy7BA2Txm\n",
      "0.0700462220567 | Bruhhhhh that nigga really said the new Emmitt Smith. They gotta escort that nigga to his uber. He's clearly too drunk\n",
      "0.0700053786277 | Like nah I'll get a uber to bring me back to my car tomorrow\n",
      "0.0697698877216 | lol wtf me and kyra are going to college together who let us make that decision\n",
      "0.0697607901777 | RT @erica_lord1: Our uber gave us a free trip  last night because we bought him a wawa pretzel... Ralph is the goat. https://t.co/8cz873iZi9\n",
      "0.0694713369012 | @Elnath1984 @CBSNews Error was on there sourcing company....its a face paced business..I am sure they will help to correct it\n",
      "0.0693967444853 | Stream sketch for @HideakiKoneko from today. Thanks for commissioning me! https://t.co/PcDZRbcidI\n",
      "0.0692456390411 | RT @UK_NTA: \"Uber forced to apologise to blind student after driver refused to let his guide dog in car ...\" https://t.co/vvCO6rFtsM via @M\n",
      "0.0691883678366 | young ethnically ambigous uber told us his name was Moe, tho app said Mohammed, long pause right before is why i'm tweeting it 3 days later\n",
      "0.069137046669 | Will forever be grateful to the uber driver that gave me 10 bucks for school \n",
      "0.0690258009213 | receiving texts from total strangers like this are a gift from god. should I continue fucking with this person y/n https://t.co/0A8OjJYkm8\n",
      "0.0688241560675 | I Always Love @mauroranallo as a Commentator on #SmackDown\n",
      "0.0687451382933 | @oreillyfactor Are you kidding? What about the crappy behavior of Cruz. Finally someone who sees Cruz for what he is , a POS\n",
      "0.0685702655544 | Ahhh my son Zeke going to the Cowboys that O line gonna treat him will\n",
      "0.0684946271991 | Lmfao I hate working like omg, my checks is nice but it's so fucking annoying working\n",
      "0.0672222945826 | already my choice in the draft. https://t.co/ErNF4q5Gfl\n",
      "0.0671255801221 | Trying to go paint balling .. But I need a squad \n",
      "0.0669946017471 | @richarddeitsch gruden v kiper is much more intriguing than this draft #NFLDraft2016\n",
      "0.0668521906088 | Madison and Corrine both won't be in school tomorrow and I'm honestly dreading going a day without both of them there \n",
      "0.0667563435865 | @Eagles Who knew our new Quarterback is also a Prince...@cj_wentz https://t.co/iZW2hC4Skm\n",
      "0.0667007020012 | @robertm5 @M6NSTER @jfield1869 @kimbohellyeah @Fredovhell @9InchJ @gm2975 u know it cheers bro draft time jets pick 20\n",
      "0.0666236080802 | @YeahhImAFangirl locks if ya want xx https://t.co/9vlXkrNHk7\n",
      "0.066575309487 | I look so cute with pigtails\n",
      "0.0662850046148 | Yahhhzzz.  thought I was the only one  https://t.co/9ip82IEEYh\n",
      "0.0658540973065 | @jakitkat7 HAHA they probably have like lambos and ferraris as uber VIP \n",
      "0.0658540973065 | RT @josemgonzalez99: @jakitkat7 HAHA they probably have like lambos and ferraris as uber VIP \n",
      "0.0655650405834 | Good crop in #2016NFLDraft!  My first time watching in years.Will #NYGiants go O or D? Need impact to counteract #Macadoodoo #fingersctossed\n",
      "0.0649494494259 | Yes! Staying home is a vote for Hillary and a more liberal Supreme Court!  https://t.co/u7RqR9aktQ\n",
      "0.0648245000146 | RT @pfowlerKCBD: Chris Miller, Uber rep. thanked Councilwoman Gibson for her work and cooperation on the transportation ordinance #LBKCityC\n",
      "0.0648044647451 | @Uber  quick question. If i got in an uber, and they kidnap me or something, is the problem between me and the driver or me and your app?\n",
      "0.0645141706224 | If I dnt watch CNN at least once w/in a 24hr span, I start to think the zombie apocalypse has started and I'm the last to know \n",
      "0.0639249541576 | #MSNBC  don't send me either WARMONGER OBOMB OR HRC. I DO NOT TRUST EITHER\n",
      "0.0639159113017 | Get your first Uber ride for FREE. Click to claim: https://t.co/doaP2ljqNH\n",
      "0.0638130318477 | I can't believe the Cowboys just passed on Jalen Ramsey\n",
      "0.063652364242 | Well, the moving van is rented, I guess it's okay to tell the world that I'm moving back home for a little bit! #takingamuchneededbreak\n",
      "0.0630493471731 | Draft day got me like https://t.co/vidpifpINm\n",
      "0.0629929800498 | What if they take someone else? https://t.co/6pVhSHpiXz\n",
      "0.0629715852424 | Yooooooooooo MUST WATCH https://t.co/guh3GMxkTK\n",
      "0.0626557968976 | Trump getting elected is gonna be like when Marty goes into the future and Biff owns everything.\n",
      "0.0625433027942 | RT @AndreaRussett: do u ever try to split the fare of ur uber with people ur not even with\n",
      "0.0624367182742 | When u realize tbd really is getting bigger \n",
      "0.062239002756 | Needed Me, Too Good &amp; This Is What You Came For on the charts https://t.co/QCmuPd03se\n",
      "0.0621398230547 | Wow #Cowboys are taking Elliott.\n",
      "0.0617849483915 | Solid decision making.  https://t.co/o52BXHqOpi\n",
      "0.0614615111897 | Yeah good thing you're covering the draft. Already taken  https://t.co/tSFwZYsn9M\n",
      "0.0613019952482 | It's almost time for that D to form @AntViola23\n",
      "0.0611341861904 | so glad i might be moving next year\n",
      "0.0610069558979 | @NickBarb719 who do you think you are copying my tweet.\n",
      "0.0607674303342 | RT @NatalieZed: So @Uber this seems like a super direct and reasonable route home from the airport :/ @JairusKhan https://t.co/5yfV5u6hsu\n",
      "0.0606247668119 | Thanks for having us back @TheNewSchool #STEAM  https://t.co/mW53srlzBJ\n",
      "0.0606247668119 | Thanks for having us back @TheNewSchool #STEAM  https://t.co/mW53srlzBJ\n",
      "0.0605709018935 | The journey begins #Italy + #England full week in luxury. First stop #Milan @Emirates #BusinessClass and @MO_MLN. https://t.co/GNGzjzk3J2\n",
      "0.0603524528936 | I won't be taking Uber for a while my receipt just came in it was $51 so they got all the money they can get out of me\n",
      "0.0602821975299 | We never gon lose\n",
      "0.0601749037469 | RT @dougbies: Life is all fun and games, till your Uber driver shows up in a PT Cruiser\n",
      "0.0601075483962 | I'd draft Jaylon Smith even if he never plays football again idc idc\n",
      "0.0598418467554 | @CommishDiaz you know this - #1 reason for @uber &amp; @lyft #rideshare: KEEP DRUNK DRIVERS OFF THE ROAD! https://t.co/AlsrsUOD6O @NatalieMorera\n",
      "0.0595963127288 | Calls from cantare seem desperate,what happened to uber?\n",
      "0.0592222451325 | @kswizzleeee @bridgsweeney you are honestly sister goals\n",
      "0.0590794597379 | music is crazy. like how can so much happen in under 4mins???\n",
      "0.0590503716768 | @pbasetterholm An Uber food truck would solve both problems, provide revelers a ride home while making tacos. Problem solved #rochmn\n",
      "0.0587171513294 | that's right you lost that argument lol #joke https://t.co/JWZnsa6vto\n",
      "0.0586762301151 | If anyone ever needs an uber discount let me know so I can refer you with my coupon and you get 20$ off~\n",
      "0.0585803376034 | RT @iconickkk: why can't uber pick me up from school early\n",
      "0.0585803376034 | RT @iconickkk: why can't uber pick me up from school early\n",
      "0.0583988169996 | #tbt just realized that not only have I been a bf killed off by extreme means on a show before https://t.co/KdMJaHCN1Y\n",
      "0.058165456498 | Feeling like shit\n",
      "0.0581252373242 | REALLY AJ?!\n",
      "0.0581252373242 | Son he really the goat peep the crowd  https://t.co/Sw5lgpcEfv\n",
      "0.0581252373242 | wow they really did it\n",
      "0.0577877033667 | I'm like one of the few people who don't care about the NFL draft\n",
      "0.0576707962133 | Me trying to listen to #ThisIsWhatYouCameFor and #TooGood tonight https://t.co/GLj7DdPAlr\n",
      "0.0572886751153 | @Kamaricopeland @ToriKelly This is like one of those moments in the movies where I just give up and enjoy the show..SIKE IM GONNA GO FOR IT\n",
      "0.0572097035797 | My first time hearing @wearethirdstory. Amazing! Now waiting on Tori Kelly! #UnbreakableTour\n",
      "0.0571072154586 | Do you ever dream, in shades brighter than the sun? Vividly, I dream.\n",
      "0.0569294340546 | I'm to the roof excited about these passion fruits I got today. I'm uber crazy about them. #fave #fruityblast\n",
      "0.0568955642556 | My body is killing me right now. Drank a Perc and its not working ...\n",
      "0.0568621866638 | Good pick\n",
      "0.0568621866638 | Good pick by #Cowboys #NFLDraft2016\n",
      "0.0564851586549 | McShay saying he'd never draft an RB in first round is smartest thing I've ever heard him say.\n",
      "0.0562549419746 | @AkilahObviously @EricThurm ha true.\n",
      "0.0561581666112 | Cabbies, SPAD oppose Uber bid to be party in suit to ban the service https://t.co/EnnzARnROa #uber #lyft\n",
      "0.0561321758038 | @franroccanova I'm working. Can't look at phone every 5 secs\n",
      "0.0560700321294 | @justsheano I like it! I love it!\n",
      "0.0559586184184 | @MatPatGT that lip tremble is probably gonna give you some meme trouble, FYI  #GTLive\n",
      "0.0557079620179 | I came here on leave in November and my uncle was fucking two chicks\n",
      "0.055687833756 | your people, then customers and then shareholders... https://t.co/PVAUOMjank\n",
      "0.0556400507696 | #Agile, like power, should be applied to match the context of a situation https://t.co/TdvBe5fv7o\n",
      "0.0555908137643 | Everyone who goes too QP vote for me for Student Council Secretary !!!  https://t.co/M5Gz4r0oFU\n",
      "0.05556001754 | @jowens510 I recently submitted a piece about the exploitation of immigrants via labor agreements by Uber &amp; Lyft.\n",
      "https://t.co/NGaSHhJQ0v\n",
      "0.05556001754 | @LinnaneCiara I recently submitted a piece about the exploitation of immigrants via labor agreements by Uber &amp; Lyft.\n",
      "https://t.co/NGaSHhJQ0v\n",
      "0.0555449005148 | @RadioJeana @tomhanks lol. Uber, sounds like someone is gonna drink. Are you going to @cowboysphx ?\n",
      "0.055437073113 | how are so many uber drivers so bad at driving\n",
      "0.055078702096 | Good move for the Cowboys\n",
      "0.0549008618341 | Cowboys are a lost franchise #jokes\n",
      "0.0546266191661 | thanks babe. @commonclayton\n",
      "0.0544036539265 | I've started telling a little story on Instagram. https://t.co/DNh2bT9Zo9 https://t.co/IC5S5GIAv4\n",
      "0.054168001114 | @JavierSoutoD10 #1 reason for @uber &amp; @lyft #rideshare: TO KEEP DRUNK DRIVERS OFF THE ROAD! https://t.co/AlsrsUOD6O @NatalieMorera\n",
      "0.054168001114 | @CommBovo #1 reason for @uber &amp; @lyft #rideshare: TO KEEP DRUNK DRIVERS OFF THE ROAD! https://t.co/AlsrsUOD6O @NatalieMorera\n",
      "0.054168001114 | @XavierLSuarez1 #1 reason for @uber &amp; @lyft #rideshare: TO KEEP DRUNK DRIVERS OFF THE ROAD! https://t.co/AlsrsUOD6O @NatalieMorera\n",
      "0.054168001114 | @RebecaSosaMiami #1 reason for @uber &amp; @lyft #rideshare: TO KEEP DRUNK DRIVERS OFF THE ROAD! https://t.co/AlsrsUOD6O @NatalieMorera\n",
      "0.0537834600052 | I don't understand the booing of #Goodell - is it a \"goo\" or a \"boo\"?\n",
      "0.053746142546 | Wonder if this means DP isn't on track to come back when #rbny expected? #frenchCBs  https://t.co/MtYhbRhArt\n",
      "0.0536459477639 | RT @PATisDOPE: Glizzy took \"Cut it\" and made it his, Travis Scott did the same to \"Uber\"\n",
      "0.0535862660157 | RT @rabbleca: On the #DayofMourning, it's worth asking: who pays when someone dies working in the sharing economy? https://t.co/zggGjy2hz6\n",
      "0.0534872644587 | @realDonaldTrump @EvilEsq \n",
      "\n",
      "@CarlyFiorina is right for once!\n",
      "\n",
      "#MAGA\n",
      "0.0530533499794 | No reason why a @NYRangers didn't make it to the cover voting, man!! @colferhummel @5forFighting_ @madisonmills28 @EASPORTSNHL #NHL17\n",
      "0.0530165938232 | Some people get close to the tittle and take it to the head. THERES A DIFFERENCE BTW DOING WIFE SHIT AN ACTUALLY BEING ONE \n",
      "0.0529844019018 | I get anxiety for all the lil 15-16 year olds in love with your bf. He's gunna break your frickin heart prolly #debbiedowner\n",
      "0.0527580559127 | @sof_isabel14 Couldn't ask for a better friend. Thank you so much Sof.\n",
      "0.0524175425565 | @JoeyLacus @Nike @RussWildeJr certainly not a good look. will need to wait it out and see where this video came from, how old, etc.\n",
      "0.0521543912881 | I'm not going to even lie.Elliot with that O-line is downright scary. Wow\n",
      "0.0520411054914 | @dallascowboys I hate y'all so much\n",
      "0.0517063236141 | With all my hard work painting, I'm getting rid of the color and just doing different shades of grey on each wall\n",
      "0.0516653286545 | STOP SUPPORTING THECW\n",
      "\n",
      "Exactly. Is this the type of network to be advertising on? @tide @drpepper  https://t.co/97UKsVLgkA\n",
      "0.0508997374418 | So thanks to @talkshow @alykeves and @edzitron are now becoming acquainted. Thank God.\n",
      "0.0507698541254 | I can't fuck with op, never stop, pull up in that juice box, uber fuckin everywhere\n",
      "0.0504843233769 | Somebody hit me up, and do something\n",
      "0.0503737493926 | RT @GlennMcCNZ: NZTA says @Uber_NZ are #breaking the law. And they will prosecute licenceless drivers. https://t.co/b3WVsT0Jwx\n",
      "0.049764143157 | @boriol__ nobody was Talkin shit and nobody was subbin lb so stop being acting like she ain't shit to you when you \"care\" \n",
      "0.0495953280166 | I bought the @HamiltonMusical album on vinyl. \n",
      "0.0494211942595 | Refuse to make the same music that everyone else is. I don't want to make that loud drums, trap snare type of rap. Fuck that, I wanna do me.\n",
      "0.0494031479118 | Uber drivers operating illegally in New Zealand, NZTA says https://t.co/uHeEED3CgF\n",
      "0.0493880844996 | @boriol__ yes she wasn't  so stop assuming cuz you love to argue with her for nothing.\n",
      "0.0488852128696 | you still didn't like what I wanted you to. fake fan. @commonclayton\n",
      "0.0488675340888 | @ExWillNeverKnow since she was pregnant cheating I would leave her pregnant &amp; go fuck two fine bitches that sold my dope around the corner\n",
      "0.0485876261876 | STOP SUPPORTING THECW\n",
      "\n",
      "Because there was a ridiculous emphasis on hope poured into an already fragile community. \n",
      "\n",
      "@drpepper\n",
      "0.048573739967 | @JoeShep8 great question\n",
      "0.0484425555654 | The feds arrested three relatives of San Bernardino terrorists today https://t.co/LRjyRzTPi0\n",
      "0.0484335658216 | #startup Keep Your Uber Driver Waiting? Get Ready to Pay https://t.co/JC8hj6SNLJ #uber https://t.co/DH769yl0dw\n",
      "0.0484335658216 | RT @startupcrunch: #startup Keep Your Uber Driver Waiting? Get Ready to Pay https://t.co/JC8hj6SNLJ #uber https://t.co/DH769yl0dw\n",
      "0.0484335658216 | RT @startupcrunch: #startup Keep Your Uber Driver Waiting? Get Ready to Pay https://t.co/JC8hj6SNLJ #uber https://t.co/DH769yl0dw\n",
      "0.0483783735921 | WONDER if #MikeTyson CAN sue @marklevinshow for calling him a serial rapist??\n",
      "0.0481722331194 | Uber touts poll showing Chicagoans oppose licensing ordinance: Uber is touting results of a https://t.co/5VK9SdSVMN https://t.co/YnfZLY2gk8\n",
      "0.0480371488995 | @ImDontai Sucks seeing all this happen after so many years of watching them.\n",
      "0.0480232169292 | This describes me too much  https://t.co/hWd4y66FWQ\n",
      "0.0478162733356 | @MissCritta nbd, you just have to get naked with a total stranger in a tiny poorly-lit room and have sticky liquid sprayed all over you\n",
      "0.0477945278813 | Family time finally came @ Jet Blue Airlines Terminal B - LaGuardia Airport https://t.co/X58WZRwgzW\n",
      "0.0474732259997 | Just like Dallas fans \"the new emmit smith\" smdh. @ShawnMarie6381 drafting elliot\n",
      "0.0471480508487 | @livioharris https://t.co/EyFHnOZmLa 4000 PLAYS IN A DAY ON SOUNDCLOUD. PLAY THIS RECORD.\n",
      "0.0469913475203 | When you in my mentions trying to argue with my opinion https://t.co/vEy5FkksUF\n",
      "0.0469736387449 | I called that since day 1. Guys not that good\n",
      "0.0469068775242 | With the 4th pick, the Cowboys select Ezekiel Elliott running back from Ohio State.  #NFLDraft2016\n",
      "0.046879731988 | @DelsignoreNik that is not a reason to be excited...... NEXTTTT\n",
      "0.0467322188457 | @xxLexixx15 Thank you so much. I'm glad you enjoyed.\n",
      "0.0467148529553 | They calling up my phone &amp; \n",
      "they won't leave me alone.\n",
      "0.0465911125593 | White guys went first 3 picks... No big Deal.\n",
      "0.0464626080958 | RT @CIROARAMIREZ: Uber aplaude nueva reglamentacin para transporte individual de lujo https://t.co/s02mTr1HdU\n",
      "0.0464626080958 | CIROARAMIREZ: Uber aplaude nueva reglamentacin para transporte individual de lujo https://t.co/W69RWzRJXa\n",
      "0.046416188076 | @BNICE80 @TurnOnTheJets \n",
      "\n",
      "Good! I don't want a RB in today's game in first 15 picks.\n",
      "0.0463295962564 | Prince Of Tides is either as good or as bad as you remember it\n",
      "0.0460024663231 | This is definitely the sitting downstairs on xmas waiting for your parents to wake up part of the #VIEWS season. Time has stopped.\n",
      "0.0458378571209 | @NHLonNBCSports Is this some sort of award for missing or getting eliminated from the playoffs?\n",
      "0.0453839488009 | Oh Fuck they drafted Elliot. Whatever. Best player available I guess. Your gonna kill it behind that OLINE bro. Go Cowboys\n",
      "0.0453576859801 | @Patriots_Fan4 not really a fan of ramsey or the other RBs, but this a reach\n",
      "0.0452892870052 | men thirst for attention just as much as women\n",
      "0.0452384462391 | Jonas Jerebko played huge in the first #ATLvsBOS\n",
      "0.0451432804166 | LALA PLAYS TOO MUCH https://t.co/BXIdBaNzDy\n",
      "0.0442601654004 | @nychightimes it's a pair thing so I only have to write like 12 but still \n",
      "0.0438877344365 | Well now I know what a deer sounds like when it's spooked\n",
      "0.0438546227425 | My sweet is in less than five months\n",
      "0.0438076411987 | #Republicans like #Kasich but vote #Trump because the don't think Kasich will win the general election...\n",
      "0.0436795617905 | Need a man who appreciates my nigga mentality\n",
      "0.0435606939669 | #Uber says it does not allow #tips because of racial bias https://t.co/n4ggIwSufX https://t.co/yKUhidFzht\n",
      "0.0434745143241 | @allcurledup what's bizarre is that the way it's written, you can tell that they genuinely don't see how racist they are\n",
      "0.0429610377155 | I need a drink\n",
      "0.0424757539939 | What do you do around a bunch of wypepol and open bar? Drink. Profusely\n",
      "0.0424271810753 | @LigiaPimenta He'd all go crazy if it happened. lol Do we know when Sky interviewed JB?\n",
      "0.0416618724608 | I need one dance ..\n",
      "0.0409966697274 | @StevenDLindsey It depends. Do you disregard the Constitution, Bill of Rights, &amp; believe more gov't is the answer to anything?\n",
      "0.0409932963585 | RT @alissa_violet: Use my invite code, alissab122, and get a free ride up to $10. Redeem it at https://t.co/iemhPW6e1P\n",
      "0.0409932963585 | RT @alissa_violet: Use my invite code, alissab122, and get a free ride up to $10. Redeem it at https://t.co/iemhPW6e1P\n",
      "0.0409932963585 | Use my invite code, 17l29, and get a free ride up to $10. Redeem it at https://t.co/IYDdgs18W7\n",
      "0.0408961756398 | when you want to sit and wallow in sadness in peace but ur uber driver is super talkative \n",
      "0.0408961756398 | RT @duhmilo: when you want to sit and wallow in sadness in peace but ur uber driver is super talkative \n",
      "0.0405917402528 | @sdshields This is gonna make sitting next to @tif_nee really fun!\n",
      "0.0405702755393 | So the apartment downstairs just got raided by the cops. Fucking guns &amp; all. So scared.\n",
      "0.0405673944313 | @FathJhazzie Hi Jhazzie, ayo download app Uber! Dapatkan FREE ride 75rb dengan kode promo uberBONUS75ue! https://t.co/xrYLOGEAlQ\n",
      "0.0405673944313 | @richadson96 Hi Franky, ayo download app Uber! Dapatkan FREE ride 75rb dengan kode promo uberBONUS75ue! https://t.co/xrYLOGEAlQ\n",
      "0.0405673944313 | @MrJo37 Hi Mr, ayo download app Uber! Dapatkan FREE ride 75rb dengan kode promo uberBONUS75ue! https://t.co/xrYLOGEAlQ\n",
      "0.0405673944313 | @Riima_Rahma Hi SHIKIRINKA, ayo download app Uber! Dapatkan FREE ride 75rb dengan kode promo uberBONUS75ue! https://t.co/xrYLOGEAlQ\n",
      "0.0400999530882 | RT @AshKaneSkittles: who said this is a Uber ride outside London?? zbsbwbwbssbsgsgs  https://t.co/6xp8WM0Ux4\n",
      "0.0399960789197 | Kris Jenner needs to keep dragging the shit out of her disrespectful daughters. It's about time.\n",
      "0.0399551274706 | #NeverTrump lied 2x this week: #Hillary2016 \"Decided to go to sleep\", #bengazi. &amp; \"Women don't like her\"\n",
      "\n",
      "@Uniteblue https://t.co/SgQYkplsKK\n",
      "0.039824137393 | @wtfizzy are you going to warped tour this year?\n",
      "0.0397949359701 | This is the most insightful review of #HighRise I've seen. \n",
      "https://t.co/0xvs3CFePv via verge\n",
      "0.0397723209743 | Whats your least favorite meme? Tea Kermit for me, but if someone replies with crying Jordan, Ill reply it me and then theres my top 3.\n",
      "0.0397620978792 | Oh boy, if Uber becomes the next NBC... #Startup #Unicorns #VC\n",
      "0.0397295394796 | @OilyWhisper68 @joestando I think that's the moment he sort of starts to get it\n",
      "0.0396874428156 | they're good content https://t.co/5iIqftXXj2\n",
      "0.0396776672181 | RT @BassCabMan: Uber driver sentenced in rape of passenger, as the car service faces other controversies https://t.co/srJElzLRRo via @HuffP\n",
      "0.0395142990236 | British Labour Party is having the weirdest, most bizarre fight ever. Featuring nazis, Giant heads, suspensions. https://t.co/8fvo2LkJzn\n",
      "0.0394378917762 | Jacksonville just got a gift from the Heavens. Ramsey fell right into their laps. They just got a whole lot better\n",
      "0.0391631083201 | Elliot is gonna be the next AP mark my words\n",
      "0.0389696878797 | \"I can't hear you when you stutter. You have to swallow first.\"\n",
      "0.03893018799 | let me go back to watching my cartoons\n",
      "0.0389171966755 | \"Yaaaaaaassssss let me see them tentacles bitch\" thank you @aci531 for your commentary on this https://t.co/TksrtG2GE8\n",
      "0.0388399921854 | @Kamaricopeland @ToriKelly At least come to row o, seat 25 and dance with us. We have soul. Lots.\n",
      "0.0385825996369 | \"Lyft or #taxicab? LYFT!! Get a free Lyft ride in minutes. Download Lyft &amp; use promo code LINX https://t.co/S4HjsW1wKK #uber #lyftfree,4g\"\n",
      "0.0385711852434 | @Uber_Canada has demonstrated to me personally that my safety is only worth a form letter from them via email https://t.co/NfUkgptsiB\n",
      "0.0382229652832 | #Iraq ungovernable under current construct as @VP - grandfather of partition - arrives in Baghdad. https://t.co/OLqPl9zRtO\n",
      "0.0379158311305 | When I took the uber to Jersey during rush hour instead of the train &lt;&lt;. Top 5 worst decisions my bill was dirt\n",
      "0.0378735727889 | RT @vickto_willy: 5. If he never sleep over, he don't care about you. U aint even cum yet but he got uber on speed dial. I'll be damn https\n",
      "0.0378380102914 | seriously started crying when pam and jim had that big fight\n",
      "0.0377863700108 | @Jacob_deNobel I can't believe this movie is real. It's basically his job interview for SUICIDE SQUAD.\n",
      "0.0377071451338 | Hotline Bling Part II is coming and Rihanna is on it &amp; there's already a music video https://t.co/KvFvpCgB4A\n",
      "0.0376080843741 | uber everywhere.. in the back of that bih with a ruger\n",
      "0.0375202077962 | @LaurenJauregui @ThePerezHilton You write an article about everything... We know who the teachers pet was\n",
      "0.0375063717035 | The fact that my room still isn't done is killing me\n",
      "0.0373677690138 | Seriously need some smoke\n",
      "0.0370830176853 | The #Cowboys have been at their best with a ball control offense. Elliott is a three-down back. Will be dangerous behind that OL.\n",
      "0.0370706310795 | Peace requires the willingness to enforce its right to exist! https://t.co/v2PjfDd6X4\n",
      "0.0367375943865 | I can't like Elliott anymore \n",
      "0.036569135367 | RT @ssgflorida: Uber says it does not allow tips because of racial bias https://t.co/ojQmzWMj55\n",
      "0.036569135367 | Uber says it does not allow tips because of racial bias https://t.co/ln12Ts8cuU\n",
      "0.0363281223544 | Obama: \"The financial sector is bigger, absorbs more resources and maybe most importantly, more talent than I would like to see.\"\n",
      "0.0363081507377 | @Usering_ @TheInnoRBLX @RBX_Crazyman32 lol doing that is a bad idea\n",
      "better pray ur uber driver is amazing at driving\n",
      "bc CA traffic is awful\n",
      "0.0361487300547 | @B_Lauren_music you guys think you can do the whole song\n",
      "0.0358097105997 | @cinemasins first spit take of my life goes to the Star Wars VII Ferguson joke\n",
      "0.0357389330569 | Yo what!!!!! In 2 minutes  https://t.co/C25zbliacc\n",
      "0.0356472962403 | From laying on the beach all day in my bikini to hoodie and sweatpants, I would kill for summer right now \n",
      "0.03545914423 | @Rio_Flows vs Homalon next on the stream. Losers bracket action! Whos going home? https://t.co/Ph16uMgHQS\n",
      "0.0354466898448 | last mohonkmountainhouse pic of the day... video view from the top of the tower @ Mohonk https://t.co/enlq4Ftsnj\n",
      "0.0353807067988 | @aarmstro0 Sorry for the delay. Drink every time Roger Goodell gets booed tonight\n",
      "0.035325963782 | Cowboys just drafted a running back while already having two running backs. I mean Zeke is amazing but still.\n",
      "0.0352049735749 | I don't get this guy in a crop top thing what's the big deal? https://t.co/IfLWKvCCZR\n",
      "0.0350483109047 | @Jettatibbs yea pretty much. i don't get outside much\n",
      "0.0350416282237 | @Claudet02403039 @JenThrash420 @1carolinagirl @Figster017 @johnrobb_1968 agree\n",
      "0.0349424544463 | @zachswanteck12 y'all still won't make the playoffs thoooo\n",
      "0.0349045482568 | RT @TheGabbieShow: this uber driver just told me a 7 minute story of one time she tried to park in a tight spot. she should start a youtube\n",
      "0.0349045482568 | RT @TheGabbieShow: this uber driver just told me a 7 minute story of one time she tried to park in a tight spot. she should start a youtube\n",
      "0.0348842515707 | #MSNBC quit over inflating obomb nobel from hell. He is a huge disappointment. I want another party\n",
      "0.0348390912837 | Still wished Jalen was picked but ZEKE is also a great pick\n",
      "0.0347162295413 | @TeminVB Hi HONDA, ayo download app Uber! Dapatkan FREE ride 75rb dengan kode promo uberBONUS75ue! https://t.co/xrYLOGEAlQ\n",
      "0.0346458342287 | I was talking to @davegershgorn on @talkshow and now I can't find the convo\n",
      "\n",
      "This app is dumb https://t.co/mkjDCnNE0o\n",
      "0.0345370937759 | Ugh.carried boy 4 out to the chix coop \"u want to be an animal,then u sleep with the animals\"..he then says \"I'll listen,and brush my teeth\"\n",
      "0.0344092252393 | Yo, nfs THINKINGG bout getting my own crib ... I'm bout to stack up.\n",
      "0.0343938624411 | RT @porquesoymoreno: Its weird when I see people sit and eat in their cars on my block. \"Are they #Uber drives on lunch break?\" #randomthou\n",
      "0.0343667210649 | #tbt to museum hopping in new york when @monicanunot could actually walk.\n",
      "When we pulverize https://t.co/ElTX7w26VS\n",
      "0.0340876811342 | @kristenhazard I love art like this. whos the artist?\n",
      "0.0339334455915 | Ezekiel Elliot!! Lol miles is souped!!\n",
      "0.0339215263848 | (3) Songs on Kylie's snapchat yesterday:\n",
      "Drunk on the Mic - Mickey Shiloh\n",
      "Treat Me Like Somebody - Tink\n",
      "Uber Everywhere - Madeintyo\n",
      "0.0337430534363 | @ami_global IF Y WANA BE AMERICA  ELECT TRUMP AND KISS HIS ASS HE WILL LIKE THAT\n",
      "0.0337311277195 | Cowboys have mcfadden who rushed for over 1000 yards, and alfred morris and dunbar who is productive enough why add another running back\n",
      "0.0335536029444 | TONIGHT! Join me for FASHION WEEK BROOKLYN EDITION of ISLAND SPICE https://t.co/2zBPiBEC6U\n",
      "0.0330871312898 | @TheRighToExist @jstreetdotorg Facts would get in the way of their ideology.\n",
      "0.033078261549 | I laugh at myself all the time  https://t.co/R04eO5NaUo\n",
      "0.0330506172816 | @MarkHarrisNYC this article really nails it. Such good writing. Timely, because many Americans are blaming others for their own misfortunes.\n",
      "0.0327165954529 | how do you need a corner and pass on ramsey to draft an rb at 4?! \n",
      "0.0327138159339 | Dallas got oline set @EzekielElliott for big success #NFLDraft2016 @AnitaMarks called it @ESPNNY98_7FM\n",
      "0.032673732794 | Interested in a #Legal #job near #VariousUSCities, US? This could be a great fit: https://t.co/nCEVxY5eNz #Hiring #CareerArc\n",
      "0.0326666035589 | I'm gonna just not graduate so i can take part in SING again and again\n",
      "0.0325069813605 | We love you guys too!!!  We couldn't have done Spring Camp without our amazing kids, and https://t.co/sRkHcfpL8q\n",
      "0.0323013365967 | The body and soul has to be in equilibrium. You need to be well rounded or you will always fall behind #poetryxhs https://t.co/6BkjgMt5Yo\n",
      "0.0322910547408 |  TONIGHT 9PM EST\n",
      "\n",
      "SEASON 2 OF THE HIT INTERNET RADIO SHOW - GENDERSWAG RADIO WITH SCANDELLE &amp; https://t.co/ak7nyy0mUX\n",
      "0.0319606851402 | Can somebody take me on a L ride \n",
      "0.0318699568783 | Uber, but for copping a jersey asap\n",
      "0.0318319003507 | I hope you get a paper cut.. On your tongue from a razor in a paper cup https://t.co/id99JCU17x\n",
      "0.0318214215855 | RT @thehorrorpics: Scary video of a drunk driver. RT to Save A Life! Free Uber Ride --&gt; https://t.co/EhgQGOXhLX https://t.co/YeZMC4R4S6\n",
      "0.0314557272289 | @dianacolmar Thank u so much for following me,Colmar!!  have an awesome awesome day!!!!\n",
      "0.0313049207862 | @alysssacristine wtf comes out of ur mouth sometimes ily bitch\n",
      "0.0308055775291 | I wouldn't be so mad if it didn't make me miss dinner with my family.\n",
      "0.0307867780265 | So talented, #ScottBarrow can sense when it's a hittable pitch even with his eyes closed. Ump ruled this a ball. https://t.co/VmtdAePK1a\n",
      "0.0307813360941 | They passed on Ramsey\n",
      "0.0307560860914 | Still not convinced that Greg Oden isn't LeBron's grandfather\n",
      "0.0306912025712 | Lmao. Cowboys made a dumb move. You gotta get jalen ramsey!\n",
      "0.0306588558217 | Uber yacht Dubai ?  bday goals 2017? I still wanna play Curaao or Rio de Janeiro though\n",
      "0.0305110431664 | Tom Wilson hits Eric Fehr hard into the boards. Fehr seemed to be saying something to him after the whistle. Wilson made mocking gestures.\n",
      "0.0302483903183 | Learn that you can't reason with someone lacking conscience\n",
      "0.030230821576 | @liechiberries You're welcome bby &lt;3~.\n",
      "It's okay everyone has their off days &lt;3~~.\n",
      "0.0301188982585 | If I may brag briefly about my self control: I got back from New Zealand 2 1/2 months ago and only just finished the 1st pack of Toffee Pops\n",
      "0.0300650645468 | When you wake up to your phone blown up by your best friend because she's buggin out about Views dropping @albacanoe\n",
      "0.0299914854288 | RT @ScottAdamsSays: I just deduced a stranger's college major from one tweet.  https://t.co/EKHCJjMZSq\n",
      "0.0299523103835 | You can't be all about women empowerment one tweet, talking about not bashing women for trying make up...\n",
      "0.0290120730226 | Republicans don't like #Trump but vote Trump anyways because they hate #Cruz more...\n",
      "0.0290120730226 | Republicans don't like #Cruz but vote Cruz anyways because they hate #Trump more...\n",
      "0.028918043036 | Woody is all excited about this #boston trip (I am less since I have to wake up at 5AM ) https://t.co/uJI7wa1Dvr\n",
      "0.0288821040671 | Can't help but enjoy a meeting @WeWork. https://t.co/WlsuADyV6p\n",
      "0.0287394733722 | Stupid pick man Jerry jones never fails to disappoint\n",
      "0.0281845318758 | Not drafting a running back in the 1st Round went out of fashion faster than MySpace.\n",
      "0.0280642097059 | Its funny that my Spanish is very broken but my moms first language is Spanish and I grew up being spoke to in Spanish \n",
      "0.0280283140202 | The #NFLDraft2016 is like the Academy Awards for men!!!  @TheOMCShow\n",
      "0.0280283140202 | The #NFLDraft2016 is like the Academy Awards for men!!!  @TheOMCShow @TheOldManClub\n",
      "0.0279488575695 | Thanks for the shot and support BongGong.  | #Repost bong.gong\n",
      "\n",
      "Nice one's arrived https://t.co/VCw5WcksrB\n",
      "0.0278628972342 | Ezekiel Elliot could've been one of my favorite players if he was a Giant. Now as a Cowboy...from Ohio St mind you. I'll never like him\n",
      "0.0277637173388 | real shit https://t.co/iC11ASyTqh\n",
      "0.0277139573082 | \"San Bernardino - Need a job?  Drive for Lyft and earn $200 bonus https://t.co/6mW4ArIqp0 #employment #opportunity #uber #lyft ,n226\"\n",
      "0.0274846819487 | car selfies make me happy @ Atlantic Cape Community College https://t.co/jm32NAKZz8\n",
      "0.0270348127739 | Great. The Eagles draft pick contemplated chopping his braschole off. Good. Great. Grand. https://t.co/aMdFqAwxHB\n",
      "0.0270268980209 | The \"Stop Supporting TheCW\" trend is apparently being censoring. The trend has changed to \"We Are Clexa\"\n",
      "0.0268986530075 | What I wouldn't give to replace kiper &amp; riddick w/ @Rodney_Harrison &amp; @TonyDungy #NFLDraft2016 this panel is putting me to sleep at Rd. 4\n",
      "0.0268412490455 | I love the fact that they are booing that stupid son of a bitch every time he walks out to announce picks.\n",
      "0.0268242654162 | Yatted thanks @rockcitytattoo1 for an amazing tattoo @ Rockcity https://t.co/LMpvHmlpHQ\n",
      "0.026725474455 | #VariousUSCities, US #Legal #Job: Legal Jobs JDHuntr 17350 Assistant General... at In-House Counsel Jobs | JDHUNTR https://t.co/FKbOuVbEUp\n",
      "0.0266615602834 | New York City - Need a job?  Drive for Lyft and earn $1000 bonus https://t.co/ZeM4p9WcW9 #NYC #employment #opportunity #uber;job#217\n",
      "0.0262346531136 | dranks (@ Sweetwater Social - @drinksweetwater in New York, NY) https://t.co/fI2ZROAKjl\n",
      "0.0260827363288 | My favorite Ohio state player is now my non favorite player. Eagles out here messing up early and often like always. \n",
      "0.0257982307802 | Thanks @SamuelGWalters: The introduction of #numbers as #coordinates is an act of #violence https://t.co/jKBxV20M4F https://t.co/VFw9YZjSYo\n",
      "0.0257721801594 | A little #tbt workout action #leaveitallontheturf #throwbackthursday #fitspo @ New York, New https://t.co/QLeOVN4qmW\n",
      "0.0252951226649 | My grandma got an iPhone I can't wait to send her emojis\n",
      "0.0250551467641 | Dumb pick by the Cryboys.  They needed to improve on defense, especially in the defensive back position.  #NFLDraft2016\n",
      "0.0249393313591 | Really happy with that pick! #EzekielElliott welcome to #CowboysNation !!!\n",
      "0.0248090634848 | kinda wanna invite our upstairs neighbors we don't know...this isn't a night to be second-guessing stereo volume\n",
      "0.0236485899944 | @taxfyle the Uber of mobile #Tax filing. A marketplace for #auditors &amp; #CPA  Watch Ricky &amp; the team fly!! @VentureOutNY\n",
      "0.0233818079217 | @traceeeface awww that's not funny anymore, that doesn't make you a \"thot\" \n",
      "0.0233739612756 | Sorry for all the boy pics lately but I just can't help myself https://t.co/zHgxvNZZhS\n",
      "0.0232878507828 | @nilkoandreas at Esperanto-your Thursday night just got better\n",
      "-------\n",
      "#events #freeevents #nyc https://t.co/UZiqonlEpq\n",
      "0.0228272867995 | I'm soo indecisive on what hair color I wanna do next\n",
      "0.0222809092033 | #tbt that one time @sharipagedrums broke the idiogallery. Probably gonna happen again tonight. https://t.co/7qyOktdY9v\n",
      "0.0221224777086 | @JFLCroft Thanks. It was pretty unreal. @RevMelanieNOLA\n",
      "0.0219416564755 | Will Lyfts DC Ad Blitz Threaten Ubers Dominance? https://t.co/YQbnqJ9NRl | https://t.co/sSCzPV188L\n",
      "0.0216242628009 | RT @KiLLAWHALE_FNF: Listen to Uber Freestyle (@fuckshorts x @_JonnyPrise x @NevaWhoTay x @wiillz) https://t.co/5erRDT5fYh\n",
      "0.0216073875872 | I'm also annoyed that my seat's head rest was broken and would end up pushing down on my shoulders instead of staying up @Delta\n",
      "0.0214012383342 | Scream Queens, Albanian Style. Killing it, 1st day on set. Yonkers will never be the https://t.co/YdEDCbEric\n",
      "0.0213974668568 | A little Thursday night rug loveTurkish Apricot Rug [$875] Large Southwestern Flatweave Mint https://t.co/MER9kFjQVO\n",
      "0.0213734654465 | Ezekiel Elliot just became the enemy\n",
      "0.0211856532926 | So frustrated man.\n",
      "0.0207752227268 | @marissa_york Thanks! I wanted to reenact the famous escalator shot of the presumptive GOP nominee for POTUS.\n",
      "0.0206342945081 | @GegauffArt @carrieffisher @HamillHimself Me, too. Let's start a club. I'll buy the jackets. :-)\n",
      "0.0201105092897 | @wesgay true story, hopefully one day we'll all be Uber comfortable with it and there will be zero offices #millennialED\n",
      "0.0200491666504 | If you get hit with the who is this text it means idfwy anymore\n",
      "0.0199782340253 | Long Island Duck Meatballs @ Stone Creek Inn https://t.co/v67munAkxo\n",
      "0.0198567986732 | when a girl comes within a foot of bae https://t.co/zLHbzNmhWQ\n",
      "0.0196983929576 | @OGSchill not with that suit game.  Bad bad\n",
      "0.0195458944464 | @ABC on the NFL channel it's Neon Deion and those Fleming white teeth. Thank you for the mute button.\n",
      "0.0194310805411 | BUILD THAT WALL ,PROTECT OUR COUNTRY ! ALL AMERICANS NEED  TRUMP  JOIN THE WINNING TEAM ! VOTE TRUMP https://t.co/FabSh2Ub4T\n",
      "0.0187769793323 | When your uber driver is also a delivery driver for pizzeria 260 &amp; knows who you are ...\n",
      "0.0185784234772 | RT @BOR: Mayor Sylvester Turner: Uber is Holding Houston at Gunpoint https://t.co/fhraTTtJqA #txlege\n",
      "0.0185784234772 | RT @BOR: Mayor Sylvester Turner: Uber is Holding Houston at Gunpoint https://t.co/fhraTTtJqA #txlege\n",
      "0.0185754442545 | @Falcokin and you a great birb\n",
      "0.0185754442545 | the end of a great day at the #naturalhistorymuseum in #nyc  #museum #manhattan #walk #city https://t.co/hAZU5glfE9\n",
      "0.0185754442545 | GREAT PICK!\n",
      "0.0180417070131 | Emmit Smith , Ezekiel Elliot , thy are very similar\n",
      "0.0179942986034 | Whoever put that got some problems cus that pic was disturbingly not sexy https://t.co/yPas4UYO0m\n",
      "0.0179251225926 | It's HIS night https://t.co/UhEJTAZXKr\n",
      "0.0179000836341 | Thanks to all of our attendees and partners. Tonight was amazing. See you tomorrow at Class 5 #BLM101 #GetSchooled https://t.co/UlabYJLGXE\n",
      "0.0178459626094 | @oozypoo Fuck it's so scary. They threw in flash bangs... We thought they were shooting.\n",
      "0.0177889801042 | RT @NZStuff: Uber drivers operating illegally in New Zealand - NZTA https://t.co/XgoMLQaosa https://t.co/5rneGzkTwy\n",
      "0.0176975360575 | Makes me wanna cry.\n",
      "0.0172225216908 | Living large in the living room with csgulsby #champagnecoupe #brooklynstoop matthewreaganhelm @ https://t.co/90I9pw2aO8\n",
      "0.0171566961769 | Pick is in #DALpick #NFLDraft\n",
      "0.0171566961769 | Dumbass pick\n",
      "0.0171566961769 | Idc what Miami does with their pick\n",
      "0.0170827569459 | \"And Pierzynski is there to..drop it\"  Boston commentators \n",
      "0.0170827569459 | @AZaeProduction When Gon Drop a hit Wit @ChiefKeef Again \n",
      "0.0170709729445 | How Uber compares with rental car prices in these 3 cities https://t.co/lEcxCcqroZ https://t.co/BizKCrFUTf\n",
      "0.0170709729445 | RT @MONEY: How Uber compares with rental car prices in these 3 cities https://t.co/lEcxCcqroZ https://t.co/BizKCrFUTf\n",
      "0.0170709729445 | RT @MONEY: How Uber compares with rental car prices in these 3 cities https://t.co/lEcxCcqroZ https://t.co/BizKCrFUTf\n",
      "0.0170207886047 | @IAmMelinquent Remember a chick named Christina from @steveaustinBSR season of Tough Enough\n",
      "0.0165965333071 | @MonicaCrowley Put them on non-stick baking sheet put salt on them and bake for 20 minutes in 400 degree oven.\n",
      "0.0164733901049 | Go for it. It's worth a shot. It's what humans do : As JFK said \"Why does Rice play Texas? We choose  2go2\" Mars :\n",
      "https://t.co/X9mZ2seAwv\n",
      "0.0164690072243 | I'm really attracted to chubby boys lmfao . Gotta be teddy bear size and cute lmfao\n",
      "0.0158888063366 | .@RiffChick add the convenience of Disney transport to and from airport and within the Disney World complex, SO WORTH IT\n",
      "0.015836538546 | The summer is coming if your ready or not #TeamJayTheBody #JayTheBody #health https://t.co/Mj5kph97FE\n",
      "0.0156980018428 | O-H!!!!  Here comes the Pass rush bay bay!  https://t.co/vIyxPwmQ6W\n",
      "0.0155751718267 | whoever got me on snap seen me bumpin dis all day turn it up &amp; add me - @cokestasy\n",
      "0.0155384531801 | Yea sick pick @PeteePugs @cimino_mario\n",
      "0.0154395569744 | Bosa gon get hit up in the AFC West\n",
      "0.0153648876218 | Hot pot on cold night #perfectcombo #travelandeat (@ 99 Favor Taste 99 in New York, NY) https://t.co/bsePAkfSOk\n",
      "0.0150144573016 | plz pass out the snacks @hamptonjitneypeeps\n",
      "0.0149751946953 | @nychightimes I wish I was\n",
      "0.0143813303987 | My new friend Rose... she has a Hot Tub! @ Manhattan, New York https://t.co/m2RwnoWcUq\n",
      "0.0141734925737 | @Mr_Pinko  I'm not interested in your mental midget edited videos-You're incapable of defending your delusions Get a life loser\n",
      "0.0138621010562 | It's lit! The Zeke is coming to America's Team. #Cowboys4Life #NFLDraft2016\n",
      "0.0134845420686 | I hope Elliot is a bust.\n",
      "0.0133485502295 | RT @Suttile12: SUPRISE! New single from #Spoons2                Uber Nowhere (Prod. by Kswisha) by Jake Cole https://t.co/6Op93cqeu2 on #So\n",
      "0.0133485502295 | RT @Suttile12: SUPRISE! New single from #Spoons2                Uber Nowhere (Prod. by Kswisha) by Jake Cole https://t.co/6Op93cqeu2 on #So\n",
      "0.0132447188917 | So. Tired.\n",
      "0.0132280956371 | This #Manufacturing #job might be a great fit for you: Wastewater Operator - https://t.co/3KBIhkwU1R #Union, NJ https://t.co/swFPiXjW8s\n",
      "0.0131508326882 | Cowboys fan at the draft: \"next Emitt Smith\" ugh, no. Cowboys with a poor choice at #4\n",
      "0.0131454833566 | \"This story starts off with two conceits: things flying at you and shoes.\" - Frederick McKindra https://t.co/o6e2lx5mSe\n",
      "0.0128732447728 | I'm at @DowntheHatch in New York, NY https://t.co/x4MigDiJUn\n",
      "0.0127573014358 | team love! #talkwalker #them @ The Loeb Boathouse at Central Park https://t.co/FGLLvZoPOH\n",
      "0.0127287726988 | That Bosa pick was wild. Didn't see it coming\n",
      "0.01266762451 | Tomorrow morning twitter will be up dated with redo mock mock mock mock drafts https://t.co/unfY9PYDJO\n",
      "0.0125071661448 | Ugh Mother's Day coming... What to get my mom ????\n",
      "0.0124191948614 | Oh God, let the Cowboys miss this pick....\n",
      "0.0124090284142 | \"Now remember, boys, she's not a Queen, she's a Goddess!\"\n",
      "0.0122794610121 | THEY STOLE EZEKIEL FROM US\n",
      "0.012000640863 | @OmarKelly not a surprise though O. It's jerry jones\n",
      "0.0119809017885 | Women's Shave with the perfect zone! #harlemsfinest #greenteam #2380dreamteam #brand #drivingsales https://t.co/aZLgn1HKKR\n",
      "0.0119619511565 | FUCK YOU DALLAS LITERALLY I HOPE YOU FUCKING BURN YOU FUCKING AHHHHHHH\n",
      "0.0119184663986 | I have great hair and glasses but a fat double chin. I wish I was Wilson from Home Improvement\n",
      "0.0117165737544 | I'm so sorry Ezekiel. I am so sorry.\n",
      "0.0116083500629 | where's the track like? https://t.co/TXiwnPH3lR\n",
      "0.0114846067561 | @metalflizzo my team is good!!! https://t.co/mp8PDdUGlM\n",
      "0.0114523300835 | @dennisjboyle @CatchTheBaby @drseisenberg @ub14 @kpronn @kronn great epigenetics discussion.\n",
      "0.0113701702981 | I love draft day\n",
      "0.0113518166018 | Now the Giants HAVE to draft a defensive lineman\n",
      "0.0113374327029 | All this packing, shopping and preparing for the summer in Bosna will kill me  it'll really be the death of me\n",
      "0.0110349064536 | Uber Yacht  launches in Dubai this Saturday.\n",
      "0.0109143659826 | @mrmoneymustache great article\n",
      "0.0105935823074 | I'm at Tai Lai Chinese Food in Brooklyn, NY https://t.co/hnQF0A8omZ\n",
      "0.0104975276966 | I love Ezekiel Elliot. Nick pick.\n",
      "0.0101267293038 | @dankanter #uber is cool until you have an accident https://t.co/YnYbiNZKx3\n",
      "0.0100619374466 | Elliot's fade clean \n",
      "0.00989502484215 | The boys with the pick up okk\n",
      "0.00978221799824 | @oreillyfactor Boehner is spot on. Cruz is a lying SOB\n",
      "0.00977546914388 | Je me force a manger du soul food mm si je trov ca pas bon\n",
      "0.00977230569708 | Tonight's crime pik fr tonight #TheDeparted . Scorsese . #Irishmob. \"Maybe, Maybe not, Maybe F**** Yourself.\" https://t.co/sORVVO5OJh\n",
      "0.00969550153409 | @wearethirdstory so amazing! Now ready for @ToriKelly  https://t.co/TrjEYeGRqG\n",
      "0.00965173676342 | @KatieNCurran @TheJKCF Congrats! We look forward to seeing you break the ice on https://t.co/p9iVfzPDnN with your roaring Lions!\n",
      "0.0095426018472 | @OGSchill I can't be too upset.  Zeke will have huge and immediate impact.  Just likely won't be a long-term success\n",
      "0.00951936815407 | Spring in New York  #newyork #newyorkcity #nyc #ny #spring #springtime #springbreak https://t.co/T9VzbuN8Ls\n",
      "0.0094481831554 | Ramsey was the pick. That's crazy.\n",
      "0.00944255090604 | He better be the next AP... I hate hate hate hate hate that pick in that spot.\n",
      "0.00943882865417 | @bmcnally14 and with the third pick, who the &amp;$?! cares the Caps just scored! #LetsGoCaps\n",
      "0.00937183643204 | Uber everywhere except JCO WV. Rappers are liars\n",
      "0.00937099975081 | Welcome to America's team Ezekiel Elliot #CowboysDraft\n",
      "0.0092293258684 | RT @odavis_: Weird: CEO who grew her empire by enlisting legions of workers who weren't deemed employees just joined Uber's board https://t\n",
      "0.00922318739314 | @briannagiordano miss u more\n",
      "0.00913777850998 | #Business #Entrepreneur #College Uber defends reasons for not tipping drivers https://t.co/dTWe6WmpSD\n",
      "0.00857875578091 | Giants are not winning their division anytime soon ZEKE\n",
      "0.00840173634094 | RT @Lauren_Southern: .@bcliberals our lack of #Uber in BC is killing freedom, jobs, the environment and most importantly my wallet. Get you\n",
      "0.00835055913032 | @thelindsayellis @SnarkKnight1 and that was with all of Disney's transportation might AND 5 day park hopper. I was shocked.\n",
      "0.00833839553215 | Ain't worried about that rook\n",
      "0.0083372442352 | #beauty #reflection #springtime #NYC @ Gramercy Park Hotel https://t.co/qrX39j3IyM\n",
      "0.00829788421076 | Facts shits sad  https://t.co/z31xbfbyVx\n",
      "0.00821611820145 | I wish Lin didn't have to go ):\n",
      "0.00807427398024 | I'm hoping Johnny Manziel falls to the #Jets. :D #NFLDraft\n",
      "0.00792063667282 | Verdict: run, don't walk, to see Dear Evan Hansen. #whoisevanhansen @2STNYC https://t.co/B6C43vrHH9\n",
      "0.00788260141867 | Looks like I'm about to hate jalen or zeek now \n",
      "0.0078367738981 | Whyyyyyyy... Damn Zeke. New York was home!\n",
      "0.0076825961937 | My uber driver looks like @tomhanks\n",
      "0.00768082151697 | ALLL facts and figures  https://t.co/WC35BdfURP\n",
      "0.00752068075781 | RT @sarahboesveld: Why have women been thrown in the middle of the @Uber_Canada-taxi debate? https://t.co/JDj9ymbwF1 #topoli\n",
      "0.00752068075781 | RT @sarahboesveld: Why have women been thrown in the middle of the @Uber_Canada-taxi debate? https://t.co/JDj9ymbwF1 #topoli\n",
      "0.00740656425824 | RT @GutekTechMays: Uber affirms tipping drivers 'is not expected or required' https://t.co/2rVVsTXwPB #tech #technews https://t.co/gkPYbSOc\n",
      "0.00740656425824 | Uber affirms tipping drivers 'is not expected or required' https://t.co/sleP5Kh8d3\n",
      "0.00740656425824 | Uber affirms tipping drivers 'is not expected or required' https://t.co/fjA3Ct9ruM | https://t.co/RY2u0wyjlA https://t.co/su1pKABDfX\n",
      "0.00738058930153 | Absolutely amazing.  https://t.co/jLF0mnjzel\n",
      "0.0071804873297 | This is exactly why @GOP loses https://t.co/w1f5pdB79e\n",
      "0.00706073439371 | Just remembered I have to wake up for class tomorrow \n",
      "0.0069608849276 | There's definitely a Carrie underwood song for every single mood I'm in\n",
      "0.00695368109423 | Thank you, sir! Same to you! #teamtrump #Trump2016  https://t.co/Gm9FMysVZV\n",
      "0.00695299201131 | What happens when a celebrity becomes president https://t.co/kxCLdcfWpm\n",
      "0.00688794929886 | Giants nightmare begins https://t.co/QZjaf6HUOA\n",
      "0.00683234122889 | @WeirdLifeHacks @Uber_Pix Ok but can we slow down the video?\n",
      "0.0068110062135 | That's huge for Zeke to go to the Cowboys! Congrats fam!\n",
      "0.00677122610212 | #VIEWS From The Stoop Dropping June 5th. Tour Starts Nov. 21  @ FortGreene Brooklyn https://t.co/FPsMHiKx0w\n",
      "0.00674651894839 | @JoeyRossi67 prolly hopefully if i uber\n",
      "0.00673513785442 | SON OF A FUCKING BITCH @dallascowboys YOU GUYS ARE A BUNCH A DICK HEADS\n",
      "0.00668652215904 | Young stunnas  @ Throwback Thursday https://t.co/dCgci54NA4\n",
      "0.00662021439624 | @thehill TRUMP IS ORGANIZED THINKING AND HE IS NOT NIT A PEOT  LILKE CRUZ CRUZ IS CUBAN POET  ELECT TRUMP RENEW AMERICSA  IT IS Y KUNTY\n",
      "0.00646115540964 | And #GregStuhr scoring in the 1st inning. Did we mention his film #TheAmericanSide opens tonite? Go see it! At #IFC. https://t.co/lKaNMgCTOC\n",
      "0.00637054301553 | The crowd did NOT expect for them to pop out under that dress lol\n",
      "0.00635622564342 | ELLIOT AND THE CROP TOP BOUT TO BE RUNNING WILD!!!\n",
      "0.00625532133749 | @kyleeantoinette love you too \n",
      "0.00625532133749 | @_saintlu I love you too Luis! You're welcome!\n",
      "0.00625532133749 | I love penguins. I do not love the Penguins. #StanleyCupPlayoffs\n",
      "0.00625532133749 | I love u zeke but why\n",
      "0.00625532133749 | I love him.  https://t.co/roPcrLwtRK\n",
      "0.00625532133749 | I love you @xodestineyyxo\n",
      "0.00615958587853 | my mom is honestly my bestfriend https://t.co/hITCheVh5X\n",
      "0.00598999477785 | I don't rock Jay's might rocks 1s\n",
      "0.00598977311713 | EPA announces latest steps addressing Missouri landfill fire - https://t.co/OvQAQzCyXJ #business https://t.co/ypnyXeW6Rp\n",
      "0.00593088124225 | @YeahhImAFangirl oops the link ONES just an edit oh whale hi\n",
      "0.00591643495142 | WLECOME TO AMERICAS TEAM ZEKE!\n",
      "0.00589456702384 | @ericvdunn Ramsey guaranteed pick?\n",
      "0.00588067806698 | Why An Uber Lobbyist Wants A Reporter's Emails: A lobbyist for Uber Technologies.. #news https://t.co/3M2a6M0X5f https://t.co/oThH7h0ibW\n",
      "0.00586767773208 | Terrible telestrating by Edzo. Jay is embarrassed for him.\n",
      "0.00573290257061 | Raising my #stgermaindrinks  @ Seamstress NY https://t.co/Ex9a5eDVwG\n",
      "0.00573161629718 | Elliott and Beckham sitting in a tree....\n",
      "0.00561953112803 | Senior game for the @Hoops4Autism event at @StRaysAthletics! https://t.co/SRE6pVoxLg\n",
      "0.0054987332108 | Sike I don't have a bae.\n",
      "0.0054987332108 | @tiaturner04 don't\n",
      "0.00547749548831 | @abyssiniahaile HAHAHAHAHAHAHAHAHAHAHAHAHAHAHA I hope uber isnt surging tomorrow morning.\n",
      "0.00541553511638 | @AmandaMarcotte @j_fuller @simonwilliam @pareene What is Huffington's position on Uber's exploitation of it's drivers?\n",
      "0.00539947475468 | RT @NANOJEFE: I am cryinnnnnggggggg this Uber driver got it all https://t.co/sUOoEQhRWr\n",
      "0.00539947475468 | RT @NANOJEFE: I am cryinnnnnggggggg this Uber driver got it all https://t.co/sUOoEQhRWr\n",
      "0.00539947475468 | RT @NANOJEFE: I am cryinnnnnggggggg this Uber driver got it all https://t.co/sUOoEQhRWr\n",
      "0.00539947475468 | @willjjimenez Uber driver\n",
      "0.00530315296793 | Steak, shrimp, potatoes w/ bacon &amp; cheese , green beans &amp; corn for Chad\n",
      "0.0052735417262 | he playing  https://t.co/9T9AkkxbYM\n",
      "0.00520871598582 | This is a felony.... https://t.co/EOBQ2KyUHT\n",
      "0.00520084258516 | RT @DennisTodisco: When the uber driver turns the volume UP on your AUX &gt;\n",
      "0.00517709587987 | Why does the Alliance for Food + Farming aka @SafeProduce attack @ewg as anti-fruits + veggies when EWG investigates pesticides in food?\n",
      "0.00499050086322 | RBs are a dime a dozen. Crazy.  https://t.co/GcDrEyP6IA\n",
      "0.00496337632874 | The @WeRRestaurants team cooking @CIACulinary @CIALeadership w/@AmericanExpress @kraverai-NY dining legends honored. https://t.co/62hkCArUdJ\n",
      "0.00491987901094 | Gettin this #bts footage before shootin the official  for @TAKEMONEYKG ft @therealhellrell  https://t.co/0M2ojrSrYK\n",
      "0.00483595862755 | @wordscience nah it's clean. Just a bit torn up.\n",
      "0.0047904665933 | I am so in love with New York feeling beyond blessed that I get to attend college here\n",
      "0.00478301487207 | Why couldn't I have been born with this skill  https://t.co/Qq1dseXqxQ\n",
      "0.00456437925418 | Welcome to Dallas @EzekielElliott\n",
      "0.00456437925418 | WELCOME TO DALLAS EZEKIEL ELLIOT!!!\n",
      "0.00456437925418 | Welcome to #CowboysNation @EzekielElliott!\n",
      "0.00446912275849 | Let's go Baby Devils!!! https://t.co/GP0M2TtqlD\n",
      "0.00444211021411 | Prince had painkillers in his possession. So did about 15 million other Americans. #PrinceRIP\n",
      "0.00433655469224 | @Sr_Lazarus @RebeccaForBART @StreetsblogSF set it on fire. After my ride now, uber can go screw themselves\n",
      "0.00431889273747 | AAAAnnnnd....Dallas Screws the pooch again in round one\n",
      "0.00427398665939 | Jaguars D bout to be crazy\n",
      "0.00415977155851 | My crew is awesome as hell i'm def gonna miss them https://t.co/tG7Qaro21i\n",
      "0.00414439557384 | Shame on you .@ariannahuff  #ubered https://t.co/YIzhTk7hHK\n",
      "0.00409230043143 | Wow that's crazy 4th my nigga !?\n",
      "0.0040695461126 | Jerry jones u ugly pedophile\n",
      "0.00400894413881 | Why is there no castle learning app\n",
      "0.00397890759225 |  UBER EVERYWHERE // SHAKE YOUR BOOTY TO THIS \n",
      "\n",
      "https://t.co/UL7tm6C0tg https://t.co/NlbRZs9t75\n",
      "0.0038698266636 | I LOVE IT!!!\n",
      "0.0037563975526 | RT @_BaliTree_: Uber everywhere remix  https://t.co/iyFZTJKWqi\n",
      "0.0037563975526 | RT @_BaliTree_: Uber everywhere remix  https://t.co/iyFZTJKWqi\n",
      "0.0037563975526 | RT @_BaliTree_: Uber everywhere remix  https://t.co/iyFZTJKWqi\n",
      "0.0037563975526 | RT @_BaliTree_: Uber everywhere remix  https://t.co/iyFZTJKWqi\n",
      "0.0037563975526 | RT @eye_kandii: Uber everywhere .\n",
      "0.0037563975526 | RT @_BaliTree_: Uber everywhere remix  https://t.co/iyFZTJKWqi\n",
      "0.0037563975526 | Babies everywhere https://t.co/wtgyJjcf64\n",
      "0.0037563975526 | RT @_BaliTree_: Uber everywhere remix  https://t.co/iyFZTJKWqi\n",
      "0.0037563975526 | @JoeyRossi67 uber everywhere nigga\n",
      "0.0037563975526 | Uber everywhere\n",
      "0.00356101637839 | \"All of my heart loves you, but I've got a head too\" - @thesorrowestate\n",
      "0.00354000200404 | @mikevitalee @NFLDraft watch I'll bet you\n",
      "0.00353977111876 | carterwinter #staywithme bergenpac charliedanielsband @ bergenPAC (Bergen Performing Arts Center) https://t.co/jgcrBaehlo\n",
      "0.00352694718848 | @ImJessicaWilley @HoustonMatters So cust SAFETY Not priority 4 @Uber @Uber_Houston @lyft? @BloombergTV https://t.co/pamtGJWhKs @Justica4all\n",
      "0.00347302734897 | \"I have a thick neck cuz im stupid.\"\n",
      "LMFAO\n",
      "0.00341390382107 | I'm at Pelham Bay Park - @nycparks in Bronx, NY https://t.co/SHY9ZsdIxj\n",
      "0.0033795249199 | Many levels of Wordsworth's \"emotion recollected in tranquility\" at play here: https://t.co/0Kjm2WBbhX\n",
      "0.00334045352956 | The Jacksonville Jaguars are on the clock.\n",
      "0.00333768097476 | It's love https://t.co/qbDGXIYW2b\n",
      "0.00333173490986 | @CBChron So what are the topics? @PCN_DiRT love of #americankaiju, @Agent_70 hatred of Acroyear, @Roddykat guest appearance in Quasar '90?\n",
      "0.00318373351615 | Presentation of @StudyAtCIA ciaindustryleadership #augieawards @ciaculinary @cialeadership https://t.co/g3vKDpcvLO\n",
      "0.00315597549894 | @Lloydbanks IM YOUR BIGGEST FAN THIS IS STAN!! https://t.co/O9sAVsvNOf\n",
      "0.0031091943858 | @indrisek and yet some smell kinda sexy. Ah, the vagaries of vice.\n",
      "0.00308483938316 | Damn now I gotta hate Ezekiel too lmao I liked him\n",
      "0.00308138978878 | Why Im Joining @Uber s Board\n",
      "\n",
      "https://t.co/ARFshyvNkq\n",
      "#startup #growthhacking \n",
      "#inboundmarketing #VC\n",
      "0.00308138978878 | RT @pivotfast: Why Im Joining @Uber s Board\n",
      "\n",
      "https://t.co/ARFshyvNkq\n",
      "#startup #growthhacking \n",
      "#inboundmarketing #VC\n",
      "0.00301564010608 | Grab, Uber c gy ri lon th trng? https://t.co/TPnuUhFhSO\n",
      "0.00301097513356 | I hate hate hate hate them bitchesss\n",
      "0.00301097513356 | I hate the cowboys\n",
      "0.00297601980001 | Travis Scott  Uber Everywhere (Remix) https://t.co/QLMOsDwhzC\n",
      "0.00296718095724 | I hate how picky I am with boys\n",
      "0.002959948428 | When your #taxrefund arrives \n",
      "0.00295576043606 | I liked a @YouTube video from @bdoubleo100 https://t.co/Lf7hbW54DF who FARTED in the uber!?\n",
      "0.00294769271824 | wow I wasn't expecting that\n",
      "0.0028927331468 | @GogglestheTiger Sadly. XD\n",
      "0.00288650142558 | We were so excited to have @jakcreative here !!  https://t.co/wgVdBadhMW\n",
      "0.00287973818634 | @emilysavedes oh god just wait till season 6\n",
      "0.00278816327777 | And I have wood floors, so I might get wood paint and paint my floors Grey or black... Or get marble tiles?\n",
      "0.00277411905801 | @reevynap What's your favorite Schwarzenegger movie? Watch this clip. I've timecoded it. https://t.co/5KoAUYM1b9\n",
      "0.00275880850516 | Joe Manganiello is screaming at a homicide cop to drink a PBR\n",
      "0.00256665114673 | It's cute that snart thinks he can get through to Savage's kid #LegendsOfTomorrow\n",
      "0.00253961765525 | hate catching feelings \n",
      "0.00253692336163 | LETS GO DALLAS\n",
      "0.00241212613083 | Praying to god Zekeeeee doesn't go to the Cowboys\n",
      "0.00237123066017 | @perpetua \"Director of Quizzes and Games at Buzzfeed\"\n",
      "0.00237123066017 | \"Director of Quizzes and Games at Buzzfeed\" https://t.co/2Gc7mFIfBK\n",
      "0.00235706356365 | @SensitIvcbieber that's cool are you enjoying it\n",
      "0.00231692338458 | @davegershgorn @talkshow that's cheating\n",
      "0.00221333203681 | Litttyyyyy kittttyyyy committee\n",
      "0.00220177741614 | Damn Zeke to the boys\n",
      "0.0020037386764 | Heads up #Houstonians and #Uber lovers: https://t.co/w8ORgQiLs7\n",
      "0.00199861985077 | @briannagiordano and ill smoke 4 u\n",
      "0.00199350080512 | Termolator (great name!) Python library to get vocab about a topic  (terminology extraction) - #NYPython https://t.co/PXX4dDBxE1\n",
      "0.00174495929869 | @DaveAntt u not lieing\n",
      "0.00165993323367 | idk what y'all smoked but it wasn't weed https://t.co/z8v9HZFyU0\n",
      "0.00159134830679 | My mock is 3/4 so far!\n",
      "0.00142428203024 | Congrats @jbbigbear #joeybosa!!! #GoBuckeyes San Diego Charger now!! #gobucks #itstime #justfeelit #NFLDraft2016 https://t.co/ZUo505Xmi7\n",
      "0.00137827243044 | Panel 5, 5-630pm: Genealogy--Elise Burton, @JessKolopenuk, David Gurwitz moderated by Maya Jasanoff #HarvardSTS\n"
     ]
    }
   ],
   "source": [
    "for i in lsi_list_sorted:\n",
    "    print i[1], '|', tweets[i[0]]"
   ]
  },
  {
   "cell_type": "code",
   "execution_count": null,
   "metadata": {
    "collapsed": true
   },
   "outputs": [],
   "source": []
  }
 ],
 "metadata": {
  "kernelspec": {
   "display_name": "Python 2",
   "language": "python",
   "name": "python2"
  },
  "language_info": {
   "codemirror_mode": {
    "name": "ipython",
    "version": 2
   },
   "file_extension": ".py",
   "mimetype": "text/x-python",
   "name": "python",
   "nbconvert_exporter": "python",
   "pygments_lexer": "ipython2",
   "version": "2.7.11"
  }
 },
 "nbformat": 4,
 "nbformat_minor": 0
}
