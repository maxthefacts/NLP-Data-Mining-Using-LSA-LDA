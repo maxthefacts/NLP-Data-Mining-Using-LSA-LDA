{
 "cells": [
  {
   "cell_type": "markdown",
   "metadata": {},
   "source": [
    "# Fuzzy Match of Firm Names"
   ]
  },
  {
   "cell_type": "code",
   "execution_count": 2,
   "metadata": {
    "collapsed": false
   },
   "outputs": [
    {
     "name": "stdout",
     "output_type": "stream",
     "text": [
      "Populating the interactive namespace from numpy and matplotlib\n"
     ]
    },
    {
     "name": "stderr",
     "output_type": "stream",
     "text": [
      "/Users/maxfacts/anaconda/lib/python2.7/site-packages/fuzzywuzzy/fuzz.py:35: UserWarning: Using slow pure-python SequenceMatcher. Install python-Levenshtein to remove this warning\n",
      "  warnings.warn('Using slow pure-python SequenceMatcher. Install python-Levenshtein to remove this warning')\n"
     ]
    }
   ],
   "source": [
    "import pandas as pd\n",
    "from fuzzywuzzy import fuzz\n",
    "from fuzzywuzzy import process\n",
    "import time\n",
    "%pylab inline"
   ]
  },
  {
   "cell_type": "code",
   "execution_count": null,
   "metadata": {
    "collapsed": false
   },
   "outputs": [],
   "source": [
    "#Load CFPB and OAG data\n",
    "silvercase = pd.read_csv(\"OAG Complaints-Online_Final.csv\")\n",
    "cfpb = pd.read_csv('Consumer_Complaints.csv')"
   ]
  },
  {
   "cell_type": "code",
   "execution_count": null,
   "metadata": {
    "collapsed": false
   },
   "outputs": [],
   "source": [
    "#Only examine unique firm names\n",
    "CFPBlist = list(cfpb.Company.unique().astype('str'))"
   ]
  },
  {
   "cell_type": "code",
   "execution_count": null,
   "metadata": {
    "collapsed": false
   },
   "outputs": [],
   "source": [
    "#Combine CFPB and OAG and create dummy column 'cusp_firm_name'\n",
    "OAGlist = list(silvercase.ENTITY_ORG_NAME.astype('str')) + CFPBlist\n",
    "OAGlist = [str(i) for i in OAGlist]\n",
    "OAGlist = pd.DataFrame(OAGlist, columns= ['firm'])\n",
    "OAGlist['cusp_firm_name'] = OAGlist.firm"
   ]
  },
  {
   "cell_type": "code",
   "execution_count": null,
   "metadata": {
    "collapsed": false
   },
   "outputs": [],
   "source": [
    "#create a dataftame that counts the occurance of each firm name in the\n",
    "#combinded databases and select those that occur more than 5 times\n",
    "counts = OAGlist.cusp_firm_name.value_counts()\n",
    "high_counts = pd.DataFrame(counts[counts > 5])\n",
    "high_counts.reset_index(inplace = True)\n",
    "high_counts.columns = ['high_count_firms', 'counts']\n",
    "high_counts.head()"
   ]
  },
  {
   "cell_type": "code",
   "execution_count": null,
   "metadata": {
    "collapsed": false
   },
   "outputs": [],
   "source": [
    "counts = pd.DataFrame(counts)\n",
    "counts.reset_index(inplace = True)"
   ]
  },
  {
   "cell_type": "code",
   "execution_count": null,
   "metadata": {
    "collapsed": false,
    "scrolled": true
   },
   "outputs": [],
   "source": [
    "#fuzzymatch each 'high_count_firm' with every other firm name in the database\n",
    "#if the fuzzymatch score gets sufficently high (here 90) then replace the\n",
    "#high_count_firm name in the place of the other matched firm names\n",
    "\n",
    "counter = 0\n",
    "firms_dropped = []\n",
    "start_firms = len(OAGlist.cusp_firm_name.unique())\n",
    "start = time.time()\n",
    "for OAGlist_firm_name in high_counts.high_count_firms:\n",
    "    counter += 1\n",
    "    #begin = len(OAGlist.firm.unique())\n",
    "    #print 'step %s started with %s firms' % (counter, begin)\n",
    "    tempfuzz = pd.DataFrame(process.extract(OAGlist_firm_name, OAGlist.cusp_firm_name.unique(), limit = 30), columns= ['FirmName', 'FuzzScore'])\n",
    "    tempfuzz = tempfuzz[tempfuzz.FuzzScore >= 90]\n",
    "    for temp_firm_name in tempfuzz.FirmName:\n",
    "        OAGlist.cusp_firm_name = OAGlist.cusp_firm_name.replace(temp_firm_name, OAGlist_firm_name)\n",
    "        firms_dropped.append((temp_firm_name, OAGlist_firm_name))\n",
    "    end_firms = len(OAGlist.cusp_firm_name.unique()) \n",
    "    #print 'step %s ended with %s firms dropped' % (counter, (begin-end_firms))\n",
    "    #print 'step took %s minutes' % (float(end-start)/60)\n",
    "end = time.time()\n",
    "end_firms = len(OAGlist.cusp_firm_name.unique())\n",
    "print 'oy this took %s minutes' % (float(end-start)/60)\n",
    "print 'While doing it dropped %s firms or %s percent' % (start_firms-end_firms, (float(start_firms-end_firms)/start_firms*100))"
   ]
  },
  {
   "cell_type": "code",
   "execution_count": null,
   "metadata": {
    "collapsed": false
   },
   "outputs": [],
   "source": [
    "#If we want to see dropped firm names here they are!\n",
    "firms_dropped"
   ]
  },
  {
   "cell_type": "code",
   "execution_count": 3,
   "metadata": {
    "collapsed": false
   },
   "outputs": [
    {
     "ename": "NameError",
     "evalue": "name 'OAGlist' is not defined",
     "output_type": "error",
     "traceback": [
      "\u001b[0;31m---------------------------------------------------------------------------\u001b[0m",
      "\u001b[0;31mNameError\u001b[0m                                 Traceback (most recent call last)",
      "\u001b[0;32m<ipython-input-3-91b869456d3a>\u001b[0m in \u001b[0;36m<module>\u001b[0;34m()\u001b[0m\n\u001b[1;32m      1\u001b[0m \u001b[0;31m#save to pickle and csv\u001b[0m\u001b[0;34m\u001b[0m\u001b[0;34m\u001b[0m\u001b[0m\n\u001b[0;32m----> 2\u001b[0;31m \u001b[0mOAGlist\u001b[0m\u001b[0;34m.\u001b[0m\u001b[0mto_pickle\u001b[0m\u001b[0;34m(\u001b[0m\u001b[0;34m'OAGlist.pkl'\u001b[0m\u001b[0;34m)\u001b[0m\u001b[0;34m\u001b[0m\u001b[0m\n\u001b[0m\u001b[1;32m      3\u001b[0m \u001b[0;32mimport\u001b[0m \u001b[0mcsv\u001b[0m\u001b[0;34m\u001b[0m\u001b[0m\n\u001b[1;32m      4\u001b[0m \u001b[0mres\u001b[0m \u001b[0;34m=\u001b[0m \u001b[0mOAGlist\u001b[0m\u001b[0;34m.\u001b[0m\u001b[0mfirm\u001b[0m\u001b[0;34m.\u001b[0m\u001b[0munique\u001b[0m\u001b[0;34m(\u001b[0m\u001b[0;34m)\u001b[0m\u001b[0;34m\u001b[0m\u001b[0m\n\u001b[1;32m      5\u001b[0m \u001b[0mcsvfile\u001b[0m \u001b[0;34m=\u001b[0m \u001b[0;34m\"final_firm_list_w_fuzzy.csv\"\u001b[0m\u001b[0;34m\u001b[0m\u001b[0m\n",
      "\u001b[0;31mNameError\u001b[0m: name 'OAGlist' is not defined"
     ]
    }
   ],
   "source": [
    "#save to pickle and csv\n",
    "OAGlist.to_pickle('OAGlist.pkl')\n",
    "import csv\n",
    "res = OAGlist.firm.unique()\n",
    "csvfile = \"final_firm_list_w_fuzzy.csv\"\n",
    "\n",
    "#Assuming res is a flat list\n",
    "with open(csvfile, \"w\") as output:\n",
    "    writer = csv.writer(output, lineterminator='\\n')\n",
    "    for val in res:\n",
    "        writer.writerow([val])    \n"
   ]
  },
  {
   "cell_type": "code",
   "execution_count": 4,
   "metadata": {
    "collapsed": false
   },
   "outputs": [],
   "source": [
    "oag = pd.read_pickle('OAGlist.pkl')"
   ]
  },
  {
   "cell_type": "code",
   "execution_count": 5,
   "metadata": {
    "collapsed": true
   },
   "outputs": [],
   "source": [
    "old_counts = oag.firm.value_counts()\n",
    "new_counts = oag.cusp_firm_name.value_counts()"
   ]
  },
  {
   "cell_type": "code",
   "execution_count": null,
   "metadata": {
    "collapsed": false
   },
   "outputs": [],
   "source": [
    "old_counts[old_counts > 2].hist()"
   ]
  },
  {
   "cell_type": "code",
   "execution_count": null,
   "metadata": {
    "collapsed": false
   },
   "outputs": [],
   "source": [
    "numpy.linspace(0, 10, 100)"
   ]
  },
  {
   "cell_type": "code",
   "execution_count": 10,
   "metadata": {
    "collapsed": false
   },
   "outputs": [
    {
     "data": {
      "text/plain": [
       "<matplotlib.text.Text at 0x10a546d50>"
      ]
     },
     "execution_count": 10,
     "metadata": {},
     "output_type": "execute_result"
    },
    {
     "data": {
      "image/png": "[encoded data removed]",
      "text/plain": [
       "<matplotlib.figure.Figure at 0x10b6ea590>"
      ]
     },
     "metadata": {},
     "output_type": "display_data"
    }
   ],
   "source": [
    "plt.style.use('fivethirtyeight')\n",
    "\n",
    "fig, ax = plt.subplots(figsize = (12, 8))\n",
    "bins = numpy.linspace(0, 40, 200)\n",
    "plt.hist(new_counts[new_counts > 2], bins, alpha=0.75, label='new list')#, color = 'b')\n",
    "plt.hist(old_counts[old_counts > 2], bins, alpha=0.25, label='old list')#, color = 'r')\n",
    "plt.legend(loc='upper right')\n",
    "\n",
    "plt.title('Change in Firm Name Distirbution \\n via Fuzzy Matching', size = 30)\n",
    "plt.ylabel('Number of Occurrences', size = 15)\n",
    "plt.xlabel('Number of Firms', size = 15)"
   ]
  },
  {
   "cell_type": "code",
   "execution_count": null,
   "metadata": {
    "collapsed": true
   },
   "outputs": [],
   "source": []
  }
 ],
 "metadata": {
  "kernelspec": {
   "display_name": "Python 2",
   "language": "python",
   "name": "python2"
  },
  "language_info": {
   "codemirror_mode": {
    "name": "ipython",
    "version": 2
   },
   "file_extension": ".py",
   "mimetype": "text/x-python",
   "name": "python",
   "nbconvert_exporter": "python",
   "pygments_lexer": "ipython2",
   "version": "2.7.11"
  }
 },
 "nbformat": 4,
 "nbformat_minor": 0
}
